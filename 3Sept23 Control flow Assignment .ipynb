{
 "cells": [
  {
   "cell_type": "code",
   "execution_count": null,
   "id": "40383e6d-188e-468e-a16e-ae2f5ce9541f",
   "metadata": {},
   "outputs": [],
   "source": [
    "# Basic If-Else Statements:"
   ]
  },
  {
   "cell_type": "code",
   "execution_count": 1,
   "id": "c5601d2a-3cb9-40fe-b3fe-b4e82f43701d",
   "metadata": {},
   "outputs": [
    {
     "name": "stdin",
     "output_type": "stream",
     "text": [
      "Enter a number:  5\n"
     ]
    },
    {
     "name": "stdout",
     "output_type": "stream",
     "text": [
      "Positive number\n"
     ]
    }
   ],
   "source": [
    "# 1. Write a Python program to check if a given number is positive or negative.\n",
    "\n",
    "num = float(input(\"Enter a number: \"))\n",
    "if num > 0:\n",
    "print(\"Positive number\")\n",
    "elif num == 0:\n",
    "print(\"Zero\")\n",
    "else:\n",
    "print(\"Negative number\")"
   ]
  },
  {
   "cell_type": "code",
   "execution_count": 2,
   "id": "0d920af7-366e-4ec0-a385-7d33254d23af",
   "metadata": {},
   "outputs": [
    {
     "name": "stdin",
     "output_type": "stream",
     "text": [
      "Enter you age:  25\n"
     ]
    },
    {
     "name": "stdout",
     "output_type": "stream",
     "text": [
      "You are eligible to vote\n"
     ]
    }
   ],
   "source": [
    "# 2. Create a program that determines if a person is eligible to vote based on their age.\n",
    "\n",
    "age = int(input(\"Enter you age: \"))\n",
    "\n",
    "if age >= 18:\n",
    "    print(\"You are eligible to vote\")\n",
    "else:\n",
    "    print(\"You are not eligible to vote\")"
   ]
  },
  {
   "cell_type": "code",
   "execution_count": 3,
   "id": "9efe37ef-4ff5-4763-b9b5-564901173670",
   "metadata": {},
   "outputs": [
    {
     "name": "stdout",
     "output_type": "stream",
     "text": [
      "12571\n"
     ]
    }
   ],
   "source": [
    "# 3. Develop a program to find the maximum of two numbers using if-else statements.\n",
    "\n",
    "a = 12514\n",
    "b = 12571\n",
    "def maximum(a, b):    \n",
    "    if a >= b:\n",
    "        return a\n",
    "    else:\n",
    "        return b\n",
    "print(maximum(a, b))"
   ]
  },
  {
   "cell_type": "code",
   "execution_count": 4,
   "id": "b696dea9-c4dc-44b4-8f20-7c9d9c886999",
   "metadata": {},
   "outputs": [
    {
     "name": "stdin",
     "output_type": "stream",
     "text": [
      "Enter a year:  2020\n"
     ]
    },
    {
     "name": "stdout",
     "output_type": "stream",
     "text": [
      "2020 is a leap year\n"
     ]
    }
   ],
   "source": [
    "# 4. Write a Python script to classify a given year as a leap year or not.\n",
    "\n",
    "year = int(input(\"Enter a year: \"))\n",
    "if (year % 400 == 0) and (year % 100 == 0):\n",
    "    print(\"{0} is a leap year\".format(year))\n",
    "elif (year % 4 ==0) and (year % 100 != 0):\n",
    "    print(\"{0} is a leap year\".format(year))\n",
    "else:\n",
    "    print(\"{0} is not a leap year\".format(year))"
   ]
  },
  {
   "cell_type": "code",
   "execution_count": 7,
   "id": "394a7fa0-259e-44da-ae37-6326b8385c4d",
   "metadata": {},
   "outputs": [
    {
     "name": "stdin",
     "output_type": "stream",
     "text": [
      "Enter character: b\n"
     ]
    },
    {
     "name": "stdout",
     "output_type": "stream",
     "text": [
      "Consonant\n"
     ]
    }
   ],
   "source": [
    "# 5. Create a program that checks whether a character is a vowel or a consonant.\n",
    "\n",
    "x = input(\"Enter character:\") \n",
    "if (x == 'a' or x == 'e' or x == 'i' or x == 'o' or x == 'u'): \n",
    "    print(\"Vowel\") \n",
    "else: \n",
    "     print(\"Consonant\") "
   ]
  },
  {
   "cell_type": "code",
   "execution_count": 8,
   "id": "bc95791a-7937-466e-95be-09bed51563e0",
   "metadata": {},
   "outputs": [
    {
     "name": "stdin",
     "output_type": "stream",
     "text": [
      "Enter a number:  25\n"
     ]
    },
    {
     "name": "stdout",
     "output_type": "stream",
     "text": [
      "25 is Odd\n"
     ]
    }
   ],
   "source": [
    "# 6. Implement a program to determine whether a given number is even or odd.\n",
    "\n",
    "num = int(input(\"Enter a number: \"))\n",
    "if (num % 2) == 0:\n",
    "    print(\"{0} is Even\".format(num))\n",
    "else:\n",
    "    print(\"{0} is Odd\".format(num))"
   ]
  },
  {
   "cell_type": "code",
   "execution_count": 10,
   "id": "9215d498-3fa0-475e-9fd1-6b9893195b63",
   "metadata": {},
   "outputs": [
    {
     "name": "stdout",
     "output_type": "stream",
     "text": [
      "3.5\n",
      "3.5\n"
     ]
    }
   ],
   "source": [
    "# 7. Write a Python function to calculate the absolute value of a number without using the `abs()` function.\n",
    "\n",
    "def my_abs(value):\n",
    "    if value <= 0:\n",
    "        return value * -1\n",
    "    return value * 1\n",
    "print(my_abs(-3.5))\n",
    "print(my_abs(3.5))"
   ]
  },
  {
   "cell_type": "code",
   "execution_count": 11,
   "id": "e3509ab5-a70b-4073-a254-abb4cb74f500",
   "metadata": {},
   "outputs": [
    {
     "name": "stdout",
     "output_type": "stream",
     "text": [
      "The largest number is 14\n"
     ]
    }
   ],
   "source": [
    "# 8. Develop a program that determines the largest of three given numbers using if-else statements.\n",
    "\n",
    "num1 = 10\n",
    "num2 = 14\n",
    "num3 = 12\n",
    "\n",
    "if (num1 >= num2) and (num1 >= num3):\n",
    "    largest = num1\n",
    "elif (num2 >= num1) and (num2 >= num3):\n",
    "    largest = num2\n",
    "else:\n",
    "    largest = num3\n",
    "print(\"The largest number is\", largest)"
   ]
  },
  {
   "cell_type": "code",
   "execution_count": 13,
   "id": "23a4a8c0-c38f-4902-9f4a-5c727d832b0d",
   "metadata": {},
   "outputs": [
    {
     "name": "stdout",
     "output_type": "stream",
     "text": [
      "Yes\n"
     ]
    }
   ],
   "source": [
    "# 9. Create a program that checks if a given string is a palindrome.\n",
    "\n",
    "def isPalindrome(s):\n",
    "    return s == s[::-1]\n",
    "s = \"pop\"\n",
    "ans = isPalindrome(s)\n",
    " \n",
    "if ans:\n",
    "    print(\"Yes\")\n",
    "else:\n",
    "    print(\"No\")"
   ]
  },
  {
   "cell_type": "code",
   "execution_count": 16,
   "id": "7e89f9e7-d2a3-4ae9-92ea-b445d3da388e",
   "metadata": {},
   "outputs": [
    {
     "name": "stdin",
     "output_type": "stream",
     "text": [
      "Enter your marks 58\n"
     ]
    },
    {
     "name": "stdout",
     "output_type": "stream",
     "text": [
      "Poor performance your grade is C\n"
     ]
    }
   ],
   "source": [
    "# 10. Write a Python program to calculate the grade based on a student's score.\n",
    "\n",
    "score = int(input(\"Enter your marks\"))\n",
    "\n",
    "if score>=90:\n",
    "    print(\"excellent performance your grade is A+\")\n",
    "elif score>=80:\n",
    "    print(\"Good performance your grade is A\")\n",
    "elif score>=70:\n",
    "     print(\"Average performance your grade is B\")\n",
    "else:\n",
    "     print(\"Poor performance your grade is C\")"
   ]
  },
  {
   "cell_type": "code",
   "execution_count": null,
   "id": "6ebdd864-d060-40f0-8b19-1ab8bb4d6ae7",
   "metadata": {},
   "outputs": [],
   "source": [
    "# Nested If-Else Statements:"
   ]
  },
  {
   "cell_type": "code",
   "execution_count": 17,
   "id": "f0975a42-5c9b-4cd0-8111-ebd5c011e7fb",
   "metadata": {},
   "outputs": [
    {
     "name": "stdin",
     "output_type": "stream",
     "text": [
      "Enter A:  871\n",
      "Enter B:  652\n",
      "Enter C:  879\n"
     ]
    },
    {
     "name": "stdout",
     "output_type": "stream",
     "text": [
      "Greater  =  879\n"
     ]
    }
   ],
   "source": [
    "# 11. Write a program to find the largest among three numbers using nested if-else statements.\n",
    "\n",
    "a=int(input(\"Enter A: \"))\n",
    "b=int(input(\"Enter B: \"))\n",
    "c=int(input(\"Enter C: \"))\n",
    "if a>b:\n",
    "    if a>c:\n",
    "        g=a\n",
    "    else:\n",
    "        g=c\n",
    "else:\n",
    "    if b>c:\n",
    "        g=b\n",
    "    else:\n",
    "        g=c\n",
    "\n",
    "print(\"Greater  = \",g)"
   ]
  },
  {
   "cell_type": "code",
   "execution_count": 22,
   "id": "590e897d-c58d-4edf-8e80-6e440a10473a",
   "metadata": {},
   "outputs": [
    {
     "name": "stdout",
     "output_type": "stream",
     "text": [
      "Input lengths of the triangle sides: \n"
     ]
    },
    {
     "name": "stdin",
     "output_type": "stream",
     "text": [
      "x:  45\n",
      "y:  75\n",
      "z:  60\n"
     ]
    },
    {
     "name": "stdout",
     "output_type": "stream",
     "text": [
      "Scalene triangle\n"
     ]
    }
   ],
   "source": [
    "# 12. Implement a program to determine if a triangle is equilateral, isosceles, or scalene.\n",
    "\n",
    "print(\"Input lengths of the triangle sides: \")\n",
    "x = int(input(\"x: \"))\n",
    "y = int(input(\"y: \"))\n",
    "z = int(input(\"z: \"))\n",
    "\n",
    "if x == y == z:\n",
    "\tprint(\"Equilateral triangle\")\n",
    "elif x==y or y==z or z==x:\n",
    "\tprint(\"isosceles triangle\")\n",
    "else:\n",
    "\tprint(\"Scalene triangle\")"
   ]
  },
  {
   "cell_type": "code",
   "execution_count": 39,
   "id": "33103742-1819-4201-b50e-31182d433497",
   "metadata": {},
   "outputs": [
    {
     "name": "stdin",
     "output_type": "stream",
     "text": [
      "Enter a year:  2300\n"
     ]
    },
    {
     "name": "stdout",
     "output_type": "stream",
     "text": [
      "2300 is a leap year and century year\n"
     ]
    }
   ],
   "source": [
    "# 13. Develop a program that checks if a year is a leap year and also if it is a century year.\n",
    "\n",
    "year = int(input(\"Enter a year: \"))\n",
    "if (year % 400 == 0) and (year % 100 == 0):\n",
    "    print(\"{0} is a leap year and century year\".format(year))\n",
    "elif (year % 4 ==0) and (year % 100 == 0):\n",
    "    print(\"{0} is a leap year and century year\".format(year))\n",
    "elif (year % 4 ==0) and (year % 100 != 0):\n",
    "    print(\"{0} is a leap year and not century year\".format(year))\n",
    "elif (year % 4 !=0) and (year % 100 == 0):\n",
    "    print(\"{0} is not a leap year but century year\".format(year))\n",
    "else:\n",
    "    print(\"{0} is not a leap year and also not century year\".format(year))"
   ]
  },
  {
   "cell_type": "code",
   "execution_count": 40,
   "id": "ff3fc72a-e07b-4c17-85ac-0cede60e134c",
   "metadata": {},
   "outputs": [
    {
     "name": "stdin",
     "output_type": "stream",
     "text": [
      "Enter a number:  -24\n"
     ]
    },
    {
     "name": "stdout",
     "output_type": "stream",
     "text": [
      "Negative number\n"
     ]
    }
   ],
   "source": [
    "# 14. Write a Python script to determine if a number is positive, negative, or zero.\n",
    "\n",
    "num = float(input(\"Enter a number: \"))\n",
    "if num > 0:\n",
    "    print(\"Positive number\")\n",
    "elif num == 0:\n",
    "    print(\"Zero\")\n",
    "else:\n",
    "    print(\"Negative number\")"
   ]
  },
  {
   "cell_type": "code",
   "execution_count": 42,
   "id": "6cad3984-03de-4199-a77a-ae583eb37ecd",
   "metadata": {},
   "outputs": [
    {
     "name": "stdin",
     "output_type": "stream",
     "text": [
      "Enter you age:  15\n"
     ]
    },
    {
     "name": "stdout",
     "output_type": "stream",
     "text": [
      "Teenager\n"
     ]
    }
   ],
   "source": [
    "# 15. Create a program to check if a person is a teenager (between 13 and 19 years old).\n",
    "\n",
    "age = int(input(\"Enter you age: \"))\n",
    "\n",
    "if age >= 13 and age <= 19:\n",
    "    print(\"Teenager\")\n",
    "else:\n",
    "    print(\"Not Teenager\")"
   ]
  },
  {
   "cell_type": "code",
   "execution_count": 44,
   "id": "6cc3874d-8ded-4138-855a-3931b8d3d528",
   "metadata": {},
   "outputs": [
    {
     "name": "stdin",
     "output_type": "stream",
     "text": [
      "enter the number of 1 :  45\n",
      "enter the number of 2 :  65\n",
      "enter the number of 3 :  70\n"
     ]
    },
    {
     "name": "stdout",
     "output_type": "stream",
     "text": [
      "acute angle\n"
     ]
    }
   ],
   "source": [
    "# 16. Develop a program that determines the type of angle based on its measure (acute, obtuse, or right).\n",
    "\n",
    "A = int(input(\"enter the number of 1 : \"))\n",
    "B = int(input(\"enter the number of 2 : \"))\n",
    "C = int(input(\"enter the number of 3 : \"))\n",
    "\n",
    "if A+B+C != 180 or A<0 or A>180 or B<0 or B>180 or C<0 or C>180:\n",
    "    print(\"NOT TRIANGLE\")\n",
    "\n",
    "elif A<90 and B<90 and C<90:\n",
    "    print(\"acute angle\")\n",
    "\n",
    "elif (A>90 and A<180) or (B>90 and B<180) or (C>90 and C<180):\n",
    "    print(\"obtuse angle\")\n",
    "\n",
    "elif A==90 or B==90 or C==90:\n",
    "    print(\"carpenter's triangle\")\n",
    "\n",
    "else:\n",
    "    print(\"Wut?\")"
   ]
  },
  {
   "cell_type": "code",
   "execution_count": 45,
   "id": "774d16ef-6386-4e6e-992a-bd59a11ab455",
   "metadata": {},
   "outputs": [
    {
     "name": "stdin",
     "output_type": "stream",
     "text": [
      "Please Enter a Value of a Quadratic Equation :  4\n",
      "Please Enter b Value of a Quadratic Equation :  6\n",
      "Please Enter c Value of a Quadratic Equation :  7\n"
     ]
    },
    {
     "name": "stdout",
     "output_type": "stream",
     "text": [
      "Two Distinct Complex Roots Exists: root1 = -0.75+1.09 and root2 = -0.75-1.09\n"
     ]
    }
   ],
   "source": [
    "# 17. Write a Python program to calculate the roots of a quadratic equation.\n",
    "\n",
    "import math\n",
    "\n",
    "a = int(input(\"Please Enter a Value of a Quadratic Equation : \"))\n",
    "b = int(input(\"Please Enter b Value of a Quadratic Equation : \"))\n",
    "c = int(input(\"Please Enter c Value of a Quadratic Equation : \"))\n",
    "\n",
    "discriminant = (b * b) - (4 * a * c)\n",
    "\n",
    "if(discriminant > 0):\n",
    "    root1 = (-b + math.sqrt(discriminant) / (2 * a))\n",
    "    root2 = (-b - math.sqrt(discriminant) / (2 * a))\n",
    "    print(\"Two Distinct Real Roots Exists: root1 = %.2f and root2 = %.2f\" %(root1, root2))\n",
    "elif(discriminant == 0):\n",
    "    root1 = root2 = -b / (2 * a)\n",
    "    print(\"Two Equal and Real Roots Exists: root1 = %.2f and root2 = %.2f\" %(root1, root2))\n",
    "elif(discriminant < 0):\n",
    "    root1 = root2 = -b / (2 * a)\n",
    "    imaginary = math.sqrt(-discriminant) / (2 * a)\n",
    "    print(\"Two Distinct Complex Roots Exists: root1 = %.2f+%.2f and root2 = %.2f-%.2f\" %(root1, imaginary, root2, imaginary))"
   ]
  },
  {
   "cell_type": "code",
   "execution_count": 48,
   "id": "f9e655b8-8f67-4705-ae79-43e5ef17a7b4",
   "metadata": {},
   "outputs": [
    {
     "name": "stdin",
     "output_type": "stream",
     "text": [
      "Enter weekday day number (1-7) :  5\n"
     ]
    },
    {
     "name": "stdout",
     "output_type": "stream",
     "text": [
      "\n",
      "Friday\n"
     ]
    }
   ],
   "source": [
    "# 18. Implement a program to determine the day of the week based on a user-provided number (1 for Monday, 2\n",
    "# for Tuesday, etc.).\n",
    "\n",
    "weekday = int(input(\"Enter weekday day number (1-7) : \"))\n",
    "if weekday == 1 :\n",
    "    print(\"\\nMonday\");\n",
    "elif weekday == 2 :\n",
    "    print(\"\\nTuesday\")\n",
    "elif(weekday == 3) :\n",
    "    print(\"\\nWednesday\")\n",
    "elif(weekday == 4) :\n",
    "    print(\"\\nThursday\")\n",
    "elif(weekday == 5) :\n",
    "    print(\"\\nFriday\")\n",
    "elif(weekday == 6) :\n",
    "    print(\"\\nSaturday\")\n",
    "elif (weekday == 7) :\n",
    "    print(\"\\nSunday\")\n",
    "else :\n",
    "    print(\"\\nPlease enter weekday number between 1-7.\")"
   ]
  },
  {
   "cell_type": "code",
   "execution_count": 50,
   "id": "01719594-55fc-4d38-9ed0-34b971abc329",
   "metadata": {},
   "outputs": [
    {
     "data": {
      "text/plain": [
       "False"
      ]
     },
     "execution_count": 50,
     "metadata": {},
     "output_type": "execute_result"
    }
   ],
   "source": [
    "# 19. Create a program that determines if a year is a leap year and also if it is evenly divisible by 400.\n",
    "\n",
    "def is_leap(year):\n",
    "    leap = False\n",
    "    if (year % 4) == 0:\n",
    "        if (year % 100) == 0:\n",
    "            if (year % 400) == 0:\n",
    "                leap = True\n",
    "            else:\n",
    "                leap = False\n",
    "        else:\n",
    "            leap = True\n",
    "    else:\n",
    "        leap = False\n",
    "    \n",
    "    return leap\n",
    "is_leap(2017)"
   ]
  },
  {
   "cell_type": "code",
   "execution_count": 2,
   "id": "4143c5a4-4695-44ab-9aff-fd1c2b439fbd",
   "metadata": {},
   "outputs": [
    {
     "name": "stdout",
     "output_type": "stream",
     "text": [
      "12 is not a prime number\n"
     ]
    }
   ],
   "source": [
    "# 20. Develop a program that checks if a given number is prime or not using nested if-else statements.\n",
    "\n",
    "num = 12\n",
    "if num > 1:\n",
    "    for i in range(2, int(num/2)+1):\n",
    "        if (num % i) == 0:\n",
    "            print(num, \"is not a prime number\")\n",
    "            break\n",
    "    else:\n",
    "        print(num, \"is a prime number\")\n",
    "else:\n",
    "    print(num, \"is not a prime number\")"
   ]
  },
  {
   "cell_type": "code",
   "execution_count": null,
   "id": "87622f02-3b4f-44b4-a074-d6af867e3c70",
   "metadata": {},
   "outputs": [],
   "source": [
    "# Elif Statements:"
   ]
  },
  {
   "cell_type": "code",
   "execution_count": 3,
   "id": "bfba776a-0ee0-4580-99a9-7d1061cc0d64",
   "metadata": {},
   "outputs": [
    {
     "name": "stdin",
     "output_type": "stream",
     "text": [
      "Enter your marks 95\n"
     ]
    },
    {
     "name": "stdout",
     "output_type": "stream",
     "text": [
      "excellent performance your grade is A+\n"
     ]
    }
   ],
   "source": [
    "# 21. Write a Python program to assign grades based on different ranges of scores using elif statements.\n",
    "\n",
    "score = int(input(\"Enter your marks\"))\n",
    "\n",
    "if score>=90:\n",
    "    print(\"excellent performance your grade is A+\")\n",
    "elif score>=80:\n",
    "    print(\"Good performance your grade is A\")\n",
    "elif score>=70:\n",
    "     print(\"Average performance your grade is B\")\n",
    "else:\n",
    "     print(\"Poor performance your grade is C\")"
   ]
  },
  {
   "cell_type": "code",
   "execution_count": 1,
   "id": "0417251c-9648-405d-8c4b-f04d9f307586",
   "metadata": {},
   "outputs": [
    {
     "name": "stdout",
     "output_type": "stream",
     "text": [
      "Input lengths of the triangle sides: \n"
     ]
    },
    {
     "name": "stdin",
     "output_type": "stream",
     "text": [
      "x:  60\n",
      "y:  60\n",
      "z:  60\n"
     ]
    },
    {
     "name": "stdout",
     "output_type": "stream",
     "text": [
      "Equilateral triangle\n"
     ]
    }
   ],
   "source": [
    "# 22. Implement a program to determine the type of a triangle based on its angles.\n",
    "\n",
    "print(\"Input lengths of the triangle sides: \")\n",
    "x = int(input(\"x: \"))\n",
    "y = int(input(\"y: \"))\n",
    "z = int(input(\"z: \"))\n",
    "\n",
    "if x == y == z:\n",
    "\tprint(\"Equilateral triangle\")\n",
    "elif x==y or y==z or z==x:\n",
    "\tprint(\"isosceles triangle\")\n",
    "else:\n",
    "\tprint(\"Scalene triangle\")"
   ]
  },
  {
   "cell_type": "code",
   "execution_count": 5,
   "id": "ab7199f3-5403-4772-b637-483f8a64b8c6",
   "metadata": {},
   "outputs": [
    {
     "name": "stdin",
     "output_type": "stream",
     "text": [
      "Enter weight in Kg: 56\n",
      "Enter height in cm: 155\n"
     ]
    },
    {
     "name": "stdout",
     "output_type": "stream",
     "text": [
      "Underweight\n"
     ]
    }
   ],
   "source": [
    "# 23. Develop a program to categorize a given person's BMI into underweight, normal, overweight, or obese using\n",
    "# elif statements.\n",
    "\n",
    "weight=float(input(\"Enter weight in Kg:\"))\n",
    "height=float(input(\"Enter height in cm:\"))\n",
    "\n",
    "bmi= weight/(height)**2\n",
    "\n",
    "if bmi<18.5:\n",
    "    print(\"Underweight\")\n",
    "elif bmi>=18.5 and bmi<25:\n",
    "    print(\"Normal\")\n",
    "elif bmi>=25 and bmi<30:\n",
    "    print(\"Overweight\")\n",
    "else:\n",
    "    print(\"Obesity\")"
   ]
  },
  {
   "cell_type": "code",
   "execution_count": 6,
   "id": "7ecf813e-a100-406b-9054-013d014744e8",
   "metadata": {},
   "outputs": [
    {
     "name": "stdin",
     "output_type": "stream",
     "text": [
      "Enter a number:  51\n"
     ]
    },
    {
     "name": "stdout",
     "output_type": "stream",
     "text": [
      "Positive number\n"
     ]
    }
   ],
   "source": [
    "# 24. Create a program that determines whether a given number is positive, negative, or zero using elif\n",
    "# statements.\n",
    "\n",
    "num = float(input(\"Enter a number: \"))\n",
    "if num > 0:\n",
    "    print(\"Positive number\")\n",
    "elif num == 0:\n",
    "    print(\"Zero\")\n",
    "else:\n",
    "    print(\"Negative number\")"
   ]
  },
  {
   "cell_type": "code",
   "execution_count": 7,
   "id": "3bcc413a-0f32-42d7-8b8f-dde179e0544b",
   "metadata": {},
   "outputs": [
    {
     "name": "stdin",
     "output_type": "stream",
     "text": [
      "Please Enter Your Own Character :  @#$\n"
     ]
    },
    {
     "name": "stdout",
     "output_type": "stream",
     "text": [
      "The Given Character  @#$ is a special character\n"
     ]
    }
   ],
   "source": [
    "# 25. Write a Python script to determine the type of a character (uppercase, lowercase, or special) using elif\n",
    "# statements.\n",
    "\n",
    "ch = input(\"Please Enter Your Own Character : \")\n",
    "\n",
    "if(ch.isupper()):\n",
    "    print(\"The Given Character \", ch, \"is an Uppercase Alphabet\")\n",
    "elif(ch.islower()):\n",
    "    print(\"The Given Character \", ch, \"is a Lowercase Alphabet\")\n",
    "else:\n",
    "    print(\"The Given Character \", ch, \"is a special character\")"
   ]
  },
  {
   "cell_type": "code",
   "execution_count": 21,
   "id": "fbf03214-8b3c-4d27-8689-157946389c64",
   "metadata": {},
   "outputs": [
    {
     "name": "stdin",
     "output_type": "stream",
     "text": [
      "Enter purchase amount  25000\n"
     ]
    },
    {
     "name": "stdout",
     "output_type": "stream",
     "text": [
      "Discount Amount = 6000.00\n",
      "Net Bill Amount = 19000.00\n"
     ]
    }
   ],
   "source": [
    "# 26. Implement a program to calculate the discounted price based on different purchase amounts using elif\n",
    "# statements.\n",
    "\n",
    "p=int(input('Enter purchase amount '))\n",
    "\n",
    "if p<=5000:\n",
    "    dis=0\n",
    "elif p>5000 and p<=10000:\n",
    "    dis=(p-5000)*(10/100.0)\n",
    "elif p>10000 and p<=20000:\n",
    "    dis=(p-5000)*(20/100.0)\n",
    "elif p>20000 and p<=30000:\n",
    "    dis=(p-5000)*(30/100.0)\n",
    "else:\n",
    "    dis=(p-5000)*(40/100.0)\n",
    "\n",
    "print('Discount Amount = {:.2f}'.format(dis))\n",
    "print('Net Bill Amount = {:.2f}'.format(p-dis))"
   ]
  },
  {
   "cell_type": "code",
   "execution_count": 5,
   "id": "b6eb7a8a-6080-41df-aaf3-2847c0cacfb2",
   "metadata": {},
   "outputs": [
    {
     "name": "stdout",
     "output_type": "stream",
     "text": [
      "4750\n"
     ]
    }
   ],
   "source": [
    "# 27. Develop a program to calculate the electricity bill based on different consumption slabs using elif\n",
    "# statements.\n",
    "\n",
    "def calculateBill(units): \n",
    "    if (units <= 100):     \n",
    "        return units * 10;    \n",
    "    elif (units <= 200):\n",
    "        return ((100 * 10) + (units - 100) * 15);    \n",
    "    elif (units <= 300): \n",
    "        return ((100 * 10) + (100 * 15) + (units - 200) * 20);     \n",
    "    elif (units > 300): \n",
    "        return ((100 * 10) +\n",
    "                (100 * 15) +\n",
    "                (100 * 20) +\n",
    "                (units - 300) * 25);      \n",
    "    return 0; \n",
    "units =310\n",
    "print(calculateBill(units)) "
   ]
  },
  {
   "cell_type": "code",
   "execution_count": 19,
   "id": "245854d7-8b0f-4270-a79d-21c423869591",
   "metadata": {},
   "outputs": [
    {
     "name": "stdout",
     "output_type": "stream",
     "text": [
      "Input lengths of the quadrilateral sides: \n"
     ]
    },
    {
     "name": "stdin",
     "output_type": "stream",
     "text": [
      "w:  45\n",
      "x:  45\n",
      "y:  45\n",
      "z:  45\n"
     ]
    },
    {
     "name": "stdout",
     "output_type": "stream",
     "text": [
      "Input angles of the quadrilateral: \n"
     ]
    },
    {
     "name": "stdin",
     "output_type": "stream",
     "text": [
      "a:  60\n",
      "b:  120\n",
      "c:  60\n",
      "d:  120\n"
     ]
    },
    {
     "name": "stdout",
     "output_type": "stream",
     "text": [
      "Given quadrilateral is Rhombus\n"
     ]
    }
   ],
   "source": [
    "# 28. Create a program to determine the type of quadrilateral based on its angles and sides using elif\n",
    "# statements.\n",
    "\n",
    "print(\"Input lengths of the quadrilateral sides: \")\n",
    "w = int(input(\"w: \"))\n",
    "x = int(input(\"x: \"))\n",
    "y = int(input(\"y: \"))\n",
    "z = int(input(\"z: \"))\n",
    "\n",
    "print(\"Input angles of the quadrilateral: \")\n",
    "a = int(input(\"a: \"))\n",
    "b = int(input(\"b: \"))\n",
    "c = int(input(\"c: \"))\n",
    "d = int(input(\"d: \"))\n",
    "\n",
    "if w == x == y == z and a == b == c == d:\n",
    "\tprint(\"Given quadrilateral is Square\")\n",
    "elif w == x == y == z and a == c and b == d:\n",
    "\tprint(\"Given quadrilateral is Rhombus\")\n",
    "elif w == y and x == z and a == b == c == d:\n",
    "\tprint(\"Given quadrilateral is Rectangle\")\n",
    "else:\n",
    "\tprint(\"Given quadrilateral is Trapezoid\")"
   ]
  },
  {
   "cell_type": "code",
   "execution_count": null,
   "id": "d8a55079-80d3-4223-af43-3eecc789b54f",
   "metadata": {},
   "outputs": [],
   "source": [
    "print(\"Input lengths of the triangle sides: \")\n",
    "x = int(input(\"x: \"))\n",
    "y = int(input(\"y: \"))\n",
    "z = int(input(\"z: \"))\n",
    "\n",
    "if x == y == z:\n",
    "\tprint(\"Equilateral triangle\")\n",
    "elif x==y or y==z or z==x:\n",
    "\tprint(\"isosceles triangle\")\n",
    "else:\n",
    "\tprint(\"Scalene triangle\")"
   ]
  },
  {
   "cell_type": "code",
   "execution_count": 7,
   "id": "f0698ac0-2abb-41a0-9e5a-20cb5d15bdf5",
   "metadata": {},
   "outputs": [
    {
     "name": "stdin",
     "output_type": "stream",
     "text": [
      "Input the month (e.g. January, February etc.):  March\n",
      "Input the day:  25\n"
     ]
    },
    {
     "name": "stdout",
     "output_type": "stream",
     "text": [
      "Season is spring\n"
     ]
    }
   ],
   "source": [
    "# 29. Write a Python script to determine the season based on a user-provided month using elif statements.\n",
    "\n",
    "month = input(\"Input the month (e.g. January, February etc.): \")\n",
    "day = int(input(\"Input the day: \"))\n",
    "\n",
    "if month in ('January', 'February', 'March'):\n",
    "\tseason = 'winter'\n",
    "elif month in ('April', 'May', 'June'):\n",
    "\tseason = 'spring'\n",
    "elif month in ('July', 'August', 'September'):\n",
    "\tseason = 'summer'\n",
    "else:\n",
    "\tseason = 'autumn'\n",
    "\n",
    "if (month == 'March') and (day > 19):\n",
    "\tseason = 'spring'\n",
    "elif (month == 'June') and (day > 20):\n",
    "\tseason = 'summer'\n",
    "elif (month == 'September') and (day > 21):\n",
    "\tseason = 'autumn'\n",
    "elif (month == 'December') and (day > 20):\n",
    "\tseason = 'winter'\n",
    "\n",
    "print(\"Season is\",season)"
   ]
  },
  {
   "cell_type": "code",
   "execution_count": 14,
   "id": "8ec8abba-1f45-41cf-8870-8a490161e72a",
   "metadata": {},
   "outputs": [
    {
     "name": "stdout",
     "output_type": "stream",
     "text": [
      "2019 leap year: False\n",
      "number of days in month 2 is: 28\n"
     ]
    }
   ],
   "source": [
    "# 30. Implement a program to determine the type of a year (leap or common) and month (30 or 31 days) using\n",
    "# elif statements.\n",
    "\n",
    "def leap_year(year):\n",
    "    if year % 400 == 0:\n",
    "        return True\n",
    "    elif year % 100 == 0:\n",
    "        return False\n",
    "    elif year % 4 == 0:\n",
    "        return True\n",
    "    else:\n",
    "        return False\n",
    "\n",
    "def days_in_month(month):\n",
    "    if month == 1 or month == 3 or month == 5 or month == 7 \\\n",
    "    or month == 8 or month == 10 or month == 12:\n",
    "        return month == 31\n",
    "    elif month == 2:\n",
    "        if leap_year(year):\n",
    "            return 29\n",
    "        else:\n",
    "            return 28\n",
    "    else:\n",
    "        return 30\n",
    "year = 2019\n",
    "month = 2\n",
    "print(year, \"leap year:\", leap_year(year))\n",
    "print(\"number of days in month\", month, \"is:\", days_in_month(month))"
   ]
  },
  {
   "cell_type": "code",
   "execution_count": null,
   "id": "b3693b77-fbe1-4068-916f-2891a15f0505",
   "metadata": {},
   "outputs": [],
   "source": [
    "# Basic Level:"
   ]
  },
  {
   "cell_type": "code",
   "execution_count": 1,
   "id": "ec44e2c5-fb7e-468b-8bb6-73743854880d",
   "metadata": {},
   "outputs": [
    {
     "name": "stdin",
     "output_type": "stream",
     "text": [
      "Enter a number:  -12\n"
     ]
    },
    {
     "name": "stdout",
     "output_type": "stream",
     "text": [
      "Negative number\n"
     ]
    }
   ],
   "source": [
    "# 1. Write a Python program that checks if a given number is positive, negative, or zero.\n",
    "\n",
    "num = float(input(\"Enter a number: \"))\n",
    "if num > 0:\n",
    "    print(\"Positive number\")\n",
    "elif num == 0:\n",
    "    print(\"Zero\")\n",
    "else:\n",
    "    print(\"Negative number\")"
   ]
  },
  {
   "cell_type": "code",
   "execution_count": 2,
   "id": "6156f3fe-3cad-47d0-9f88-57570d22b457",
   "metadata": {},
   "outputs": [
    {
     "name": "stdin",
     "output_type": "stream",
     "text": [
      "Enter you age:  18\n"
     ]
    },
    {
     "name": "stdout",
     "output_type": "stream",
     "text": [
      "You are eligible to vote\n"
     ]
    }
   ],
   "source": [
    "# 2. Create a program to determine if a person is eligible to vote based on their age.\n",
    "\n",
    "age = int(input(\"Enter you age: \"))\n",
    "\n",
    "if age >= 18:\n",
    "    print(\"You are eligible to vote\")\n",
    "else:\n",
    "    print(\"You are not eligible to vote\")"
   ]
  },
  {
   "cell_type": "code",
   "execution_count": 3,
   "id": "a58d764c-0b2e-4fd6-b5be-3755d15274c9",
   "metadata": {},
   "outputs": [
    {
     "name": "stdout",
     "output_type": "stream",
     "text": [
      "115\n"
     ]
    }
   ],
   "source": [
    "# 3. Write a program to find the maximum of two given numbers using conditional statements.\n",
    "\n",
    "a = 115\n",
    "b = 12\n",
    "def maximum(a, b):    \n",
    "    if a >= b:\n",
    "        return a\n",
    "    else:\n",
    "        return b\n",
    "print(maximum(a, b))"
   ]
  },
  {
   "cell_type": "code",
   "execution_count": 5,
   "id": "89dd0372-0864-46cf-8a98-7271f1733e32",
   "metadata": {},
   "outputs": [
    {
     "name": "stdin",
     "output_type": "stream",
     "text": [
      "Enter your marks 81\n"
     ]
    },
    {
     "name": "stdout",
     "output_type": "stream",
     "text": [
      "Good performance your grade is A\n"
     ]
    }
   ],
   "source": [
    "# 4. Develop a program that calculates the grade of a student based on their exam score.\n",
    "\n",
    "score = int(input(\"Enter your marks\"))\n",
    "\n",
    "if score>=90:\n",
    "    print(\"excellent performance your grade is A+\")\n",
    "elif score>=80:\n",
    "    print(\"Good performance your grade is A\")\n",
    "elif score>=70:\n",
    "     print(\"Average performance your grade is B\")\n",
    "else:\n",
    "     print(\"Poor performance your grade is C\")"
   ]
  },
  {
   "cell_type": "code",
   "execution_count": 6,
   "id": "2a644b20-881c-4824-ac3a-5dad240ffcd0",
   "metadata": {},
   "outputs": [
    {
     "name": "stdin",
     "output_type": "stream",
     "text": [
      "Enter a year:  2018\n"
     ]
    },
    {
     "name": "stdout",
     "output_type": "stream",
     "text": [
      "2018 is not a leap year\n"
     ]
    }
   ],
   "source": [
    "# 5. Create a program that checks if a year is a leap year or not.\n",
    "\n",
    "year = int(input(\"Enter a year: \"))\n",
    "if (year % 400 == 0) and (year % 100 == 0):\n",
    "    print(\"{0} is a leap year\".format(year))\n",
    "elif (year % 4 ==0) and (year % 100 != 0):\n",
    "    print(\"{0} is a leap year\".format(year))\n",
    "else:\n",
    "    print(\"{0} is not a leap year\".format(year))"
   ]
  },
  {
   "cell_type": "code",
   "execution_count": 7,
   "id": "718761ab-140c-4e19-b8ae-84215bc096c0",
   "metadata": {},
   "outputs": [
    {
     "name": "stdout",
     "output_type": "stream",
     "text": [
      "Input lengths of the triangle sides: \n"
     ]
    },
    {
     "name": "stdin",
     "output_type": "stream",
     "text": [
      "x:  80\n",
      "y:  80\n",
      "z:  50\n"
     ]
    },
    {
     "name": "stdout",
     "output_type": "stream",
     "text": [
      "isosceles triangle\n"
     ]
    }
   ],
   "source": [
    "# 6. Write a program to classify a triangle based on its sides' lengths.\n",
    "\n",
    "print(\"Input lengths of the triangle sides: \")\n",
    "x = int(input(\"x: \"))\n",
    "y = int(input(\"y: \"))\n",
    "z = int(input(\"z: \"))\n",
    "\n",
    "if x == y == z:\n",
    "\tprint(\"Equilateral triangle\")\n",
    "elif x==y or y==z or z==x:\n",
    "\tprint(\"isosceles triangle\")\n",
    "else:\n",
    "\tprint(\"Scalene triangle\")"
   ]
  },
  {
   "cell_type": "code",
   "execution_count": 9,
   "id": "e0241407-497b-49dd-9784-13ba4b4b2c2a",
   "metadata": {},
   "outputs": [
    {
     "name": "stdout",
     "output_type": "stream",
     "text": [
      "The largest number is 19\n"
     ]
    }
   ],
   "source": [
    "# 7. Build a program that determines the largest of three given numbers.\n",
    "\n",
    "num1 = 19\n",
    "num2 = 14\n",
    "num3 = 11\n",
    "\n",
    "if (num1 >= num2) and (num1 >= num3):\n",
    "    largest = num1\n",
    "elif (num2 >= num1) and (num2 >= num3):\n",
    "    largest = num2\n",
    "else:\n",
    "    largest = num3\n",
    "print(\"The largest number is\", largest)"
   ]
  },
  {
   "cell_type": "code",
   "execution_count": 10,
   "id": "69bc3a5d-6cb5-425b-ab57-7c8de4e20a33",
   "metadata": {},
   "outputs": [
    {
     "name": "stdin",
     "output_type": "stream",
     "text": [
      "Enter character: o\n"
     ]
    },
    {
     "name": "stdout",
     "output_type": "stream",
     "text": [
      "Vowel\n"
     ]
    }
   ],
   "source": [
    "# 8. Develop a program that checks whether a character is a vowel or a consonant.\n",
    "\n",
    "x = input(\"Enter character:\") \n",
    "if (x == 'a' or x == 'e' or x == 'i' or x == 'o' or x == 'u'): \n",
    "    print(\"Vowel\") \n",
    "else: \n",
    "     print(\"Consonant\") "
   ]
  },
  {
   "cell_type": "code",
   "execution_count": 11,
   "id": "88fcfa0b-fa89-4d98-a57b-4e072f975320",
   "metadata": {},
   "outputs": [
    {
     "name": "stdin",
     "output_type": "stream",
     "text": [
      "Enter purchase amount  25000\n"
     ]
    },
    {
     "name": "stdout",
     "output_type": "stream",
     "text": [
      "Discount Amount = 6000.00\n",
      "Net Bill Amount = 19000.00\n"
     ]
    }
   ],
   "source": [
    "# 9. Create a program to calculate the total cost of a shopping cart based on discounts.\n",
    "\n",
    "p=int(input('Enter purchase amount '))\n",
    "\n",
    "if p<=5000:\n",
    "    dis=0\n",
    "elif p>5000 and p<=10000:\n",
    "    dis=(p-5000)*(10/100.0)\n",
    "elif p>10000 and p<=20000:\n",
    "    dis=(p-5000)*(20/100.0)\n",
    "elif p>20000 and p<=30000:\n",
    "    dis=(p-5000)*(30/100.0)\n",
    "else:\n",
    "    dis=(p-5000)*(40/100.0)\n",
    "\n",
    "print('Discount Amount = {:.2f}'.format(dis))\n",
    "print('Net Bill Amount = {:.2f}'.format(p-dis))"
   ]
  },
  {
   "cell_type": "code",
   "execution_count": 12,
   "id": "35130402-a9af-4088-bcb9-cc4af38e7545",
   "metadata": {},
   "outputs": [
    {
     "name": "stdin",
     "output_type": "stream",
     "text": [
      "Enter a number:  251\n"
     ]
    },
    {
     "name": "stdout",
     "output_type": "stream",
     "text": [
      "251 is Odd\n"
     ]
    }
   ],
   "source": [
    "# 10. Write a program that checks if a given number is even or odd.\n",
    "\n",
    "num = int(input(\"Enter a number: \"))\n",
    "if (num % 2) == 0:\n",
    "    print(\"{0} is Even\".format(num))\n",
    "else:\n",
    "    print(\"{0} is Odd\".format(num))"
   ]
  },
  {
   "cell_type": "code",
   "execution_count": null,
   "id": "e5f180d2-28f8-430a-af28-f0fb3f60630b",
   "metadata": {},
   "outputs": [],
   "source": [
    "Intermediate Level:"
   ]
  },
  {
   "cell_type": "code",
   "execution_count": 13,
   "id": "8dd79beb-6e6a-4419-8b8b-52fc89bff9e8",
   "metadata": {},
   "outputs": [
    {
     "name": "stdin",
     "output_type": "stream",
     "text": [
      "Please Enter a Value of a Quadratic Equation :  25\n",
      "Please Enter b Value of a Quadratic Equation :  18\n",
      "Please Enter c Value of a Quadratic Equation :  41\n"
     ]
    },
    {
     "name": "stdout",
     "output_type": "stream",
     "text": [
      "Two Distinct Complex Roots Exists: root1 = -0.36+1.23 and root2 = -0.36-1.23\n"
     ]
    }
   ],
   "source": [
    "# 11. Write a program that calculates the roots of a quadratic equation .\n",
    "\n",
    "import math\n",
    "\n",
    "a = int(input(\"Please Enter a Value of a Quadratic Equation : \"))\n",
    "b = int(input(\"Please Enter b Value of a Quadratic Equation : \"))\n",
    "c = int(input(\"Please Enter c Value of a Quadratic Equation : \"))\n",
    "\n",
    "discriminant = (b * b) - (4 * a * c)\n",
    "\n",
    "if(discriminant > 0):\n",
    "    root1 = (-b + math.sqrt(discriminant) / (2 * a))\n",
    "    root2 = (-b - math.sqrt(discriminant) / (2 * a))\n",
    "    print(\"Two Distinct Real Roots Exists: root1 = %.2f and root2 = %.2f\" %(root1, root2))\n",
    "elif(discriminant == 0):\n",
    "    root1 = root2 = -b / (2 * a)\n",
    "    print(\"Two Equal and Real Roots Exists: root1 = %.2f and root2 = %.2f\" %(root1, root2))\n",
    "elif(discriminant < 0):\n",
    "    root1 = root2 = -b / (2 * a)\n",
    "    imaginary = math.sqrt(-discriminant) / (2 * a)\n",
    "    print(\"Two Distinct Complex Roots Exists: root1 = %.2f+%.2f and root2 = %.2f-%.2f\" %(root1, imaginary, root2, imaginary))"
   ]
  },
  {
   "cell_type": "code",
   "execution_count": 14,
   "id": "6918c372-8b4c-4e9e-849a-bd35405d30f1",
   "metadata": {},
   "outputs": [
    {
     "name": "stdin",
     "output_type": "stream",
     "text": [
      "Enter weekday day number (1-7) :  4\n"
     ]
    },
    {
     "name": "stdout",
     "output_type": "stream",
     "text": [
      "\n",
      "Thursday\n"
     ]
    }
   ],
   "source": [
    "# 12. Create a program that determines the day of the week based on the day number (1-7).\n",
    "\n",
    "weekday = int(input(\"Enter weekday day number (1-7) : \"))\n",
    "if weekday == 1 :\n",
    "    print(\"\\nMonday\");\n",
    "elif weekday == 2 :\n",
    "    print(\"\\nTuesday\")\n",
    "elif(weekday == 3) :\n",
    "    print(\"\\nWednesday\")\n",
    "elif(weekday == 4) :\n",
    "    print(\"\\nThursday\")\n",
    "elif(weekday == 5) :\n",
    "    print(\"\\nFriday\")\n",
    "elif(weekday == 6) :\n",
    "    print(\"\\nSaturday\")\n",
    "elif (weekday == 7) :\n",
    "    print(\"\\nSunday\")\n",
    "else :\n",
    "    print(\"\\nPlease enter weekday number between 1-7.\")"
   ]
  },
  {
   "cell_type": "code",
   "execution_count": 18,
   "id": "66067995-e792-45b7-9bc5-1f8547c1a496",
   "metadata": {},
   "outputs": [
    {
     "name": "stdout",
     "output_type": "stream",
     "text": [
      "The factorial of 7 is 5040\n"
     ]
    }
   ],
   "source": [
    "# 13. Develop a program that calculates the factorial of a given number using recursion.\n",
    "\n",
    "def recur_factorial(n):\n",
    "    if n == 1:\n",
    "        return n\n",
    "    else:\n",
    "        return n*recur_factorial(n-1)\n",
    "num = 7\n",
    "\n",
    "# check if the number is negative\n",
    "if num < 0:\n",
    "    print(\"Sorry, factorial does not exist for negative numbers\")\n",
    "elif num == 0:\n",
    "    print(\"The factorial of 0 is 1\")\n",
    "else:\n",
    "    print(\"The factorial of\", num, \"is\", recur_factorial(num))"
   ]
  },
  {
   "cell_type": "code",
   "execution_count": 19,
   "id": "ba6ff5c9-43b8-4f5c-a7a8-cb90869f256d",
   "metadata": {},
   "outputs": [
    {
     "name": "stdout",
     "output_type": "stream",
     "text": [
      "The largest number is 57\n"
     ]
    }
   ],
   "source": [
    "# 14. Write a program to find the largest among three numbers without using the `max()` function.\n",
    "\n",
    "num1 = 27\n",
    "num2 = 42\n",
    "num3 = 57\n",
    "\n",
    "if (num1 >= num2) and (num1 >= num3):\n",
    "    largest = num1\n",
    "elif (num2 >= num1) and (num2 >= num3):\n",
    "    largest = num2\n",
    "else:\n",
    "    largest = num3\n",
    "print(\"The largest number is\", largest)"
   ]
  },
  {
   "cell_type": "code",
   "execution_count": 20,
   "id": "a5c1ec6c-1c45-42db-bb2e-ed58a2adfe39",
   "metadata": {},
   "outputs": [
    {
     "name": "stdout",
     "output_type": "stream",
     "text": [
      "\n",
      "Welcome to the Pythondex ATM\n"
     ]
    },
    {
     "name": "stdin",
     "output_type": "stream",
     "text": [
      "Please enter your four digit pin:  1234\n"
     ]
    },
    {
     "name": "stdout",
     "output_type": "stream",
     "text": [
      "what do you want to do\n",
      " Enter 1 to Widthdraw Cash \n",
      " Enter 2 for Balance Enquiry \n",
      " Enter 3 to Quit\n"
     ]
    },
    {
     "name": "stdin",
     "output_type": "stream",
     "text": [
      "Enter the number corresponding to the activity you want to do:  1\n",
      "Enter the amount of money you want to widthdraw:  800\n"
     ]
    },
    {
     "name": "stdout",
     "output_type": "stream",
     "text": [
      "800 Dollars successfully widthdrawn your remaining balance is 200 Dollars\n",
      "\n",
      "what do you want to do\n",
      " Enter 1 to Widthdraw Cash \n",
      " Enter 2 for Balance Enquiry \n",
      " Enter 3 to Quit\n"
     ]
    },
    {
     "name": "stdin",
     "output_type": "stream",
     "text": [
      "Enter the number corresponding to the activity you want to do:  3\n"
     ]
    }
   ],
   "source": [
    "# 15. Create a program that simulates a basic ATM transaction menu.\n",
    "\n",
    "user = { 'pin' : 1234, 'balance' : 1000}\n",
    "\n",
    "def widthdraw_cash():\n",
    "    while True:\n",
    "        amount = int(input(\"Enter the amount of money you want to widthdraw: \"))\n",
    "        if amount > user['balance']:\n",
    "            print(\"You don't have sufficient balance to make this widthdrawal\")\n",
    "        else:\n",
    "            user['balance'] = user['balance'] - amount\n",
    "            print(f\"{amount} Dollars successfully widthdrawn your remaining balance is {user['balance']} Dollars\")\n",
    "            print('')\n",
    "            return False\n",
    "\n",
    "def balance_enquiry():\n",
    "    print(f\"Total balance {user['balance']} Dollars\")\n",
    "    print('')\n",
    "\n",
    "\n",
    "is_quit = False\n",
    "\n",
    "print('')\n",
    "print(\"Welcome to the Pythondex ATM\")\n",
    "\n",
    "pin = int(input('Please enter your four digit pin: '))\n",
    "\n",
    "if pin == user['pin']:\n",
    "    while is_quit == False:\n",
    "        print(\"what do you want to do\")\n",
    "        print(\" Enter 1 to Widthdraw Cash \\n Enter 2 for Balance Enquiry \\n Enter 3 to Quit\")\n",
    "\n",
    "        query = int(input(\"Enter the number corresponding to the activity you want to do: \"))\n",
    "\n",
    "        if query == 1:\n",
    "            widthdraw_cash()\n",
    "        elif query == 2:\n",
    "            balance_enquiry()\n",
    "        elif query == 3:\n",
    "            is_quit = True\n",
    "\n",
    "        else:\n",
    "            print(\"Please enter a correct value shown\")\n",
    "else:\n",
    "    print(\"Entered wrong pin\")"
   ]
  },
  {
   "cell_type": "code",
   "execution_count": 22,
   "id": "f434358e-f1e3-4c19-a8a1-c8dd1dd7c497",
   "metadata": {},
   "outputs": [
    {
     "name": "stdout",
     "output_type": "stream",
     "text": [
      "No\n"
     ]
    }
   ],
   "source": [
    "# 16. Build a program that checks if a given string is a palindrome or not.\n",
    "\n",
    "def isPalindrome(s):\n",
    "    return s == s[::-1]\n",
    "s = \"prajakta\"\n",
    "ans = isPalindrome(s)\n",
    " \n",
    "if ans:\n",
    "    print(\"Yes\")\n",
    "else:\n",
    "    print(\"No\")"
   ]
  },
  {
   "cell_type": "code",
   "execution_count": 24,
   "id": "07d1fcc8-e991-4494-96b7-ce09865c50bf",
   "metadata": {},
   "outputs": [
    {
     "name": "stdout",
     "output_type": "stream",
     "text": [
      "[15, 20, 35, 41, 49, 55]\n",
      "Average of the list = 35.83\n"
     ]
    }
   ],
   "source": [
    "# 17. Write a program that calculates the average of a list of numbers, excluding the smallest and largest values.\n",
    "\n",
    "\n",
    "l1 = [15, 9, 55, 41, 35, 20, 62, 49] \n",
    "l1.sort()\n",
    "trimmed = l1[1:-1]\n",
    "print(trimmed)\n",
    "def Average(trimmed): \n",
    "    return sum(trimmed) / len(trimmed) \n",
    "average = Average(trimmed) \n",
    "print(\"Average of the list =\", round(average, 2)) "
   ]
  },
  {
   "cell_type": "code",
   "execution_count": 26,
   "id": "178008c0-dfb6-4d4e-a7d4-52c9442ddb35",
   "metadata": {},
   "outputs": [
    {
     "name": "stdout",
     "output_type": "stream",
     "text": [
      "37.0 degrees Celsius is equivalent to 98.6 degrees Fahrenheit\n"
     ]
    }
   ],
   "source": [
    "# 18. Develop a program that converts a given temperature from Celsius to Fahrenheit.\n",
    "\n",
    "def convertTemp(c): \n",
    "    f = (c * 1.8) + 32\n",
    "    return f\n",
    "cel = 37\n",
    "fahr = convertTemp(cel)\n",
    "print('%0.1f degrees Celsius is equivalent to %0.1f degrees Fahrenheit' %(cel, fahr))"
   ]
  },
  {
   "cell_type": "code",
   "execution_count": 29,
   "id": "d4a0584e-fa50-4d98-9056-1c8b46127edc",
   "metadata": {},
   "outputs": [
    {
     "name": "stdout",
     "output_type": "stream",
     "text": [
      "Please select operation -\n",
      "1. Add\n",
      "2. Subtract\n",
      "3. Multiply\n",
      "4. Divide\n",
      "\n"
     ]
    },
    {
     "name": "stdin",
     "output_type": "stream",
     "text": [
      "Select operations form 1, 2, 3, 4 : 3\n",
      "Enter first number:  4\n",
      "Enter second number:  5\n"
     ]
    },
    {
     "name": "stdout",
     "output_type": "stream",
     "text": [
      "4 * 5 = 20\n"
     ]
    }
   ],
   "source": [
    "# 19. Create a program that simulates a basic calculator for addition, subtraction, multiplication, and division.\n",
    "\n",
    "def add(num1, num2):\n",
    "    return num1 + num2\n",
    "def subtract(num1, num2):\n",
    "    return num1 - num2\n",
    "def multiply(num1, num2):\n",
    "    return num1 * num2\n",
    "def divide(num1, num2):\n",
    "    return num1 / num2\n",
    "print(\"Please select operation -\\n\" \\\n",
    "        \"1. Add\\n\" \\\n",
    "        \"2. Subtract\\n\" \\\n",
    "        \"3. Multiply\\n\" \\\n",
    "        \"4. Divide\\n\")\n",
    "select = int(input(\"Select operations form 1, 2, 3, 4 :\"))\n",
    "number_1 = int(input(\"Enter first number: \"))\n",
    "number_2 = int(input(\"Enter second number: \"))\n",
    " \n",
    "if select == 1:\n",
    "    print(number_1, \"+\", number_2, \"=\", add(number_1, number_2))\n",
    "elif select == 2:\n",
    "    print(number_1, \"-\", number_2, \"=\", subtract(number_1, number_2))\n",
    "elif select == 3:\n",
    "    print(number_1, \"*\", number_2, \"=\", multiply(number_1, number_2))\n",
    "elif select == 4:\n",
    "    print(number_1, \"/\", number_2, \"=\", divide(number_1, number_2))\n",
    "else:\n",
    "    print(\"Invalid input\")"
   ]
  },
  {
   "cell_type": "code",
   "execution_count": 31,
   "id": "bd6456dd-8552-4698-8d2e-2cdb218857c7",
   "metadata": {},
   "outputs": [
    {
     "name": "stdout",
     "output_type": "stream",
     "text": [
      "q =  -0.2666666666666667\n",
      "r =  0.06999999999999999\n",
      "delta =  -0.014062962962962975\n",
      "s [real] =  0.5163977794943223\n",
      "t [real] =  0.5163977794943223\n",
      "x1 =  1.0327955589886446\n",
      "should be zero:  0.13541214906363888\n"
     ]
    }
   ],
   "source": [
    "# 20. Write a program that determines the roots of a cubic equation using the Cardano formula.\n",
    "\n",
    "a =  1.0\n",
    "b =  0.0\n",
    "c =  0.2 - 1.0\n",
    "d = -0.7 * 0.2\n",
    "\n",
    "q = (3*a*c - b**2) / (9 * a**2)\n",
    "r = (9*a*b*c - 27*a**2*d - 2*b**3) / (54*a**3)\n",
    "\n",
    "print(\"q = \", q)\n",
    "print(\"r = \", r)\n",
    "\n",
    "delta = q**3 + r**2\n",
    "\n",
    "print(\"delta = \", delta)\n",
    "\n",
    "rho = (-q**3)**0.5\n",
    "\n",
    "s_real = rho**(1./3.)\n",
    "t_real = rho**(1./3.)\n",
    "\n",
    "print(\"s [real] = \", s_real)\n",
    "print(\"t [real] = \", t_real)\n",
    "\n",
    "x1 = s_real + t_real - b / (3. * a)\n",
    "\n",
    "print(\"x1 = \", x1)\n",
    "\n",
    "print(\"should be zero: \", a*x1**3+b*x1**2+c*x1+d)"
   ]
  },
  {
   "cell_type": "code",
   "execution_count": null,
   "id": "e02ac8ce-e097-434e-b078-2519a3dd551c",
   "metadata": {},
   "outputs": [],
   "source": [
    "# Advanced Level:"
   ]
  },
  {
   "cell_type": "code",
   "execution_count": 33,
   "id": "e64497e6-c80b-4461-aa16-6381bd679d55",
   "metadata": {},
   "outputs": [
    {
     "name": "stdin",
     "output_type": "stream",
     "text": [
      "What's your \\  annual income?\n",
      ">>>  900000\n"
     ]
    },
    {
     "name": "stdout",
     "output_type": "stream",
     "text": [
      "Total tax applicable at \\  ₹900000.0 is ₹60000.0\n"
     ]
    }
   ],
   "source": [
    "# 21. Create a program that calculates the income tax based on the user's income and tax brackets.\n",
    "\n",
    "def calculate(amount, percent): \n",
    "    return (amount * percent) / 100\n",
    "  \n",
    "def calculate_income_tax(total_income:  \n",
    "                         float) -> float: \n",
    "  \n",
    "    if total_income <= 250000: \n",
    "        return 0\n",
    "    elif total_income <= 500000: \n",
    "        return calculate(total_income - \n",
    "                         250000, 5) \n",
    "    elif total_income <= 750000: \n",
    "        return calculate(total_income - \n",
    "                         500000, 10) + 12500\n",
    "    elif total_income <= 1000000: \n",
    "        return calculate(total_income - \n",
    "                         750000, 15) + 37500\n",
    "    elif total_income <= 1250000: \n",
    "        return calculate(total_income - \n",
    "                         1000000, 20) + 75000\n",
    "    elif total_income <= 1500000: \n",
    "        return calculate(total_income - \n",
    "                         1250000, 25) + 125000\n",
    "    else: \n",
    "        return calculate(total_income - \n",
    "                         1500000, 30) + 187500\n",
    "  \n",
    "  \n",
    "if __name__ == '__main__': \n",
    "    total_income = float(input(\"What's your \\  annual income?\\n>>> \")) \n",
    "    tax = calculate_income_tax(total_income) \n",
    "    print(f\"Total tax applicable at \\  ₹{total_income} is ₹{tax}\") "
   ]
  },
  {
   "cell_type": "code",
   "execution_count": 8,
   "id": "4c981265-c792-4ea9-8b08-dff04a292c36",
   "metadata": {},
   "outputs": [
    {
     "name": "stdin",
     "output_type": "stream",
     "text": [
      "enter your choice from rock, paper and scissors paper\n"
     ]
    },
    {
     "name": "stdout",
     "output_type": "stream",
     "text": [
      "\n",
      "You chose paper, computer chose scissors.\n",
      "\n",
      "Scissors cuts paper! You lose.\n"
     ]
    }
   ],
   "source": [
    "# 22. Write a program that simulates a rock-paper-scissors game against the computer.\n",
    "\n",
    "import random\n",
    "user_action = input(\"enter your choice from rock, paper and scissors\")\n",
    "possible_actions = [\"rock\", \"paper\", \"scissors\"]\n",
    "computer_action = random.choice(possible_actions)\n",
    "print(f\"\\nYou chose {user_action}, computer chose {computer_action}.\\n\")\n",
    "\n",
    "\n",
    "if user_action == computer_action:\n",
    "    print(f\"Both players selected {user_action}. It's a tie!\")\n",
    "elif user_action == \"rock\":\n",
    "    if computer_action == \"scissors\":\n",
    "        print(\"Rock smashes scissors! You win!\")\n",
    "    else:\n",
    "        print(\"Paper covers rock! You lose.\")\n",
    "elif user_action == \"paper\":\n",
    "    if computer_action == \"rock\":\n",
    "        print(\"Paper covers rock! You win!\")\n",
    "    else:\n",
    "        print(\"Scissors cuts paper! You lose.\")\n",
    "elif user_action == \"scissors\":\n",
    "    if computer_action == \"paper\":\n",
    "        print(\"Scissors cuts paper! You win!\")\n",
    "    else:\n",
    "        print(\"Rock smashes scissors! You lose.\")"
   ]
  },
  {
   "cell_type": "code",
   "execution_count": 19,
   "id": "ad8d8bdd-155d-47f6-bd42-ce7f27a599b4",
   "metadata": {},
   "outputs": [
    {
     "name": "stdin",
     "output_type": "stream",
     "text": [
      "Enter password length:  8\n"
     ]
    },
    {
     "name": "stdout",
     "output_type": "stream",
     "text": [
      "vkYoJ8$&\n"
     ]
    }
   ],
   "source": [
    "# 23. Develop a program that generates a random password based on user preferences (length, complexity).\n",
    "\n",
    "import string\n",
    "import random\n",
    "characters = list(string.ascii_letters + string.digits + \"!@#$%^&*()\")\n",
    "def generate_random_password():\n",
    "\tlength = int(input(\"Enter password length: \"))\n",
    "\trandom.shuffle(characters)\n",
    "\tpassword = []\n",
    "\tfor i in range(length):\n",
    "\t\tpassword.append(random.choice(characters))\n",
    "\trandom.shuffle(password)\n",
    "\tprint(\"\".join(password))\n",
    "generate_random_password()"
   ]
  },
  {
   "cell_type": "code",
   "execution_count": 17,
   "id": "8cdbf549-b934-491e-a2ea-cad5ae4e910d",
   "metadata": {},
   "outputs": [
    {
     "name": "stdin",
     "output_type": "stream",
     "text": [
      "Would you like to play?(yes/no) yes\n",
      "You reach a cross road, would you like to go right or left? right\n"
     ]
    },
    {
     "name": "stdout",
     "output_type": "stream",
     "text": [
      "You walk aimlessly to the right and fall on a patch of ice. You injured your leg and can not continue. Game over!\n"
     ]
    }
   ],
   "source": [
    "# 24. Create a program that implements a simple text-based adventure game with branching scenarios.\n",
    "\n",
    "answer = input(\"Would you like to play?(yes/no)\")\n",
    "\n",
    "if answer.lower().strip() == \"yes\":\n",
    "    answer = input(\"You reach a cross road, would you like to go right or left?\").lower().strip()\n",
    "    if answer == \"left\":\n",
    "        answer = input(\"You encounter a monster, would you like to run or attack?\")\n",
    "        \n",
    "        if answer == \"attack\":\n",
    "            print(\"That was not good idea, you lost!\")\n",
    "        else:\n",
    "            print(\"Good choice, you made it safely.\")\n",
    "    \n",
    "    elif answer == \"right\":\n",
    "        print(\"You walk aimlessly to the right and fall on a patch of ice. You injured your leg and can not continue. Game over!\")\n",
    "    \n",
    "    else:\n",
    "        print(\"Invalid choice, you lost!\")\n",
    "else:\n",
    "    print(\"That's too bad\")"
   ]
  },
  {
   "cell_type": "code",
   "execution_count": 1,
   "id": "a8d1921c-1a81-480a-8158-0300174f16f6",
   "metadata": {},
   "outputs": [
    {
     "data": {
      "text/plain": [
       "3236.0"
      ]
     },
     "execution_count": 1,
     "metadata": {},
     "output_type": "execute_result"
    }
   ],
   "source": [
    "# 25. Build a program that solves a linear equation for x, considering different cases.\n",
    "\n",
    "def solve_linear(equation,var='x'):\n",
    "    expression = equation.replace(\"=\",\"-(\")+\")\"\n",
    "    grouped = eval(expression.replace(var,'1j'))\n",
    "    return -grouped.real/grouped.imag\n",
    "solve_linear(\"x - 2*x + 5*x - 46*(235-24) = x + 2\")"
   ]
  },
  {
   "cell_type": "code",
   "execution_count": 3,
   "id": "2a93c27c-4b0d-4f02-8745-ce26a24166fc",
   "metadata": {},
   "outputs": [
    {
     "data": {
      "text/plain": [
       "12.0"
      ]
     },
     "execution_count": 3,
     "metadata": {},
     "output_type": "execute_result"
    }
   ],
   "source": [
    "solve_linear(\"11*(2*x + 3) = -3*x + 9*(1 + 3*x)\")"
   ]
  },
  {
   "cell_type": "code",
   "execution_count": 4,
   "id": "80593d10-9d8a-4e44-abea-8fd5e9b5a15d",
   "metadata": {},
   "outputs": [
    {
     "name": "stdout",
     "output_type": "stream",
     "text": [
      "Wellcome to quiz game !!\n",
      "NOTE: if your spelling is incorrect then it is considered as wrong answer\n"
     ]
    },
    {
     "name": "stdin",
     "output_type": "stream",
     "text": [
      "Do you want to play ?  yes\n",
      "\n",
      "1. what does CPU stand for?  central processing unit\n"
     ]
    },
    {
     "name": "stdout",
     "output_type": "stream",
     "text": [
      "correct! you got 1 point\n"
     ]
    },
    {
     "name": "stdin",
     "output_type": "stream",
     "text": [
      "\n",
      "2. what does GPU stand for?  graphics processing unit\n"
     ]
    },
    {
     "name": "stdout",
     "output_type": "stream",
     "text": [
      "correct! you got 1 point\n"
     ]
    },
    {
     "name": "stdin",
     "output_type": "stream",
     "text": [
      "\n",
      "3. what does RAM stand for?  random access memory\n"
     ]
    },
    {
     "name": "stdout",
     "output_type": "stream",
     "text": [
      "correct! you got 1 point\n"
     ]
    },
    {
     "name": "stdin",
     "output_type": "stream",
     "text": [
      "\n",
      "4. what does PSU stand for?  power supply unit\n"
     ]
    },
    {
     "name": "stdout",
     "output_type": "stream",
     "text": [
      "correct! you got 1 point\n"
     ]
    },
    {
     "name": "stdin",
     "output_type": "stream",
     "text": [
      "\n",
      "5. what does ROM stand for?  read only memory\n"
     ]
    },
    {
     "name": "stdout",
     "output_type": "stream",
     "text": [
      "correct! you got 1 point\n",
      "\n",
      "number of question is 5\n",
      "your score is 5\n",
      "100.0% questions are correct.\n"
     ]
    }
   ],
   "source": [
    "# 26. Write a program that simulates a basic quiz game with multiple-choice questions and scoring.\n",
    "\n",
    "print(\"Wellcome to quiz game !!\")\n",
    "print('NOTE: if your spelling is incorrect then it is considered as wrong answer')\n",
    "score = 0\n",
    "question_no = 0\n",
    "playing = input('Do you want to play ? ').lower()\n",
    "if playing == 'yes':\n",
    "    question_no += 1\n",
    "    ques = input(f'\\n{question_no}. what does CPU stand for? ').lower()\n",
    "    if ques == 'central processing unit':\n",
    "        score +=1\n",
    "        print('correct! you got 1 point')\n",
    "        \n",
    "    else:\n",
    "        print('Incorrect!')\n",
    "        print(f'current answer is --> central processing unit')\n",
    "\n",
    "# ------1\n",
    "    question_no += 1\n",
    "    ques = input(f'\\n{question_no}. what does GPU stand for? ').lower()\n",
    "    \n",
    "    if ques == 'graphics processing unit':\n",
    "        score +=1\n",
    "        print('correct! you got 1 point')\n",
    "        \n",
    "    else:\n",
    "        print('Incorrect!')\n",
    "        print(f'current answer is --> graphics processing unit')\n",
    "\n",
    "# -----2\n",
    "    question_no += 1\n",
    "    ques = input(f'\\n{question_no}. what does RAM stand for? ').lower()\n",
    "    \n",
    "    if ques == 'random access memory':\n",
    "        score +=1\n",
    "        print('correct! you got 1 point')\n",
    "        \n",
    "    else:\n",
    "        print('Incorrect!')\n",
    "        print(f'current answer is --> random access memory')\n",
    "\n",
    "# -----3\n",
    "    question_no += 1\n",
    "    ques = input(f'\\n{question_no}. what does PSU stand for? ').lower()\n",
    "    \n",
    "    if ques == 'power supply unit':\n",
    "        score +=1\n",
    "        print('correct! you got 1 point')\n",
    "        \n",
    "    else:\n",
    "        print('Incorrect!')\n",
    "        print(f'current answer is --> power supply unit')\n",
    "\n",
    "\n",
    "# -----4\n",
    "    question_no += 1\n",
    "    ques = input(f'\\n{question_no}. what does ROM stand for? ').lower()\n",
    "    \n",
    "    if ques == 'read only memory':\n",
    "        score +=1\n",
    "        print('correct! you got 1 point')\n",
    "        \n",
    "    else:\n",
    "        print('Incorrect!')\n",
    "        print(f'current answer is --> read only memory')\n",
    "\n",
    "\n",
    "# ------5 \n",
    "\n",
    "else:\n",
    "    print('thankyou you are out of a game.')\n",
    "    quit()\n",
    "\n",
    "print(f'\\nnumber of question is {question_no}')\n",
    "print(f'your score is {score}')\n",
    "try:\n",
    "    percentage = (score *100)/question_no\n",
    "except ZeroDivisionError:\n",
    "    print('0% quetions are correct')\n",
    "\n",
    "print(f'{percentage}% questions are correct.')"
   ]
  },
  {
   "cell_type": "code",
   "execution_count": 6,
   "id": "3b9d7df8-67f5-43b7-97a5-e61f068517bb",
   "metadata": {},
   "outputs": [
    {
     "name": "stdout",
     "output_type": "stream",
     "text": [
      "2015 year is not a prime number\n"
     ]
    }
   ],
   "source": [
    "# 27. Develop a program that determines whether a given year is a prime number or not.\n",
    "\n",
    "year = 2015\n",
    "\n",
    "if year > 1:\n",
    "    for i in range(2, int(year/2)+1):\n",
    "        if (year % i) == 0:\n",
    "            print(year, \"year is not a prime number\")\n",
    "            break\n",
    "    else:\n",
    "        print(year, \"year is a prime number\")\n",
    "else:\n",
    "    print(year, \"year is not a prime number\")\n"
   ]
  },
  {
   "cell_type": "code",
   "execution_count": 7,
   "id": "79ef0e87-1bb7-4627-adf9-1005a1b7ba49",
   "metadata": {},
   "outputs": [
    {
     "name": "stdin",
     "output_type": "stream",
     "text": [
      "Enter a:  54\n",
      "Enter b:  12\n",
      "Enter c:  43\n"
     ]
    },
    {
     "name": "stdout",
     "output_type": "stream",
     "text": [
      "12.0 < 43.0 < 54.0\n"
     ]
    }
   ],
   "source": [
    "# 28. Create a program that sorts three numbers in ascending order using conditional statements.\n",
    "\n",
    "a = float(input(\"Enter a: \"))\n",
    "b = float(input(\"Enter b: \"))\n",
    "c = float(input(\"Enter c: \"))\n",
    "if a < b:\n",
    "    if b < c:\n",
    "        print (a, \"<\", b, \"<\", c)\n",
    "    else:\n",
    "        if a < c:\n",
    "            print (a, \"<\", c, \"<\", b)\n",
    "        else:\n",
    "            print (c, \"<\", a, \"<\", b)\n",
    "else:\n",
    "    if c < b:\n",
    "        print (c, \"<\", b, \"<\", a)\n",
    "    else:\n",
    "        if c < a:\n",
    "            print (b, \"<\", c, \"<\", a)\n",
    "        else:\n",
    "            print (b, \"<\", a, \"<\", c)"
   ]
  },
  {
   "cell_type": "code",
   "execution_count": 15,
   "id": "7417e0bc-faaa-4c6a-882a-d5c8ffbb7a09",
   "metadata": {},
   "outputs": [
    {
     "name": "stdout",
     "output_type": "stream",
     "text": [
      "real and different roots\n",
      "1.1551836094703507\n",
      "-4.155183609470351\n"
     ]
    }
   ],
   "source": [
    "# 29. Build a program that determines the roots of a quartic equation using numerical methods.\n",
    "\n",
    "import math \n",
    "def equationroots( a, b, c): \n",
    "    dis = b * b - 4 * a * c \n",
    "    sqrt_val = math.sqrt(abs(dis)) \n",
    "    if dis > 0: \n",
    "        print(\"real and different roots\") \n",
    "        print((-b + sqrt_val)/(2 * a)) \n",
    "        print((-b - sqrt_val)/(2 * a))      \n",
    "    elif dis == 0: \n",
    "        print(\"real and same roots\") \n",
    "    else:\n",
    "        print(\"Complex Roots\") \n",
    "        print(- b / (2 * a), + i, sqrt_val) \n",
    "        print(- b / (2 * a), - i, sqrt_val) \n",
    "a = 5\n",
    "b = 15\n",
    "c = -24\n",
    "if a == 0: \n",
    "        print(\"Input correct quadratic equation\") \n",
    "else:\n",
    "    equationroots(a, b, c)"
   ]
  },
  {
   "cell_type": "code",
   "execution_count": 18,
   "id": "ec0aefdc-1c44-4084-b548-0f413f1d6986",
   "metadata": {},
   "outputs": [
    {
     "name": "stdin",
     "output_type": "stream",
     "text": [
      "Enter your height in cm:  155\n",
      "Enter your weight in kg:  49\n"
     ]
    },
    {
     "name": "stdout",
     "output_type": "stream",
     "text": [
      "You BMI is 20.39542143600416\n",
      "You are healthy.\n"
     ]
    }
   ],
   "source": [
    "# 30. Write a program that calculates the BMI (Body Mass Index) and provides health recommendations based\n",
    "# on the user's input.\n",
    "\n",
    "height = float(input(\"Enter your height in cm: \"))\n",
    "weight = float(input(\"Enter your weight in kg: \"))\n",
    "BMI = weight / (height/100)**2\n",
    "print(f\"You BMI is {BMI}\")\n",
    "\n",
    "if BMI <= 18.4:\n",
    "    print(\"You are underweight.\")\n",
    "elif BMI <= 24.9:\n",
    "    print(\"You are healthy.\")\n",
    "elif BMI <= 29.9:\n",
    "    print(\"You are over weight.\")\n",
    "elif BMI <= 34.9:\n",
    "    print(\"You are severely over weight.\")\n",
    "elif BMI <= 39.9:\n",
    "    print(\"You are obese.\")\n",
    "else:\n",
    "    print(\"You are severely obese.\")"
   ]
  },
  {
   "cell_type": "code",
   "execution_count": null,
   "id": "abc3f1cb-8dfb-4b90-a890-1ecb2e405a7e",
   "metadata": {},
   "outputs": [],
   "source": [
    "# Challenge Level:"
   ]
  },
  {
   "cell_type": "code",
   "execution_count": 19,
   "id": "f904e5a5-bf18-4942-a280-caf5f1b028d0",
   "metadata": {},
   "outputs": [
    {
     "name": "stdin",
     "output_type": "stream",
     "text": [
      "Enter password length:  10\n"
     ]
    },
    {
     "name": "stdout",
     "output_type": "stream",
     "text": [
      "ErudCehO2a\n"
     ]
    }
   ],
   "source": [
    "# 31. Create a program that validates a password based on complexity rules (length, characters, etc.).\n",
    "\n",
    "import string\n",
    "import random\n",
    "characters = list(string.ascii_letters + string.digits + \"!@#$%^&*()\")\n",
    "def generate_random_password():\n",
    "\tlength = int(input(\"Enter password length: \"))\n",
    "\trandom.shuffle(characters)\n",
    "\tpassword = []\n",
    "\tfor i in range(length):\n",
    "\t\tpassword.append(random.choice(characters))\n",
    "\trandom.shuffle(password)\n",
    "\tprint(\"\".join(password))\n",
    "generate_random_password()"
   ]
  },
  {
   "cell_type": "code",
   "execution_count": 24,
   "id": "a92c3ee4-9304-4db0-b240-cd414ba6d299",
   "metadata": {},
   "outputs": [
    {
     "name": "stdout",
     "output_type": "stream",
     "text": [
      "Result: \n",
      "Addition: [[ 6  8 10]\n",
      " [ 4  6  8]\n",
      " [11 10 16]]\n",
      "Subtraction: [[-4 -4 -4]\n",
      " [ 2  2  2]\n",
      " [ 1  4  0]]\n"
     ]
    }
   ],
   "source": [
    "# 32. Develop a program that performs matrix addition and subtraction based on user input.\n",
    "\n",
    "import numpy\n",
    "\n",
    "A=[ [1, 2, 3], [3, 4, 5], [6, 7, 8] ]\n",
    "\n",
    "B=[ [5, 6, 7], [1, 2, 3], [5, 3, 8] ]\n",
    "\n",
    "print(\"Result: \")\n",
    "print(\"Addition:\", \n",
    "      numpy.add(A,B))\n",
    "print(\"Subtraction:\", \n",
    "      numpy.subtract(A,B))"
   ]
  },
  {
   "cell_type": "code",
   "execution_count": 25,
   "id": "4445b350-b219-40cc-bbcf-5b00d6525d17",
   "metadata": {},
   "outputs": [
    {
     "name": "stdout",
     "output_type": "stream",
     "text": [
      "4\n"
     ]
    }
   ],
   "source": [
    "# 33. Write a program that calculates the greatest common divisor (GCD) of two numbers using the Euclidean\n",
    "# algorithm.\n",
    "\n",
    "def gcd(m,n):\n",
    "    if m< n:\n",
    "        (m,n) = (n,m)\n",
    "    if(m%n) == 0:\n",
    "        return n\n",
    "    else:\n",
    "        return (gcd(n, m % n))\n",
    "print(gcd(8,12))"
   ]
  },
  {
   "cell_type": "code",
   "execution_count": 29,
   "id": "39780586-7d44-4ff5-9d0c-8e45b330812c",
   "metadata": {},
   "outputs": [
    {
     "name": "stdout",
     "output_type": "stream",
     "text": [
      "[114, 160, 60, 27]\n",
      "[74, 97, 73, 14]\n",
      "[119, 157, 112, 23]\n"
     ]
    }
   ],
   "source": [
    "# 34. Build a program that performs matrix multiplication using nested loops and conditional statements.\n",
    "\n",
    "X = [[12,7,3],\n",
    "    [4 ,5,6],\n",
    "    [7 ,8,9]]\n",
    "\n",
    "Y = [[5,8,1,2],\n",
    "    [6,7,3,0],\n",
    "    [4,5,9,1]]\n",
    "\n",
    "result = [[0,0,0,0],\n",
    "         [0,0,0,0],\n",
    "         [0,0,0,0]]\n",
    "\n",
    "for i in range(len(X)):\n",
    "    for j in range(len(Y[0])):\n",
    "        for k in range(len(Y)):\n",
    "            result[i][j] += X[i][k] * Y[k][j]\n",
    "\n",
    "for r in result:\n",
    "    print(r)"
   ]
  },
  {
   "cell_type": "code",
   "execution_count": 3,
   "id": "6f422512-ad54-41a3-9af4-7cb85458ef16",
   "metadata": {},
   "outputs": [
    {
     "name": "stdout",
     "output_type": "stream",
     "text": [
      "[[0 0 0]\n",
      " [0 0 0]\n",
      " [0 0 0]]\n",
      "Board after 1 move\n",
      "[[0 0 0]\n",
      " [0 0 1]\n",
      " [0 0 0]]\n",
      "Board after 2 move\n",
      "[[0 0 0]\n",
      " [0 0 1]\n",
      " [2 0 0]]\n",
      "Board after 3 move\n",
      "[[0 0 1]\n",
      " [0 0 1]\n",
      " [2 0 0]]\n",
      "Board after 4 move\n",
      "[[0 0 1]\n",
      " [0 0 1]\n",
      " [2 2 0]]\n",
      "Board after 5 move\n",
      "[[1 0 1]\n",
      " [0 0 1]\n",
      " [2 2 0]]\n",
      "Board after 6 move\n",
      "[[1 0 1]\n",
      " [0 2 1]\n",
      " [2 2 0]]\n",
      "Board after 7 move\n",
      "[[1 0 1]\n",
      " [0 2 1]\n",
      " [2 2 1]]\n",
      "Winner is: 1\n"
     ]
    }
   ],
   "source": [
    "# 35. Create a program that simulates a basic text-based tic-tac-toe game against the computer.\n",
    "\n",
    "import numpy as np\n",
    "import random\n",
    "from time import sleep\n",
    " \n",
    "# Creates an empty board\n",
    "def create_board():\n",
    "    return(np.array([[0, 0, 0],\n",
    "                     [0, 0, 0],\n",
    "                     [0, 0, 0]]))\n",
    " \n",
    "# Check for empty places on board\n",
    "def possibilities(board):\n",
    "    l = []\n",
    "    for i in range(len(board)):\n",
    "        for j in range(len(board)):\n",
    " \n",
    "            if board[i][j] == 0:\n",
    "                l.append((i, j))\n",
    "    return(l)\n",
    " \n",
    "# Select a random place for the player\n",
    "def random_place(board, player):\n",
    "    selection = possibilities(board)\n",
    "    current_loc = random.choice(selection)\n",
    "    board[current_loc] = player\n",
    "    return(board)\n",
    " \n",
    "# Checks whether the player has three\n",
    "# of their marks in a horizontal row\n",
    "def row_win(board, player):\n",
    "    for x in range(len(board)):\n",
    "        win = True\n",
    " \n",
    "        for y in range(len(board)):\n",
    "            if board[x, y] != player:\n",
    "                win = False\n",
    "                continue\n",
    " \n",
    "        if win == True:\n",
    "            return(win)\n",
    "    return(win)\n",
    " \n",
    "# Checks whether the player has three\n",
    "# of their marks in a vertical row\n",
    "def col_win(board, player):\n",
    "    for x in range(len(board)):\n",
    "        win = True\n",
    " \n",
    "        for y in range(len(board)):\n",
    "            if board[y][x] != player:\n",
    "                win = False\n",
    "                continue\n",
    " \n",
    "        if win == True:\n",
    "            return(win)\n",
    "    return(win)\n",
    " \n",
    "# Checks whether the player has three\n",
    "# of their marks in a diagonal row \n",
    "def diag_win(board, player):\n",
    "    win = True\n",
    "    y = 0\n",
    "    for x in range(len(board)):\n",
    "        if board[x, x] != player:\n",
    "            win = False\n",
    "    if win:\n",
    "        return win\n",
    "    win = True\n",
    "    if win:\n",
    "        for x in range(len(board)):\n",
    "            y = len(board) - 1 - x\n",
    "            if board[x, y] != player:\n",
    "                win = False\n",
    "    return win\n",
    " \n",
    "# Evaluates whether there is\n",
    "# a winner or a tie\n",
    "def evaluate(board):\n",
    "    winner = 0\n",
    " \n",
    "    for player in [1, 2]:\n",
    "        if (row_win(board, player) or\n",
    "                col_win(board, player) or\n",
    "                diag_win(board, player)):\n",
    " \n",
    "            winner = player\n",
    " \n",
    "    if np.all(board != 0) and winner == 0:\n",
    "        winner = -1\n",
    "    return winner\n",
    " \n",
    "# Main function to start the game\n",
    "def play_game():\n",
    "    board, winner, counter = create_board(), 0, 1\n",
    "    print(board)\n",
    "    sleep(2)\n",
    " \n",
    "    while winner == 0:\n",
    "        for player in [1, 2]:\n",
    "            board = random_place(board, player)\n",
    "            print(\"Board after \" + str(counter) + \" move\")\n",
    "            print(board)\n",
    "            sleep(2)\n",
    "            counter += 1\n",
    "            winner = evaluate(board)\n",
    "            if winner != 0:\n",
    "                break\n",
    "    return(winner)\n",
    " \n",
    "print(\"Winner is: \" + str(play_game()))"
   ]
  },
  {
   "cell_type": "code",
   "execution_count": 5,
   "id": "6c524551-02e9-44c7-970d-c19d70516d32",
   "metadata": {},
   "outputs": [
    {
     "name": "stdout",
     "output_type": "stream",
     "text": [
      "Fibonacci Series: 0 1 1 2 3 5 8 13 21 34 \n"
     ]
    }
   ],
   "source": [
    "# 36. Write a program that generates Fibonacci numbers up to a specified term using iterative methods.\n",
    "\n",
    "num = 10\n",
    "n1, n2 = 0, 1\n",
    "print(\"Fibonacci Series:\", n1, n2, end=\" \")\n",
    "for i in range(2, num):\n",
    "    n3 = n1 + n2\n",
    "    n1 = n2\n",
    "    n2 = n3\n",
    "    print(n3, end=\" \")\n",
    "\n",
    "print()"
   ]
  },
  {
   "cell_type": "code",
   "execution_count": 7,
   "id": "03349cc0-a490-4cea-ba23-7585e92574bf",
   "metadata": {},
   "outputs": [
    {
     "name": "stdout",
     "output_type": "stream",
     "text": [
      "nth term of Fibonacci sequence: 21\n"
     ]
    }
   ],
   "source": [
    "# 37. Develop a program that calculates the nth term of the Fibonacci sequence using memoization.\n",
    "\n",
    "def fibonacci(n):\n",
    "    a,b = 0,1\n",
    "    for i in range(n):\n",
    "        a,b = b,a+b\n",
    "    return a\n",
    "\n",
    "print(\"nth term of Fibonacci sequence:\", fibonacci(8))"
   ]
  },
  {
   "cell_type": "code",
   "execution_count": 9,
   "id": "6d2eb826-4324-4a59-bf27-828a99753a08",
   "metadata": {},
   "outputs": [
    {
     "name": "stdout",
     "output_type": "stream",
     "text": [
      "July 2022\n",
      "Su Mo Tu We Th Fr Sa\n",
      "               01 02 \n",
      "03 04 05 06 07 08 09 \n",
      "10 11 12 13 14 15 16 \n",
      "17 18 19 20 21 22 23 \n",
      "24 25 26 27 28 29 30 \n",
      "31 "
     ]
    }
   ],
   "source": [
    "# 38. Create a program that generates a calendar for a given month and year using conditional statements.\n",
    "\n",
    "mm = 7\n",
    "yy = 2022\n",
    "  \n",
    "month ={1:'January', 2:'February', 3:'March',  \n",
    "        4:'April', 5:'May', 6:'June', 7:'July', \n",
    "        8:'August', 9:'September', 10:'October', \n",
    "        11:'November', 12:'December'} \n",
    "   \n",
    "# code below for calculation of odd days \n",
    "day =(yy-1)% 400\n",
    "day = (day//100)*5 + ((day % 100) - (day % 100)//4) + ((day % 100)//4)*2\n",
    "day = day % 7\n",
    "  \n",
    "nly =[31, 28, 31, 30, 31, 30,  \n",
    "      31, 31, 30, 31, 30, 31] \n",
    "ly =[31, 29, 31, 30, 31, 30,  \n",
    "     31, 31, 30, 31, 30, 31] \n",
    "s = 0\n",
    "  \n",
    "if yy % 4 == 0: \n",
    "    for i in range(mm-1): \n",
    "        s+= ly[i] \n",
    "else: \n",
    "    for i in range(mm-1): \n",
    "        s+= nly[i] \n",
    "    day += s % 7\n",
    "    day = day % 7\n",
    "    \n",
    "# variable used for white space filling  \n",
    "# where date not present \n",
    "space ='' \n",
    "space = space.rjust(2, ' ') \n",
    "  \n",
    "# code below is to print the calendar \n",
    "print(month[mm], yy) \n",
    "print('Su', 'Mo', 'Tu', 'We', 'Th', 'Fr', 'Sa') \n",
    "  \n",
    "if mm == 9 or mm == 4 or mm == 6 or mm == 11:  \n",
    "    for i in range(31 + day): \n",
    "          \n",
    "        if i<= day: \n",
    "            print(space, end =' ') \n",
    "        else: \n",
    "            print(\"{:02d}\".format(i-day), end =' ') \n",
    "            if (i + 1)% 7 == 0: \n",
    "                print() \n",
    "elif mm == 2: \n",
    "    if yy % 4 == 0: \n",
    "        p = 30\n",
    "    else: \n",
    "        p = 29\n",
    "          \n",
    "    for i in range(p + day): \n",
    "        if i<= day: \n",
    "            print(space, end =' ') \n",
    "        else: \n",
    "            print(\"{:02d}\".format(i-day), end =' ') \n",
    "            if (i + 1)% 7 == 0: \n",
    "                print()  \n",
    "else: \n",
    "    for i in range(32 + day): \n",
    "          \n",
    "        if i<= day: \n",
    "            print(space, end =' ') \n",
    "        else: \n",
    "            print(\"{:02d}\".format(i-day), end =' ') \n",
    "            if (i + 1)% 7 == 0: \n",
    "                print() "
   ]
  },
  {
   "cell_type": "code",
   "execution_count": 10,
   "id": "3dffb809-3683-4506-a2a7-02c45ae5c5f3",
   "metadata": {},
   "outputs": [
    {
     "name": "stdout",
     "output_type": "stream",
     "text": [
      "Cards Player Has: [('Jack', 'Diamonds'), ('9', 'Diamonds')]\n",
      "Score Of The Player: 19\n",
      "\n",
      "\n"
     ]
    },
    {
     "name": "stdin",
     "output_type": "stream",
     "text": [
      "What do you want? [\"play\" to request another card, \"stop\" to stop]:  play\n"
     ]
    },
    {
     "name": "stdout",
     "output_type": "stream",
     "text": [
      "Cards Player Has: [('Jack', 'Diamonds'), ('9', 'Diamonds'), ('7', 'Diamonds')]\n",
      "Score Of The Player: 26\n",
      "\n",
      "\n"
     ]
    },
    {
     "name": "stdin",
     "output_type": "stream",
     "text": [
      "What do you want? [\"play\" to request another card, \"stop\" to stop]:  play\n"
     ]
    },
    {
     "name": "stdout",
     "output_type": "stream",
     "text": [
      "Cards Dealer Has: [('3', 'Diamonds'), ('Queen', 'Diamonds')]\n",
      "Score Of The Dealer: 13\n",
      "Cards Player Has: [('Jack', 'Diamonds'), ('9', 'Diamonds'), ('7', 'Diamonds'), ('Jack', 'Clubs')]\n",
      "Score Of The Player: 26\n",
      "Dealer wins (Player Loss Because Player Score is exceeding 21)\n",
      "Cards Dealer Has: [('3', 'Diamonds'), ('Queen', 'Diamonds'), ('10', 'Spades')]\n",
      "Score Of The Dealer: 23\n",
      "\n",
      "\n",
      "Cards Dealer Has: [('3', 'Diamonds'), ('Queen', 'Diamonds'), ('10', 'Spades')]\n",
      "Score Of The Dealer: 23\n",
      "Cards Player Has: [('Jack', 'Diamonds'), ('9', 'Diamonds'), ('7', 'Diamonds'), ('Jack', 'Clubs')]\n",
      "Score Of The Player: 26\n",
      "Player wins (Dealer Loss Because Dealer Score is exceeding 21)\n"
     ]
    }
   ],
   "source": [
    "# 39. Build a program that simulates a basic text-based blackjack game against the computer.\n",
    "\n",
    "import random \n",
    "\n",
    "card_categories = ['Hearts', 'Diamonds', 'Clubs', 'Spades'] \n",
    "cards_list = ['Ace', '2', '3', '4', '5', '6', '7', '8', '9', '10', 'Jack', 'Queen', 'King'] \n",
    "deck = [(card, category) for category in card_categories for card in cards_list] \n",
    "\n",
    "def card_value(card): \n",
    "\tif card[0] in ['Jack', 'Queen', 'King']: \n",
    "\t\treturn 10\n",
    "\telif card[0] == 'Ace': \n",
    "\t\treturn 11\n",
    "\telse: \n",
    "\t\treturn int(card[0]) \n",
    "\n",
    "random.shuffle(deck) \n",
    "player_card = [deck.pop(), deck.pop()] \n",
    "dealer_card = [deck.pop(), deck.pop()] \n",
    "\n",
    "while True: \n",
    "\tplayer_score = sum(card_value(card) for card in player_card) \n",
    "\tdealer_score = sum(card_value(card) for card in dealer_card) \n",
    "\tprint(\"Cards Player Has:\", player_card) \n",
    "\tprint(\"Score Of The Player:\", player_score) \n",
    "\tprint(\"\\n\") \n",
    "\tchoice = input('What do you want? [\"play\" to request another card, \"stop\" to stop]: ').lower() \n",
    "\tif choice == \"play\": \n",
    "\t\tnew_card = deck.pop() \n",
    "\t\tplayer_card.append(new_card) \n",
    "\telif choice == \"stop\": \n",
    "\t\tbreak\n",
    "\telse: \n",
    "\t\tprint(\"Invalid choice. Please try again.\") \n",
    "\t\tcontinue\n",
    "\n",
    "\tif player_score > 21: \n",
    "\t\tprint(\"Cards Dealer Has:\", dealer_card) \n",
    "\t\tprint(\"Score Of The Dealer:\", dealer_score) \n",
    "\t\tprint(\"Cards Player Has:\", player_card) \n",
    "\t\tprint(\"Score Of The Player:\", player_score) \n",
    "\t\tprint(\"Dealer wins (Player Loss Because Player Score is exceeding 21)\") \n",
    "\t\tbreak\n",
    "\n",
    "while dealer_score < 17: \n",
    "\tnew_card = deck.pop() \n",
    "\tdealer_card.append(new_card) \n",
    "\tdealer_score += card_value(new_card) \n",
    "\n",
    "print(\"Cards Dealer Has:\", dealer_card) \n",
    "print(\"Score Of The Dealer:\", dealer_score) \n",
    "print(\"\\n\") \n",
    "\n",
    "if dealer_score > 21: \n",
    "\tprint(\"Cards Dealer Has:\", dealer_card) \n",
    "\tprint(\"Score Of The Dealer:\", dealer_score) \n",
    "\tprint(\"Cards Player Has:\", player_card) \n",
    "\tprint(\"Score Of The Player:\", player_score) \n",
    "\tprint(\"Player wins (Dealer Loss Because Dealer Score is exceeding 21)\") \n",
    "elif player_score > dealer_score: \n",
    "\tprint(\"Cards Dealer Has:\", dealer_card) \n",
    "\tprint(\"Score Of The Dealer:\", dealer_score) \n",
    "\tprint(\"Cards Player Has:\", player_card) \n",
    "\tprint(\"Score Of The Player:\", player_score) \n",
    "\tprint(\"Player wins (Player Has High Score than Dealer)\") \n",
    "elif dealer_score > player_score: \n",
    "\tprint(\"Cards Dealer Has:\", dealer_card) \n",
    "\tprint(\"Score Of The Dealer:\", dealer_score) \n",
    "\tprint(\"Cards Player Has:\", player_card) \n",
    "\tprint(\"Score Of The Player:\", player_score) \n",
    "\tprint(\"Dealer wins (Dealer Has High Score than Player)\") \n",
    "else: \n",
    "\tprint(\"Cards Dealer Has:\", dealer_card) \n",
    "\tprint(\"Score Of The Dealer:\", dealer_score) \n",
    "\tprint(\"Cards Player Has:\", player_card) \n",
    "\tprint(\"Score Of The Player:\", player_score) \n",
    "\tprint(\"It's a tie.\")"
   ]
  },
  {
   "cell_type": "code",
   "execution_count": 12,
   "id": "b8ded299-87be-4cb3-89b0-a73c1590a0f1",
   "metadata": {},
   "outputs": [
    {
     "name": "stdout",
     "output_type": "stream",
     "text": [
      "2 3 19 37 "
     ]
    }
   ],
   "source": [
    "# 40. Write a program that generates the prime factors of a given number using trial division.\n",
    "\n",
    "def primeFactors(n):\n",
    "    spf = [0 for i in range(n+1)]\n",
    "    spf[1] = 1\n",
    "    for i in range(2, n+1):\n",
    "        spf[i] = i\n",
    "    for i in range(4, n+1, 2):\n",
    "        spf[i] = 2\n",
    "  \n",
    "    for i in range(3, int(n**0.5)+1):\n",
    "        if spf[i] == i:\n",
    "            for j in range(i*i, n+1, i):\n",
    "                if spf[j] == j:\n",
    "                    spf[j] = i\n",
    "                      \n",
    "    while n != 1:\n",
    "        print(spf[n], end=\" \")\n",
    "        n = n // spf[n]\n",
    "\n",
    "n = 4218\n",
    "primeFactors(n)"
   ]
  },
  {
   "cell_type": "code",
   "execution_count": null,
   "id": "8b5f3e30-382a-4f0f-8108-e7890e19bbd7",
   "metadata": {},
   "outputs": [],
   "source": []
  }
 ],
 "metadata": {
  "kernelspec": {
   "display_name": "Python 3 (ipykernel)",
   "language": "python",
   "name": "python3"
  },
  "language_info": {
   "codemirror_mode": {
    "name": "ipython",
    "version": 3
   },
   "file_extension": ".py",
   "mimetype": "text/x-python",
   "name": "python",
   "nbconvert_exporter": "python",
   "pygments_lexer": "ipython3",
   "version": "3.10.8"
  }
 },
 "nbformat": 4,
 "nbformat_minor": 5
}
