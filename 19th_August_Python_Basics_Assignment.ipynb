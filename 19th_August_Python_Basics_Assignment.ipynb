{
 "cells": [
  {
   "cell_type": "markdown",
   "id": "818dddf7-9429-4821-83f2-ddb656162969",
   "metadata": {},
   "source": [
    "PYTHON BASIC VARIABLES"
   ]
  },
  {
   "cell_type": "markdown",
   "id": "452d4acb-28df-4f4a-9630-515d59a4444a",
   "metadata": {},
   "source": [
    "Swapping of variables"
   ]
  },
  {
   "cell_type": "code",
   "execution_count": 10,
   "id": "848a457c-5a5d-44ea-b347-6ba6972222d8",
   "metadata": {},
   "outputs": [],
   "source": [
    "x = 56"
   ]
  },
  {
   "cell_type": "code",
   "execution_count": 11,
   "id": "dae59d02-95dc-470b-ad10-5a7774b97739",
   "metadata": {},
   "outputs": [],
   "source": [
    "y = 23"
   ]
  },
  {
   "cell_type": "code",
   "execution_count": 12,
   "id": "95f22472-87a9-4b84-9ad0-b13c7ac908fd",
   "metadata": {},
   "outputs": [],
   "source": [
    "x = x + y"
   ]
  },
  {
   "cell_type": "code",
   "execution_count": 13,
   "id": "36e9454b-1f9d-4f0f-8bc4-fa698353aa51",
   "metadata": {},
   "outputs": [
    {
     "data": {
      "text/plain": [
       "79"
      ]
     },
     "execution_count": 13,
     "metadata": {},
     "output_type": "execute_result"
    }
   ],
   "source": [
    "x"
   ]
  },
  {
   "cell_type": "code",
   "execution_count": 14,
   "id": "2ecd3137-3304-4fdb-ad2c-8fdbd72b4df4",
   "metadata": {},
   "outputs": [],
   "source": [
    "y = x - y"
   ]
  },
  {
   "cell_type": "code",
   "execution_count": 15,
   "id": "45c94763-5404-4c4d-a4a4-b8b01a1cd332",
   "metadata": {},
   "outputs": [
    {
     "data": {
      "text/plain": [
       "56"
      ]
     },
     "execution_count": 15,
     "metadata": {},
     "output_type": "execute_result"
    }
   ],
   "source": [
    "y"
   ]
  },
  {
   "cell_type": "code",
   "execution_count": 16,
   "id": "e21896ac-195d-4590-a346-cc09e5c9201f",
   "metadata": {},
   "outputs": [],
   "source": [
    "x = x - y"
   ]
  },
  {
   "cell_type": "code",
   "execution_count": 17,
   "id": "a56ef11d-a334-4797-ac6f-20fcf6c2a570",
   "metadata": {},
   "outputs": [
    {
     "data": {
      "text/plain": [
       "23"
      ]
     },
     "execution_count": 17,
     "metadata": {},
     "output_type": "execute_result"
    }
   ],
   "source": [
    "x"
   ]
  },
  {
   "cell_type": "markdown",
   "id": "f22aa25a-6298-410d-9882-965179255591",
   "metadata": {},
   "source": [
    "Calculation of area of rectangle"
   ]
  },
  {
   "cell_type": "code",
   "execution_count": 2,
   "id": "693384ec-4617-4018-80c7-adbf93826554",
   "metadata": {},
   "outputs": [
    {
     "name": "stdin",
     "output_type": "stream",
     "text": [
      " 25\n"
     ]
    }
   ],
   "source": [
    "l = input()"
   ]
  },
  {
   "cell_type": "code",
   "execution_count": 3,
   "id": "89c9f538-a08a-451e-aae3-4052a3de1bf7",
   "metadata": {},
   "outputs": [
    {
     "name": "stdin",
     "output_type": "stream",
     "text": [
      " 20\n"
     ]
    }
   ],
   "source": [
    "w = input()"
   ]
  },
  {
   "cell_type": "code",
   "execution_count": 13,
   "id": "d0ed6418-0224-4c41-b420-fa1fbdad657d",
   "metadata": {},
   "outputs": [
    {
     "data": {
      "text/plain": [
       "2080"
      ]
     },
     "execution_count": 13,
     "metadata": {},
     "output_type": "execute_result"
    }
   ],
   "source": [
    "#area of rectangle\n",
    "l*w"
   ]
  },
  {
   "cell_type": "markdown",
   "id": "88a2b905-e8d2-42bd-b905-e16ea562eea9",
   "metadata": {},
   "source": [
    "Conversion of temperature from Celsius to Fahreneit"
   ]
  },
  {
   "cell_type": "code",
   "execution_count": 22,
   "id": "f7d9a338-c322-4d83-9fe8-ccd18fb8e605",
   "metadata": {},
   "outputs": [
    {
     "name": "stdin",
     "output_type": "stream",
     "text": [
      "tempearture in celcius 37\n"
     ]
    }
   ],
   "source": [
    "# c=celcius\n",
    "c = float(input('tempearture in celcius'))"
   ]
  },
  {
   "cell_type": "code",
   "execution_count": 23,
   "id": "66d6e976-2b43-4e22-88d4-61cbb5dddff6",
   "metadata": {},
   "outputs": [],
   "source": [
    "# f=fahrenheit\n",
    "f = (c*1.8) + 32 "
   ]
  },
  {
   "cell_type": "code",
   "execution_count": 24,
   "id": "6e2ddbc1-5c14-4eec-8163-a832d37043fa",
   "metadata": {},
   "outputs": [
    {
     "data": {
      "text/plain": [
       "98.60000000000001"
      ]
     },
     "execution_count": 24,
     "metadata": {},
     "output_type": "execute_result"
    }
   ],
   "source": [
    "f"
   ]
  },
  {
   "cell_type": "markdown",
   "id": "7a88a518-db5c-4006-9a13-2f2ca2af76ea",
   "metadata": {},
   "source": [
    "STRING BASED QUESTION"
   ]
  },
  {
   "cell_type": "markdown",
   "id": "fe11011a-ab42-4bc4-aa12-74a4763492b5",
   "metadata": {},
   "source": [
    "Length of string"
   ]
  },
  {
   "cell_type": "code",
   "execution_count": 8,
   "id": "2b6deab1-0851-485c-b6de-5bc0a0991256",
   "metadata": {},
   "outputs": [
    {
     "name": "stdin",
     "output_type": "stream",
     "text": [
      " Data science batch\n"
     ]
    }
   ],
   "source": [
    "s1 = str(input())"
   ]
  },
  {
   "cell_type": "code",
   "execution_count": 9,
   "id": "e8dc8d96-38f0-4b65-8bc9-463144badd21",
   "metadata": {},
   "outputs": [
    {
     "name": "stdout",
     "output_type": "stream",
     "text": [
      "18\n"
     ]
    }
   ],
   "source": [
    "print(len(s1))"
   ]
  },
  {
   "cell_type": "markdown",
   "id": "ce88300c-76a7-4f14-92d7-7f1e94172ae5",
   "metadata": {},
   "source": [
    "Counting number of vowels in string"
   ]
  },
  {
   "cell_type": "code",
   "execution_count": 34,
   "id": "da05f410-b356-473e-8646-f1aa988ae396",
   "metadata": {},
   "outputs": [],
   "source": [
    "s3 = \"Data science is the study of data to extract meaningful insights for business.\""
   ]
  },
  {
   "cell_type": "code",
   "execution_count": 83,
   "id": "73a26a8e-30df-4189-856b-5259ad60c035",
   "metadata": {},
   "outputs": [],
   "source": [
    "cnt = 0\n",
    "i = 0"
   ]
  },
  {
   "cell_type": "code",
   "execution_count": 104,
   "id": "bf23f2a6-33a5-4ace-afd6-dd8186c0faf8",
   "metadata": {},
   "outputs": [],
   "source": [
    "for i in s3:\n",
    "    if(i == 'a' or i == 'e' or i == 'i' or i == 'o' or i == 'u' or i == 'A' or i == 'E' or i == 'I' or i == 'O' or i == 'U'):\n",
    "        cnt = cnt + 1"
   ]
  },
  {
   "cell_type": "code",
   "execution_count": 97,
   "id": "0e79d8bb-e837-4b55-a7b2-8f98cf48b3fe",
   "metadata": {},
   "outputs": [
    {
     "name": "stdout",
     "output_type": "stream",
     "text": [
      "Number of vowels are: 24\n"
     ]
    }
   ],
   "source": [
    "print(\"Number of vowels are:\", cnt)"
   ]
  },
  {
   "cell_type": "markdown",
   "id": "63e88df3-1e85-4f48-8d5d-a64909022888",
   "metadata": {},
   "source": [
    "Reverse String"
   ]
  },
  {
   "cell_type": "code",
   "execution_count": 110,
   "id": "23fb692a-ab20-4ddf-b87c-3ecfe5f47cc3",
   "metadata": {},
   "outputs": [],
   "source": [
    "s4 = \"Physics Wallah data science institute\""
   ]
  },
  {
   "cell_type": "code",
   "execution_count": 111,
   "id": "77d9250e-3129-4653-9080-9c7525a7313f",
   "metadata": {},
   "outputs": [
    {
     "name": "stdout",
     "output_type": "stream",
     "text": [
      "37\n"
     ]
    }
   ],
   "source": [
    "print(len(s4))"
   ]
  },
  {
   "cell_type": "code",
   "execution_count": 114,
   "id": "d85b2376-3433-4360-94fa-dc8de89cac37",
   "metadata": {},
   "outputs": [
    {
     "data": {
      "text/plain": [
       "'etutitsni ecneics atad hallaW scisyhP'"
      ]
     },
     "execution_count": 114,
     "metadata": {},
     "output_type": "execute_result"
    }
   ],
   "source": [
    "s4[37:-38:-1]"
   ]
  },
  {
   "cell_type": "markdown",
   "id": "18cce031-b0ae-4eab-a292-9ade2a3fe4d3",
   "metadata": {},
   "source": [
    "Palindrome"
   ]
  },
  {
   "cell_type": "code",
   "execution_count": 15,
   "id": "5b764634-f2b2-4481-b671-c7826785068d",
   "metadata": {},
   "outputs": [
    {
     "name": "stdin",
     "output_type": "stream",
     "text": [
      " malayalam\n"
     ]
    }
   ],
   "source": [
    "s = input()"
   ]
  },
  {
   "cell_type": "code",
   "execution_count": 16,
   "id": "9a6614bf-e78d-4246-ad0c-1b7f8f090ee5",
   "metadata": {},
   "outputs": [
    {
     "name": "stdout",
     "output_type": "stream",
     "text": [
      "yes\n"
     ]
    }
   ],
   "source": [
    "def isPalindrom(s):\n",
    "    return s == s[::-1]\n",
    "ans = isPalindrom(s)\n",
    "if ans:\n",
    "    print(\"yes\")\n",
    "else:\n",
    "    print(\"no\")\n",
    "          "
   ]
  },
  {
   "cell_type": "markdown",
   "id": "a82629ba-890b-409b-ab3b-6c6fe85ebe95",
   "metadata": {},
   "source": [
    "Remove spaces from string"
   ]
  },
  {
   "cell_type": "code",
   "execution_count": 17,
   "id": "b4142e9d-2a23-4675-8e90-7d915c2f3d31",
   "metadata": {},
   "outputs": [
    {
     "name": "stdin",
     "output_type": "stream",
     "text": [
      " Python is a programming language\n"
     ]
    }
   ],
   "source": [
    "s5 = input()"
   ]
  },
  {
   "cell_type": "code",
   "execution_count": 18,
   "id": "2779a978-d7f5-4819-a419-b0b96a228cb2",
   "metadata": {},
   "outputs": [
    {
     "name": "stdout",
     "output_type": "stream",
     "text": [
      "Pythonisaprogramminglanguage\n"
     ]
    }
   ],
   "source": [
    "def remove(s5):\n",
    "   return s5.replace(\" \", \"\")\n",
    "print(remove(s5))"
   ]
  },
  {
   "cell_type": "code",
   "execution_count": null,
   "id": "1588fd88-2b43-4f5c-9f58-3982a5b69e0c",
   "metadata": {},
   "outputs": [],
   "source": []
  }
 ],
 "metadata": {
  "kernelspec": {
   "display_name": "Python 3 (ipykernel)",
   "language": "python",
   "name": "python3"
  },
  "language_info": {
   "codemirror_mode": {
    "name": "ipython",
    "version": 3
   },
   "file_extension": ".py",
   "mimetype": "text/x-python",
   "name": "python",
   "nbconvert_exporter": "python",
   "pygments_lexer": "ipython3",
   "version": "3.10.8"
  }
 },
 "nbformat": 4,
 "nbformat_minor": 5
}
