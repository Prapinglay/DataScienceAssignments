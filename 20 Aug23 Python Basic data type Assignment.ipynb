{
 "cells": [
  {
   "cell_type": "markdown",
   "id": "27b3df91-1d46-4b66-96e4-49b8d3b3a972",
   "metadata": {},
   "source": [
    "String based assignment\n"
   ]
  },
  {
   "cell_type": "markdown",
   "id": "ec3eeda2-d02f-44c8-af6d-ec7fe20e3f44",
   "metadata": {},
   "source": [
    "1. Reverse a string"
   ]
  },
  {
   "cell_type": "code",
   "execution_count": null,
   "id": "16b2c159-e2cc-4d98-a958-a9af4f7963b1",
   "metadata": {},
   "outputs": [],
   "source": [
    "s1 = \"this is my second python assignment\""
   ]
  },
  {
   "cell_type": "code",
   "execution_count": null,
   "id": "7f4b73c2-4055-4989-be5a-05377f20e2d8",
   "metadata": {},
   "outputs": [
    {
     "data": {
      "text/plain": [
       "'tnemngissa nohtyp dnoces ym si siht'"
      ]
     },
     "execution_count": 2,
     "metadata": {},
     "output_type": "execute_result"
    }
   ],
   "source": [
    "s1[::-1]"
   ]
  },
  {
   "cell_type": "markdown",
   "id": "296092a9-ea91-4efc-a9f9-c94a0dafe5e5",
   "metadata": {},
   "source": [
    "2. Check if string is Palindrome"
   ]
  },
  {
   "cell_type": "code",
   "execution_count": null,
   "id": "8f1db70b-81df-461b-8e50-73bd48413b45",
   "metadata": {},
   "outputs": [
    {
     "name": "stdout",
     "output_type": "stream",
     "text": [
      "No\n"
     ]
    }
   ],
   "source": [
    "def isPalindrome(s1): \n",
    "    return s1 == s1[::-1]\n",
    "ans = isPalindrome(s1)\n",
    "if ans:\n",
    "    print(\"Yes\")\n",
    "else:\n",
    "    print(\"No\")"
   ]
  },
  {
   "cell_type": "markdown",
   "id": "d5522522-7117-4c8f-bf33-02fa9e065e2d",
   "metadata": {},
   "source": [
    "3. Convert string to Uppercase"
   ]
  },
  {
   "cell_type": "code",
   "execution_count": null,
   "id": "c7b0f60b-eee3-46e3-8231-7adbee767f16",
   "metadata": {},
   "outputs": [
    {
     "data": {
      "text/plain": [
       "'THIS IS MY SECOND PYTHON ASSIGNMENT'"
      ]
     },
     "execution_count": 4,
     "metadata": {},
     "output_type": "execute_result"
    }
   ],
   "source": [
    "s1.upper()"
   ]
  },
  {
   "cell_type": "markdown",
   "id": "c24e6146-ec30-4642-8d63-f5cc8c2718f8",
   "metadata": {},
   "source": [
    "4. Convert string to lowercase"
   ]
  },
  {
   "cell_type": "code",
   "execution_count": null,
   "id": "3cc83280-6d93-4d7a-9c54-713348bf43d6",
   "metadata": {},
   "outputs": [
    {
     "data": {
      "text/plain": [
       "'this is my second python assignment'"
      ]
     },
     "execution_count": 5,
     "metadata": {},
     "output_type": "execute_result"
    }
   ],
   "source": [
    "s1.lower()"
   ]
  },
  {
   "cell_type": "markdown",
   "id": "d6409508-ce7e-4a05-a8b5-9e4b4e554fd9",
   "metadata": {},
   "source": [
    "5. Count number of vowels"
   ]
  },
  {
   "cell_type": "code",
   "execution_count": null,
   "id": "47a91415-8325-4670-b8b1-c8b711b53fdb",
   "metadata": {},
   "outputs": [],
   "source": [
    "cnt = 0\n",
    "i = 0\n",
    "for i in s1:\n",
    "    if(i == 'a' or i == 'e' or i == 'i' or i == 'o' or i == 'u'):\n",
    "        cnt = cnt + 1"
   ]
  },
  {
   "cell_type": "code",
   "execution_count": null,
   "id": "b6fea52b-7c87-438a-b223-2ef34085134b",
   "metadata": {},
   "outputs": [],
   "source": [
    "s1 = \"this is my second python assignment\""
   ]
  },
  {
   "cell_type": "code",
   "execution_count": null,
   "id": "72e0e73f-1cbe-423c-819d-1e6c20ca3ddd",
   "metadata": {},
   "outputs": [
    {
     "data": {
      "text/plain": [
       "35"
      ]
     },
     "execution_count": 8,
     "metadata": {},
     "output_type": "execute_result"
    }
   ],
   "source": [
    "len(s1)"
   ]
  },
  {
   "cell_type": "code",
   "execution_count": null,
   "id": "b15c5897-bb36-4e7e-a717-d84b8f0f04e3",
   "metadata": {},
   "outputs": [
    {
     "name": "stdout",
     "output_type": "stream",
     "text": [
      "8\n"
     ]
    }
   ],
   "source": [
    "print(cnt)"
   ]
  },
  {
   "cell_type": "markdown",
   "id": "57a703ce-f751-4167-aa00-1e137e354a1c",
   "metadata": {},
   "source": [
    "6. Count number of consonants"
   ]
  },
  {
   "cell_type": "code",
   "execution_count": 22,
   "id": "3ca8ab94-7c0f-4d4d-96f9-b6913a92a4c4",
   "metadata": {},
   "outputs": [],
   "source": [
    "vowels = 0\n",
    "consonants = 0\n",
    "for i in s2:\n",
    "    if(i == 'a' or i == 'e' or i == 'i' or i == 'o' or i == 'u'):\n",
    "        vowels = vowels + 1\n",
    "    else:\n",
    "        consonants = consonants + 1"
   ]
  },
  {
   "cell_type": "code",
   "execution_count": 20,
   "id": "461eb3c2-0ac4-4fd9-9303-b5ab1a888a9d",
   "metadata": {},
   "outputs": [],
   "source": [
    "s2 = s1.replace(' ','')"
   ]
  },
  {
   "cell_type": "code",
   "execution_count": 21,
   "id": "32fe9c47-cbb6-4d3c-b6ce-be8f84e2d400",
   "metadata": {},
   "outputs": [
    {
     "data": {
      "text/plain": [
       "'thisismysecondpythonassignment'"
      ]
     },
     "execution_count": 21,
     "metadata": {},
     "output_type": "execute_result"
    }
   ],
   "source": [
    "s2"
   ]
  },
  {
   "cell_type": "code",
   "execution_count": 23,
   "id": "c319d5b0-836c-42e5-94a9-52a9ba2c924e",
   "metadata": {},
   "outputs": [
    {
     "name": "stdout",
     "output_type": "stream",
     "text": [
      "22\n"
     ]
    }
   ],
   "source": [
    "print(consonants)"
   ]
  },
  {
   "cell_type": "markdown",
   "id": "d877201e-e7a7-4f31-9c92-e15c579b4a23",
   "metadata": {},
   "source": [
    "7. Remove white spaces"
   ]
  },
  {
   "cell_type": "code",
   "execution_count": null,
   "id": "6101f48c-977a-4d78-91f5-0c4d19cb6964",
   "metadata": {},
   "outputs": [],
   "source": [
    "s2 = s1.replace(' ','')"
   ]
  },
  {
   "cell_type": "code",
   "execution_count": 28,
   "id": "18333451-df82-48a5-8b24-50a08d49a77f",
   "metadata": {},
   "outputs": [
    {
     "data": {
      "text/plain": [
       "'thisismysecondpythonassignment'"
      ]
     },
     "execution_count": 28,
     "metadata": {},
     "output_type": "execute_result"
    }
   ],
   "source": [
    "s2"
   ]
  },
  {
   "cell_type": "markdown",
   "id": "c8b77399-4a59-4a3f-bfb5-50bfde9ab4d6",
   "metadata": {},
   "source": [
    "8. Length of string"
   ]
  },
  {
   "cell_type": "code",
   "execution_count": null,
   "id": "ef54f9c1-f26d-45ec-a71e-2d0856ec60e2",
   "metadata": {},
   "outputs": [],
   "source": [
    "count = 0\n",
    "for i in s1:\n",
    "    count = count +1"
   ]
  },
  {
   "cell_type": "code",
   "execution_count": 24,
   "id": "f9918356-0363-4520-882a-39dc4b537ebb",
   "metadata": {},
   "outputs": [
    {
     "name": "stdout",
     "output_type": "stream",
     "text": [
      "Length of string: 35\n"
     ]
    }
   ],
   "source": [
    "print(\"Length of string:\" ,count)"
   ]
  },
  {
   "cell_type": "markdown",
   "id": "ece37aca-d48c-4ab4-9a2b-f859712f21e1",
   "metadata": {},
   "source": [
    "9. Check if string contains specific word"
   ]
  },
  {
   "cell_type": "code",
   "execution_count": 27,
   "id": "eb9c2acd-9f0a-498d-861c-03256390a40e",
   "metadata": {},
   "outputs": [
    {
     "data": {
      "text/plain": [
       "3"
      ]
     },
     "execution_count": 27,
     "metadata": {},
     "output_type": "execute_result"
    }
   ],
   "source": [
    "s1.find('s')"
   ]
  },
  {
   "cell_type": "markdown",
   "id": "56099b0f-7400-4e5e-b85c-836397157083",
   "metadata": {},
   "source": [
    "10. Replace a word in a string"
   ]
  },
  {
   "cell_type": "code",
   "execution_count": 26,
   "id": "5d6c3995-9b89-4227-9541-628c3161c7fa",
   "metadata": {},
   "outputs": [
    {
     "data": {
      "text/plain": [
       "'thare are my second python assignment'"
      ]
     },
     "execution_count": 26,
     "metadata": {},
     "output_type": "execute_result"
    }
   ],
   "source": [
    "s1.replace('is', 'are')"
   ]
  },
  {
   "cell_type": "code",
   "execution_count": 3,
   "id": "f473377e-b2a6-4c33-bbbf-428eb8ee9aba",
   "metadata": {},
   "outputs": [],
   "source": [
    "s3 = \"This is python program. This program is helpful in data science.\""
   ]
  },
  {
   "cell_type": "markdown",
   "id": "9723c42f-a4cc-4cb7-9ae2-091971a43e6c",
   "metadata": {},
   "source": [
    "11. Count the occurence of word in string"
   ]
  },
  {
   "cell_type": "code",
   "execution_count": 41,
   "id": "8eded248-9df8-4c30-9920-986ce4896528",
   "metadata": {},
   "outputs": [
    {
     "name": "stdout",
     "output_type": "stream",
     "text": [
      "1\n"
     ]
    }
   ],
   "source": [
    "def countOccurences(s3, word):\n",
    "    a = s3.split(\" \")\n",
    "    count = 0\n",
    "    for i in range(0, len(a)):\n",
    "        if (word == a[i]):\n",
    "            count = count + 1\n",
    "            return count\n",
    "s3 = \"This is python program and this program is helpful in data science.\"  \n",
    "word = \"program\"\n",
    "print(countOccurences(s3, word))"
   ]
  },
  {
   "cell_type": "markdown",
   "id": "164babf3-7597-435a-b70c-795e2b63fdab",
   "metadata": {},
   "source": [
    "12.Find first occurence of word"
   ]
  },
  {
   "cell_type": "code",
   "execution_count": 45,
   "id": "4ac6e905-cfb8-4d8e-b15c-db1c991b7da7",
   "metadata": {},
   "outputs": [
    {
     "name": "stdout",
     "output_type": "stream",
     "text": [
      "8\n"
     ]
    }
   ],
   "source": [
    "def firstOccurence(s3, word):\n",
    "    index = s3.find(word)\n",
    "    if index == -1:\n",
    "        return none\n",
    "    return index\n",
    "s3 = \"This is python program and this program is helpful in data science.\"   \n",
    "word = \"python\"\n",
    "print(firstOccurence(s3, word))\n"
   ]
  },
  {
   "cell_type": "markdown",
   "id": "a841d8b5-a594-4a8d-9313-9108ca7a4c32",
   "metadata": {},
   "source": [
    "13.Find the last occurence of word"
   ]
  },
  {
   "cell_type": "code",
   "execution_count": 50,
   "id": "0857356c-0d2d-4af6-afe2-e41ccde4459d",
   "metadata": {},
   "outputs": [
    {
     "name": "stdout",
     "output_type": "stream",
     "text": [
      "32\n"
     ]
    }
   ],
   "source": [
    "def lastOccurence(s3, word):\n",
    "    index = s3.rfind(word)\n",
    "    return index\n",
    "s3 = \"This is python program and this program is helpful in data science.\"  \n",
    "word = \"program\"\n",
    "print(lastOccurence(s3, word))"
   ]
  },
  {
   "cell_type": "markdown",
   "id": "b0666654-7c0e-47a7-9fb4-e7feb58908d9",
   "metadata": {},
   "source": [
    "14.Split a string into list of words"
   ]
  },
  {
   "cell_type": "code",
   "execution_count": 53,
   "id": "86536302-cd37-49a6-a74a-d9ab0df4bf19",
   "metadata": {},
   "outputs": [
    {
     "name": "stdout",
     "output_type": "stream",
     "text": [
      "['This', 'is', 'python', 'program', 'and', 'this', 'program', 'is', 'helpful', 'in', 'data', 'science.']\n"
     ]
    }
   ],
   "source": [
    "print(s3.split())"
   ]
  },
  {
   "cell_type": "markdown",
   "id": "69dbd3f6-c24d-4685-a312-46267524c6f9",
   "metadata": {},
   "source": [
    "15.Join a list of words into string"
   ]
  },
  {
   "cell_type": "code",
   "execution_count": 54,
   "id": "a8c0edff-90a8-4f4b-ba8e-8d5f52d70900",
   "metadata": {},
   "outputs": [],
   "source": [
    "s4 = [\"My\", \"name\", \"is\", \"Prajakta\"]"
   ]
  },
  {
   "cell_type": "code",
   "execution_count": 57,
   "id": "ae978f99-5afc-4649-83f9-fa98b0e54c25",
   "metadata": {},
   "outputs": [
    {
     "name": "stdout",
     "output_type": "stream",
     "text": [
      "My name is Prajakta\n"
     ]
    }
   ],
   "source": [
    "print(\" \".join(s4))"
   ]
  },
  {
   "cell_type": "markdown",
   "id": "2c907df8-12bd-424c-aa1c-5fcd132eddf5",
   "metadata": {},
   "source": [
    "16.Convert string separated by spaces to separted by underscore"
   ]
  },
  {
   "cell_type": "code",
   "execution_count": 58,
   "id": "cd437284-4da5-4fca-a428-6957c27e0e7c",
   "metadata": {},
   "outputs": [
    {
     "data": {
      "text/plain": [
       "'This_is_python_program_and_this_program_is_helpful_in_data_science.'"
      ]
     },
     "execution_count": 58,
     "metadata": {},
     "output_type": "execute_result"
    }
   ],
   "source": [
    "s3.replace(\" \", \"_\")"
   ]
  },
  {
   "cell_type": "markdown",
   "id": "ec448d05-7ec0-4878-be95-82eabd709dfe",
   "metadata": {},
   "source": [
    "17.Check if string starts with specific word or phrase"
   ]
  },
  {
   "cell_type": "code",
   "execution_count": 64,
   "id": "5927c958-0366-48dd-9476-61b7f4ef33db",
   "metadata": {},
   "outputs": [
    {
     "name": "stdout",
     "output_type": "stream",
     "text": [
      "The text starts with prefix.\n"
     ]
    }
   ],
   "source": [
    "def starts_with(s3, prefix):\n",
    "    is_start = s3.startswith(prefix)\n",
    "    return is_start\n",
    "prefix = \"This\"\n",
    "result = starts_with(s3, prefix)\n",
    "if result:\n",
    "    print(\"The text starts with prefix.\")\n",
    "else:\n",
    "    print(\"The text does not starts with prefix.\")\n"
   ]
  },
  {
   "cell_type": "markdown",
   "id": "1880ff18-e3d4-4919-b7c8-ef8160366647",
   "metadata": {},
   "source": [
    "18.Check if string ends with specific word or phrase"
   ]
  },
  {
   "cell_type": "code",
   "execution_count": 66,
   "id": "9b88e7ac-4a8f-4da4-a74f-a4da115e48d8",
   "metadata": {},
   "outputs": [
    {
     "name": "stdout",
     "output_type": "stream",
     "text": [
      "The text does not end with suffix.\n"
     ]
    }
   ],
   "source": [
    "def ends_with(s3, suffix):\n",
    "    is_ends = s3.endswith(suffix)\n",
    "    return is_ends\n",
    "suffix = \"This\"\n",
    "result = ends_with(s3, suffix)\n",
    "if result:\n",
    "    print(\"The text ends with suffix.\")\n",
    "else:\n",
    "    print(\"The text does not end with suffix.\")"
   ]
  },
  {
   "cell_type": "markdown",
   "id": "712482bf-d48f-4379-b46a-140ad5ca6744",
   "metadata": {},
   "source": [
    "19.Convert string to titlecase"
   ]
  },
  {
   "cell_type": "code",
   "execution_count": 67,
   "id": "06ab42e3-3358-4bda-ad34-aae8f0b97859",
   "metadata": {},
   "outputs": [
    {
     "name": "stdout",
     "output_type": "stream",
     "text": [
      "This Is Python Program And This Program Is Helpful In Data Science.\n"
     ]
    }
   ],
   "source": [
    "print(s3.title())"
   ]
  },
  {
   "cell_type": "markdown",
   "id": "4da5f163-d4f4-4ee2-b80f-ae2867c23428",
   "metadata": {},
   "source": [
    "20.Longest word in the string"
   ]
  },
  {
   "cell_type": "code",
   "execution_count": 68,
   "id": "5a418446-6fba-45b3-aaea-f393ae2a1a05",
   "metadata": {},
   "outputs": [
    {
     "name": "stdout",
     "output_type": "stream",
     "text": [
      "science.\n"
     ]
    }
   ],
   "source": [
    "def longest_word(s3):\n",
    "    words = s3.split()\n",
    "    longest_word = \"\"\n",
    "    max_length = 0\n",
    "    for word in words:\n",
    "        if len(word) > max_length:\n",
    "            max_length = len(word)\n",
    "            longest_word = word\n",
    "    return longest_word\n",
    "print(longest_word(s3))"
   ]
  },
  {
   "cell_type": "markdown",
   "id": "b1507397-0935-459c-ab8f-67b39f7282f6",
   "metadata": {},
   "source": [
    "21.Shortest word in the string"
   ]
  },
  {
   "cell_type": "code",
   "execution_count": 5,
   "id": "9d75d735-b2a7-4374-854b-4228ca72820a",
   "metadata": {},
   "outputs": [
    {
     "name": "stdout",
     "output_type": "stream",
     "text": [
      "is\n"
     ]
    }
   ],
   "source": [
    "def find_shortest_word(s3):\n",
    "    words = s3.split()\n",
    "    shortest_word = None\n",
    "    min_length = float('inf')\n",
    "    for word in words:\n",
    "        if len(word) < min_length:\n",
    "            min_length = len(word)\n",
    "            shortest_word = word\n",
    "    return shortest_word\n",
    "print(find_shortest_word(s3))"
   ]
  },
  {
   "cell_type": "markdown",
   "id": "9d3630d7-6c23-40a0-ad85-e10f6d189202",
   "metadata": {},
   "source": [
    "22.Reverse order of words in string"
   ]
  },
  {
   "cell_type": "code",
   "execution_count": 8,
   "id": "1ef24f76-946b-44c4-9da5-13ade121d2d0",
   "metadata": {},
   "outputs": [
    {
     "name": "stdout",
     "output_type": "stream",
     "text": [
      "science data in helpful is program this and program python is This\n"
     ]
    }
   ],
   "source": [
    "s4 = \"This is python program and this program is helpful in data science\"\n",
    "s = s4.split()[::-1]\n",
    "l = []\n",
    "for i in s:\n",
    "    l.append(i)\n",
    "print(\" \".join(l))"
   ]
  },
  {
   "cell_type": "markdown",
   "id": "a4cce8e9-0795-4da5-a4fe-59fed29a6be3",
   "metadata": {},
   "source": [
    "23.Check if string is alphanumeric"
   ]
  },
  {
   "cell_type": "code",
   "execution_count": 11,
   "id": "7a7a1529-af3f-453b-91df-549103221c4f",
   "metadata": {},
   "outputs": [
    {
     "data": {
      "text/plain": [
       "False"
      ]
     },
     "execution_count": 11,
     "metadata": {},
     "output_type": "execute_result"
    }
   ],
   "source": [
    "s4.isalnum()"
   ]
  },
  {
   "cell_type": "markdown",
   "id": "98f1cc73-23ca-4446-a666-5640f20b04f2",
   "metadata": {},
   "source": [
    "24.Extract all digits from string"
   ]
  },
  {
   "cell_type": "code",
   "execution_count": 22,
   "id": "ce78bd33-9b89-4c70-a905-2b0e72d66b0a",
   "metadata": {},
   "outputs": [
    {
     "name": "stdout",
     "output_type": "stream",
     "text": [
      "24\n"
     ]
    }
   ],
   "source": [
    "s5 = \"There are 2 apples for 4 people\"\n",
    "def extract_digits(s5):\n",
    "    digits= \"\"\n",
    "    for char in s5:\n",
    "        if char.isdigit():\n",
    "            digits += char\n",
    "    return digits\n",
    "print(extract_digits(s5))"
   ]
  },
  {
   "cell_type": "markdown",
   "id": "275c7a0c-e343-426a-b9db-7bac0da3d911",
   "metadata": {},
   "source": [
    "25.Extract all alphabates from string"
   ]
  },
  {
   "cell_type": "code",
   "execution_count": 25,
   "id": "c43c45af-5f7e-4183-87fc-fde606d5e12c",
   "metadata": {},
   "outputs": [
    {
     "name": "stdout",
     "output_type": "stream",
     "text": [
      "T h e r e a r e a p p l e s f o r p e o p l e\n"
     ]
    }
   ],
   "source": [
    "s5 = \"There are 2 apples for 4 people\"\n",
    "def extract_alphabates(s5):\n",
    "    alphabates = ' '.join([char for char in s5 if char.isalpha()])\n",
    "    return alphabates\n",
    "print(extract_alphabates(s5))"
   ]
  },
  {
   "cell_type": "markdown",
   "id": "c002a19e-0b97-4671-8103-4c8d5fff4f5a",
   "metadata": {},
   "source": [
    "26.Count the number of uppercase letter in the string"
   ]
  },
  {
   "cell_type": "code",
   "execution_count": 26,
   "id": "eb9d5b91-5e00-4bd6-9aa2-8956e29a11c6",
   "metadata": {},
   "outputs": [
    {
     "name": "stdout",
     "output_type": "stream",
     "text": [
      "3\n"
     ]
    }
   ],
   "source": [
    "s6 = \"There are 2 Apples for 4 People\"\n",
    "def count_uppercase(s6):\n",
    "    uppercase_count = sum(1 for char in s6 if char.isupper())\n",
    "    return uppercase_count\n",
    "print(count_uppercase(s6))\n",
    "    "
   ]
  },
  {
   "cell_type": "markdown",
   "id": "0b7c7405-2d34-4932-b861-96b7dc83c4c2",
   "metadata": {},
   "source": [
    "27.Count the number of lowercase in the string"
   ]
  },
  {
   "cell_type": "code",
   "execution_count": 27,
   "id": "267985ca-f606-47c2-a9fd-e555fa326dab",
   "metadata": {},
   "outputs": [
    {
     "name": "stdout",
     "output_type": "stream",
     "text": [
      "20\n"
     ]
    }
   ],
   "source": [
    "def count_lowercase(s6):\n",
    "    lowercase_count = sum(1 for char in s6 if char.islower())\n",
    "    return lowercase_count\n",
    "print(count_lowercase(s6))"
   ]
  },
  {
   "cell_type": "markdown",
   "id": "c328ffd5-4514-4e29-af42-fd5a9be44cce",
   "metadata": {},
   "source": [
    "28.Swap the case of each character in the string"
   ]
  },
  {
   "cell_type": "code",
   "execution_count": 28,
   "id": "7f7374df-e298-4d70-acfc-ce94659bd009",
   "metadata": {},
   "outputs": [
    {
     "data": {
      "text/plain": [
       "'tHERE ARE 2 aPPLES FOR 4 pEOPLE'"
      ]
     },
     "execution_count": 28,
     "metadata": {},
     "output_type": "execute_result"
    }
   ],
   "source": [
    "s6.swapcase()"
   ]
  },
  {
   "cell_type": "markdown",
   "id": "300a95a5-d05d-4cda-a05d-c7dd9825e5c0",
   "metadata": {},
   "source": [
    "29.Remove a specific word from string"
   ]
  },
  {
   "cell_type": "code",
   "execution_count": 31,
   "id": "59ce040c-a0aa-4e8d-b21e-23c83a9b4a2d",
   "metadata": {},
   "outputs": [
    {
     "name": "stdout",
     "output_type": "stream",
     "text": [
      "There are 2 for 4 People\n"
     ]
    }
   ],
   "source": [
    "def remove_word(s6, word_to_remove):\n",
    "    words = s6.split()\n",
    "    filtered_words = [word for word in words if word != word_to_remove]\n",
    "    modified_string = ' '.join(filtered_words)\n",
    "    return modified_string\n",
    "word_to_remove = \"Apples\"\n",
    "print(remove_word(s6, word_to_remove))"
   ]
  },
  {
   "cell_type": "markdown",
   "id": "d1303ba4-ac5f-4d62-868d-9a56c019b9ff",
   "metadata": {},
   "source": [
    "30.Check if string has valid email address"
   ]
  },
  {
   "cell_type": "code",
   "execution_count": 36,
   "id": "22753e96-c0aa-495f-b697-b51c17ae7607",
   "metadata": {},
   "outputs": [
    {
     "name": "stdout",
     "output_type": "stream",
     "text": [
      "False\n"
     ]
    }
   ],
   "source": [
    "import re\n",
    "email1 = \"example@email.com\"\n",
    "email2 = \"invalid-email\"\n",
    "\n",
    "def is_valid_email(email2):\n",
    "    pattern = r'^[\\w\\.-]+@[\\w\\.-]+\\.\\w+$'\n",
    "    if re.match(pattern, email2):\n",
    "        return True\n",
    "    else:\n",
    "        return False\n",
    "print(is_valid_email(email2))"
   ]
  },
  {
   "cell_type": "markdown",
   "id": "6493578f-1daa-461a-b2d0-6e5c9d2c6c5c",
   "metadata": {},
   "source": [
    "31.Extract the username from the email string"
   ]
  },
  {
   "cell_type": "code",
   "execution_count": 37,
   "id": "dc80e09b-3c4d-47cd-af0e-588c91c6095b",
   "metadata": {},
   "outputs": [
    {
     "name": "stdout",
     "output_type": "stream",
     "text": [
      "example\n"
     ]
    }
   ],
   "source": [
    "def extract_username(email1):\n",
    "    username = email1.split(\"@\")[0]\n",
    "    return username\n",
    "print(extract_username(email1))"
   ]
  },
  {
   "cell_type": "markdown",
   "id": "e05b5721-4b89-4a63-99c6-b8de9f058670",
   "metadata": {},
   "source": [
    "32.Extract the domain name from the email string"
   ]
  },
  {
   "cell_type": "code",
   "execution_count": 42,
   "id": "718ab691-9aa3-4dbc-aa54-644d4fbc66f3",
   "metadata": {},
   "outputs": [
    {
     "name": "stdout",
     "output_type": "stream",
     "text": [
      "email.com\n"
     ]
    }
   ],
   "source": [
    "def extract_domain(eamil1):\n",
    "    domain = email1.split(\"@\")[1]\n",
    "    return domain\n",
    "print(extract_domain(email1))"
   ]
  },
  {
   "cell_type": "markdown",
   "id": "1803faf3-3000-4038-b889-e96986b525d7",
   "metadata": {},
   "source": [
    "33.Replace multiple spaces with single space"
   ]
  },
  {
   "cell_type": "code",
   "execution_count": 43,
   "id": "49de077d-7189-4023-b10e-0f27fae84c8f",
   "metadata": {},
   "outputs": [
    {
     "name": "stdout",
     "output_type": "stream",
     "text": [
      "My name is Prajakta\n"
     ]
    }
   ],
   "source": [
    "s7 = \"My   name    is   Prajakta\"\n",
    "def replace_multiple_spaces(s7):\n",
    "    cleaned_string = ' '.join(s7.split())\n",
    "    return cleaned_string\n",
    "print(replace_multiple_spaces(s7))"
   ]
  },
  {
   "cell_type": "markdown",
   "id": "39ceaf83-9343-4867-b536-32c747c738de",
   "metadata": {},
   "source": [
    "34.Check if string has valod URL"
   ]
  },
  {
   "cell_type": "code",
   "execution_count": 48,
   "id": "59cc45cd-ce61-47e4-980e-83345fce93c4",
   "metadata": {},
   "outputs": [
    {
     "name": "stdout",
     "output_type": "stream",
     "text": [
      "True\n",
      "False\n"
     ]
    }
   ],
   "source": [
    "from urllib.parse import urlparse\n",
    "\n",
    "url1 = \"https://www.example.com\"\n",
    "url2 = \"invalid-url\"\n",
    "def is_valid_url(url):\n",
    "    try:\n",
    "        result = urlparse(url)\n",
    "        return all([result.scheme, result.netloc])\n",
    "    except ValueError:\n",
    "        return False\n",
    "result1 = is_valid_url(url1)\n",
    "result2 = is_valid_url(url2)\n",
    "print(result1)\n",
    "print(result2)\n",
    " "
   ]
  },
  {
   "cell_type": "markdown",
   "id": "0b6b5d11-5c88-4e33-a9a0-6c58f9f60fa9",
   "metadata": {},
   "source": [
    "35.Extract the protocol from URL string"
   ]
  },
  {
   "cell_type": "code",
   "execution_count": 49,
   "id": "17727039-4c37-4e27-8b55-9a633cbb0448",
   "metadata": {},
   "outputs": [
    {
     "name": "stdout",
     "output_type": "stream",
     "text": [
      "https\n"
     ]
    }
   ],
   "source": [
    "def extract_protocol(url1):\n",
    "    protocol_end = url1.find(\"://\")\n",
    "    if protocol_end != -1:\n",
    "        protocol = url1[:protocol_end]\n",
    "        return protocol\n",
    "    else:\n",
    "        return None\n",
    "print(extract_protocol(url1))"
   ]
  },
  {
   "cell_type": "markdown",
   "id": "6e125d96-04e4-478a-ae53-3c441830aecf",
   "metadata": {},
   "source": [
    "36.Find the frequency of each character in the string"
   ]
  },
  {
   "cell_type": "code",
   "execution_count": 50,
   "id": "83a5886c-1428-44ed-8cf7-c5e511aee0bf",
   "metadata": {},
   "outputs": [
    {
     "name": "stdout",
     "output_type": "stream",
     "text": [
      "{'D': 1, 'a': 2, 't': 1, ' ': 1, 'S': 1, 'c': 2, 'i': 1, 'e': 2, 'n': 1}\n"
     ]
    }
   ],
   "source": [
    "s8 = \"Data Science\"\n",
    "def character_frequency(s8):\n",
    "    frequency = {} \n",
    "    for char in s8:\n",
    "        if char in frequency:\n",
    "            frequency[char] += 1\n",
    "        else:\n",
    "            frequency[char] = 1  \n",
    "    return frequency\n",
    "print(character_frequency(s8))"
   ]
  },
  {
   "cell_type": "markdown",
   "id": "79e16db4-0e3b-43c9-a0f0-78438cd25c95",
   "metadata": {},
   "source": [
    "37.Remove all punctuation from a string."
   ]
  },
  {
   "cell_type": "code",
   "execution_count": 55,
   "id": "4ecaa662-fca1-4777-a970-6fa0afbf2af7",
   "metadata": {},
   "outputs": [
    {
     "name": "stdout",
     "output_type": "stream",
     "text": [
      "Wow Its a data science pro batch Isnt it amazing\n"
     ]
    }
   ],
   "source": [
    "import string\n",
    "\n",
    "s9 = \"Wow! It's a data science pro batch. Isn't it amazing?\"\n",
    "\n",
    "def remove_punctuations(s9):\n",
    "    translators = str.maketrans(\"\", \"\", string.punctuation)\n",
    "    clean_string = s9.translate(translators)\n",
    "    return clean_string\n",
    "print(remove_punctuations(s9))"
   ]
  },
  {
   "cell_type": "markdown",
   "id": "d0b8d1e7-5b4f-4536-9f04-7d5bafa4c866",
   "metadata": {},
   "source": [
    "38.Check if a string contains only digits."
   ]
  },
  {
   "cell_type": "code",
   "execution_count": 60,
   "id": "8fb1f54e-4f07-4b82-8159-1c6f21c561d7",
   "metadata": {},
   "outputs": [
    {
     "data": {
      "text/plain": [
       "True"
      ]
     },
     "execution_count": 60,
     "metadata": {},
     "output_type": "execute_result"
    }
   ],
   "source": [
    "s10 = \"12345\"\n",
    "s11 = \"Python programming language\"\n",
    "\n",
    "s10.isdigit()"
   ]
  },
  {
   "cell_type": "code",
   "execution_count": 61,
   "id": "6914f646-0ed6-4fda-91bf-b9d423484cb5",
   "metadata": {},
   "outputs": [
    {
     "data": {
      "text/plain": [
       "False"
      ]
     },
     "execution_count": 61,
     "metadata": {},
     "output_type": "execute_result"
    }
   ],
   "source": [
    "s11.isdigit()"
   ]
  },
  {
   "cell_type": "markdown",
   "id": "24db68bf-fdc8-4094-8385-68acdc81daaf",
   "metadata": {},
   "source": [
    "39.Check if a string contains only alphabets."
   ]
  },
  {
   "cell_type": "code",
   "execution_count": 62,
   "id": "2fe1baba-126e-42ed-a9ab-b44b5de4b2bd",
   "metadata": {},
   "outputs": [
    {
     "data": {
      "text/plain": [
       "False"
      ]
     },
     "execution_count": 62,
     "metadata": {},
     "output_type": "execute_result"
    }
   ],
   "source": [
    "s10.isalpha()"
   ]
  },
  {
   "cell_type": "code",
   "execution_count": 74,
   "id": "125501db-afd5-4ed9-bd9f-951adc79daa4",
   "metadata": {},
   "outputs": [
    {
     "data": {
      "text/plain": [
       "True"
      ]
     },
     "execution_count": 74,
     "metadata": {},
     "output_type": "execute_result"
    }
   ],
   "source": [
    "s12 = \"Python\"\n",
    "s12.isalpha()"
   ]
  },
  {
   "cell_type": "markdown",
   "id": "830e33e2-76f6-4b3e-9bf9-fdceb37ce116",
   "metadata": {},
   "source": [
    "40.Convert a string to a list of characters."
   ]
  },
  {
   "cell_type": "code",
   "execution_count": 75,
   "id": "157e4bb0-79fe-4988-9a63-f521b0ca3399",
   "metadata": {},
   "outputs": [
    {
     "data": {
      "text/plain": [
       "['P', 'y', 't', 'h', 'o', 'n']"
      ]
     },
     "execution_count": 75,
     "metadata": {},
     "output_type": "execute_result"
    }
   ],
   "source": [
    "list(s12)"
   ]
  },
  {
   "cell_type": "markdown",
   "id": "da5942ce-6995-4b8d-96ec-b4bb26f5dc2b",
   "metadata": {},
   "source": [
    "41.Check if two strings are anagrams."
   ]
  },
  {
   "cell_type": "code",
   "execution_count": 76,
   "id": "97284341-d5fc-412c-9153-354811515e8f",
   "metadata": {},
   "outputs": [
    {
     "name": "stdout",
     "output_type": "stream",
     "text": [
      "'listen' and 'silent' are anagrams: True\n",
      "'hello' and 'world' are anagrams: False\n"
     ]
    }
   ],
   "source": [
    "def are_anagrams(str1, str2):\n",
    "    str1 = str1.replace(\" \", \"\").lower()\n",
    "    str2 = str2.replace(\" \", \"\").lower()\n",
    "    return sorted(str1) == sorted(str2)\n",
    "string1 = \"listen\"\n",
    "string2 = \"silent\"\n",
    "string3 = \"hello\"\n",
    "string4 = \"world\"\n",
    "result1 = are_anagrams(string1, string2)\n",
    "result2 = are_anagrams(string3, string4)\n",
    "print(f\"'{string1}' and '{string2}' are anagrams:\", result1)\n",
    "print(f\"'{string3}' and '{string4}' are anagrams:\", result2)"
   ]
  },
  {
   "cell_type": "markdown",
   "id": "18eb1878-edb3-4a23-9518-ccc46a155a1d",
   "metadata": {},
   "source": [
    "42.Encode a string using a Caesar cipher."
   ]
  },
  {
   "cell_type": "code",
   "execution_count": 77,
   "id": "9cca43e2-8e1e-4096-960d-e335bedb23ac",
   "metadata": {},
   "outputs": [
    {
     "name": "stdout",
     "output_type": "stream",
     "text": [
      "Encoded text: ehoor, zruog!\n"
     ]
    }
   ],
   "source": [
    "def caesar_cipher(text, shift):\n",
    "  encoded_text = \"\"\n",
    "  for char in text:\n",
    "    if char.isalpha():\n",
    "      encoded_char = chr((ord(char) + shift - ord('a')) % 26 + ord('a'))\n",
    "    else:\n",
    "      encoded_char = char\n",
    "    encoded_text += encoded_char\n",
    "  return encoded_text\n",
    "text = \"Hello, world!\"\n",
    "shift = 3\n",
    "\n",
    "encoded_text = caesar_cipher(text, shift)\n",
    "print(\"Encoded text:\", encoded_text)"
   ]
  },
  {
   "cell_type": "markdown",
   "id": "3d1219d0-d88b-46ff-8fa7-997d00645003",
   "metadata": {},
   "source": [
    "43.Decode a Caesar cipher encoded string."
   ]
  },
  {
   "cell_type": "code",
   "execution_count": null,
   "id": "ec660f70-1e9c-4211-9fcb-a98f5ce2b84d",
   "metadata": {},
   "outputs": [
    {
     "name": "stdout",
     "output_type": "stream",
     "text": [
      "Decoded text: ilmm, world!\n"
     ]
    }
   ],
   "source": [
    "def caesar_cipher_decoder(text, shift):\n",
    "    decoded_text = \"\"\n",
    "    for char in text:\n",
    "        if char.isalpha():\n",
    "            decoded_char = chr((ord(char) - shift - ord('a')) % 26 + ord('a'))\n",
    "        else:\n",
    "            decoded_char = char\n",
    "        decoded_text += decoded_char\n",
    "    return decoded_text\n",
    "text = \"lopp, zruog!\"\n",
    "shift = 3\n",
    "decoded_text = caesar_cipher_decoder(text, shift)\n",
    "print(\"Decoded text:\", decoded_text)"
   ]
  },
  {
   "cell_type": "markdown",
   "id": "8fe1eb2b-e762-4f32-9475-a7475c842938",
   "metadata": {},
   "source": [
    "44.Most frequent word in a string"
   ]
  },
  {
   "cell_type": "code",
   "execution_count": 1,
   "id": "9e7546b1-8d18-4ee2-9ee4-83fbbd257b46",
   "metadata": {},
   "outputs": [
    {
     "name": "stdout",
     "output_type": "stream",
     "text": [
      "python\n"
     ]
    }
   ],
   "source": [
    "import re\n",
    "from collections import Counter\n",
    "\n",
    "s12 = \"Hello python, how are you python.\"\n",
    "\n",
    "def  most_frequent_word(s12):\n",
    "    clean_string = re.sub(r'[^\\w\\s]', '', s12).lower()\n",
    "    words = clean_string.split()\n",
    "    word_counter = Counter(words)\n",
    "    most_common_word = word_counter.most_common(1)[0][0]\n",
    "    return most_common_word\n",
    "print(most_frequent_word(s12))"
   ]
  },
  {
   "cell_type": "markdown",
   "id": "67cd19d6-abd6-4b92-9def-a0fe1c033fd7",
   "metadata": {},
   "source": [
    "45.Find all unique words in a string"
   ]
  },
  {
   "cell_type": "code",
   "execution_count": 2,
   "id": "1ee95286-c1b6-44d6-9b5c-2b6ef5e43707",
   "metadata": {},
   "outputs": [
    {
     "name": "stdout",
     "output_type": "stream",
     "text": [
      "{'python', 'hello', 'how', 'you', 'are'}\n"
     ]
    }
   ],
   "source": [
    "import re\n",
    "\n",
    "def unique_words(s12):\n",
    "    clean_string = re.sub(r'[^\\w\\s]', '', s12).lower()\n",
    "    words = set(clean_string.split())\n",
    "    return words\n",
    "print(unique_words(s12))"
   ]
  },
  {
   "cell_type": "markdown",
   "id": "bc04338d-8652-4e54-816b-6bd32d22532c",
   "metadata": {},
   "source": [
    "46.Count the number of syllables in a string"
   ]
  },
  {
   "cell_type": "code",
   "execution_count": 4,
   "id": "c196434f-c5b1-4c28-a1b9-456baf4ae8a2",
   "metadata": {},
   "outputs": [
    {
     "name": "stdout",
     "output_type": "stream",
     "text": [
      "'data' has 2 syllables.\n",
      "'prajakta' has 3 syllables.\n",
      "'number' has 2 syllables.\n"
     ]
    }
   ],
   "source": [
    "import re\n",
    "def count_syllables(word):\n",
    "    vowel_groups = re.findall(r'[aeiouy]+', word, re.IGNORECASE)\n",
    "    return len(vowel_groups)\n",
    "word1 = \"data\"\n",
    "word2 = \"prajakta\"\n",
    "word3 = \"number\"\n",
    "syllables1 = count_syllables(word1)\n",
    "syllables2 = count_syllables(word2)\n",
    "syllables3 = count_syllables(word3)\n",
    "print(f\"'{word1}' has {syllables1} syllables.\")\n",
    "print(f\"'{word2}' has {syllables2} syllables.\")\n",
    "print(f\"'{word3}' has {syllables3} syllables.\")"
   ]
  },
  {
   "cell_type": "markdown",
   "id": "7e9aaf90-9be5-47c6-a96e-dcace5750228",
   "metadata": {},
   "source": [
    "47.Check if a string contains any special characters"
   ]
  },
  {
   "cell_type": "code",
   "execution_count": 6,
   "id": "eaa0efaf-b92a-4b1b-9f47-1688b8845d87",
   "metadata": {},
   "outputs": [
    {
     "name": "stdout",
     "output_type": "stream",
     "text": [
      "'Hello, world!' contains special characters: True\n",
      "'This is a test' contains special characters: False\n",
      "'Special@Characters' contains special characters: True\n"
     ]
    }
   ],
   "source": [
    "import re\n",
    "def contains_special_characters(input_string):\n",
    "    pattern = re.compile(r'[!@#$%^&*()_+{}\\[\\]:;<>,.?~\\\\/]')\n",
    "    match = pattern.search(input_string)\n",
    "    return bool(match)\n",
    "string1 = \"Hello, world!\"\n",
    "string2 = \"This is a test\"\n",
    "string3 = \"Special@Characters\"\n",
    "result1 = contains_special_characters(string1)\n",
    "result2 = contains_special_characters(string2)\n",
    "result3 = contains_special_characters(string3)\n",
    "print(f\"'{string1}' contains special characters:\", result1)\n",
    "print(f\"'{string2}' contains special characters:\", result2)\n",
    "print(f\"'{string3}' contains special characters:\", result3)"
   ]
  },
  {
   "cell_type": "markdown",
   "id": "eff1c3ed-168f-4bc0-8691-59a22dd82147",
   "metadata": {},
   "source": [
    "48.Remove the nth word from a string"
   ]
  },
  {
   "cell_type": "code",
   "execution_count": 8,
   "id": "1b91100b-7c73-4d28-88cb-af5927103205",
   "metadata": {},
   "outputs": [
    {
     "name": "stdout",
     "output_type": "stream",
     "text": [
      "Original string: This is data science class for python.\n",
      "Modified string: This is data class for python.\n",
      "Removed word: science\n"
     ]
    }
   ],
   "source": [
    "def remove_nth_word(input_string, n):\n",
    "    words = input_string.split()\n",
    "    if n >= 1 and n <= len(words):\n",
    "        removed_word = words.pop(n - 1)\n",
    "        modified_string = ' '.join(words)\n",
    "        return modified_string, removed_word\n",
    "    else:\n",
    "        return None, None\n",
    "input_str = \"This is data science class for python.\"\n",
    "n_value = 4\n",
    "modified_str, removed_word = remove_nth_word(input_str, n_value)\n",
    "print(\"Original string:\", input_str)\n",
    "if modified_str is not None:\n",
    "    print(\"Modified string:\", modified_str)\n",
    "    print(\"Removed word:\", removed_word)\n",
    "else:\n",
    "    print(\"Invalid n value.\")"
   ]
  },
  {
   "cell_type": "markdown",
   "id": "74770ec6-7b58-40ae-b78b-53af838617e6",
   "metadata": {},
   "source": [
    "49.Insert a word at the nth position in a string"
   ]
  },
  {
   "cell_type": "code",
   "execution_count": 13,
   "id": "a1117438-5b6d-477e-ac36-ef587e9b24ac",
   "metadata": {},
   "outputs": [
    {
     "name": "stdout",
     "output_type": "stream",
     "text": [
      "I am Prajakta Pinglay\n"
     ]
    }
   ],
   "source": [
    "s13 = \"I am  Pinglay\"\n",
    "string = s13[:5] + \"Prajakta\" + s13[5:]\n",
    "print(string)"
   ]
  },
  {
   "cell_type": "markdown",
   "id": "d8603365-5201-4ca0-bc32-1d4f7eb3507b",
   "metadata": {},
   "source": [
    "50.Convert a CSV string to a list of lists"
   ]
  },
  {
   "cell_type": "code",
   "execution_count": 9,
   "id": "a987a28e-86ff-4b32-b1ba-57d651bff6ed",
   "metadata": {},
   "outputs": [
    {
     "name": "stdout",
     "output_type": "stream",
     "text": [
      "['Name', ' Age', ' Country']\n",
      "['John', ' 25', ' USA']\n",
      "['Alice', ' 30', ' Canada']\n",
      "['Bob', ' 22', ' UK']\n"
     ]
    }
   ],
   "source": [
    "def csv_string_to_list(csv_string):\n",
    "    lines = csv_string.split('\\n')\n",
    "    result = []\n",
    "    for line in lines:\n",
    "        fields = line.split(',')\n",
    "        result.append(fields)\n",
    "    return result\n",
    "csv_data = \"Name, Age, Country\\nJohn, 25, USA\\nAlice, 30, Canada\\nBob, 22, UK\"\n",
    "list_of_lists = csv_string_to_list(csv_data)\n",
    "for row in list_of_lists:\n",
    "    print(row)"
   ]
  },
  {
   "cell_type": "markdown",
   "id": "e16003bc-cc09-416d-a476-66f2f4e314a8",
   "metadata": {},
   "source": [
    "List Based Practice Problem"
   ]
  },
  {
   "cell_type": "markdown",
   "id": "511282bb-0f5d-4a0e-a44f-3ba5a78ef23b",
   "metadata": {},
   "source": [
    "1.Create a list with integers from 1 to 10"
   ]
  },
  {
   "cell_type": "code",
   "execution_count": 2,
   "id": "b1bd21d7-481e-4c76-bfc5-155e18a12ae6",
   "metadata": {},
   "outputs": [],
   "source": [
    "l1 = [1, 2, 3, 4, 5, 6, 7, 8, 9, 10]"
   ]
  },
  {
   "cell_type": "code",
   "execution_count": 15,
   "id": "25ffbcae-0b3c-4112-8815-23ed353b344f",
   "metadata": {},
   "outputs": [
    {
     "data": {
      "text/plain": [
       "[1, 2, 3, 4, 5, 6, 7, 8, 9, 10]"
      ]
     },
     "execution_count": 15,
     "metadata": {},
     "output_type": "execute_result"
    }
   ],
   "source": [
    "l1"
   ]
  },
  {
   "cell_type": "code",
   "execution_count": 17,
   "id": "88abfa47-f366-4437-8916-b9302281d25d",
   "metadata": {},
   "outputs": [
    {
     "name": "stdout",
     "output_type": "stream",
     "text": [
      "[0, 1, 2, 3, 4, 5, 6, 7, 8, 9, 10]\n"
     ]
    }
   ],
   "source": [
    "l1 = [i for i in range(0, 11)]\n",
    "print(l1)"
   ]
  },
  {
   "cell_type": "markdown",
   "id": "c8b9f20e-afb3-405c-bbe1-e4a5b5f1a67f",
   "metadata": {},
   "source": [
    "2.Length of a list without using the `len()` function"
   ]
  },
  {
   "cell_type": "code",
   "execution_count": 23,
   "id": "69917f2d-5440-4e9f-ab43-2f9fda7c3fdc",
   "metadata": {},
   "outputs": [
    {
     "name": "stdout",
     "output_type": "stream",
     "text": [
      "10\n"
     ]
    }
   ],
   "source": [
    "l1 = [1, 2, 3, 4, 5, 6, 7, 8, 9, 10]\n",
    "def custom_len(l1):\n",
    "    count = 0\n",
    "    for _ in l1:\n",
    "        count += 1\n",
    "    return count\n",
    "print(custom_len(l1))"
   ]
  },
  {
   "cell_type": "markdown",
   "id": "1d41e0bf-995b-4e97-a7fa-ffa9c9dd6bc4",
   "metadata": {},
   "source": [
    "3.Append an element to the end of a list"
   ]
  },
  {
   "cell_type": "code",
   "execution_count": 3,
   "id": "499e0f6b-77b6-4f33-acd2-252cddb4fa47",
   "metadata": {},
   "outputs": [
    {
     "data": {
      "text/plain": [
       "[1, 2, 3, 4, 5, 6, 7, 8, 9, 10]"
      ]
     },
     "execution_count": 3,
     "metadata": {},
     "output_type": "execute_result"
    }
   ],
   "source": [
    "l1"
   ]
  },
  {
   "cell_type": "code",
   "execution_count": 4,
   "id": "bf52f59e-3594-455b-8fb7-0e0311dbfec6",
   "metadata": {},
   "outputs": [],
   "source": [
    "l1.append(50)"
   ]
  },
  {
   "cell_type": "code",
   "execution_count": 5,
   "id": "ac0659d0-a76c-4302-ac7b-d1aa69965c42",
   "metadata": {},
   "outputs": [
    {
     "data": {
      "text/plain": [
       "[1, 2, 3, 4, 5, 6, 7, 8, 9, 10, 50]"
      ]
     },
     "execution_count": 5,
     "metadata": {},
     "output_type": "execute_result"
    }
   ],
   "source": [
    "l1"
   ]
  },
  {
   "cell_type": "markdown",
   "id": "6b1dcb5d-27e9-411a-8971-0a658549b2be",
   "metadata": {},
   "source": [
    "4.Insert an element at a specific index in a list"
   ]
  },
  {
   "cell_type": "code",
   "execution_count": 6,
   "id": "e6cf7783-10ac-48b9-8fea-094239aeeba7",
   "metadata": {},
   "outputs": [],
   "source": [
    "l1.insert(3, 15)"
   ]
  },
  {
   "cell_type": "code",
   "execution_count": 7,
   "id": "5e53bb3d-df55-4db4-abf6-f8f3efc77429",
   "metadata": {},
   "outputs": [
    {
     "data": {
      "text/plain": [
       "[1, 2, 3, 15, 4, 5, 6, 7, 8, 9, 10, 50]"
      ]
     },
     "execution_count": 7,
     "metadata": {},
     "output_type": "execute_result"
    }
   ],
   "source": [
    "l1"
   ]
  },
  {
   "cell_type": "markdown",
   "id": "236a5390-64c5-4129-a64b-1534043e9dac",
   "metadata": {},
   "source": [
    "5.Remove an element from a list by its value"
   ]
  },
  {
   "cell_type": "code",
   "execution_count": 10,
   "id": "7c35347f-bf1a-4cb6-a5ad-f66e96996a73",
   "metadata": {},
   "outputs": [],
   "source": [
    "l1.remove(4)"
   ]
  },
  {
   "cell_type": "code",
   "execution_count": 11,
   "id": "854cb440-2e61-4a5a-9727-b4f736d1bc91",
   "metadata": {},
   "outputs": [
    {
     "data": {
      "text/plain": [
       "[1, 2, 3, 15, 6, 7, 8, 9, 10, 50]"
      ]
     },
     "execution_count": 11,
     "metadata": {},
     "output_type": "execute_result"
    }
   ],
   "source": [
    "l1"
   ]
  },
  {
   "cell_type": "markdown",
   "id": "bebe19b7-db1a-408a-9748-879e39f06b53",
   "metadata": {},
   "source": [
    "6.Remove an element from a list by its index."
   ]
  },
  {
   "cell_type": "code",
   "execution_count": 12,
   "id": "bc3c8aad-ca1a-4ff2-81fb-bcac22cb8c33",
   "metadata": {},
   "outputs": [
    {
     "data": {
      "text/plain": [
       "7"
      ]
     },
     "execution_count": 12,
     "metadata": {},
     "output_type": "execute_result"
    }
   ],
   "source": [
    "l1.pop(5)"
   ]
  },
  {
   "cell_type": "code",
   "execution_count": 13,
   "id": "2864b72e-16f2-4fba-95f9-94134cee96ea",
   "metadata": {},
   "outputs": [
    {
     "data": {
      "text/plain": [
       "[1, 2, 3, 15, 6, 8, 9, 10, 50]"
      ]
     },
     "execution_count": 13,
     "metadata": {},
     "output_type": "execute_result"
    }
   ],
   "source": [
    "l1"
   ]
  },
  {
   "cell_type": "markdown",
   "id": "fd291a55-000e-4d88-89ae-29ae41e3cf8f",
   "metadata": {},
   "source": [
    "7.Check if an element exists in a list"
   ]
  },
  {
   "cell_type": "code",
   "execution_count": 15,
   "id": "17c1ed49-fcb0-47cb-b955-ab2ac0543b80",
   "metadata": {},
   "outputs": [
    {
     "name": "stdout",
     "output_type": "stream",
     "text": [
      "exists\n"
     ]
    }
   ],
   "source": [
    "l1 = [1, 2, 3, 15, 6, 8, 9, 10, 50]\n",
    "i = 15\n",
    "if i in l1:\n",
    "    print(\"exists\")\n",
    "else:\n",
    "    print(\"not exists\")"
   ]
  },
  {
   "cell_type": "markdown",
   "id": "18300357-db98-4f32-bfd6-aee8f262e511",
   "metadata": {},
   "source": [
    "8.Find the index of the first occurrence of an element in a list"
   ]
  },
  {
   "cell_type": "code",
   "execution_count": 17,
   "id": "3c099518-6b41-4fd2-8504-e32c9dcfb344",
   "metadata": {},
   "outputs": [
    {
     "data": {
      "text/plain": [
       "1"
      ]
     },
     "execution_count": 17,
     "metadata": {},
     "output_type": "execute_result"
    }
   ],
   "source": [
    "l2 = [15, 17, 20, 15, 21, 25, 17, 17]\n",
    "l2.index(17)"
   ]
  },
  {
   "cell_type": "markdown",
   "id": "f2f0a221-8305-407a-86a3-5734b3bce1d4",
   "metadata": {},
   "source": [
    "9.Count the occurrences of an element in a list."
   ]
  },
  {
   "cell_type": "code",
   "execution_count": 18,
   "id": "73e0578a-bc69-4e09-be6b-59ea558714cb",
   "metadata": {},
   "outputs": [
    {
     "data": {
      "text/plain": [
       "3"
      ]
     },
     "execution_count": 18,
     "metadata": {},
     "output_type": "execute_result"
    }
   ],
   "source": [
    "l2.count(17)"
   ]
  },
  {
   "cell_type": "markdown",
   "id": "9f19eaa6-a4fc-4ead-8f0a-90a8e3a671ef",
   "metadata": {},
   "source": [
    "10.Reverse the order of elements in a list."
   ]
  },
  {
   "cell_type": "code",
   "execution_count": 19,
   "id": "67e16aa2-8005-49ac-8613-d97e5b87d102",
   "metadata": {},
   "outputs": [],
   "source": [
    "l2.reverse()"
   ]
  },
  {
   "cell_type": "code",
   "execution_count": 20,
   "id": "c9f48581-98f1-4ab2-956e-bba8e7f462b5",
   "metadata": {},
   "outputs": [
    {
     "data": {
      "text/plain": [
       "[17, 17, 25, 21, 15, 20, 17, 15]"
      ]
     },
     "execution_count": 20,
     "metadata": {},
     "output_type": "execute_result"
    }
   ],
   "source": [
    "l2"
   ]
  },
  {
   "cell_type": "markdown",
   "id": "684111b2-cc16-48d1-9aeb-b02163b55a69",
   "metadata": {},
   "source": [
    "11.Sort a list in ascending order"
   ]
  },
  {
   "cell_type": "code",
   "execution_count": 21,
   "id": "c89a56e6-ca5f-46e3-8dbd-c5b5d0fc513c",
   "metadata": {},
   "outputs": [],
   "source": [
    "l2.sort()"
   ]
  },
  {
   "cell_type": "code",
   "execution_count": 22,
   "id": "b761c100-3548-4531-8c99-a7920bb030da",
   "metadata": {},
   "outputs": [
    {
     "data": {
      "text/plain": [
       "[15, 15, 17, 17, 17, 20, 21, 25]"
      ]
     },
     "execution_count": 22,
     "metadata": {},
     "output_type": "execute_result"
    }
   ],
   "source": [
    "l2"
   ]
  },
  {
   "cell_type": "markdown",
   "id": "95515022-8389-49f8-8fb4-b7b31993f3a3",
   "metadata": {},
   "source": [
    "12.Sort a list in descending order"
   ]
  },
  {
   "cell_type": "code",
   "execution_count": 23,
   "id": "f0004611-5434-4d5f-90b2-7e697aaf4f52",
   "metadata": {},
   "outputs": [],
   "source": [
    "l2.sort(reverse=True)"
   ]
  },
  {
   "cell_type": "code",
   "execution_count": 24,
   "id": "f4d362bc-2ddd-4dd2-9114-bf3b7b8948d9",
   "metadata": {},
   "outputs": [
    {
     "data": {
      "text/plain": [
       "[25, 21, 20, 17, 17, 17, 15, 15]"
      ]
     },
     "execution_count": 24,
     "metadata": {},
     "output_type": "execute_result"
    }
   ],
   "source": [
    "l2"
   ]
  },
  {
   "cell_type": "markdown",
   "id": "b4737988-cac3-4b47-b543-42f7ce890855",
   "metadata": {},
   "source": [
    "13.Create a list of even numbers from 1 to 20"
   ]
  },
  {
   "cell_type": "code",
   "execution_count": 25,
   "id": "76de1878-6cea-4311-a37e-1f19433aaf88",
   "metadata": {},
   "outputs": [
    {
     "name": "stdout",
     "output_type": "stream",
     "text": [
      "List of even numbers: [2, 4, 6, 8, 10, 12, 14, 16, 18, 20]\n"
     ]
    }
   ],
   "source": [
    "even_numbers = [x for x in range(2, 21, 2)]\n",
    "print(\"List of even numbers:\", even_numbers)"
   ]
  },
  {
   "cell_type": "markdown",
   "id": "45ad2c8f-a32f-4d16-aab7-b44d508a4dd0",
   "metadata": {},
   "source": [
    "14.Create a list of odd numbers from 1 to 20"
   ]
  },
  {
   "cell_type": "code",
   "execution_count": 26,
   "id": "4db0a663-33a3-4380-b5ca-012b10b5cce8",
   "metadata": {},
   "outputs": [
    {
     "name": "stdout",
     "output_type": "stream",
     "text": [
      "List of odd numbers: [1, 3, 5, 7, 9, 11, 13, 15, 17, 19]\n"
     ]
    }
   ],
   "source": [
    "odd_numbers = [x for x in range(1, 20, 2)]\n",
    "print(\"List of odd numbers:\", odd_numbers)"
   ]
  },
  {
   "cell_type": "markdown",
   "id": "881d28fe-e74d-4339-8f61-b4467f1d87bf",
   "metadata": {},
   "source": [
    "15.Find the sum of all elements in a list"
   ]
  },
  {
   "cell_type": "code",
   "execution_count": 27,
   "id": "743f62ef-0f20-43f5-95a3-46a6834b7ea5",
   "metadata": {},
   "outputs": [
    {
     "data": {
      "text/plain": [
       "147"
      ]
     },
     "execution_count": 27,
     "metadata": {},
     "output_type": "execute_result"
    }
   ],
   "source": [
    "sum(l2)"
   ]
  },
  {
   "cell_type": "markdown",
   "id": "d1f83981-9ceb-4845-92f1-a9bd88beee7f",
   "metadata": {},
   "source": [
    "16.Find the maximum value in a list"
   ]
  },
  {
   "cell_type": "code",
   "execution_count": 28,
   "id": "b2fe0dde-557a-48e7-add0-2fc9bbf2da63",
   "metadata": {},
   "outputs": [
    {
     "data": {
      "text/plain": [
       "25"
      ]
     },
     "execution_count": 28,
     "metadata": {},
     "output_type": "execute_result"
    }
   ],
   "source": [
    "max(l2)"
   ]
  },
  {
   "cell_type": "markdown",
   "id": "f180a593-01e3-4662-9bf1-963185c92e3c",
   "metadata": {},
   "source": [
    "17.Find the minimum value in a list"
   ]
  },
  {
   "cell_type": "code",
   "execution_count": 29,
   "id": "eaf21abe-dd3f-4dde-af7c-001c38e70768",
   "metadata": {},
   "outputs": [
    {
     "data": {
      "text/plain": [
       "15"
      ]
     },
     "execution_count": 29,
     "metadata": {},
     "output_type": "execute_result"
    }
   ],
   "source": [
    "min(l2)"
   ]
  },
  {
   "cell_type": "markdown",
   "id": "8e2645da-cef7-44b4-a235-76f75a7e9526",
   "metadata": {},
   "source": [
    "18.Create a list of squares of numbers from 1 to 10"
   ]
  },
  {
   "cell_type": "code",
   "execution_count": 30,
   "id": "a8583cd1-0092-412b-8925-86608d47abc9",
   "metadata": {},
   "outputs": [
    {
     "name": "stdout",
     "output_type": "stream",
     "text": [
      "List of squares: [1, 4, 9, 16, 25, 36, 49, 64, 81, 100]\n"
     ]
    }
   ],
   "source": [
    "squares = [x ** 2 for x in range(1, 11)]\n",
    "print(\"List of squares:\", squares)"
   ]
  },
  {
   "cell_type": "markdown",
   "id": "2b8ddd02-502d-4062-94c7-666e53921c09",
   "metadata": {},
   "source": [
    "19.Create a list of random numbers"
   ]
  },
  {
   "cell_type": "code",
   "execution_count": 31,
   "id": "3ba1792b-4653-4e35-b8ca-260ef94b890e",
   "metadata": {},
   "outputs": [
    {
     "name": "stdout",
     "output_type": "stream",
     "text": [
      "List of random integers: [34, 3, 74, 57, 48, 43, 74, 75, 88, 58]\n"
     ]
    }
   ],
   "source": [
    "import random\n",
    "random_integers = [random.randint(1, 100) for _ in range(10)]\n",
    "print(\"List of random integers:\", random_integers)"
   ]
  },
  {
   "cell_type": "markdown",
   "id": "ab0ad784-64d7-4e11-9291-d84ae44e9d3c",
   "metadata": {},
   "source": [
    "20.Remove duplicates from a list"
   ]
  },
  {
   "cell_type": "code",
   "execution_count": 32,
   "id": "bbd99703-81d3-495e-9be1-848523efc262",
   "metadata": {},
   "outputs": [
    {
     "data": {
      "text/plain": [
       "[15, 17, 20, 21, 25]"
      ]
     },
     "execution_count": 32,
     "metadata": {},
     "output_type": "execute_result"
    }
   ],
   "source": [
    "list(set(l2))"
   ]
  },
  {
   "cell_type": "markdown",
   "id": "1a476f64-c2bc-4fe3-9d74-31e4f2e6c60e",
   "metadata": {},
   "source": [
    "21.Find the common elements between two lists"
   ]
  },
  {
   "cell_type": "code",
   "execution_count": 33,
   "id": "d293854d-c4dc-40bc-b4f7-cba34f656db3",
   "metadata": {},
   "outputs": [
    {
     "name": "stdout",
     "output_type": "stream",
     "text": [
      "common elements: [12, 15]\n"
     ]
    }
   ],
   "source": [
    "a = [12, 15, 17, 18, 20]\n",
    "b = [11, 12, 13, 15, 16]\n",
    "def common_member(a, b):\n",
    "    result = [i for i in a if i in b]\n",
    "    return result\n",
    "print(\"common elements:\", common_member(a,b))"
   ]
  },
  {
   "cell_type": "markdown",
   "id": "fbd1dda9-f67a-4923-8dc1-598679f3695f",
   "metadata": {},
   "source": [
    "22.Find the difference between two lists"
   ]
  },
  {
   "cell_type": "code",
   "execution_count": 2,
   "id": "12d16c66-bd32-47a3-a4ac-092e7f23527c",
   "metadata": {},
   "outputs": [
    {
     "data": {
      "text/plain": [
       "[17, 18, 20]"
      ]
     },
     "execution_count": 2,
     "metadata": {},
     "output_type": "execute_result"
    }
   ],
   "source": [
    "a = [12, 15, 17, 18, 20]\n",
    "b = [11, 12, 13, 15, 16]\n",
    "\n",
    "list(set(a).difference(b))\n"
   ]
  },
  {
   "cell_type": "markdown",
   "id": "f76464fc-88b8-451f-9ee5-2300343bdc5a",
   "metadata": {},
   "source": [
    "23. Merge two lists"
   ]
  },
  {
   "cell_type": "code",
   "execution_count": 3,
   "id": "905e9ba5-5663-40ba-ad61-919187a7a819",
   "metadata": {},
   "outputs": [
    {
     "data": {
      "text/plain": [
       "[12, 15, 17, 18, 20, 11, 12, 13, 15, 16]"
      ]
     },
     "execution_count": 3,
     "metadata": {},
     "output_type": "execute_result"
    }
   ],
   "source": [
    "a = [12, 15, 17, 18, 20]\n",
    "b = [11, 12, 13, 15, 16]\n",
    "a + b"
   ]
  },
  {
   "cell_type": "markdown",
   "id": "f5be81b9-d8cd-4c25-929f-7d4948e5896f",
   "metadata": {},
   "source": [
    "24.Multiply all elements in a list by 2"
   ]
  },
  {
   "cell_type": "code",
   "execution_count": 6,
   "id": "8c073e1d-aeef-45d4-b90a-d4f65d9f3f0e",
   "metadata": {},
   "outputs": [
    {
     "name": "stdout",
     "output_type": "stream",
     "text": [
      "[24, 30, 34, 36, 40]\n"
     ]
    }
   ],
   "source": [
    "a = [12, 15, 17, 18, 20]\n",
    "multiplied_list = [x * 2 for x in a]\n",
    "print(multiplied_list)"
   ]
  },
  {
   "cell_type": "markdown",
   "id": "aa5fd962-bb25-4176-97ea-a4de5c13cdfc",
   "metadata": {},
   "source": [
    "25.Filter out all even numbers from a list"
   ]
  },
  {
   "cell_type": "code",
   "execution_count": 8,
   "id": "0a7abece-f14b-49a9-bda8-f131ef3c6fb8",
   "metadata": {},
   "outputs": [
    {
     "name": "stdout",
     "output_type": "stream",
     "text": [
      "[12, 16]\n"
     ]
    }
   ],
   "source": [
    "def even(x):\n",
    "    return x % 2 == 0\n",
    "b = [11, 12, 13, 15, 16]\n",
    "result = filter(even, b)\n",
    "print(list(result))"
   ]
  },
  {
   "cell_type": "markdown",
   "id": "b26f0c43-8d7f-4ccd-a99c-8bd888d79c86",
   "metadata": {},
   "source": [
    "26.Convert a list of strings to a list of integers"
   ]
  },
  {
   "cell_type": "code",
   "execution_count": 9,
   "id": "86149545-1a4d-447f-93f5-982ecc330293",
   "metadata": {},
   "outputs": [
    {
     "name": "stdout",
     "output_type": "stream",
     "text": [
      "List of integers: [10, 20, 30, 40, 50]\n"
     ]
    }
   ],
   "source": [
    "c = [\"10\", \"20\", \"30\", \"40\", \"50\"]\n",
    "integer_list = [int(x) for x in c]\n",
    "print(\"List of integers:\", integer_list)"
   ]
  },
  {
   "cell_type": "markdown",
   "id": "3f602897-5e89-4b2f-875e-30eb54c86abb",
   "metadata": {},
   "source": [
    "27. Convert a list of integers to a list of strings"
   ]
  },
  {
   "cell_type": "code",
   "execution_count": 10,
   "id": "c30ecf52-fdca-429a-96b7-38d5a2f26643",
   "metadata": {},
   "outputs": [
    {
     "name": "stdout",
     "output_type": "stream",
     "text": [
      "['11', '12', '13', '15', '16']\n"
     ]
    }
   ],
   "source": [
    "b = [11, 12, 13, 15, 16]\n",
    "string_list = [str(x) for x in b]\n",
    "print(string_list)"
   ]
  },
  {
   "cell_type": "markdown",
   "id": "5cfe0f40-22bb-4086-b54a-73acff386adb",
   "metadata": {},
   "source": [
    "28.Flatten a nested list"
   ]
  },
  {
   "cell_type": "code",
   "execution_count": 11,
   "id": "84dfe3a5-1c03-44f2-9a70-bd1119136ac4",
   "metadata": {},
   "outputs": [
    {
     "name": "stdout",
     "output_type": "stream",
     "text": [
      "Flattened list: [1, 2, 3, 4, 5, 6, 7, 8, 9]\n"
     ]
    }
   ],
   "source": [
    "nested_list = [[1, 2, 3], [4, 5], [6, 7, 8, 9]]\n",
    "def flatten_list(nested):\n",
    "    flattened = []\n",
    "    for sublist in nested:\n",
    "        if isinstance(sublist, list):\n",
    "            flattened.extend(flatten_list(sublist))\n",
    "        else:\n",
    "            flattened.append(sublist)\n",
    "    return flattened\n",
    "flattened_list = flatten_list(nested_list)\n",
    "print(\"Flattened list:\", flattened_list)"
   ]
  },
  {
   "cell_type": "markdown",
   "id": "fecfddfc-2a82-4393-97cd-bbbc073775e0",
   "metadata": {},
   "source": [
    "29. Create a list of the first 10 Fibonacci numbers"
   ]
  },
  {
   "cell_type": "code",
   "execution_count": 14,
   "id": "9a496141-0c5f-46bc-a7e1-5ea4df563971",
   "metadata": {},
   "outputs": [
    {
     "name": "stdin",
     "output_type": "stream",
     "text": [
      "How many terms the user wants to print?  10\n"
     ]
    },
    {
     "name": "stdout",
     "output_type": "stream",
     "text": [
      "The fibonacci sequence of the numbers is:\n",
      "0\n",
      "1\n",
      "1\n",
      "2\n",
      "3\n",
      "5\n",
      "8\n",
      "13\n",
      "21\n",
      "34\n"
     ]
    }
   ],
   "source": [
    "n_terms = int(input (\"How many terms the user wants to print? \"))  \n",
    "# First two terms  \n",
    "n_1 = 0  \n",
    "n_2 = 1  \n",
    "count = 0   \n",
    "if n_terms <= 0:  \n",
    "    print (\"Please enter a positive integer, the given number is not valid\")  \n",
    "elif n_terms == 1:  \n",
    "    print (\"The Fibonacci sequence of the numbers up to\", n_terms, \": \")  \n",
    "    print(n_1)   \n",
    "else:  \n",
    "    print (\"The fibonacci sequence of the numbers is:\")  \n",
    "    while count < n_terms:  \n",
    "        print(n_1)  \n",
    "        nth = n_1 + n_2   \n",
    "        n_1 = n_2  \n",
    "        n_2 = nth  \n",
    "        count += 1  "
   ]
  },
  {
   "cell_type": "markdown",
   "id": "81e906cc-3497-4271-9f81-a9a3f98ffff7",
   "metadata": {},
   "source": [
    "30. Check if a list is sorted"
   ]
  },
  {
   "cell_type": "code",
   "execution_count": 16,
   "id": "8a7829f9-7cf1-4625-8e25-441348333dd0",
   "metadata": {},
   "outputs": [
    {
     "name": "stdout",
     "output_type": "stream",
     "text": [
      "The list is sorted in ascending order.\n"
     ]
    }
   ],
   "source": [
    "def is_sorted_ascending(lst):\n",
    "    for i in range(1, len(lst)):\n",
    "        if lst[i] < lst[i - 1]:\n",
    "            return False\n",
    "    return True\n",
    "d = [10, 20, 30, 40, 50]\n",
    "if is_sorted_ascending(d):\n",
    "    print(\"The list is sorted in ascending order.\")\n",
    "else:\n",
    "    print(\"The list is not sorted in ascending order.\")"
   ]
  },
  {
   "cell_type": "markdown",
   "id": "6159843d-5832-4aee-b845-2cf9e3ef9d46",
   "metadata": {},
   "source": [
    "31. Rotate a list to the left by `n` positions"
   ]
  },
  {
   "cell_type": "code",
   "execution_count": 18,
   "id": "852b34fb-6606-4c34-b2c0-b083e4f3b533",
   "metadata": {},
   "outputs": [
    {
     "name": "stdout",
     "output_type": "stream",
     "text": [
      "Rotated list: [10, 14, 17, 4, 7, 15]\n"
     ]
    }
   ],
   "source": [
    "def rotate_left(lst, n):\n",
    "    n = n % len(lst)  \n",
    "    rotated = lst[n:] + lst[:n]\n",
    "    return rotated\n",
    "e = [4, 7, 15, 10, 14, 17]\n",
    "n = 3\n",
    "rotated_list = rotate_left(e, n)\n",
    "print(\"Rotated list:\", rotated_list)"
   ]
  },
  {
   "cell_type": "markdown",
   "id": "838381e0-19c2-4a2d-8a98-9e5394d61a87",
   "metadata": {},
   "source": [
    "32. Rotate a list to the right by `n` positions"
   ]
  },
  {
   "cell_type": "code",
   "execution_count": 20,
   "id": "145e0364-d4f1-4a36-8f03-65ba4b901338",
   "metadata": {},
   "outputs": [
    {
     "name": "stdout",
     "output_type": "stream",
     "text": [
      "Rotated list: [10, 14, 17, 4, 7, 15]\n"
     ]
    }
   ],
   "source": [
    "def rotate_right(lst, n):\n",
    "    n = n % len(lst)  \n",
    "    rotated = lst[-n:] + lst[:-n]\n",
    "    return rotated\n",
    "e = [4, 7, 15, 10, 14, 17]\n",
    "n = 3\n",
    "rotated_list = rotate_right(e, n)\n",
    "print(\"Rotated list:\", rotated_list)"
   ]
  },
  {
   "cell_type": "markdown",
   "id": "50507546-85b3-4afc-a9b1-fe8a4dc28dfb",
   "metadata": {},
   "source": [
    "33.Create a list of prime numbers up to 50"
   ]
  },
  {
   "cell_type": "code",
   "execution_count": 26,
   "id": "d8013191-c2cb-407c-8c63-ec66924fdfd7",
   "metadata": {},
   "outputs": [
    {
     "name": "stdout",
     "output_type": "stream",
     "text": [
      "[2, 3, 5, 7, 11, 13, 17, 19, 23, 29, 31, 37, 41, 43, 47]\n"
     ]
    }
   ],
   "source": [
    "def prime_numbers(n):\n",
    "    primes = []\n",
    "    for i in range(2, n + 1):\n",
    "        for j in range(2, int(i ** 0.5) + 1):\n",
    "            if i%j == 0:\n",
    "                break\n",
    "        else:\n",
    "            primes.append(i)\n",
    "    return primes\n",
    "\n",
    "prime_list = prime_numbers(50)\n",
    "print(prime_list)"
   ]
  },
  {
   "cell_type": "markdown",
   "id": "6d73cf86-a12b-49e1-8a67-6a541735cff2",
   "metadata": {},
   "source": [
    "34.Split a list into chunks of size `n`"
   ]
  },
  {
   "cell_type": "code",
   "execution_count": 28,
   "id": "a660441f-91f2-4c3c-ba66-782c2df1cee1",
   "metadata": {},
   "outputs": [
    {
     "name": "stdout",
     "output_type": "stream",
     "text": [
      "[[1, 2, 3], [4, 5, 6], [7, 8, 9]]\n"
     ]
    }
   ],
   "source": [
    "def split(list_a, chunk_size):\n",
    "    for i in range(0, len(list_a), chunk_size):\n",
    "        yield list_a[i:i + chunk_size]\n",
    "chunk_size = 3\n",
    "my_list = [1,2,3,4,5,6,7,8,9]\n",
    "print(list(split(my_list, chunk_size)))"
   ]
  },
  {
   "cell_type": "markdown",
   "id": "f42657c4-4d04-404f-ab3f-08dffc33fcbb",
   "metadata": {},
   "source": [
    "35.Find the second largest number in a list"
   ]
  },
  {
   "cell_type": "code",
   "execution_count": 29,
   "id": "4ee1905f-a5d3-4876-ad1b-682f159924f9",
   "metadata": {},
   "outputs": [
    {
     "name": "stdout",
     "output_type": "stream",
     "text": [
      "Second largest number: 30\n"
     ]
    }
   ],
   "source": [
    "e = [10, 35, 20, 15, 30, 25]\n",
    "sorted_list = sorted(set(e))\n",
    "if len(sorted_list) >= 2:\n",
    "    second_largest = sorted_list[-2]\n",
    "    print(\"Second largest number:\", second_largest)\n",
    "else:\n",
    "    print(\"The list does not contain enough elements.\")"
   ]
  },
  {
   "cell_type": "markdown",
   "id": "dbf1a973-c91e-4b38-85e2-bb366083ad64",
   "metadata": {},
   "source": [
    "36.Replace every element in a list with its square"
   ]
  },
  {
   "cell_type": "code",
   "execution_count": 33,
   "id": "2530e63d-1d23-41ff-ab57-1d6cc723ee89",
   "metadata": {},
   "outputs": [
    {
     "name": "stdout",
     "output_type": "stream",
     "text": [
      "[100, 1225, 400, 225, 900, 625]\n"
     ]
    }
   ],
   "source": [
    "e = [10, 35, 20, 15, 30, 25]\n",
    "squared_list = [x ** 2 for x in e]\n",
    "print(squared_list)"
   ]
  },
  {
   "cell_type": "markdown",
   "id": "c69317b4-7233-44d0-8dcd-8ed42b206058",
   "metadata": {},
   "source": [
    "37.Convert a list to a dictionary where list elements become keys and their\n",
    "indices become values"
   ]
  },
  {
   "cell_type": "code",
   "execution_count": 34,
   "id": "1d6fc71d-d525-4fdf-9a66-be2120d4eb48",
   "metadata": {},
   "outputs": [
    {
     "name": "stdout",
     "output_type": "stream",
     "text": [
      "{'priti': 0, 'bhushan': 1, 'chetan': 2, 'diksha': 3, 'eshy': 4}\n"
     ]
    }
   ],
   "source": [
    "f = ['priti', 'bhushan', 'chetan', 'diksha', 'eshy']\n",
    "my_dict = {element: index for index, element in enumerate(f)}\n",
    "print(my_dict)"
   ]
  },
  {
   "cell_type": "markdown",
   "id": "8eb14a8b-d780-4e8a-95e4-53efc50c0235",
   "metadata": {},
   "source": [
    "38.Shuffle the elements of a list randomly"
   ]
  },
  {
   "cell_type": "code",
   "execution_count": 38,
   "id": "c6d622ec-2732-434a-b708-20392eb72053",
   "metadata": {},
   "outputs": [
    {
     "name": "stdout",
     "output_type": "stream",
     "text": [
      "['chetan', 'priti', 'bhushan', 'eshy', 'diksha']\n"
     ]
    }
   ],
   "source": [
    "import random\n",
    "f = ['priti', 'bhushan', 'chetan', 'diksha', 'eshy']\n",
    "random.shuffle(f)\n",
    "print(f)"
   ]
  },
  {
   "cell_type": "markdown",
   "id": "0158241f-9083-4395-b886-6f2d3421cf23",
   "metadata": {},
   "source": [
    "39.Create a list of the first 10 factorial numbers"
   ]
  },
  {
   "cell_type": "code",
   "execution_count": 39,
   "id": "4ca12c0e-a2da-41e9-8ce8-2bb336e4d57f",
   "metadata": {},
   "outputs": [
    {
     "name": "stdout",
     "output_type": "stream",
     "text": [
      "List of the first 10 factorial numbers: [1, 1, 2, 6, 24, 120, 720, 5040, 40320, 362880]\n"
     ]
    }
   ],
   "source": [
    "def factorial(n):\n",
    "    if n == 0 or n == 1:\n",
    "        return 1\n",
    "    else:\n",
    "        return n * factorial(n - 1)\n",
    "factorial_numbers = [factorial(i) for i in range(10)]\n",
    "print(\"List of the first 10 factorial numbers:\", factorial_numbers)"
   ]
  },
  {
   "cell_type": "markdown",
   "id": "0dd90da4-3f71-4aab-8478-99025a26207e",
   "metadata": {},
   "source": [
    "40.Check if two lists have at least one element in common"
   ]
  },
  {
   "cell_type": "code",
   "execution_count": 41,
   "id": "c86ec9f6-ea4d-4cf4-a3d5-0eebf940ec7a",
   "metadata": {},
   "outputs": [
    {
     "name": "stdout",
     "output_type": "stream",
     "text": [
      "The lists do not have any common elements.\n"
     ]
    }
   ],
   "source": [
    "def has_common_element(list1, list2):\n",
    "    for item in list1:\n",
    "        if item in list2:\n",
    "            return True\n",
    "    return False\n",
    "list1 = [1, 2, 3, 9, 12]\n",
    "list2 = [4, 5, 6, 7, 8]\n",
    "if has_common_element(list1, list2):\n",
    "    print(\"The lists have at least one common element.\")\n",
    "else:\n",
    "    print(\"The lists do not have any common elements.\")"
   ]
  },
  {
   "cell_type": "markdown",
   "id": "509d7e8b-0fa8-4806-9223-8e5720ddb8d5",
   "metadata": {},
   "source": [
    "41.Remove all elements from a list"
   ]
  },
  {
   "cell_type": "code",
   "execution_count": 43,
   "id": "90d1823b-4569-4d1e-86f1-295a406c8867",
   "metadata": {},
   "outputs": [
    {
     "name": "stdout",
     "output_type": "stream",
     "text": [
      "[]\n"
     ]
    }
   ],
   "source": [
    "f = ['priti', 'bhushan', 'chetan', 'diksha', 'eshy']\n",
    "f.clear()\n",
    "print(f)"
   ]
  },
  {
   "cell_type": "markdown",
   "id": "2c8144f0-d72a-4a9a-9a80-d736b98d459f",
   "metadata": {},
   "source": [
    "42.Replace negative numbers in a list with 0"
   ]
  },
  {
   "cell_type": "code",
   "execution_count": 45,
   "id": "be631f12-0c71-44e7-810a-e11b2a7b6075",
   "metadata": {},
   "outputs": [
    {
     "name": "stdout",
     "output_type": "stream",
     "text": [
      "[10, 0, 20, 0, 30, 0]\n"
     ]
    }
   ],
   "source": [
    "my_list = [10, -5, 20, -15, 30, -25]\n",
    "for i in range(len(my_list)):\n",
    "    if my_list[i] < 0:\n",
    "        my_list[i] = 0\n",
    "print(my_list)"
   ]
  },
  {
   "cell_type": "markdown",
   "id": "32ff19fe-d6a2-4c9d-8a71-247e5824fc5c",
   "metadata": {},
   "source": [
    "43.Convert a string into a list of words"
   ]
  },
  {
   "cell_type": "code",
   "execution_count": 49,
   "id": "d4aeab80-38b4-49e9-a011-f15dd6c858c9",
   "metadata": {},
   "outputs": [
    {
     "name": "stdout",
     "output_type": "stream",
     "text": [
      "List of words: ['Hello,', 'this', 'is', 'a', 'sample', 'sentence.']\n"
     ]
    }
   ],
   "source": [
    "my_string = \"Hello, this is a sample sentence.\"\n",
    "word_list = my_string.split()\n",
    "print(\"List of words:\", word_list)"
   ]
  },
  {
   "cell_type": "markdown",
   "id": "eb1f4185-81e0-40be-84e2-ad31d8b596d5",
   "metadata": {},
   "source": [
    "44.Convert a list of words into a string"
   ]
  },
  {
   "cell_type": "code",
   "execution_count": 50,
   "id": "e37cb9b4-1694-47b2-8abb-18233e61bba3",
   "metadata": {},
   "outputs": [
    {
     "name": "stdout",
     "output_type": "stream",
     "text": [
      "Converted string: Hello, this is a sample sentence.\n"
     ]
    }
   ],
   "source": [
    "word_list = [\"Hello,\", \"this\", \"is\", \"a\", \"sample\", \"sentence.\"]\n",
    "my_string = \" \".join(word_list)\n",
    "print(\"Converted string:\", my_string)"
   ]
  },
  {
   "cell_type": "markdown",
   "id": "f7ecd362-0f31-4e66-8874-056f8c6f58b8",
   "metadata": {},
   "source": [
    "45.Create a list of the first `n` powers of 2"
   ]
  },
  {
   "cell_type": "code",
   "execution_count": 51,
   "id": "3f7d043a-1ea3-4287-a826-2455dcdfc0a3",
   "metadata": {},
   "outputs": [
    {
     "name": "stdout",
     "output_type": "stream",
     "text": [
      "List of the first 5 powers of 2: [1, 2, 4, 8, 16]\n"
     ]
    }
   ],
   "source": [
    "n = 5\n",
    "power_list = [2 ** i for i in range(n)]\n",
    "print(\"List of the first\", n, \"powers of 2:\", power_list)"
   ]
  },
  {
   "cell_type": "markdown",
   "id": "08e8ebad-8078-4dbe-9ae7-6927cb98a66a",
   "metadata": {},
   "source": [
    "46.Find the longest string in a list of strings"
   ]
  },
  {
   "cell_type": "code",
   "execution_count": 52,
   "id": "bd6dd668-188f-445a-8f5f-a0d5f450a675",
   "metadata": {},
   "outputs": [
    {
     "name": "stdout",
     "output_type": "stream",
     "text": [
      "Longest string: sentence.\n"
     ]
    }
   ],
   "source": [
    "string_list = [\"Hello,\", \"this\", \"is\", \"a\", \"sample\", \"sentence.\"]\n",
    "longest_string = \"\"\n",
    "for s in string_list:\n",
    "    if len(s) > len(longest_string):\n",
    "        longest_string = s\n",
    "print(\"Longest string:\", longest_string)"
   ]
  },
  {
   "cell_type": "markdown",
   "id": "eaf54c34-5215-4623-91a2-1da12c448425",
   "metadata": {},
   "source": [
    "47.Find the shortest string in a list of strings"
   ]
  },
  {
   "cell_type": "code",
   "execution_count": 54,
   "id": "a60e1b9b-a661-4c21-bff8-4c3a17061228",
   "metadata": {},
   "outputs": [
    {
     "name": "stdout",
     "output_type": "stream",
     "text": [
      "shortest string: a\n"
     ]
    }
   ],
   "source": [
    "string_list = [\"Hello,\", \"this\", \"is\", \"a\", \"sample\", \"sentence.\"]\n",
    "shortest_string = string_list[0]\n",
    "for s in string_list:\n",
    "    if len(s) < len(shortest_string):\n",
    "        shortest_string = s\n",
    "print(\"shortest string:\", shortest_string)"
   ]
  },
  {
   "cell_type": "markdown",
   "id": "597bbc23-9650-4b88-b2da-961f9783a829",
   "metadata": {},
   "source": [
    "48.Create a list of the first `n` triangular numbers"
   ]
  },
  {
   "cell_type": "code",
   "execution_count": 55,
   "id": "0d4a7a53-a565-46e5-8fc0-92bb1db00f98",
   "metadata": {},
   "outputs": [
    {
     "name": "stdout",
     "output_type": "stream",
     "text": [
      "List of the first 5 triangular numbers: [1, 3, 6, 10, 15]\n"
     ]
    }
   ],
   "source": [
    "def triangular_numbers(n):\n",
    "    return [i * (i + 1) // 2 for i in range(1, n + 1)]\n",
    "n = 5\n",
    "triangular_list = triangular_numbers(n)\n",
    "print(\"List of the first\", n, \"triangular numbers:\", triangular_list)"
   ]
  },
  {
   "cell_type": "markdown",
   "id": "9559f268-21f2-4081-999d-0c2522864698",
   "metadata": {},
   "source": [
    "49.Check if a list contains another list as a subsequence"
   ]
  },
  {
   "cell_type": "code",
   "execution_count": 57,
   "id": "8fa7518a-9ef9-48c1-9d48-0969f5885a9a",
   "metadata": {},
   "outputs": [
    {
     "name": "stdout",
     "output_type": "stream",
     "text": [
      "Main list does not contain the subsequence.\n"
     ]
    }
   ],
   "source": [
    "def is_subsequence(subsequence, main_list):\n",
    "    subseq_index = 0 \n",
    "    for element in main_list:\n",
    "        if element == subsequence[subseq_index]:\n",
    "            subseq_index += 1\n",
    "            if subseq_index == len(subsequence):\n",
    "                return True\n",
    "    return False\n",
    "main_list = [1, 2, 3, 4, 5, 6, 7, 8, 9, 10]\n",
    "subsequence = [11, 5, 8]\n",
    "if is_subsequence(subsequence, main_list):\n",
    "    print(\"Main list contains the subsequence.\")\n",
    "else:\n",
    "    print(\"Main list does not contain the subsequence.\")"
   ]
  },
  {
   "cell_type": "markdown",
   "id": "afed5360-8af1-4983-bab6-e53cac109e91",
   "metadata": {},
   "source": [
    "50.Swap two elements in a list by their indices"
   ]
  },
  {
   "cell_type": "code",
   "execution_count": 58,
   "id": "08cdce98-74bc-4cfe-88db-09af3d6c4080",
   "metadata": {},
   "outputs": [
    {
     "name": "stdout",
     "output_type": "stream",
     "text": [
      "List after swapping elements: [1, 4, 3, 2, 5]\n"
     ]
    }
   ],
   "source": [
    "my_list = [1, 2, 3, 4, 5]\n",
    "index1 = 1\n",
    "index2 = 3\n",
    "temp = my_list[index1]\n",
    "my_list[index1] = my_list[index2]\n",
    "my_list[index2] = temp\n",
    "print(\"List after swapping elements:\", my_list)"
   ]
  },
  {
   "cell_type": "markdown",
   "id": "697db8f1-4fff-4918-8447-ae45165ae2c9",
   "metadata": {},
   "source": [
    "Tuple Based Practice Problem"
   ]
  },
  {
   "cell_type": "markdown",
   "id": "21da7ed8-3005-44d6-9242-90518aa503de",
   "metadata": {},
   "source": [
    "1.Create a tuple with integers from 1 to 5 "
   ]
  },
  {
   "cell_type": "code",
   "execution_count": 68,
   "id": "29509eea-442b-43a1-8cc7-1f049d223b41",
   "metadata": {},
   "outputs": [],
   "source": [
    "t = (1, 2, 3, 4, 5)"
   ]
  },
  {
   "cell_type": "code",
   "execution_count": 65,
   "id": "69c73a5d-06d3-42f7-8970-47c5c230ae89",
   "metadata": {},
   "outputs": [
    {
     "data": {
      "text/plain": [
       "(1, 2, 3, 4, 5)"
      ]
     },
     "execution_count": 65,
     "metadata": {},
     "output_type": "execute_result"
    }
   ],
   "source": [
    "t"
   ]
  },
  {
   "cell_type": "markdown",
   "id": "bae3ce5c-87fd-47ce-a1b5-6b810ee5860d",
   "metadata": {},
   "source": [
    "2.Access the third element of a tuple"
   ]
  },
  {
   "cell_type": "code",
   "execution_count": 66,
   "id": "c28b868b-8acc-4a30-b52e-5730c940ab78",
   "metadata": {},
   "outputs": [
    {
     "data": {
      "text/plain": [
       "3"
      ]
     },
     "execution_count": 66,
     "metadata": {},
     "output_type": "execute_result"
    }
   ],
   "source": [
    "t[2]"
   ]
  },
  {
   "cell_type": "markdown",
   "id": "f5d9b596-54ba-4c23-99a9-a28337ba4d2b",
   "metadata": {},
   "source": [
    "3.Find the length of a tuple without using the `len()` function"
   ]
  },
  {
   "cell_type": "code",
   "execution_count": 73,
   "id": "d79b63a7-874a-4bad-9ae7-b39373598ea2",
   "metadata": {},
   "outputs": [
    {
     "name": "stdout",
     "output_type": "stream",
     "text": [
      "5\n"
     ]
    }
   ],
   "source": [
    "t = (1, 2, 3, 4, 5)\n",
    "count = 0\n",
    "for _ in t:\n",
    "    count += 1\n",
    "print(count)"
   ]
  },
  {
   "cell_type": "markdown",
   "id": "4215af09-7853-4f1c-a66e-303e174b3bd6",
   "metadata": {},
   "source": [
    "4.Count the occurrences of an element in a tuple"
   ]
  },
  {
   "cell_type": "code",
   "execution_count": 74,
   "id": "f094965e-26ea-428a-9980-b6f97f2f0867",
   "metadata": {},
   "outputs": [
    {
     "name": "stdout",
     "output_type": "stream",
     "text": [
      "The element 20 appears 3 times in the tuple.\n"
     ]
    }
   ],
   "source": [
    "my_tuple = (10, 20, 30, 20, 40, 50, 20)\n",
    "element_to_count = 20\n",
    "count = 0\n",
    "for item in my_tuple:\n",
    "    if item == element_to_count:\n",
    "        count += 1\n",
    "print(f\"The element {element_to_count} appears {count} times in the tuple.\")"
   ]
  },
  {
   "cell_type": "markdown",
   "id": "52dc9cee-06a8-4805-a9dd-3bdd3a50646e",
   "metadata": {},
   "source": [
    "5.Find the index of the first occurrence of an element in a tuple"
   ]
  },
  {
   "cell_type": "code",
   "execution_count": 75,
   "id": "0eade8ce-1cad-4b3a-8e14-35d151968e57",
   "metadata": {},
   "outputs": [
    {
     "name": "stdout",
     "output_type": "stream",
     "text": [
      "The first occurrence of 20 is at index 1.\n"
     ]
    }
   ],
   "source": [
    "my_tuple = (10, 20, 30, 20, 40, 50)\n",
    "element_to_find = 20\n",
    "index = -1  \n",
    "for i, item in enumerate(my_tuple):\n",
    "    if item == element_to_find:\n",
    "        index = i\n",
    "        break  \n",
    "if index != -1:\n",
    "    print(f\"The first occurrence of {element_to_find} is at index {index}.\")\n",
    "else:\n",
    "    print(f\"{element_to_find} is not found in the tuple.\")"
   ]
  },
  {
   "cell_type": "markdown",
   "id": "ff312afe-bbc0-4a6d-9889-1fa186994edd",
   "metadata": {},
   "source": [
    "6.Check if an element exists in a tuple"
   ]
  },
  {
   "cell_type": "code",
   "execution_count": 76,
   "id": "f1964f81-d5fe-489a-a6ab-a039db51aaa0",
   "metadata": {},
   "outputs": [
    {
     "name": "stdout",
     "output_type": "stream",
     "text": [
      "30 exists in the tuple.\n"
     ]
    }
   ],
   "source": [
    "my_tuple = (10, 20, 30, 40, 50)\n",
    "element_to_check = 30\n",
    "if element_to_check in my_tuple:\n",
    "    print(f\"{element_to_check} exists in the tuple.\")\n",
    "else:\n",
    "    print(f\"{element_to_check} does not exist in the tuple.\")"
   ]
  },
  {
   "cell_type": "markdown",
   "id": "793c13e9-e450-42a5-b7ed-61c033be57ae",
   "metadata": {},
   "source": [
    "7.Convert a tuple to a list"
   ]
  },
  {
   "cell_type": "code",
   "execution_count": 2,
   "id": "bdce907a-395e-4a2c-addf-04b6643f6b71",
   "metadata": {},
   "outputs": [
    {
     "name": "stdout",
     "output_type": "stream",
     "text": [
      "[12, 15, 11, 17, 20]\n"
     ]
    }
   ],
   "source": [
    "t2 = (12, 15, 11, 17, 20)\n",
    "print(list(t2))"
   ]
  },
  {
   "cell_type": "markdown",
   "id": "b3584d02-800d-4031-98ce-af9b70b66fdd",
   "metadata": {},
   "source": [
    "8.Convert a list to a tuple"
   ]
  },
  {
   "cell_type": "code",
   "execution_count": 3,
   "id": "5298c444-65d9-4a8c-87b8-bed4d0bc4979",
   "metadata": {},
   "outputs": [
    {
     "name": "stdout",
     "output_type": "stream",
     "text": [
      "(27, 24, 35, 12, 19)\n"
     ]
    }
   ],
   "source": [
    "l1 = [27, 24, 35, 12, 19]\n",
    "print(tuple(l1))"
   ]
  },
  {
   "cell_type": "markdown",
   "id": "bbd9648b-357b-429b-be0c-b2a95984a3a1",
   "metadata": {},
   "source": [
    "9.Unpack the elements of a tuple into variables"
   ]
  },
  {
   "cell_type": "code",
   "execution_count": 6,
   "id": "86e3c593-c223-41f6-a71e-ee147434575a",
   "metadata": {},
   "outputs": [
    {
     "name": "stdout",
     "output_type": "stream",
     "text": [
      "var1: 12\n",
      "var2: 15\n",
      "var3: 11\n",
      "var4: 17\n",
      "var5: 20\n"
     ]
    }
   ],
   "source": [
    "t2 = (12, 15, 11, 17, 20)\n",
    "var1, var2, var3, var4, var5 = t2\n",
    "print(\"var1:\", var1)\n",
    "print(\"var2:\", var2)\n",
    "print(\"var3:\", var3)\n",
    "print(\"var4:\", var4)\n",
    "print(\"var5:\", var5)"
   ]
  },
  {
   "cell_type": "markdown",
   "id": "087b7415-fa0a-493f-9c27-d523b4065c48",
   "metadata": {},
   "source": [
    "10.Create a tuple of even numbers from 1 to 10"
   ]
  },
  {
   "cell_type": "code",
   "execution_count": 7,
   "id": "3f9ce3d5-7d9d-4d13-9e8b-0851b820e161",
   "metadata": {},
   "outputs": [
    {
     "name": "stdout",
     "output_type": "stream",
     "text": [
      "Tuple of even numbers: (2, 4, 6, 8, 10)\n"
     ]
    }
   ],
   "source": [
    "even_numbers_list = [num for num in range(2, 11, 2)] \n",
    "even_numbers_tuple = tuple(even_numbers_list)\n",
    "print(\"Tuple of even numbers:\", even_numbers_tuple)"
   ]
  },
  {
   "cell_type": "markdown",
   "id": "65555d7a-c623-45ff-bf1c-a242834a04b9",
   "metadata": {},
   "source": [
    "11.Create a tuple of odd numbers from 1 to 10"
   ]
  },
  {
   "cell_type": "code",
   "execution_count": 8,
   "id": "a41e2937-2900-4131-b83c-12bd6876650e",
   "metadata": {},
   "outputs": [
    {
     "name": "stdout",
     "output_type": "stream",
     "text": [
      "Tuple of odd numbers: (1, 3, 5, 7, 9)\n"
     ]
    }
   ],
   "source": [
    "odd_numbers_list = [num for num in range(1, 10, 2)] \n",
    "odd_numbers_tuple = tuple(odd_numbers_list)\n",
    "print(\"Tuple of odd numbers:\", odd_numbers_tuple)"
   ]
  },
  {
   "cell_type": "markdown",
   "id": "33b1e4f0-6c99-4d85-b50c-1fa604da0b32",
   "metadata": {},
   "source": [
    "12.Concatenate two tuples"
   ]
  },
  {
   "cell_type": "code",
   "execution_count": 9,
   "id": "019edf7b-5684-495d-bb43-1593d74e243b",
   "metadata": {},
   "outputs": [
    {
     "data": {
      "text/plain": [
       "(2, 4, 6, 8, 10, 1, 3, 5, 7, 9)"
      ]
     },
     "execution_count": 9,
     "metadata": {},
     "output_type": "execute_result"
    }
   ],
   "source": [
    "t3 = (2, 4, 6, 8, 10)\n",
    "t4 = (1, 3, 5, 7, 9)\n",
    "t3 + t4"
   ]
  },
  {
   "cell_type": "markdown",
   "id": "7df77a7e-8a80-4028-a577-0db44d99514a",
   "metadata": {},
   "source": [
    "13.Repeat a tuple three times"
   ]
  },
  {
   "cell_type": "code",
   "execution_count": 10,
   "id": "e10bf3e1-4478-4c31-a253-e201a87fb23e",
   "metadata": {},
   "outputs": [
    {
     "data": {
      "text/plain": [
       "(2, 4, 6, 8, 10, 2, 4, 6, 8, 10, 2, 4, 6, 8, 10)"
      ]
     },
     "execution_count": 10,
     "metadata": {},
     "output_type": "execute_result"
    }
   ],
   "source": [
    "t3*3"
   ]
  },
  {
   "cell_type": "markdown",
   "id": "7bfc49b8-9589-4ea7-a2d6-a2c03501f9c3",
   "metadata": {},
   "source": [
    "14.Check if a tuple is empty"
   ]
  },
  {
   "cell_type": "code",
   "execution_count": 11,
   "id": "706e8096-2ba7-41d1-a3d1-798f64ce45df",
   "metadata": {},
   "outputs": [
    {
     "name": "stdout",
     "output_type": "stream",
     "text": [
      "The empty_tuple is empty.\n",
      "The non_empty_tuple is not empty.\n"
     ]
    }
   ],
   "source": [
    "empty_tuple = ()\n",
    "non_empty_tuple = (1, 2, 3)\n",
    "if not empty_tuple:\n",
    "    print(\"The empty_tuple is empty.\")\n",
    "else:\n",
    "    print(\"The empty_tuple is not empty.\")\n",
    "\n",
    "if not non_empty_tuple:\n",
    "    print(\"The non_empty_tuple is empty.\")\n",
    "else:\n",
    "    print(\"The non_empty_tuple is not empty.\")"
   ]
  },
  {
   "cell_type": "markdown",
   "id": "954d3965-436d-4b4f-b9a9-f2eb8ad80142",
   "metadata": {},
   "source": [
    "15.Create a nested tuple"
   ]
  },
  {
   "cell_type": "code",
   "execution_count": 12,
   "id": "06ed8466-380f-43db-a21c-7476bdc09179",
   "metadata": {},
   "outputs": [
    {
     "name": "stdout",
     "output_type": "stream",
     "text": [
      "((1, 2, 3), ('a', 'b', 'c'), (True, False))\n"
     ]
    }
   ],
   "source": [
    "t5 = ((1, 2, 3), ('a', 'b', 'c'), (True, False))\n",
    "print(t5)"
   ]
  },
  {
   "cell_type": "markdown",
   "id": "745fb79d-631d-4d5d-b9a0-5be39d9ede15",
   "metadata": {},
   "source": [
    "16.Access the first element of a nested tuple"
   ]
  },
  {
   "cell_type": "code",
   "execution_count": 14,
   "id": "3cd034fe-e81e-4bf2-ad97-3673228210a8",
   "metadata": {},
   "outputs": [
    {
     "name": "stdout",
     "output_type": "stream",
     "text": [
      "(1, 2, 3)\n"
     ]
    }
   ],
   "source": [
    "print((t5)[0])"
   ]
  },
  {
   "cell_type": "markdown",
   "id": "b46ffa72-f6f1-4f87-a9a7-ef914189decc",
   "metadata": {},
   "source": [
    "17.Create a tuple with a single element"
   ]
  },
  {
   "cell_type": "code",
   "execution_count": 15,
   "id": "400b9505-9951-4a69-93bc-6544b19c38b2",
   "metadata": {},
   "outputs": [
    {
     "name": "stdout",
     "output_type": "stream",
     "text": [
      "15\n"
     ]
    }
   ],
   "source": [
    "t6 = (15)\n",
    "print(t6)"
   ]
  },
  {
   "cell_type": "markdown",
   "id": "e85dc35a-aa50-420a-86d5-9fe9898a07bb",
   "metadata": {},
   "source": [
    "18.Compare two tuples"
   ]
  },
  {
   "cell_type": "code",
   "execution_count": 16,
   "id": "2e6e8d1a-5450-4a14-b4a3-94c5dfaa3d1b",
   "metadata": {},
   "outputs": [
    {
     "name": "stdout",
     "output_type": "stream",
     "text": [
      "tuple1 == tuple2: False\n",
      "tuple1 != tuple2: True\n",
      "tuple1 < tuple2: True\n",
      "tuple1 <= tuple2: True\n",
      "tuple1 > tuple2: False\n",
      "tuple1 >= tuple2: False\n"
     ]
    }
   ],
   "source": [
    "tuple1 = (1, 2, 3)\n",
    "tuple2 = (1, 2, 4)\n",
    "print(\"tuple1 == tuple2:\", tuple1 == tuple2) \n",
    "print(\"tuple1 != tuple2:\", tuple1 != tuple2)  \n",
    "print(\"tuple1 < tuple2:\", tuple1 < tuple2)   \n",
    "print(\"tuple1 <= tuple2:\", tuple1 <= tuple2)  \n",
    "print(\"tuple1 > tuple2:\", tuple1 > tuple2)    \n",
    "print(\"tuple1 >= tuple2:\", tuple1 >= tuple2)  "
   ]
  },
  {
   "cell_type": "markdown",
   "id": "6678a503-6ee0-4c98-b0b8-11a6ea202a00",
   "metadata": {},
   "source": [
    "19.Delete a tuple"
   ]
  },
  {
   "cell_type": "code",
   "execution_count": 20,
   "id": "265065bc-8bc0-4471-8d4b-ab3cb6e6956f",
   "metadata": {},
   "outputs": [
    {
     "ename": "NameError",
     "evalue": "name 't8' is not defined",
     "output_type": "error",
     "traceback": [
      "\u001b[0;31m---------------------------------------------------------------------------\u001b[0m",
      "\u001b[0;31mNameError\u001b[0m                                 Traceback (most recent call last)",
      "Cell \u001b[0;32mIn[20], line 3\u001b[0m\n\u001b[1;32m      1\u001b[0m t8 \u001b[38;5;241m=\u001b[39m (\u001b[38;5;241m10\u001b[39m, \u001b[38;5;241m20\u001b[39m, \u001b[38;5;241m30\u001b[39m)\n\u001b[1;32m      2\u001b[0m \u001b[38;5;28;01mdel\u001b[39;00m t8\n\u001b[0;32m----> 3\u001b[0m \u001b[38;5;28mprint\u001b[39m(\u001b[43mt8\u001b[49m)\n",
      "\u001b[0;31mNameError\u001b[0m: name 't8' is not defined"
     ]
    }
   ],
   "source": [
    "t8 = (10, 20, 30)\n",
    "del t8\n",
    "print(t8)"
   ]
  },
  {
   "cell_type": "markdown",
   "id": "7f93074b-2c48-43d2-b5f1-826dad1188e6",
   "metadata": {},
   "source": [
    "20.Slice a tuple"
   ]
  },
  {
   "cell_type": "code",
   "execution_count": 21,
   "id": "405f97bb-6ab1-4cf3-820e-f41f8899bdc2",
   "metadata": {},
   "outputs": [
    {
     "name": "stdout",
     "output_type": "stream",
     "text": [
      "(15, 20, 25)\n"
     ]
    }
   ],
   "source": [
    "t9 = (5, 10, 15, 20, 25, 30, 35, 40)\n",
    "print((t9)[2:5])"
   ]
  },
  {
   "cell_type": "markdown",
   "id": "97301518-e3e9-4de7-bcdf-2281c215cb2c",
   "metadata": {},
   "source": [
    "21.Find the maximum value in a tuple"
   ]
  },
  {
   "cell_type": "code",
   "execution_count": 22,
   "id": "2ff2959d-fe52-426b-83f2-c80190e4ce93",
   "metadata": {},
   "outputs": [
    {
     "data": {
      "text/plain": [
       "40"
      ]
     },
     "execution_count": 22,
     "metadata": {},
     "output_type": "execute_result"
    }
   ],
   "source": [
    "max(t9)"
   ]
  },
  {
   "cell_type": "markdown",
   "id": "3cbe8b29-0b70-478e-a72c-0ca2152ea7aa",
   "metadata": {},
   "source": [
    "22.Find the minimum value in a tuple"
   ]
  },
  {
   "cell_type": "code",
   "execution_count": 23,
   "id": "eb753357-bcfe-41bb-a1bb-fa534abde0e8",
   "metadata": {},
   "outputs": [
    {
     "data": {
      "text/plain": [
       "5"
      ]
     },
     "execution_count": 23,
     "metadata": {},
     "output_type": "execute_result"
    }
   ],
   "source": [
    "min(t9)"
   ]
  },
  {
   "cell_type": "markdown",
   "id": "5eeecec8-d048-48be-ab69-90768f77e7ae",
   "metadata": {},
   "source": [
    "23.Convert a string to a tuple of characters"
   ]
  },
  {
   "cell_type": "code",
   "execution_count": 24,
   "id": "2acee9a0-a4bd-41a9-90f2-2f5e5744e93c",
   "metadata": {},
   "outputs": [
    {
     "name": "stdout",
     "output_type": "stream",
     "text": [
      "('D', 'a', 't', 'a', ' ', 's', 'c', 'i', 'e', 'n', 'c', 'e')\n"
     ]
    }
   ],
   "source": [
    "string = \"Data science\"\n",
    "print(tuple(string))"
   ]
  },
  {
   "cell_type": "markdown",
   "id": "8fdd929a-c79c-4e94-acaa-af00ea268e94",
   "metadata": {},
   "source": [
    "24.Convert a tuple of characters to a string"
   ]
  },
  {
   "cell_type": "code",
   "execution_count": 26,
   "id": "f60e7e7e-ce96-44db-a078-788c0ddd8137",
   "metadata": {},
   "outputs": [
    {
     "name": "stdout",
     "output_type": "stream",
     "text": [
      "prajakta\n"
     ]
    }
   ],
   "source": [
    "t10 = (\"p\", \"r\", \"a\", \"j\", \"a\", \"k\", \"t\", \"a\")\n",
    "print(\"\".join(t10))"
   ]
  },
  {
   "cell_type": "markdown",
   "id": "435453db-b690-4992-8f58-8800539b6b3f",
   "metadata": {},
   "source": [
    "25.Create a tuple from multiple data types"
   ]
  },
  {
   "cell_type": "code",
   "execution_count": 27,
   "id": "7d32607d-c6d6-439a-ac53-2388af67b831",
   "metadata": {},
   "outputs": [
    {
     "name": "stdout",
     "output_type": "stream",
     "text": [
      "(5, 10.2, 'hi', False)\n"
     ]
    }
   ],
   "source": [
    "t11 = (5, 10.2, \"hi\", False)\n",
    "print(t11)"
   ]
  },
  {
   "cell_type": "markdown",
   "id": "a1498c7b-415d-4b4f-a958-9219c59bd6ae",
   "metadata": {},
   "source": [
    "26.Check if two tuples are identical"
   ]
  },
  {
   "cell_type": "code",
   "execution_count": 28,
   "id": "a7715773-5248-4b7a-b837-2dd49898b1b8",
   "metadata": {},
   "outputs": [
    {
     "name": "stdout",
     "output_type": "stream",
     "text": [
      "tuple1 and tuple2 are identical: True\n",
      "tuple1 and tuple3 are identical: False\n"
     ]
    }
   ],
   "source": [
    "tuple1 = (1, 2, 3)\n",
    "tuple2 = (1, 2, 3)\n",
    "tuple3 = (4, 5, 6)\n",
    "are_identical1 = tuple1 == tuple2\n",
    "are_identical2 = tuple1 == tuple3\n",
    "print(\"tuple1 and tuple2 are identical:\", are_identical1)\n",
    "print(\"tuple1 and tuple3 are identical:\", are_identical2)"
   ]
  },
  {
   "cell_type": "markdown",
   "id": "7cafc750-1393-4e3f-b358-ca332a8a8051",
   "metadata": {},
   "source": [
    "27.Sort the elements of a tuple"
   ]
  },
  {
   "cell_type": "code",
   "execution_count": 32,
   "id": "bd5c25cc-87a5-4c5d-8e26-a591bfba8c2d",
   "metadata": {},
   "outputs": [
    {
     "name": "stdout",
     "output_type": "stream",
     "text": [
      "(10, 21, 31, 45, 50, 82)\n"
     ]
    }
   ],
   "source": [
    "t12 = (45, 21, 31, 10, 82, 50)\n",
    "print(tuple(sorted(list(t12))))"
   ]
  },
  {
   "cell_type": "markdown",
   "id": "2219defe-b212-42ea-8116-5fc48f0494a9",
   "metadata": {},
   "source": [
    "28.Convert a tuple of integers to a tuple of strings"
   ]
  },
  {
   "cell_type": "code",
   "execution_count": 34,
   "id": "177766e1-1d80-4c4a-99e6-3f93439853bf",
   "metadata": {},
   "outputs": [
    {
     "name": "stdout",
     "output_type": "stream",
     "text": [
      "('45', '21', '31', '10', '82', '50')\n"
     ]
    }
   ],
   "source": [
    "t12 = (45, 21, 31, 10, 82, 50)\n",
    "print(tuple(str(item)for item in t12))"
   ]
  },
  {
   "cell_type": "markdown",
   "id": "2a0af08a-c657-48b4-b2f2-8c966039fdee",
   "metadata": {},
   "source": [
    "29.Convert a tuple of strings to a tuple of integers"
   ]
  },
  {
   "cell_type": "code",
   "execution_count": 35,
   "id": "c9a2a87e-bd3a-4c71-afb0-f1e620e3171e",
   "metadata": {},
   "outputs": [
    {
     "name": "stdout",
     "output_type": "stream",
     "text": [
      "(16, 13, 71, 83)\n"
     ]
    }
   ],
   "source": [
    "t13 = (\"16\", \"13\", \"71\", \"83\")\n",
    "print(tuple(int(item)for item in t13))"
   ]
  },
  {
   "cell_type": "markdown",
   "id": "4ceb7fca-87d4-4d02-a391-51fa0b348e12",
   "metadata": {},
   "source": [
    "30.Merge two tuples"
   ]
  },
  {
   "cell_type": "code",
   "execution_count": 36,
   "id": "cfd55bce-7a0b-4438-b9f4-2499442345fa",
   "metadata": {},
   "outputs": [
    {
     "data": {
      "text/plain": [
       "(1, 6, 8, 10, 3, 5, 7, 9)"
      ]
     },
     "execution_count": 36,
     "metadata": {},
     "output_type": "execute_result"
    }
   ],
   "source": [
    "t14 = (1, 6, 8, 10)\n",
    "t15 = (3, 5, 7, 9)\n",
    "t14 + t15"
   ]
  },
  {
   "cell_type": "markdown",
   "id": "a3aed7b7-9d29-40ac-a409-0d00dc0cb934",
   "metadata": {},
   "source": [
    "31.Flatten a nested tuple"
   ]
  },
  {
   "cell_type": "code",
   "execution_count": 37,
   "id": "251d66c5-2fe1-4c5e-9916-a4a49d46bcc5",
   "metadata": {},
   "outputs": [
    {
     "name": "stdout",
     "output_type": "stream",
     "text": [
      "Flattened tuple: (1, 2, 3, 4, 5, 6, 7, 8)\n"
     ]
    }
   ],
   "source": [
    "def flatten_tuple(nested_tuple):\n",
    "    flattened = []\n",
    "    for item in nested_tuple:\n",
    "        if isinstance(item, tuple):\n",
    "            flattened.extend(flatten_tuple(item))\n",
    "        else:\n",
    "            flattened.append(item)\n",
    "    return flattened\n",
    "nested_tuple = ((1, 2), (3, 4, 5), (6, (7, 8)))\n",
    "flattened_tuple = tuple(flatten_tuple(nested_tuple))\n",
    "print(\"Flattened tuple:\", flattened_tuple)"
   ]
  },
  {
   "cell_type": "markdown",
   "id": "3a80122a-5bc5-461f-97ca-ab511a64a400",
   "metadata": {},
   "source": [
    "32.Create a tuple of the first 5 prime numbers"
   ]
  },
  {
   "cell_type": "code",
   "execution_count": 38,
   "id": "8eea0714-2e6b-4bf2-b555-e82e5518a0e6",
   "metadata": {},
   "outputs": [
    {
     "name": "stdout",
     "output_type": "stream",
     "text": [
      "Tuple of the first 5 prime numbers: (2, 3, 5, 7, 11)\n"
     ]
    }
   ],
   "source": [
    "def is_prime(num):\n",
    "    if num <= 1:\n",
    "        return False\n",
    "    for i in range(2, int(num ** 0.5) + 1):\n",
    "        if num % i == 0:\n",
    "            return False\n",
    "    return True\n",
    "prime_numbers_list = [num for num in range(2, 100) if is_prime(num)][:5]\n",
    "prime_numbers_tuple = tuple(prime_numbers_list)\n",
    "print(\"Tuple of the first 5 prime numbers:\", prime_numbers_tuple)"
   ]
  },
  {
   "cell_type": "markdown",
   "id": "c138ce4b-e397-478a-9e96-d1f6c4fad962",
   "metadata": {},
   "source": [
    "33.Check if a tuple is a palindrome"
   ]
  },
  {
   "cell_type": "code",
   "execution_count": 39,
   "id": "dbc30192-cef1-4f19-bd1d-096bd63411d8",
   "metadata": {},
   "outputs": [
    {
     "name": "stdout",
     "output_type": "stream",
     "text": [
      "palindrome_tuple is a palindrome: True\n",
      "non_palindrome_tuple is a palindrome: False\n"
     ]
    }
   ],
   "source": [
    "def is_palindrome(tup):\n",
    "    return tup == tup[::-1]\n",
    "palindrome_tuple = (1, 2, 3, 2, 1)\n",
    "non_palindrome_tuple = (1, 2, 3, 4, 5)\n",
    "is_palindrome1 = is_palindrome(palindrome_tuple)\n",
    "is_palindrome2 = is_palindrome(non_palindrome_tuple)\n",
    "print(\"palindrome_tuple is a palindrome:\", is_palindrome1)\n",
    "print(\"non_palindrome_tuple is a palindrome:\", is_palindrome2)"
   ]
  },
  {
   "cell_type": "markdown",
   "id": "364a8059-5c02-4559-8cb6-0ca2b45ba847",
   "metadata": {},
   "source": [
    "34.Create a tuple of squares of numbers from 1 to 5"
   ]
  },
  {
   "cell_type": "code",
   "execution_count": 40,
   "id": "9307541c-3dce-4c27-9887-1d22639aed42",
   "metadata": {},
   "outputs": [
    {
     "name": "stdout",
     "output_type": "stream",
     "text": [
      "(1, 4, 9, 16, 25)\n"
     ]
    }
   ],
   "source": [
    "squares_tuple = tuple(x ** 2 for x in range(1, 6))\n",
    "print(squares_tuple)"
   ]
  },
  {
   "cell_type": "markdown",
   "id": "6735af29-b306-425e-a363-06c2f695b23e",
   "metadata": {},
   "source": [
    "35.Filter out all even numbers from a tuple"
   ]
  },
  {
   "cell_type": "code",
   "execution_count": 42,
   "id": "abb04f33-3dc8-4c64-8c07-1757117f1ec6",
   "metadata": {},
   "outputs": [
    {
     "name": "stdout",
     "output_type": "stream",
     "text": [
      "Filtered tuple: (1, 3, 5, 7, 9)\n"
     ]
    }
   ],
   "source": [
    "original_tuple = (1, 2, 3, 4, 5, 6, 7, 8, 9, 10)\n",
    "filtered_tuple = tuple(num for num in original_tuple if num % 2 != 0)\n",
    "print(\"Filtered tuple:\", filtered_tuple)"
   ]
  },
  {
   "cell_type": "markdown",
   "id": "1964f32e-5517-4de6-a4f3-30abab3ba999",
   "metadata": {},
   "source": [
    "36.Multiply all elements in a tuple by 2"
   ]
  },
  {
   "cell_type": "code",
   "execution_count": 43,
   "id": "24bef98a-7682-4b44-b173-f77014d40a0e",
   "metadata": {},
   "outputs": [
    {
     "name": "stdout",
     "output_type": "stream",
     "text": [
      "(10, 20, 60, 50)\n"
     ]
    }
   ],
   "source": [
    "t15 = (5, 10, 30, 25)\n",
    "print(tuple(num * 2 for num in t15))"
   ]
  },
  {
   "cell_type": "markdown",
   "id": "9f0536db-98c7-469d-a477-0a61e5d2d3f0",
   "metadata": {},
   "source": [
    "37.Create a tuple of random numbers"
   ]
  },
  {
   "cell_type": "code",
   "execution_count": 46,
   "id": "794fc0f4-280d-476d-9b93-35cba175e435",
   "metadata": {},
   "outputs": [
    {
     "name": "stdout",
     "output_type": "stream",
     "text": [
      "(50, 12, 7, 9, 12, 97, 74, 27, 24, 56)\n"
     ]
    }
   ],
   "source": [
    "import random\n",
    "t16 = tuple(random.randint(1, 100)for _ in range(10))\n",
    "print(t16)"
   ]
  },
  {
   "cell_type": "markdown",
   "id": "6e180dd1-54a7-45ba-a660-7b09c31d8ced",
   "metadata": {},
   "source": [
    "38.Check if a tuple is sorted"
   ]
  },
  {
   "cell_type": "code",
   "execution_count": 48,
   "id": "ef0af22f-4a4e-4f24-be97-5f8ba36b2e42",
   "metadata": {},
   "outputs": [
    {
     "name": "stdout",
     "output_type": "stream",
     "text": [
      "False\n"
     ]
    }
   ],
   "source": [
    "def is_sorted(t16):\n",
    "    for i in range(len(t16) - 1):\n",
    "        if t16[i] > t16[i + 1]:\n",
    "            return False\n",
    "    return True\n",
    "print(is_sorted(t16))"
   ]
  },
  {
   "cell_type": "markdown",
   "id": "6fc1d79e-f9d5-4420-bddb-420a289be12e",
   "metadata": {},
   "source": [
    "39.Rotate a tuple to the left by `n` positions"
   ]
  },
  {
   "cell_type": "code",
   "execution_count": 53,
   "id": "984b0538-2f36-4978-b3bb-ba47ad58e8d1",
   "metadata": {},
   "outputs": [
    {
     "name": "stdout",
     "output_type": "stream",
     "text": [
      "(7, 9, 12, 97, 74, 27, 24, 56, 50, 12)\n"
     ]
    }
   ],
   "source": [
    "t16 = (50, 12, 7, 9, 12, 97, 74, 27, 24, 56)\n",
    "n_positions = n = 2\n",
    "def rotate_tuple_left(t16, n):\n",
    "    n = n % len(t16)  \n",
    "    rotated_tuple = t16[n:] + t16[:n] \n",
    "    return rotated_tuple\n",
    "print(rotate_tuple_left(t16, n))"
   ]
  },
  {
   "cell_type": "markdown",
   "id": "7b53d0a0-790c-47f0-88b9-1e550696d2df",
   "metadata": {},
   "source": [
    "40.Rotate a tuple to the right by `n` positions"
   ]
  },
  {
   "cell_type": "code",
   "execution_count": 54,
   "id": "9427b2d1-13d7-48c0-a27c-b4a18a2c529e",
   "metadata": {},
   "outputs": [
    {
     "name": "stdout",
     "output_type": "stream",
     "text": [
      "(74, 27, 24, 56, 50, 12, 7, 9, 12, 97)\n"
     ]
    }
   ],
   "source": [
    "n_positions = n = 4\n",
    "def rotate_tuple_right(t16, n):\n",
    "    n = n % len(t16)  \n",
    "    rotated_tuple = t16[-n:] + t16[:-n] \n",
    "    return rotated_tuple\n",
    "print(rotate_tuple_right(t16, n))"
   ]
  },
  {
   "cell_type": "markdown",
   "id": "1982e934-4c01-40b8-83e1-f1cf2f2d7e7e",
   "metadata": {},
   "source": [
    "41.Create a tuple of the first 5 Fibonacci numbers"
   ]
  },
  {
   "cell_type": "code",
   "execution_count": 56,
   "id": "b4ccc054-a128-4483-ac82-de860a3b66ad",
   "metadata": {},
   "outputs": [
    {
     "name": "stdout",
     "output_type": "stream",
     "text": [
      "(0, 1, 1, 2, 3)\n"
     ]
    }
   ],
   "source": [
    "def generate_fibonacci(n):\n",
    "    fibonacci = [0, 1]  \n",
    "    while len(fibonacci) < n:  \n",
    "        next_number = fibonacci[-1] + fibonacci[-2]  \n",
    "        fibonacci.append(next_number)  \n",
    "    return tuple(fibonacci)\n",
    "n = 5\n",
    "print(generate_fibonacci(n))"
   ]
  },
  {
   "cell_type": "markdown",
   "id": "da789338-c401-475b-ac65-1e459c101c37",
   "metadata": {},
   "source": [
    "42.Create a tuple from user input"
   ]
  },
  {
   "cell_type": "code",
   "execution_count": 58,
   "id": "3f7e07cc-d85f-4282-aed9-eee8baf3f457",
   "metadata": {},
   "outputs": [
    {
     "name": "stdin",
     "output_type": "stream",
     "text": [
      "Enter elements separated by commas:  p, r, a, j, a, k, t, a\n"
     ]
    },
    {
     "name": "stdout",
     "output_type": "stream",
     "text": [
      "User input tuple: ('p', ' r', ' a', ' j', ' a', ' k', ' t', ' a')\n"
     ]
    }
   ],
   "source": [
    "input_str = input(\"Enter elements separated by commas: \")\n",
    "input_list = input_str.split(',')\n",
    "user_tuple = tuple(input_list)\n",
    "print(\"User input tuple:\", user_tuple)"
   ]
  },
  {
   "cell_type": "markdown",
   "id": "83a47b6a-9721-4af8-9d80-35ad1795fad5",
   "metadata": {},
   "source": [
    "43.Swap two elements in a tuple"
   ]
  },
  {
   "cell_type": "code",
   "execution_count": 60,
   "id": "03b365b3-3dd9-4641-aba7-607fdaaa1678",
   "metadata": {},
   "outputs": [
    {
     "name": "stdout",
     "output_type": "stream",
     "text": [
      "Swapped tuple: (1, 4, 3, 2, 5)\n"
     ]
    }
   ],
   "source": [
    "my_tuple = (1, 2, 3, 4, 5)\n",
    "index1 = 1\n",
    "index2 = 3\n",
    "swapped_tuple = tuple(\n",
    "    my_tuple[i] if i not in (index1, index2) else\n",
    "    my_tuple[index2] if i == index1 else\n",
    "    my_tuple[index1]\n",
    "    for i in range(len(my_tuple)))\n",
    "print(\"Swapped tuple:\", swapped_tuple)"
   ]
  },
  {
   "cell_type": "code",
   "execution_count": null,
   "id": "a1f2c7cd-17ad-4dcf-ba89-20fa96806946",
   "metadata": {},
   "outputs": [],
   "source": [
    "44.Reverse the elements of a tuple"
   ]
  },
  {
   "cell_type": "code",
   "execution_count": 62,
   "id": "8a9677e9-d97d-4048-8291-45ad9c4703e9",
   "metadata": {},
   "outputs": [
    {
     "name": "stdout",
     "output_type": "stream",
     "text": [
      "(5, 4, 3, 2, 1)\n"
     ]
    }
   ],
   "source": [
    "t20 = (1, 2, 3, 4, 5)\n",
    "print((t20)[::-1])"
   ]
  },
  {
   "cell_type": "markdown",
   "id": "6e4fd7c9-f7ff-4384-b9d5-01578ce1bf93",
   "metadata": {},
   "source": [
    "45.Create a tuple of the first `n` powers of 2"
   ]
  },
  {
   "cell_type": "code",
   "execution_count": 63,
   "id": "fdd7e9bc-4a46-47f9-b85d-bcf6f6a9fdb7",
   "metadata": {},
   "outputs": [
    {
     "name": "stdout",
     "output_type": "stream",
     "text": [
      "Tuple of the first 5 powers of 2: (1, 2, 4, 8, 16)\n"
     ]
    }
   ],
   "source": [
    "n = 5\n",
    "powers_of_2_tuple = tuple(2 ** i for i in range(n))\n",
    "print(\"Tuple of the first\", n, \"powers of 2:\", powers_of_2_tuple)"
   ]
  },
  {
   "cell_type": "markdown",
   "id": "d5bb2b49-e94e-4677-b46f-ea0d9b2a9a33",
   "metadata": {},
   "source": [
    "46.Find the longest string in a tuple of strings"
   ]
  },
  {
   "cell_type": "code",
   "execution_count": 65,
   "id": "bfc45957-13ad-4a55-a3ce-67f48992b39a",
   "metadata": {},
   "outputs": [
    {
     "name": "stdout",
     "output_type": "stream",
     "text": [
      "watermelon\n"
     ]
    }
   ],
   "source": [
    "string_tuple = (\"apple\", \"banana\", \"grape\", \"kiwi\", \"watermelon\")\n",
    "print(max(string_tuple, key=len))"
   ]
  },
  {
   "cell_type": "markdown",
   "id": "38ef8003-0b83-4287-bbdf-2eff48df7dd8",
   "metadata": {},
   "source": [
    "47.Find the shortest string in a tuple of strings"
   ]
  },
  {
   "cell_type": "code",
   "execution_count": 66,
   "id": "0a2b30e4-5384-457a-9cf9-7356d394fdd0",
   "metadata": {},
   "outputs": [
    {
     "name": "stdout",
     "output_type": "stream",
     "text": [
      "kiwi\n"
     ]
    }
   ],
   "source": [
    "string_tuple = (\"apple\", \"banana\", \"grape\", \"kiwi\", \"watermelon\")\n",
    "print(min(string_tuple, key=len))"
   ]
  },
  {
   "cell_type": "markdown",
   "id": "8670270c-dafe-471d-930b-b9d33cadfd68",
   "metadata": {},
   "source": [
    "48.Create a tuple of the first `n` triangular numbers"
   ]
  },
  {
   "cell_type": "code",
   "execution_count": 67,
   "id": "730cb6c6-f1b4-4305-bb18-91482daa0c63",
   "metadata": {},
   "outputs": [
    {
     "name": "stdout",
     "output_type": "stream",
     "text": [
      "Tuple of the first 5 triangular numbers: (1, 3, 6, 10, 15)\n"
     ]
    }
   ],
   "source": [
    "n = 5\n",
    "triangular_numbers_tuple = tuple((i * (i + 1)) // 2 for i in range(1, n + 1))\n",
    "print(\"Tuple of the first\", n, \"triangular numbers:\", triangular_numbers_tuple)"
   ]
  },
  {
   "cell_type": "markdown",
   "id": "c6b75444-5d03-49da-95c3-e24b5bf32673",
   "metadata": {},
   "source": [
    "49.Check if a tuple contains another tuple as a subsequence"
   ]
  },
  {
   "cell_type": "code",
   "execution_count": 68,
   "id": "63ab3f2d-8aed-4c85-a7eb-bf791f6ebb5e",
   "metadata": {},
   "outputs": [
    {
     "name": "stdout",
     "output_type": "stream",
     "text": [
      "Main tuple contains subsequence tuple: True\n"
     ]
    }
   ],
   "source": [
    "def contains_subsequence(main_tuple, sub_tuple):\n",
    "    sub_length = len(sub_tuple)\n",
    "    for i in range(len(main_tuple) - sub_length + 1):\n",
    "        if main_tuple[i:i+sub_length] == sub_tuple:\n",
    "            return True\n",
    "    return False\n",
    "main_tuple = (1, 2, 3, 4, 5, 6, 7, 8, 9)\n",
    "sub_tuple = (3, 4, 5)\n",
    "contains_subseq = contains_subsequence(main_tuple, sub_tuple)\n",
    "print(\"Main tuple contains subsequence tuple:\", contains_subseq)"
   ]
  },
  {
   "cell_type": "markdown",
   "id": "ef3b21df-110a-4f7b-b38a-cbe7235edfdd",
   "metadata": {},
   "source": [
    "50.Create a tuple of alternating 1s and 0s of length `n`"
   ]
  },
  {
   "cell_type": "code",
   "execution_count": 69,
   "id": "7de4bf9b-7764-47ae-a5b7-f88a4d6db6b9",
   "metadata": {},
   "outputs": [
    {
     "name": "stdout",
     "output_type": "stream",
     "text": [
      "Tuple of alternating 1s and 0s: (0, 1, 0, 1, 0, 1, 0, 1, 0, 1)\n"
     ]
    }
   ],
   "source": [
    "n = 10\n",
    "alternating_tuple = tuple(i % 2 for i in range(n))\n",
    "print(\"Tuple of alternating 1s and 0s:\", alternating_tuple)"
   ]
  },
  {
   "cell_type": "markdown",
   "id": "ec43bb1e-00a0-4ff2-8305-5a3d1a6c9dfb",
   "metadata": {},
   "source": [
    "Set Based Practice Problem"
   ]
  },
  {
   "cell_type": "markdown",
   "id": "8813190c-55ea-4dfd-810e-9c541af379a3",
   "metadata": {},
   "source": [
    "1.Create a set with integers from 1 to 5"
   ]
  },
  {
   "cell_type": "code",
   "execution_count": 72,
   "id": "d6da50ba-1925-4b38-9dcc-43d3a078eaee",
   "metadata": {},
   "outputs": [
    {
     "name": "stdout",
     "output_type": "stream",
     "text": [
      "{1, 2, 3, 4}\n"
     ]
    }
   ],
   "source": [
    "s1 = set()\n",
    "s1.add(1)\n",
    "s1.add(2)\n",
    "s1.add(3)\n",
    "s1.add(4)\n",
    "print(s1)"
   ]
  },
  {
   "cell_type": "markdown",
   "id": "d4ae816b-9422-4adc-bad6-34336f820618",
   "metadata": {},
   "source": [
    "2.Add an element to a set"
   ]
  },
  {
   "cell_type": "code",
   "execution_count": 73,
   "id": "f50a59e0-08da-498a-ba38-e5f6505f7d4a",
   "metadata": {},
   "outputs": [
    {
     "name": "stdout",
     "output_type": "stream",
     "text": [
      "{1, 2, 3, 4, 5}\n"
     ]
    }
   ],
   "source": [
    "s1.add(5)\n",
    "print(s1)"
   ]
  },
  {
   "cell_type": "code",
   "execution_count": null,
   "id": "53f4acfc-5985-432d-8d0c-10d2e2cc67ce",
   "metadata": {},
   "outputs": [],
   "source": [
    "3.Remove an element from a set"
   ]
  },
  {
   "cell_type": "code",
   "execution_count": 81,
   "id": "7552ff44-d779-42b3-ae36-0e023b347002",
   "metadata": {},
   "outputs": [
    {
     "name": "stdout",
     "output_type": "stream",
     "text": [
      "{5, 7, 8, 9}\n"
     ]
    }
   ],
   "source": [
    "s2 = {8, 4, 7, 5, 9}\n",
    "s2.remove(4)\n",
    "print(s2)"
   ]
  },
  {
   "cell_type": "markdown",
   "id": "538f79b3-1b40-4576-b381-531ae8ef312f",
   "metadata": {},
   "source": [
    "4.Check if an element exists in a set"
   ]
  },
  {
   "cell_type": "code",
   "execution_count": 83,
   "id": "943b5629-d460-4665-98ea-cb9847a22c17",
   "metadata": {},
   "outputs": [
    {
     "name": "stdin",
     "output_type": "stream",
     "text": [
      "Enter the element to check:  5\n"
     ]
    },
    {
     "name": "stdout",
     "output_type": "stream",
     "text": [
      "5 exists in the set.\n"
     ]
    }
   ],
   "source": [
    "my_set = {1, 3, 5, 7, 9}\n",
    "element_to_check = int(input(\"Enter the element to check: \"))\n",
    "if element_to_check in my_set:\n",
    "    print(f\"{element_to_check} exists in the set.\")\n",
    "else:\n",
    "    print(f\"{element_to_check} does not exist in the set.\")"
   ]
  },
  {
   "cell_type": "markdown",
   "id": "cd0aac38-6aee-4911-8d29-a15756ca1472",
   "metadata": {},
   "source": [
    "5.Find the length of a set without using the `len()` function"
   ]
  },
  {
   "cell_type": "code",
   "execution_count": 1,
   "id": "91a2565e-7739-4e0d-8022-97ae109f9559",
   "metadata": {},
   "outputs": [
    {
     "name": "stdout",
     "output_type": "stream",
     "text": [
      "Length of the set: 5\n"
     ]
    }
   ],
   "source": [
    "my_set = {1, 2, 3, 4, 5}\n",
    "count = 0\n",
    "for _ in my_set:\n",
    "    count += 1\n",
    "print(\"Length of the set:\", count)"
   ]
  },
  {
   "cell_type": "markdown",
   "id": "9bacfbc6-9835-4a56-8714-09447000f527",
   "metadata": {},
   "source": [
    "6.Clear all elements from a set"
   ]
  },
  {
   "cell_type": "code",
   "execution_count": 3,
   "id": "b12d2b73-8824-432e-b0d9-7e714e6c835c",
   "metadata": {},
   "outputs": [
    {
     "name": "stdout",
     "output_type": "stream",
     "text": [
      "set()\n"
     ]
    }
   ],
   "source": [
    "s3 = {41, 12, 24, 15, 34}\n",
    "s3.clear()\n",
    "print(s3)"
   ]
  },
  {
   "cell_type": "markdown",
   "id": "a752e4f4-d96e-4e01-af47-c7a451ec185c",
   "metadata": {},
   "source": [
    "7.Create a set of even numbers from 1 to 10"
   ]
  },
  {
   "cell_type": "code",
   "execution_count": 4,
   "id": "821c4e2f-95d3-489f-93f4-df098f8479c7",
   "metadata": {},
   "outputs": [
    {
     "name": "stdout",
     "output_type": "stream",
     "text": [
      "{2, 4, 6, 8, 10}\n"
     ]
    }
   ],
   "source": [
    "even_number = set()\n",
    "for num in range(1, 11):\n",
    "    if num % 2 == 0:\n",
    "        even_number.add(num)\n",
    "print(even_number)"
   ]
  },
  {
   "cell_type": "markdown",
   "id": "3ec04d75-f493-4acd-aeca-24255d7cc51c",
   "metadata": {},
   "source": [
    "8.Create a set of odd numbers from 1 to 10"
   ]
  },
  {
   "cell_type": "code",
   "execution_count": 5,
   "id": "fd1b6424-abb4-43a2-82b7-700aedaf6094",
   "metadata": {},
   "outputs": [
    {
     "name": "stdout",
     "output_type": "stream",
     "text": [
      "{1, 3, 5, 7, 9}\n"
     ]
    }
   ],
   "source": [
    "odd_number = set()\n",
    "for num in range(1, 10):\n",
    "    if num % 2 != 0:\n",
    "        odd_number.add(num)\n",
    "print(odd_number)"
   ]
  },
  {
   "cell_type": "code",
   "execution_count": null,
   "id": "a6e17c98-a908-4fe4-9b89-14a81d63dcd3",
   "metadata": {},
   "outputs": [],
   "source": [
    "9.Find the union of two sets"
   ]
  },
  {
   "cell_type": "code",
   "execution_count": 6,
   "id": "d3116a20-74d2-419c-b8e2-86fdb41cdd74",
   "metadata": {},
   "outputs": [
    {
     "name": "stdout",
     "output_type": "stream",
     "text": [
      "{32, 5, 7, 10, 12, 15, 17, 20, 22, 25, 27, 30}\n"
     ]
    }
   ],
   "source": [
    "s4 = {5, 10, 15, 20, 25, 30}\n",
    "s5 = {7, 12, 17, 22, 27, 32}\n",
    "print(s4.union(s5))"
   ]
  },
  {
   "cell_type": "markdown",
   "id": "4e938b1f-7d75-4365-ae54-b591a9d7c663",
   "metadata": {},
   "source": [
    "10.Find the intersection of two sets"
   ]
  },
  {
   "cell_type": "code",
   "execution_count": 7,
   "id": "fba735dd-c164-4b45-8eae-5e9c61e8bc5e",
   "metadata": {},
   "outputs": [
    {
     "name": "stdout",
     "output_type": "stream",
     "text": [
      "{10, 20, 15}\n"
     ]
    }
   ],
   "source": [
    "s6 = {12, 15, 10, 22, 20}\n",
    "s7 = {10, 15, 20, 25, 30}\n",
    "print(s6.intersection(s7))"
   ]
  },
  {
   "cell_type": "markdown",
   "id": "45774467-d763-45ea-9e46-a07c8919e791",
   "metadata": {},
   "source": [
    "11.Find the difference between two sets"
   ]
  },
  {
   "cell_type": "code",
   "execution_count": 8,
   "id": "991d1027-2bcc-4251-ba5f-a98b4dba17a6",
   "metadata": {},
   "outputs": [
    {
     "name": "stdout",
     "output_type": "stream",
     "text": [
      "{12, 22}\n"
     ]
    }
   ],
   "source": [
    "s6 = {12, 15, 10, 22, 20}\n",
    "s7 = {10, 15, 20, 25, 30}\n",
    "print(s6.difference(s7))"
   ]
  },
  {
   "cell_type": "markdown",
   "id": "638404a4-7ee3-4d17-a8d9-779c6badc9e7",
   "metadata": {},
   "source": [
    "12.Check if a set is a subset of another set"
   ]
  },
  {
   "cell_type": "code",
   "execution_count": 9,
   "id": "2c890a33-e178-40b8-b3ea-42463776f210",
   "metadata": {},
   "outputs": [
    {
     "name": "stdout",
     "output_type": "stream",
     "text": [
      "True\n"
     ]
    }
   ],
   "source": [
    "s8 = {1, 4, 8}\n",
    "s9 = {5, 10, 4, 6, 1, 8}\n",
    "is_subset = s8.issubset(s9)\n",
    "print(is_subset)"
   ]
  },
  {
   "cell_type": "markdown",
   "id": "9cc9b1d3-2678-4d47-bb5d-e58c93e62404",
   "metadata": {},
   "source": [
    "13.Check if a set is a superset of another set"
   ]
  },
  {
   "cell_type": "code",
   "execution_count": 12,
   "id": "a42bec86-f453-4467-8729-9d22c8196312",
   "metadata": {},
   "outputs": [
    {
     "name": "stdout",
     "output_type": "stream",
     "text": [
      "s9 is superset of s8: True\n"
     ]
    }
   ],
   "source": [
    "s8 = {1, 4, 8}\n",
    "s9 = {5, 10, 4, 6, 1, 8}\n",
    "is_superset = s9.issuperset(s8)\n",
    "print(\"s9 is superset of s8:\", is_superset)"
   ]
  },
  {
   "cell_type": "markdown",
   "id": "d7bd621b-10d4-49ba-a3a3-be70232eb90f",
   "metadata": {},
   "source": [
    "14.Create a set from a list"
   ]
  },
  {
   "cell_type": "code",
   "execution_count": 32,
   "id": "fc2d2f31-7b7d-41ba-9bcc-2b8e5d961b1f",
   "metadata": {},
   "outputs": [
    {
     "name": "stdout",
     "output_type": "stream",
     "text": [
      "Original List: [2, 4, 1, 4, 3, 2, 5]\n",
      "Set from List: {1, 2, 3, 4, 5}\n"
     ]
    }
   ],
   "source": [
    "my_list = [2, 4, 1, 4, 3, 2, 5]\n",
    "my_set = set(my_list)\n",
    "print(\"Original List:\", my_list)\n",
    "print(\"Set from List:\", my_set)"
   ]
  },
  {
   "cell_type": "markdown",
   "id": "ff49caf5-8211-4008-81f4-057a767c73ac",
   "metadata": {},
   "source": [
    "15.Convert a set to a list"
   ]
  },
  {
   "cell_type": "code",
   "execution_count": 1,
   "id": "7aa0e734-fb72-422e-9b47-f999d2c1fb57",
   "metadata": {},
   "outputs": [
    {
     "name": "stdout",
     "output_type": "stream",
     "text": [
      "Original Set: {1, 2, 3, 4, 5, 6, 9}\n",
      "Converted List: [1, 2, 3, 4, 5, 6, 9]\n"
     ]
    }
   ],
   "source": [
    "my_set = {3, 1, 4, 1, 5, 9, 2, 6, 5}\n",
    "my_list = list(my_set)\n",
    "print(\"Original Set:\", my_set)\n",
    "print(\"Converted List:\", my_list)"
   ]
  },
  {
   "cell_type": "markdown",
   "id": "f77832e7-2554-4b4d-bb8c-3b2ad1089b6a",
   "metadata": {},
   "source": [
    "16.Remove a random element from a set"
   ]
  },
  {
   "cell_type": "code",
   "execution_count": 2,
   "id": "a1aae1cf-d173-468b-a235-5aaf564bcad0",
   "metadata": {},
   "outputs": [
    {
     "name": "stdout",
     "output_type": "stream",
     "text": [
      "Original set: {1, 2, 3, 4, 5}\n",
      "Updated set after removing 1 : {2, 3, 4, 5}\n"
     ]
    }
   ],
   "source": [
    "import random \n",
    "my_set = {1, 2, 3, 4, 5}\n",
    "print(\"Original set:\", my_set)\n",
    "random_element = random.choice(list(my_set))\n",
    "my_set.remove(random_element)\n",
    "print(\"Updated set after removing\", random_element, \":\", my_set)"
   ]
  },
  {
   "cell_type": "markdown",
   "id": "3d148eb0-0a33-4938-aeb0-6ea24bb0f9e1",
   "metadata": {},
   "source": [
    "17.Pop an element from a set"
   ]
  },
  {
   "cell_type": "code",
   "execution_count": 26,
   "id": "285f911a-d8b7-4d81-8333-07bfc7641cb5",
   "metadata": {},
   "outputs": [
    {
     "name": "stdout",
     "output_type": "stream",
     "text": [
      "{3, 5, 7}\n"
     ]
    }
   ],
   "source": [
    "s10 = {3, 5 ,10, 7}\n",
    "s10.pop()\n",
    "print(s10)"
   ]
  },
  {
   "cell_type": "markdown",
   "id": "6e7b7423-2dfb-4446-b0d2-089ebccc273b",
   "metadata": {},
   "source": [
    "18.Check if two sets have no elements in common"
   ]
  },
  {
   "cell_type": "code",
   "execution_count": 6,
   "id": "ed2ffe7c-b3d4-4919-b7c7-f18fb3303760",
   "metadata": {},
   "outputs": [
    {
     "name": "stdout",
     "output_type": "stream",
     "text": [
      "two sets have no common elements\n"
     ]
    }
   ],
   "source": [
    "set1 = {1, 2, 3, 4}\n",
    "set2 = {5, 6, 7, 8}\n",
    "common_elements = set1.intersection(set2)\n",
    "if not common_elements:\n",
    "    print(\"two sets have no common elements\")\n",
    "else:\n",
    "    print(\"two sets have common elements:\", common_elements)"
   ]
  },
  {
   "cell_type": "markdown",
   "id": "1ada2fc3-2c4c-499c-91d3-ac9ad5e639fe",
   "metadata": {},
   "source": [
    "19.Find the symmetric difference between two sets"
   ]
  },
  {
   "cell_type": "code",
   "execution_count": 7,
   "id": "0818deaf-7b40-44a1-ab6a-1efb5d11bd1e",
   "metadata": {},
   "outputs": [
    {
     "name": "stdout",
     "output_type": "stream",
     "text": [
      "{1, 2, 3, 6, 7, 8}\n"
     ]
    }
   ],
   "source": [
    "set1 = {1, 2, 3, 4, 5}\n",
    "set2 = {4, 5, 6, 7, 8}\n",
    "print(set1 ^ set2)"
   ]
  },
  {
   "cell_type": "markdown",
   "id": "9ce0ccac-11bd-4fce-b3d0-536a76d6951b",
   "metadata": {},
   "source": [
    "20.Update a set with elements from another set"
   ]
  },
  {
   "cell_type": "code",
   "execution_count": 12,
   "id": "312b2af7-85f8-41eb-a64c-79c181d5765c",
   "metadata": {},
   "outputs": [
    {
     "name": "stdout",
     "output_type": "stream",
     "text": [
      "updated set21: {1, 2, 5, 7, 8, 9, 10}\n"
     ]
    }
   ],
   "source": [
    "s21 = {1, 2, 5, 9}\n",
    "s22 = {5, 7, 8, 10}\n",
    "s21.update(s22)\n",
    "print(\"updated set21:\", s21)"
   ]
  },
  {
   "cell_type": "markdown",
   "id": "00fa158d-f27c-420c-8889-8209e8aadcf3",
   "metadata": {},
   "source": [
    "21.Create a set of the first 5 prime numbers"
   ]
  },
  {
   "cell_type": "code",
   "execution_count": 13,
   "id": "9ad68926-62ad-41be-9278-3826242ee02d",
   "metadata": {},
   "outputs": [
    {
     "name": "stdout",
     "output_type": "stream",
     "text": [
      "Set of the first 5 prime numbers: {2, 3, 5, 7, 11}\n"
     ]
    }
   ],
   "source": [
    "def is_prime(num):\n",
    "    if num <= 1:\n",
    "        return False\n",
    "    for i in range(2, int(num ** 0.5) + 1):\n",
    "        if num % i == 0:\n",
    "            return False\n",
    "    return True\n",
    "prime_set = set()\n",
    "num = 2\n",
    "while len(prime_set) < 5:\n",
    "    if is_prime(num):\n",
    "        prime_set.add(num)\n",
    "    num += 1\n",
    "print(\"Set of the first 5 prime numbers:\", prime_set)"
   ]
  },
  {
   "cell_type": "markdown",
   "id": "d0e80199-9174-4aad-b929-d1a5bbcf1e82",
   "metadata": {},
   "source": [
    "22.Check if two sets are identical"
   ]
  },
  {
   "cell_type": "code",
   "execution_count": 14,
   "id": "959506b8-c6de-455d-84ec-3e05b7f3ea97",
   "metadata": {},
   "outputs": [
    {
     "name": "stdout",
     "output_type": "stream",
     "text": [
      "The sets are identical.\n"
     ]
    }
   ],
   "source": [
    "set1 = {1, 2, 3, 4, 5}\n",
    "set2 = {3, 1, 5, 2, 4} \n",
    "if set1 == set2:\n",
    "    print(\"The sets are identical.\")\n",
    "else:\n",
    "    print(\"The sets are not identical.\")"
   ]
  },
  {
   "cell_type": "markdown",
   "id": "24755d73-f403-4a17-b99c-0f46e2346444",
   "metadata": {},
   "source": [
    "23.Create a frozen set"
   ]
  },
  {
   "cell_type": "code",
   "execution_count": 15,
   "id": "4fdee0c3-f259-4631-82cf-e007b499f2ae",
   "metadata": {},
   "outputs": [
    {
     "name": "stdout",
     "output_type": "stream",
     "text": [
      "frozenset({1, 2, 3, 4, 5})\n"
     ]
    }
   ],
   "source": [
    "elements = [1, 2, 3, 4, 5]\n",
    "print(frozenset(elements))"
   ]
  },
  {
   "cell_type": "markdown",
   "id": "8069df31-6b9a-44e2-ba86-ae2dedb6f6bc",
   "metadata": {},
   "source": [
    "24.Check if a set is disjoint with another set"
   ]
  },
  {
   "cell_type": "code",
   "execution_count": 16,
   "id": "981e6a4a-a38c-49a2-9a40-c2d73c790e28",
   "metadata": {},
   "outputs": [
    {
     "name": "stdout",
     "output_type": "stream",
     "text": [
      "Are the sets disjoint? True\n"
     ]
    }
   ],
   "source": [
    "set1 = {1, 2, 3, 4}\n",
    "set2 = {5, 6, 7, 8}\n",
    "disjoint_status = set1.isdisjoint(set2)\n",
    "print(\"Are the sets disjoint?\", disjoint_status)"
   ]
  },
  {
   "cell_type": "markdown",
   "id": "4527b59b-7e4d-4107-8e61-45f709b41d60",
   "metadata": {},
   "source": [
    "25.Create a set of squares of numbers from 1 to 5"
   ]
  },
  {
   "cell_type": "code",
   "execution_count": 17,
   "id": "c743241f-d40b-4bb5-bb6e-69d492be764d",
   "metadata": {},
   "outputs": [
    {
     "name": "stdout",
     "output_type": "stream",
     "text": [
      "{1, 4, 9, 16, 25}\n"
     ]
    }
   ],
   "source": [
    "squares_set = set()\n",
    "for num in range(1, 6):\n",
    "    square = num ** 2\n",
    "    squares_set.add(square)\n",
    "print(squares_set)"
   ]
  },
  {
   "cell_type": "markdown",
   "id": "d9fe079f-23b5-40e3-8d03-71a39eb24e8e",
   "metadata": {},
   "source": [
    "26.Filter out all even numbers from a set"
   ]
  },
  {
   "cell_type": "code",
   "execution_count": 18,
   "id": "1537339a-56fc-4339-b4ca-2ea9fd777331",
   "metadata": {},
   "outputs": [
    {
     "name": "stdout",
     "output_type": "stream",
     "text": [
      "Original Set: {1, 2, 3, 4, 5}\n",
      "Even Numbers Set: {2, 4}\n"
     ]
    }
   ],
   "source": [
    "original_set = {1, 2, 3, 4, 5}\n",
    "even_numbers_set = set()\n",
    "for num in original_set:\n",
    "    if num % 2 == 0:\n",
    "        even_numbers_set.add(num)\n",
    "print(\"Original Set:\", original_set)\n",
    "print(\"Even Numbers Set:\", even_numbers_set)"
   ]
  },
  {
   "cell_type": "markdown",
   "id": "92884b77-d000-4752-9719-d0e4a0ec84b8",
   "metadata": {},
   "source": [
    "27.Multiply all elements in a set by 2"
   ]
  },
  {
   "cell_type": "code",
   "execution_count": 19,
   "id": "969830c0-2033-424c-bac7-88ca4e2fcd34",
   "metadata": {},
   "outputs": [
    {
     "name": "stdout",
     "output_type": "stream",
     "text": [
      "Original Set: {1, 2, 3, 4, 5}\n",
      "Multiplied Set: {2, 4, 6, 8, 10}\n"
     ]
    }
   ],
   "source": [
    "original_set = {1, 2, 3, 4, 5}\n",
    "multiplied_set = set()\n",
    "for num in original_set:\n",
    "    multiplied_num = num * 2\n",
    "    multiplied_set.add(multiplied_num)\n",
    "print(\"Original Set:\", original_set)\n",
    "print(\"Multiplied Set:\", multiplied_set)"
   ]
  },
  {
   "cell_type": "markdown",
   "id": "8118cd8a-8890-4274-8d81-2437994004ca",
   "metadata": {},
   "source": [
    "28.Create a set of random numbers"
   ]
  },
  {
   "cell_type": "code",
   "execution_count": 20,
   "id": "0a619ebc-fb4e-4498-a8a0-c90512535df9",
   "metadata": {},
   "outputs": [
    {
     "name": "stdout",
     "output_type": "stream",
     "text": [
      "Generated set of random numbers: {97, 39, 81, 50, 94}\n"
     ]
    }
   ],
   "source": [
    "import random\n",
    "num_random_numbers = 5\n",
    "random_number_set = set()\n",
    "for _ in range(num_random_numbers):\n",
    "    random_num = random.randint(1, 100) \n",
    "    random_number_set.add(random_num)\n",
    "print(\"Generated set of random numbers:\", random_number_set)"
   ]
  },
  {
   "cell_type": "markdown",
   "id": "847a9c0b-5c93-4eef-9f33-d3b6f07b066b",
   "metadata": {},
   "source": [
    "29.Check if a set is empty"
   ]
  },
  {
   "cell_type": "code",
   "execution_count": 21,
   "id": "2ba15a28-beb5-4488-af78-fa320928c7e5",
   "metadata": {},
   "outputs": [
    {
     "name": "stdout",
     "output_type": "stream",
     "text": [
      "The set is empty.\n"
     ]
    }
   ],
   "source": [
    "my_set = set()\n",
    "if not my_set:\n",
    "    print(\"The set is empty.\")\n",
    "else:\n",
    "    print(\"The set is not empty.\")"
   ]
  },
  {
   "cell_type": "markdown",
   "id": "b8edfdb2-fd87-46f4-aa63-4dc5ed60906b",
   "metadata": {},
   "source": [
    "30.Create a nested set "
   ]
  },
  {
   "cell_type": "code",
   "execution_count": 22,
   "id": "aaf25d26-1d85-4cb4-9e84-5f6b5d70fc26",
   "metadata": {},
   "outputs": [
    {
     "name": "stdout",
     "output_type": "stream",
     "text": [
      "Nested Set: {frozenset({1, 2, 3, 4, 5}), frozenset({6, 7, 8, 9, 10})}\n"
     ]
    }
   ],
   "source": [
    "set1 = {1, 2, 3, 4, 5}\n",
    "set2 = {6, 7, 8, 9, 10}\n",
    "frozen_set1 = frozenset(set1)\n",
    "frozen_set2 = frozenset(set2)\n",
    "nested_set = {frozen_set1, frozen_set2}\n",
    "print(\"Nested Set:\", nested_set)"
   ]
  },
  {
   "cell_type": "markdown",
   "id": "13e10b41-70f7-42cd-9989-770b1bc9041d",
   "metadata": {},
   "source": [
    "31.Remove an element from a set using the discard method"
   ]
  },
  {
   "cell_type": "code",
   "execution_count": 23,
   "id": "46bb9e1b-e0d8-449f-9b6e-a93e03b5232b",
   "metadata": {},
   "outputs": [
    {
     "name": "stdout",
     "output_type": "stream",
     "text": [
      "{1, 2, 3, 5}\n"
     ]
    }
   ],
   "source": [
    "my_set = {1, 2, 3, 4, 5}\n",
    "my_set.discard(4)\n",
    "print(my_set)"
   ]
  },
  {
   "cell_type": "markdown",
   "id": "28ab4f8b-85ab-46bc-adff-88e610444d69",
   "metadata": {},
   "source": [
    "32.Compare two sets"
   ]
  },
  {
   "cell_type": "code",
   "execution_count": 24,
   "id": "42ced1d7-84c3-499c-8583-5071e9db7edd",
   "metadata": {},
   "outputs": [
    {
     "name": "stdout",
     "output_type": "stream",
     "text": [
      "Set 1: {1, 2, 3, 4, 5}\n",
      "Set 2: {4, 5, 6, 7, 8}\n",
      "Is set1 a subset of set2? False\n",
      "Is set2 a subset of set1? False\n",
      "Intersection: {4, 5}\n",
      "Union: {1, 2, 3, 4, 5, 6, 7, 8}\n",
      "Elements in set1 but not in set2: {1, 2, 3}\n",
      "Elements in set2 but not in set1: {8, 6, 7}\n"
     ]
    }
   ],
   "source": [
    "set1 = {1, 2, 3, 4, 5}\n",
    "set2 = {4, 5, 6, 7, 8}\n",
    "is_subset = set1.issubset(set2)\n",
    "is_superset = set1.issuperset(set2)\n",
    "intersection = set1.intersection(set2)\n",
    "union = set1.union(set2)\n",
    "difference1 = set1.difference(set2)\n",
    "difference2 = set2.difference(set1)\n",
    "print(\"Set 1:\", set1)\n",
    "print(\"Set 2:\", set2)\n",
    "print(\"Is set1 a subset of set2?\", is_subset)\n",
    "print(\"Is set2 a subset of set1?\", is_superset)\n",
    "print(\"Intersection:\", intersection)\n",
    "print(\"Union:\", union)\n",
    "print(\"Elements in set1 but not in set2:\", difference1)\n",
    "print(\"Elements in set2 but not in set1:\", difference2)"
   ]
  },
  {
   "cell_type": "markdown",
   "id": "4c93f835-fd60-43d1-881d-70fb25bca4da",
   "metadata": {},
   "source": [
    "33.Create a set from a string"
   ]
  },
  {
   "cell_type": "code",
   "execution_count": 25,
   "id": "de558f06-b4c8-407c-86f5-4524b4d148a5",
   "metadata": {},
   "outputs": [
    {
     "name": "stdout",
     "output_type": "stream",
     "text": [
      "{'o', 'e', 'h', 'l'}\n"
     ]
    }
   ],
   "source": [
    "s24 = \"hello\"\n",
    "char_set = set(s24)\n",
    "print(char_set)"
   ]
  },
  {
   "cell_type": "markdown",
   "id": "095dc031-ebe7-4cce-8ea8-5f830757be58",
   "metadata": {},
   "source": [
    "34.Convert a set of strings to a set of integers"
   ]
  },
  {
   "cell_type": "code",
   "execution_count": 26,
   "id": "370bdce1-a250-48ff-90a0-0fb72b7eaeba",
   "metadata": {},
   "outputs": [
    {
     "name": "stdout",
     "output_type": "stream",
     "text": [
      "Original String Set: {'123', '789', '456'}\n",
      "Converted Integer Set: {456, 123, 789}\n"
     ]
    }
   ],
   "source": [
    "string_set = {\"123\", \"456\", \"789\"}\n",
    "integer_set = set()\n",
    "for string in string_set:\n",
    "    integer_value = int(string)\n",
    "    integer_set.add(integer_value)\n",
    "print(\"Original String Set:\", string_set)\n",
    "print(\"Converted Integer Set:\", integer_set)"
   ]
  },
  {
   "cell_type": "markdown",
   "id": "88ee7187-2e41-41b2-a32f-67f5c37b0618",
   "metadata": {},
   "source": [
    "35.Convert a set of integers to a set of strings"
   ]
  },
  {
   "cell_type": "code",
   "execution_count": 27,
   "id": "93ffba33-74be-4e9f-a51d-3fe406aabe8b",
   "metadata": {},
   "outputs": [
    {
     "name": "stdout",
     "output_type": "stream",
     "text": [
      "Original integers_set: {1, 2, 3, 4, 5}\n",
      "Converted strings_set: {'3', '2', '5', '4', '1'}\n"
     ]
    }
   ],
   "source": [
    "integers_set = {1, 2, 3, 4, 5}\n",
    "strings_set = set()\n",
    "for num in integers_set:\n",
    "    num_str = str(num)\n",
    "    strings_set.add(num_str)\n",
    "print(\"Original integers_set:\", integers_set)\n",
    "print(\"Converted strings_set:\", strings_set)"
   ]
  },
  {
   "cell_type": "markdown",
   "id": "2a68c452-c4eb-4814-a2b1-66d8e77ba7dc",
   "metadata": {},
   "source": [
    "36.Create a set from a tuple"
   ]
  },
  {
   "cell_type": "code",
   "execution_count": 29,
   "id": "80eaad5f-15f2-4203-a082-9d03bdde562e",
   "metadata": {},
   "outputs": [
    {
     "name": "stdout",
     "output_type": "stream",
     "text": [
      "{1, 3, 71, 8, 12, 56}\n"
     ]
    }
   ],
   "source": [
    "t56 = (1, 3, 8, 71, 56, 12)\n",
    "print(set(t56))"
   ]
  },
  {
   "cell_type": "markdown",
   "id": "cca4bfbb-4be0-4fdc-963f-4aeb4a66ef87",
   "metadata": {},
   "source": [
    "37.Convert a set to a tuple"
   ]
  },
  {
   "cell_type": "code",
   "execution_count": 30,
   "id": "6a99c20b-6ef6-41ee-b03f-584023115c93",
   "metadata": {},
   "outputs": [
    {
     "name": "stdout",
     "output_type": "stream",
     "text": [
      "(2, 4, 8, 10, 12)\n"
     ]
    }
   ],
   "source": [
    "s56 = {2, 4, 8, 10, 12}\n",
    "print(tuple(s56))"
   ]
  },
  {
   "cell_type": "markdown",
   "id": "b7dc3695-e239-4aae-83ae-883d90e337cb",
   "metadata": {},
   "source": [
    "38.Find the maximum value in a set"
   ]
  },
  {
   "cell_type": "code",
   "execution_count": 31,
   "id": "30bb60cc-acfa-416c-bfde-08ce07a1ce72",
   "metadata": {},
   "outputs": [
    {
     "name": "stdout",
     "output_type": "stream",
     "text": [
      "12\n"
     ]
    }
   ],
   "source": [
    "print(max(s56))"
   ]
  },
  {
   "cell_type": "markdown",
   "id": "279e568e-2d4b-4c55-b641-552e1b0ec8e7",
   "metadata": {},
   "source": [
    "39.Find the minimum value in a set"
   ]
  },
  {
   "cell_type": "code",
   "execution_count": 32,
   "id": "1c8ca3cb-7761-4f04-8998-8e03c954f0cd",
   "metadata": {},
   "outputs": [
    {
     "name": "stdout",
     "output_type": "stream",
     "text": [
      "2\n"
     ]
    }
   ],
   "source": [
    "print(min(s56))"
   ]
  },
  {
   "cell_type": "markdown",
   "id": "dc91ef27-63d0-476f-9165-bb48c49999ce",
   "metadata": {},
   "source": [
    "40.Create a set from user input"
   ]
  },
  {
   "cell_type": "code",
   "execution_count": 33,
   "id": "4ab23657-bb96-4b29-9501-e59f9a746526",
   "metadata": {},
   "outputs": [
    {
     "name": "stdout",
     "output_type": "stream",
     "text": [
      "Enter elements for the set (type 'done' to finish):\n"
     ]
    },
    {
     "name": "stdin",
     "output_type": "stream",
     "text": [
      ">  12, 13, 14, 15, 16 done\n",
      ">  17\n",
      ">  18\n",
      ">  done\n"
     ]
    },
    {
     "name": "stdout",
     "output_type": "stream",
     "text": [
      "Final set: {'17', '12, 13, 14, 15, 16 done', '18'}\n"
     ]
    }
   ],
   "source": [
    "user_set = set()\n",
    "print(\"Enter elements for the set (type 'done' to finish):\")\n",
    "while True:\n",
    "    user_input = input(\"> \") \n",
    "    if user_input.lower() == 'done':\n",
    "        break  \n",
    "    user_set.add(user_input)\n",
    "print(\"Final set:\", user_set)"
   ]
  },
  {
   "cell_type": "markdown",
   "id": "0b2b758a-3fc6-4c07-9b75-426e380104d8",
   "metadata": {},
   "source": [
    "41.Check if the intersection of two sets is empty"
   ]
  },
  {
   "cell_type": "code",
   "execution_count": 34,
   "id": "4bb0346c-7a9a-415a-87b8-e7d97a84c3cb",
   "metadata": {},
   "outputs": [
    {
     "name": "stdout",
     "output_type": "stream",
     "text": [
      "The intersection of the two sets is not empty.\n"
     ]
    }
   ],
   "source": [
    "set1 = {1, 2, 3, 4, 5}\n",
    "set2 = {4, 5, 6, 7, 8}\n",
    "intersection_result = set1.intersection(set2)\n",
    "if not intersection_result:\n",
    "    print(\"The intersection of the two sets is empty.\")\n",
    "else:\n",
    "    print(\"The intersection of the two sets is not empty.\")"
   ]
  },
  {
   "cell_type": "markdown",
   "id": "2aa00f15-1654-4dd3-a57f-ae56aa343a9d",
   "metadata": {},
   "source": [
    "42.Create a set of the first 5 Fibonacci numbers"
   ]
  },
  {
   "cell_type": "code",
   "execution_count": 35,
   "id": "bfe5764b-8673-4906-b304-fbb2758578e2",
   "metadata": {},
   "outputs": [
    {
     "name": "stdout",
     "output_type": "stream",
     "text": [
      "Set of the first 5 Fibonacci numbers: {0, 1, 2, 3, 5}\n"
     ]
    }
   ],
   "source": [
    "fibonacci_set = set()\n",
    "a, b = 0, 1\n",
    "for _ in range(6):\n",
    "    fibonacci_set.add(a)\n",
    "    a, b = b, a + b\n",
    "print(\"Set of the first 5 Fibonacci numbers:\", fibonacci_set)"
   ]
  },
  {
   "cell_type": "markdown",
   "id": "0921bba9-a31b-49e1-a468-8bd3f61534e8",
   "metadata": {},
   "source": [
    "43.Remove duplicates from a list using sets"
   ]
  },
  {
   "cell_type": "code",
   "execution_count": 36,
   "id": "52117ba5-0e94-4a7d-9195-88ede27f0954",
   "metadata": {},
   "outputs": [
    {
     "name": "stdout",
     "output_type": "stream",
     "text": [
      "Original List: [2, 4, 6, 8, 4, 10, 6, 12, 14, 8]\n",
      "List with Duplicates Removed: [2, 4, 6, 8, 10, 12, 14]\n"
     ]
    }
   ],
   "source": [
    "original_list = [2, 4, 6, 8, 4, 10, 6, 12, 14, 8]\n",
    "unique_set = set(original_list)\n",
    "unique_list = list(unique_set)\n",
    "print(\"Original List:\", original_list)\n",
    "print(\"List with Duplicates Removed:\", unique_list)"
   ]
  },
  {
   "cell_type": "markdown",
   "id": "84b33649-a1d6-47b4-abcd-379a20cdb77d",
   "metadata": {},
   "source": [
    "44.Check if two sets have the same elements, regardless of their count"
   ]
  },
  {
   "cell_type": "code",
   "execution_count": 37,
   "id": "1ca8ac51-f552-41fa-a7ff-6633a5bc33ef",
   "metadata": {},
   "outputs": [
    {
     "name": "stdout",
     "output_type": "stream",
     "text": [
      "The sets have the same elements.\n"
     ]
    }
   ],
   "source": [
    "def have_same_elements(set1, set2):\n",
    "    sorted_list1 = sorted(list(set1))\n",
    "    sorted_list2 = sorted(list(set2))\n",
    "    return sorted_list1 == sorted_list2\n",
    "set1 = {1, 2, 3, 2, 1}\n",
    "set2 = {3, 1, 2}\n",
    "result = have_same_elements(set1, set2)\n",
    "if result:\n",
    "    print(\"The sets have the same elements.\")\n",
    "else:\n",
    "    print(\"The sets do not have the same elements.\")"
   ]
  },
  {
   "cell_type": "markdown",
   "id": "d20b3a56-feac-4e66-9afc-51dcfa3e4bfe",
   "metadata": {},
   "source": [
    "45.Create a set of the first `n` powers of 2"
   ]
  },
  {
   "cell_type": "code",
   "execution_count": 38,
   "id": "f53d4fd2-0357-4ab9-8bad-6b3a204b8d78",
   "metadata": {},
   "outputs": [
    {
     "name": "stdout",
     "output_type": "stream",
     "text": [
      "{1, 2, 4, 8, 16}\n"
     ]
    }
   ],
   "source": [
    "def generate_powers_of_2(n):\n",
    "    powers_of_2 = set()\n",
    "    for i in range(n):\n",
    "        power = 2 ** i\n",
    "        powers_of_2.add(power)\n",
    "    return powers_of_2\n",
    "n = 5\n",
    "powers_set = generate_powers_of_2(n)\n",
    "print(powers_set)"
   ]
  },
  {
   "cell_type": "markdown",
   "id": "9f4f8367-8ba7-43af-bb21-ba1b98dfacd6",
   "metadata": {},
   "source": [
    "46.Find the common elements between a set and a list"
   ]
  },
  {
   "cell_type": "code",
   "execution_count": 39,
   "id": "99a41086-111d-4da6-85df-3568c4b28527",
   "metadata": {},
   "outputs": [
    {
     "name": "stdout",
     "output_type": "stream",
     "text": [
      "Common elements: [7, 9, 12]\n"
     ]
    }
   ],
   "source": [
    "my_set = {3, 7, 9, 12, 15}\n",
    "my_list = [7, 12, 5, 9]\n",
    "list_to_set = set(my_list)\n",
    "common_elements = []\n",
    "for element in my_set:\n",
    "    if element in list_to_set:\n",
    "        common_elements.append(element)\n",
    "print(\"Common elements:\", common_elements)"
   ]
  },
  {
   "cell_type": "markdown",
   "id": "edba564a-77e2-4921-8354-bdf8766729d3",
   "metadata": {},
   "source": [
    "47.Create a set of the first `n` triangular numbers"
   ]
  },
  {
   "cell_type": "code",
   "execution_count": 40,
   "id": "df1be8b0-fe9b-41fa-8a3f-53085d5e1eec",
   "metadata": {},
   "outputs": [
    {
     "name": "stdin",
     "output_type": "stream",
     "text": [
      "Enter the value of n:  10\n"
     ]
    },
    {
     "name": "stdout",
     "output_type": "stream",
     "text": [
      "The set of the first 10 triangular numbers is: {1, 3, 36, 6, 10, 45, 15, 21, 55, 28}\n"
     ]
    }
   ],
   "source": [
    "def generate_triangular_numbers(n):\n",
    "    triangular_numbers = set()\n",
    "    for i in range(1, n + 1):\n",
    "        triangular_number = i * (i + 1) // 2 \n",
    "        triangular_numbers.add(triangular_number)  \n",
    "    return triangular_numbers\n",
    "n = int(input(\"Enter the value of n: \"))\n",
    "triangular_set = generate_triangular_numbers(n)\n",
    "print(f\"The set of the first {n} triangular numbers is:\", triangular_set)"
   ]
  },
  {
   "cell_type": "markdown",
   "id": "bbb79bfa-7de4-4ed5-9e32-10a1289fa956",
   "metadata": {},
   "source": [
    "48.Check if a set contains another set as a subset"
   ]
  },
  {
   "cell_type": "code",
   "execution_count": 41,
   "id": "e9b11efb-ebba-45d2-aeb4-f5972f5ecb7c",
   "metadata": {},
   "outputs": [
    {
     "name": "stdout",
     "output_type": "stream",
     "text": [
      "set2 is a subset of set1\n"
     ]
    }
   ],
   "source": [
    "set1 = {1, 2, 3, 4, 5}\n",
    "set2 = {3, 4}\n",
    "is_subset = set2.issubset(set1)\n",
    "if is_subset:\n",
    "    print(\"set2 is a subset of set1\")\n",
    "else:\n",
    "    print(\"set2 is not a subset of set1\")"
   ]
  },
  {
   "cell_type": "markdown",
   "id": "903c195f-71a2-4113-8d0d-591dfb0be96a",
   "metadata": {},
   "source": [
    "49.Create a set of alternating 1s and 0s of length `n`"
   ]
  },
  {
   "cell_type": "code",
   "execution_count": 42,
   "id": "3e3f630b-7ff9-4a8e-a2b9-2cc8c7d4f1f4",
   "metadata": {},
   "outputs": [
    {
     "name": "stdout",
     "output_type": "stream",
     "text": [
      "{0, 1}\n"
     ]
    }
   ],
   "source": [
    "def create_alternating_set(n):\n",
    "    alternating_set = set()\n",
    "    for i in range(n):\n",
    "        if i % 2 == 0:\n",
    "            alternating_set.add(1)\n",
    "        else:\n",
    "            alternating_set.add(0) \n",
    "    return alternating_set\n",
    "length_n = 10\n",
    "result = create_alternating_set(length_n)\n",
    "print(result)"
   ]
  },
  {
   "cell_type": "markdown",
   "id": "9e703f73-39ab-4656-bad9-c524d995472b",
   "metadata": {},
   "source": [
    "50.Merge multiple sets into one"
   ]
  },
  {
   "cell_type": "code",
   "execution_count": 43,
   "id": "350e3fe0-cae5-442f-8b4e-34fc3a21cc68",
   "metadata": {},
   "outputs": [
    {
     "name": "stdout",
     "output_type": "stream",
     "text": [
      "Merged Set: {1, 2, 3, 4, 5, 6, 7}\n"
     ]
    }
   ],
   "source": [
    "set1 = {1, 2, 3}\n",
    "set2 = {3, 4, 5}\n",
    "set3 = {5, 6, 7}\n",
    "merged_set = set1.union(set2, set3)\n",
    "print(\"Merged Set:\", merged_set)"
   ]
  },
  {
   "cell_type": "code",
   "execution_count": null,
   "id": "963f44b3-5ad1-477b-ae0a-8ec678fc057a",
   "metadata": {},
   "outputs": [],
   "source": []
  }
 ],
 "metadata": {
  "kernelspec": {
   "display_name": "Python 3 (ipykernel)",
   "language": "python",
   "name": "python3"
  },
  "language_info": {
   "codemirror_mode": {
    "name": "ipython",
    "version": 3
   },
   "file_extension": ".py",
   "mimetype": "text/x-python",
   "name": "python",
   "nbconvert_exporter": "python",
   "pygments_lexer": "ipython3",
   "version": "3.10.8"
  }
 },
 "nbformat": 4,
 "nbformat_minor": 5
}
