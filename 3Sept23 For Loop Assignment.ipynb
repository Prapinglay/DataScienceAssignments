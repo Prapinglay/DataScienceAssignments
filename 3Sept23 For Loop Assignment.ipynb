{
 "cells": [
  {
   "cell_type": "code",
   "execution_count": null,
   "id": "979b0a4e-6653-4f09-8e39-08d5cfe85f84",
   "metadata": {},
   "outputs": [],
   "source": [
    "#Basic level"
   ]
  },
  {
   "cell_type": "code",
   "execution_count": null,
   "id": "0bff88bf-3b23-49c3-88ea-c6378e1787a2",
   "metadata": {},
   "outputs": [],
   "source": [
    "# 1.Write a Python program to print the numbers from 1 to 10 using a `for` loop."
   ]
  },
  {
   "cell_type": "code",
   "execution_count": 1,
   "id": "fb1d9455-57d7-4647-90ec-882a1a190db7",
   "metadata": {},
   "outputs": [
    {
     "name": "stdout",
     "output_type": "stream",
     "text": [
      "1\n",
      "2\n",
      "3\n",
      "4\n",
      "5\n",
      "6\n",
      "7\n",
      "8\n",
      "9\n",
      "10\n"
     ]
    }
   ],
   "source": [
    "for num in range(1, 11):\n",
    "    print(num)"
   ]
  },
  {
   "cell_type": "code",
   "execution_count": 10,
   "id": "37a4c9e3-f0fb-43c7-a6a2-89d3ce884a3d",
   "metadata": {},
   "outputs": [
    {
     "name": "stdout",
     "output_type": "stream",
     "text": [
      "The given list is:\n",
      "[1, 2, 3, 4, 5, 6]\n",
      "Sum of all the elements in the list is: 21\n"
     ]
    }
   ],
   "source": [
    "# 2. Create a program that calculates the sum of all numbers in a list using a `for` loop.\n",
    "List1 = [1, 2, 3, 4, 5, 6]\n",
    "print(\"The given list is:\")\n",
    "print(List1)\n",
    "sumOfElements = 0\n",
    "for element in List1:\n",
    "    sumOfElements = sumOfElements + element\n",
    "\n",
    "print(\"Sum of all the elements in the list is:\", sumOfElements)"
   ]
  },
  {
   "cell_type": "code",
   "execution_count": 13,
   "id": "4c337131-8213-4e0e-9653-e23413fd4b39",
   "metadata": {},
   "outputs": [
    {
     "name": "stdout",
     "output_type": "stream",
     "text": [
      "reverse string:  sllikswp\n"
     ]
    }
   ],
   "source": [
    "# 3. Write a program to print the characters of a string in reverse order using a `for` loop.\n",
    "string = \"pwskills\"\n",
    "reverse = \" \"\n",
    "for i in range(len(string), 0, -1):\n",
    "    reverse += string[i-1]\n",
    "print(\"reverse string:\", reverse)"
   ]
  },
  {
   "cell_type": "code",
   "execution_count": 17,
   "id": "8f9b44ed-e724-4dbe-89da-89f602e011a0",
   "metadata": {},
   "outputs": [
    {
     "name": "stdin",
     "output_type": "stream",
     "text": [
      "enter number: 5\n"
     ]
    },
    {
     "name": "stdout",
     "output_type": "stream",
     "text": [
      "factorial of 5 is 120\n"
     ]
    }
   ],
   "source": [
    "# 4. Develop a program that finds the factorial of a given number using a `for` loop.\n",
    "num = int(input(\"enter number:\"))\n",
    "factorial = 1\n",
    "for i in range(1, num+1):\n",
    "   factorial = factorial*i\n",
    "print(\"factorial of\", num, \"is\", factorial)"
   ]
  },
  {
   "cell_type": "code",
   "execution_count": 20,
   "id": "7f451e0c-5e36-4325-aef6-1151203034f8",
   "metadata": {},
   "outputs": [
    {
     "name": "stdin",
     "output_type": "stream",
     "text": [
      "enter number: 6\n"
     ]
    },
    {
     "name": "stdout",
     "output_type": "stream",
     "text": [
      "multiplication table of: 6\n",
      "6 x 1 = 6\n",
      "6 x 2 = 12\n",
      "6 x 3 = 18\n",
      "6 x 4 = 24\n",
      "6 x 5 = 30\n",
      "6 x 6 = 36\n",
      "6 x 7 = 42\n",
      "6 x 8 = 48\n",
      "6 x 9 = 54\n",
      "6 x 10 = 60\n"
     ]
    }
   ],
   "source": [
    "# 5. Create a program to print the multiplication table of a given number using a `for` loop.\n",
    "num = int(input(\"enter number:\"))\n",
    "print(\"multiplication table of:\", num)\n",
    "for i in range(1, 11):\n",
    "    print(num, \"x\", i, \"=\", num*i)"
   ]
  },
  {
   "cell_type": "code",
   "execution_count": 23,
   "id": "4a878e84-7c13-4fe1-90a0-2b27fff4ecbb",
   "metadata": {},
   "outputs": [
    {
     "name": "stdout",
     "output_type": "stream",
     "text": [
      "Count of even number is: 5\n",
      "Count of odd number is: 5\n"
     ]
    }
   ],
   "source": [
    "# 6. Write a program that counts the number of even and odd numbers in a list using a `for` loop.\n",
    "\n",
    "list2 = [3, 41, 22, 64, 81, 27, 20, 34, 38, 45]\n",
    "even_count, odd_count = 0, 0\n",
    "for num in list2:\n",
    "    if num % 2 == 0:\n",
    "        even_count += 1\n",
    "    else:\n",
    "        odd_count += 1\n",
    "print(\"Count of even number is:\", even_count)\n",
    "print(\"Count of odd number is:\", odd_count) "
   ]
  },
  {
   "cell_type": "code",
   "execution_count": 2,
   "id": "1345e7f6-a82e-4683-bc5f-f7d31e0276fb",
   "metadata": {},
   "outputs": [
    {
     "name": "stdout",
     "output_type": "stream",
     "text": [
      "1\n",
      "4\n",
      "9\n",
      "16\n",
      "25\n"
     ]
    }
   ],
   "source": [
    "# 7. Develop a program that prints the squares of numbers from 1 to 5 using a `for` loop.\n",
    "\n",
    "for i in range(1, 6):\n",
    "    squares = i ** 2\n",
    "    print(squares)"
   ]
  },
  {
   "cell_type": "code",
   "execution_count": 11,
   "id": "6ffc0ffb-f02e-4712-8526-05dea04b5807",
   "metadata": {},
   "outputs": [
    {
     "name": "stdout",
     "output_type": "stream",
     "text": [
      "length of string: 19\n"
     ]
    }
   ],
   "source": [
    "# 8. Create a program to find the length of a string without using the `len()` function.\n",
    "s1 = \"I am data scientist\"\n",
    "count = 0\n",
    "for i in s1:\n",
    "    count = count +1\n",
    "print(\"length of string:\", count)"
   ]
  },
  {
   "cell_type": "code",
   "execution_count": 12,
   "id": "a4f53a4d-d4cf-45c2-87d8-01dd754fb6dd",
   "metadata": {},
   "outputs": [
    {
     "name": "stdout",
     "output_type": "stream",
     "text": [
      "Average of all numbers in list: 40.0\n"
     ]
    }
   ],
   "source": [
    "# 9. Write a program that calculates the average of a list of numbers using a `for` loop.\n",
    "\n",
    "l2 = [12, 15, 17, 21, 64, 81, 70]\n",
    "sum_of_num = 0\n",
    "count = 0\n",
    "for number in l2:\n",
    "    sum_of_num += number\n",
    "    count += 1\n",
    "average = sum_of_num/count\n",
    "print(\"Average of all numbers in list:\", average)"
   ]
  },
  {
   "cell_type": "code",
   "execution_count": 14,
   "id": "19739447-21f4-49ff-9ae7-83c7e5b958f9",
   "metadata": {},
   "outputs": [
    {
     "name": "stdin",
     "output_type": "stream",
     "text": [
      "Number of elements in Fibonacci Series, N, (N>=2) :  7\n"
     ]
    },
    {
     "name": "stdout",
     "output_type": "stream",
     "text": [
      "[0, 1, 1, 2, 3, 5, 8]\n"
     ]
    }
   ],
   "source": [
    "# 10. Develop a program that prints the first `n` Fibonacci numbers using a `for` loop.\n",
    "\n",
    "N = int(input(\"Number of elements in Fibonacci Series, N, (N>=2) : \"))\n",
    "fibonacciSeries = [0,1]\n",
    "if N>2:\n",
    "\tfor i in range(2, N):\n",
    "\t\tnextElement = fibonacciSeries[i-1] + fibonacciSeries[i-2]\n",
    "\t\tfibonacciSeries.append(nextElement)\n",
    "print(fibonacciSeries)"
   ]
  },
  {
   "cell_type": "code",
   "execution_count": null,
   "id": "5e8c335c-23c8-4d8b-aa38-c7b5743c2d17",
   "metadata": {},
   "outputs": [],
   "source": [
    "#Intermediate Level:"
   ]
  },
  {
   "cell_type": "code",
   "execution_count": 17,
   "id": "34431cfd-04f0-4d9f-be46-0cda18d6ff2c",
   "metadata": {},
   "outputs": [
    {
     "name": "stdout",
     "output_type": "stream",
     "text": [
      "Yes, list contains duplicates\n"
     ]
    }
   ],
   "source": [
    "# 11. Write a program to check if a given list contains any duplicates using a `for` loop.\n",
    "\n",
    "l3 = [5, 10, 15, 5, 20, 25, 30, 15]\n",
    "def checkIfDuplicates_(l3):   \n",
    "    for number in l3:\n",
    "        if l3.count(number) > 1:\n",
    "            return True\n",
    "    return False\n",
    "result = checkIfDuplicates_(l3)\n",
    "if result:\n",
    "    print('Yes, list contains duplicates')\n",
    "else:\n",
    "    print('No duplicates found in list')    "
   ]
  },
  {
   "cell_type": "code",
   "execution_count": 18,
   "id": "881a5d7f-3577-4980-b9c6-61d96d04519d",
   "metadata": {},
   "outputs": [
    {
     "name": "stdout",
     "output_type": "stream",
     "text": [
      "[2, 3, 5, 7, 11, 13, 17, 19, 23, 29, 31, 37, 41, 43, 47]\n"
     ]
    }
   ],
   "source": [
    "# 12. Create a program that prints the prime numbers in a given range using a `for` loop.\n",
    "\n",
    "def prime_numbers(n):\n",
    "    primes = []\n",
    "    for i in range(2, n + 1):\n",
    "        for j in range(2, int(i ** 0.5) + 1):\n",
    "            if i%j == 0:\n",
    "                break\n",
    "        else:\n",
    "            primes.append(i)\n",
    "    return primes\n",
    "\n",
    "prime_list = prime_numbers(50)\n",
    "print(prime_list)"
   ]
  },
  {
   "cell_type": "code",
   "execution_count": 20,
   "id": "e7c50f97-856a-4cb3-a71f-2d7e04faf043",
   "metadata": {},
   "outputs": [
    {
     "name": "stdout",
     "output_type": "stream",
     "text": [
      "8\n"
     ]
    }
   ],
   "source": [
    "# 13. Develop a program that counts the number of vowels in a string using a `for` loop.\n",
    "\n",
    "s4 = \"my name is prajakta pinglay\"\n",
    "cnt = 0\n",
    "i = 0\n",
    "for i in s4:\n",
    "    if(i == 'a' or i == 'e' or i == 'i' or i == 'o' or i == 'u'):\n",
    "        cnt += 1\n",
    "print(cnt)"
   ]
  },
  {
   "cell_type": "code",
   "execution_count": 22,
   "id": "72020bd3-c798-40c7-b861-44205d540654",
   "metadata": {},
   "outputs": [
    {
     "name": "stdout",
     "output_type": "stream",
     "text": [
      "maximum element in the list is: 10\n"
     ]
    }
   ],
   "source": [
    "# 14. Write a program to find the maximum element in a 2D list using a nested `for` loop.\n",
    "\n",
    "my_list = [2,4,6,[5,10,3]]\n",
    "def get_max(my_list):\n",
    "    m = None\n",
    "    for item in my_list:\n",
    "        if isinstance(item, list):\n",
    "            item = get_max(item)\n",
    "        if not m or m < item:\n",
    "            m = item\n",
    "    return m\n",
    "print(\"maximum element in the list is:\", get_max(my_list))"
   ]
  },
  {
   "cell_type": "code",
   "execution_count": 35,
   "id": "fbb159a2-f758-4115-9b63-c15712302680",
   "metadata": {},
   "outputs": [
    {
     "name": "stdout",
     "output_type": "stream",
     "text": [
      "original list [4, 7, 3, 4, 10, 2, 4, 8]\n",
      "Updated list after removal of item [7, 3, 10, 2, 8]\n"
     ]
    }
   ],
   "source": [
    "# 15. Create a program that removes all occurrences of a specific element from a list using a `for` loop.\n",
    "\n",
    "l5 = [4, 7, 3, 4, 10, 2, 4, 8]\n",
    "def remove_items(l5, item):\n",
    "  remove = [i for i in l5 if i != item]\n",
    "  return remove\n",
    "item = 4\n",
    "remove = remove_items(l5, item)\n",
    "print(\"original list\", l5)\n",
    "print(\"Updated list after removal of item\", remove)"
   ]
  },
  {
   "cell_type": "code",
   "execution_count": 42,
   "id": "ba602101-85da-42f7-b6c7-3f60bd451761",
   "metadata": {},
   "outputs": [
    {
     "name": "stdout",
     "output_type": "stream",
     "text": [
      "   1   2   3   4   5\n",
      "   2   4   6   8  10\n",
      "   3   6   9  12  15\n",
      "   4   8  12  16  20\n",
      "   5  10  15  20  25\n",
      "   6  12  18  24  30\n",
      "   7  14  21  28  35\n",
      "   8  16  24  32  40\n",
      "   9  18  27  36  45\n",
      "  10  20  30  40  50\n"
     ]
    }
   ],
   "source": [
    "# 16. Develop a program that generates a multiplication table for numbers from 1 to 5 using a nested `for` loop.\n",
    "\n",
    "for row in range(1, 11):\n",
    "    for col in range(1, 6):\n",
    "        num = row * col\n",
    "        if num < 10:\n",
    "            empty = \"  \"\n",
    "        else:\n",
    "            if num < 60: \n",
    "                empty  = \" \" \n",
    "        print(empty, num, end = '')\n",
    "    print()"
   ]
  },
  {
   "cell_type": "code",
   "execution_count": 48,
   "id": "d852a6e1-e22d-4152-9b14-43f1e68ec7f4",
   "metadata": {},
   "outputs": [
    {
     "name": "stdout",
     "output_type": "stream",
     "text": [
      "[32.111111111111114, 19.444444444444443, 33.333333333333336, 37.22222222222222]\n"
     ]
    }
   ],
   "source": [
    "# 17. Write a program that converts a list of Fahrenheit temperatures to Celsius using a `for` loop.\n",
    "\n",
    "fah = [89.8, 67.0, 92, 99]\n",
    "\n",
    "cen = []\n",
    "for f in fah:\n",
    "    c = (f - 32) * 5 / 9\n",
    "    cen.append(c)\n",
    "\n",
    "print(cen)"
   ]
  },
  {
   "cell_type": "code",
   "execution_count": 53,
   "id": "5098500f-c53e-45c8-9095-ec24b523c75c",
   "metadata": {},
   "outputs": [
    {
     "name": "stdout",
     "output_type": "stream",
     "text": [
      "common elements: [1, 3, 5]\n"
     ]
    }
   ],
   "source": [
    "# 18. Create a program to print the common elements from two lists using a `for` loop.\n",
    "\n",
    "a = [1, 2, 3, 4, 5]\n",
    "b = [5, 6, 3, 1, 7]\n",
    "\n",
    "def common_elements(a, b):\n",
    "    result = []\n",
    "    for element in a:\n",
    "        if element in b:\n",
    "            result.append(element)\n",
    "    return result\n",
    "print(\"common elements:\", common_elements(a, b))"
   ]
  },
  {
   "cell_type": "code",
   "execution_count": 54,
   "id": "96b30290-fdad-4e1d-afb8-067a683f4664",
   "metadata": {},
   "outputs": [
    {
     "name": "stdout",
     "output_type": "stream",
     "text": [
      "* \n",
      "* * \n",
      "* * * \n",
      "* * * * \n",
      "* * * * * \n"
     ]
    }
   ],
   "source": [
    "''' 19. Develop a program that prints the pattern of right-angled triangles using a `for` loop. Use ‘*’ to draw the\n",
    "pattern'''\n",
    "\n",
    "for i in range(1,6):\n",
    "    for j in range(i):\n",
    "        print(\"*\", end=\" \")\n",
    "    print()"
   ]
  },
  {
   "cell_type": "code",
   "execution_count": 56,
   "id": "f694f1b7-334f-4d38-ac3d-05e1c39ec2bf",
   "metadata": {},
   "outputs": [
    {
     "name": "stdout",
     "output_type": "stream",
     "text": [
      "TWO POSITIVE INTEGER NUMBERS::\n"
     ]
    },
    {
     "name": "stdin",
     "output_type": "stream",
     "text": [
      " 10\n",
      " 20\n"
     ]
    },
    {
     "name": "stdout",
     "output_type": "stream",
     "text": [
      "\n",
      "GCD = 10\n"
     ]
    }
   ],
   "source": [
    "# 20. Write a program to find the greatest common divisor (GCD) of two numbers using a `for` loop.\n",
    "\n",
    "p, q = None, None \n",
    "print (\"TWO POSITIVE INTEGER NUMBERS::\")\n",
    "p = int (input ())\n",
    "q = int (input ())\n",
    "for i in range (1, p + 1):\n",
    "\tif i <= q:\n",
    "\t\tif p % i == 0 and q % i == 0:\n",
    "\t\t\tg = i\n",
    "print (\"\\nGCD =\", p)"
   ]
  },
  {
   "cell_type": "code",
   "execution_count": null,
   "id": "121c51ea-1a45-4617-9c18-0bed134490ed",
   "metadata": {},
   "outputs": [],
   "source": [
    "# Advanced Level:"
   ]
  },
  {
   "cell_type": "code",
   "execution_count": 2,
   "id": "164ef213-d603-4839-8681-00f9aa038176",
   "metadata": {},
   "outputs": [
    {
     "name": "stdout",
     "output_type": "stream",
     "text": [
      "The original list is : [23, 55, 41, 34]\n",
      "List Integer Summation : [5, 10, 5, 7]\n"
     ]
    }
   ],
   "source": [
    "# 21. Create a program that calculates the sum of the digits of numbers in a list using a list comprehension.\n",
    "\n",
    "l6 = [23, 55, 41, 34] \n",
    "print(\"The original list is : \" + str(l6))\n",
    "res = list(map(lambda ele: sum(int(sub) for sub in str(ele)), l6))\n",
    "print (\"List Integer Summation : \" + str(res))"
   ]
  },
  {
   "cell_type": "code",
   "execution_count": 1,
   "id": "7c8bee85-f62c-4cb0-a997-de80b53a16d9",
   "metadata": {},
   "outputs": [
    {
     "name": "stdin",
     "output_type": "stream",
     "text": [
      "Enter a number:  32\n"
     ]
    },
    {
     "name": "stdout",
     "output_type": "stream",
     "text": [
      "1 2 4 8 16 32 "
     ]
    }
   ],
   "source": [
    "\n",
    "\n",
    "number = int(input(\"Enter a number: \").strip())\n",
    "\n",
    "for i in range(1,number+1):\n",
    "    if number % i == 0:\n",
    "        print(i, end=\" \")"
   ]
  },
  {
   "cell_type": "code",
   "execution_count": 4,
   "id": "cc205157-9609-4445-8c59-9a44b9e89124",
   "metadata": {},
   "outputs": [
    {
     "name": "stdin",
     "output_type": "stream",
     "text": [
      "Enter a number:  32\n"
     ]
    },
    {
     "name": "stdout",
     "output_type": "stream",
     "text": [
      "[1, 2, 4, 8, 16, 32] "
     ]
    }
   ],
   "source": [
    "# 22. Write a program to find the prime factors of a given number using a `for` loop and list comprehension.\n",
    "\n",
    "number = int(input(\"Enter a number: \").strip())\n",
    "result = [i for i in range(1,number+1) if number % i == 0]\n",
    "print(result, end=\" \")"
   ]
  },
  {
   "cell_type": "code",
   "execution_count": 15,
   "id": "2b71b232-34b5-4891-be05-cac46284e3ab",
   "metadata": {},
   "outputs": [
    {
     "name": "stdout",
     "output_type": "stream",
     "text": [
      "the unique values from list1 is\n",
      "[10, 20, 30, 40]\n"
     ]
    }
   ],
   "source": [
    "''' 23. Develop a program that extracts unique elements from a list and stores them in a new list using a list\n",
    "comprehension.'''\n",
    "\n",
    "from functools import reduce\n",
    "def unique(list1):\n",
    "    ans = reduce(lambda re, x: re+[x] if x not in re else re, list1, [])\n",
    "    print(ans)\n",
    "list1 = [10, 20, 10, 30, 40, 40]\n",
    "print(\"the unique values from list1 is\")\n",
    "unique(list1)"
   ]
  },
  {
   "cell_type": "code",
   "execution_count": 16,
   "id": "5a3eb582-e3c9-48b3-bf0f-f2e751fd73ff",
   "metadata": {},
   "outputs": [
    {
     "name": "stdout",
     "output_type": "stream",
     "text": [
      "[11, 22, 33, 44, 55, 66, 77, 88, 99]\n"
     ]
    }
   ],
   "source": [
    "''' 24. Create a program that generates a list of all palindromic numbers up to a specified limit using a list\n",
    "comprehension.'''\n",
    "\n",
    "def is_palindrome(num):\n",
    "    return str(num) == str(num)[::-1]\n",
    " \n",
    "def palindrome_range(start, end):\n",
    "    nums = list(range(start, end+1))\n",
    "    palindromes = list(filter(lambda x: is_palindrome(x), nums))\n",
    "    return palindromes\n",
    " \n",
    "start=10\n",
    "end=100\n",
    "print(palindrome_range(start, end))"
   ]
  },
  {
   "cell_type": "code",
   "execution_count": 21,
   "id": "d9a261e1-2301-485c-babd-e189c53a9667",
   "metadata": {},
   "outputs": [
    {
     "name": "stdout",
     "output_type": "stream",
     "text": [
      "List5 [[11, 22, 33, 44], [55, 66, 77], [88, 99, 100]]\n",
      "Flat List [11, 22, 33, 44, 55, 66, 77, 88, 99, 100]\n"
     ]
    }
   ],
   "source": [
    "# 25. Write a program to flatten a nested list using list comprehension.\n",
    "\n",
    "list5 = [[11, 22, 33, 44], [55, 66, 77], [88, 99, 100]]\n",
    "flatList = [element for innerList in list5 for element in innerList]\n",
    " \n",
    "# printing original list\n",
    "print('List5', list5)\n",
    "# printing flat list\n",
    "print('Flat List', flatList)"
   ]
  },
  {
   "cell_type": "code",
   "execution_count": 26,
   "id": "0981ac71-78ff-4130-a9f9-b261dc67933c",
   "metadata": {},
   "outputs": [
    {
     "name": "stdout",
     "output_type": "stream",
     "text": [
      "Odd digit sum : 25\n",
      "Even digit sum : 20\n"
     ]
    }
   ],
   "source": [
    "''' 26. Develop a program that computes the sum of even and odd numbers in a list separately using list\n",
    "comprehension.'''\n",
    "\n",
    "test_list = [1, 2, 3, 4, 5, 6, 7, 8, 9]\n",
    "odd_sum = 0\n",
    "even_sum = 0\n",
    " \n",
    "odd_sum += sum([int(number) for sub in test_list for number in str(sub) if int(number) % 2 == 1])\n",
    "even_sum += sum([int(number) for sub in test_list for number in str(sub) if int(number) % 2 == 0])\n",
    " \n",
    "print(\"Odd digit sum : \" + str(odd_sum))\n",
    "print(\"Even digit sum : \" + str(even_sum))"
   ]
  },
  {
   "cell_type": "code",
   "execution_count": 27,
   "id": "1a9af613-1aea-4fb5-b5db-dcad99405f42",
   "metadata": {},
   "outputs": [
    {
     "name": "stdout",
     "output_type": "stream",
     "text": [
      "[1, 9, 25, 49, 81]\n"
     ]
    }
   ],
   "source": [
    "''' 27. Create a program that generates a list of squares of odd numbers between 1 and 10 using list\n",
    "comprehension.'''\n",
    "\n",
    "data=[1,2,3,4,5,6,7,8,9]\n",
    "result = [i*i for i in data if i%2!=0]\n",
    "print(result)"
   ]
  },
  {
   "cell_type": "code",
   "execution_count": 28,
   "id": "86a2a900-17c0-4634-81d7-a217dc994cef",
   "metadata": {},
   "outputs": [
    {
     "name": "stdout",
     "output_type": "stream",
     "text": [
      "Original key list is : ['Pra', 'Ojas', 'Vedansh']\n",
      "Original value list is : [29, 3, 1]\n",
      "Resultant dictionary is : {'Pra': 29, 'Ojas': 3, 'Vedansh': 1}\n"
     ]
    }
   ],
   "source": [
    "# 28. Write a program that combines two lists into a dictionary using list comprehension.\n",
    "\n",
    "name_keys = [\"Pra\", \"Ojas\", \"Vedansh\"]\n",
    "age_values = [29, 3, 1]\n",
    "print(\"Original key list is : \" + str(name_keys))\n",
    "print(\"Original value list is : \" + str(age_values))\n",
    "res = {name_keys[i]: age_values[i] for i in range(len(name_keys))}\n",
    "print(\"Resultant dictionary is : \" + str(res))"
   ]
  },
  {
   "cell_type": "code",
   "execution_count": 32,
   "id": "ceafc755-f4b0-4397-b131-8293ce63d453",
   "metadata": {},
   "outputs": [
    {
     "name": "stdout",
     "output_type": "stream",
     "text": [
      "['i', 'a', 'a']\n"
     ]
    }
   ],
   "source": [
    "''' 29. Develop a program that extracts the vowels from a string and stores them in a list using list comprehension.'''\n",
    "\n",
    "s25 = \"Physics Wallah\"\n",
    "vowels = \"AaEeIiOoUu\"\n",
    "def Check_Vow(s25, vowels):\n",
    "    final = [each for each in s25 if each in vowels]\n",
    "    print(final)\n",
    "\n",
    "Check_Vow(s25, vowels);"
   ]
  },
  {
   "cell_type": "code",
   "execution_count": 33,
   "id": "18f2336b-fde8-4d14-8d04-173d2d85f03e",
   "metadata": {},
   "outputs": [
    {
     "name": "stdout",
     "output_type": "stream",
     "text": [
      "['88', '91', '86', '87', '87']\n"
     ]
    }
   ],
   "source": [
    "''' 30. Create a program that removes all non-numeric characters from a list of strings using list comprehension.'''\n",
    "\n",
    "import re\n",
    "\n",
    "my_list = ['Judy 88 5', 'animal 91 5', 'Mo 86 5', 'Geno 87 6', 'exhaled 87 6']\n",
    "nums = [re.search('\\d+', lst).group(0) for lst in my_list]\n",
    "print(nums)"
   ]
  },
  {
   "cell_type": "code",
   "execution_count": null,
   "id": "131cfb52-3aa7-496a-be84-2c50426d8980",
   "metadata": {},
   "outputs": [],
   "source": [
    "# Challenge Level:"
   ]
  },
  {
   "cell_type": "code",
   "execution_count": 47,
   "id": "7c6e5a62-edfc-4e2e-820d-1411c55ea7c0",
   "metadata": {},
   "outputs": [
    {
     "name": "stdout",
     "output_type": "stream",
     "text": [
      "2\n",
      "3\n",
      "5\n",
      "7\n",
      "11\n",
      "13\n",
      "17\n",
      "19\n",
      "23\n",
      "29\n",
      "31\n",
      "37\n",
      "41\n",
      "43\n",
      "47\n",
      "None\n"
     ]
    }
   ],
   "source": [
    "'''31. Write a program to generate a list of prime numbers using the Sieve of Eratosthenes algorithm and list\n",
    "comprehension.'''\n",
    "\n",
    "def listprime_eratosthenes(n):\n",
    "    prime_list = []\n",
    "    for i in range(2, n+1):\n",
    "        if i not in prime_list:\n",
    "            print (i)\n",
    "            for j in range(i*i, n+1, i):\n",
    "                prime_list.append(j)\n",
    "\n",
    "print(prime_eratosthenes(50));"
   ]
  },
  {
   "cell_type": "code",
   "execution_count": 42,
   "id": "82e199c5-8eb9-41a1-88db-da1c4e5fc876",
   "metadata": {},
   "outputs": [
    {
     "name": "stdin",
     "output_type": "stream",
     "text": [
      "Enter the value of n:  25\n"
     ]
    },
    {
     "name": "stdout",
     "output_type": "stream",
     "text": [
      "[(3, 4, 5), (5, 12, 13), (6, 8, 10), (7, 24, 25), (8, 15, 17), (9, 12, 15), (12, 16, 20), (15, 20, 25)]\n"
     ]
    }
   ],
   "source": [
    "''' 32. Create a program that generates a list of all Pythagorean triplets up to a specified limit using list\n",
    "comprehension.'''\n",
    "\n",
    "n = int(input('Enter the value of n: '))\n",
    "print([(a, b, c) for a in range(1, n + 1) for b in range(a, n + 1)\n",
    "       for c in range(b, n + 1) if a**2 + b**2 == c**2])"
   ]
  },
  {
   "cell_type": "code",
   "execution_count": 48,
   "id": "d94208dd-6a67-477a-95d1-05261d65a4f8",
   "metadata": {},
   "outputs": [
    {
     "name": "stdout",
     "output_type": "stream",
     "text": [
      "[[('a', 1), ('c', 1), ('b', 1)], [('a', 1), ('c', 1), ('b', 2)], [('a', 1), ('c', 1), ('b', 3)], [('a', 1), ('c', 2), ('b', 1)], [('a', 1), ('c', 2), ('b', 2)], [('a', 1), ('c', 2), ('b', 3)], [('a', 1), ('c', 3), ('b', 1)], [('a', 1), ('c', 3), ('b', 2)], [('a', 1), ('c', 3), ('b', 3)], [('a', 2), ('c', 1), ('b', 1)], [('a', 2), ('c', 1), ('b', 2)], [('a', 2), ('c', 1), ('b', 3)], [('a', 2), ('c', 2), ('b', 1)], [('a', 2), ('c', 2), ('b', 2)], [('a', 2), ('c', 2), ('b', 3)], [('a', 2), ('c', 3), ('b', 1)], [('a', 2), ('c', 3), ('b', 2)], [('a', 2), ('c', 3), ('b', 3)], [('a', 3), ('c', 1), ('b', 1)], [('a', 3), ('c', 1), ('b', 2)], [('a', 3), ('c', 1), ('b', 3)], [('a', 3), ('c', 2), ('b', 1)], [('a', 3), ('c', 2), ('b', 2)], [('a', 3), ('c', 2), ('b', 3)], [('a', 3), ('c', 3), ('b', 1)], [('a', 3), ('c', 3), ('b', 2)], [('a', 3), ('c', 3), ('b', 3)]]\n"
     ]
    }
   ],
   "source": [
    "# 33. Develop a program that generates a list of all possible combinations of two lists using list comprehension.\n",
    "\n",
    "import itertools\n",
    "from itertools import product \n",
    "list_1 = [\"a\",\"c\",\"b\"]\n",
    "list_2 = [1,2,3]\n",
    "unique_combinations = []\n",
    "unique_combinations = list(list(zip(list_1, element)) for element in product(list_2, repeat = len(list_1)))\n",
    "print(unique_combinations)"
   ]
  },
  {
   "cell_type": "code",
   "execution_count": 53,
   "id": "d719be60-8728-49bd-a266-6a353082442a",
   "metadata": {},
   "outputs": [
    {
     "name": "stdout",
     "output_type": "stream",
     "text": [
      "Mean: 47\n",
      "Median: 44\n",
      "Mode: 15\n"
     ]
    }
   ],
   "source": [
    "'''34. Write a program that calculates the mean, median, and mode of a list of numbers using list\n",
    "comprehension.'''\n",
    "\n",
    "l26 = [11, 15,21, 22, 33, 37, 44, 48, 55, 66, 69, 77, 15, 88, 99]\n",
    "\n",
    "mean = sum(l26)/len(l26)\n",
    "mean_rounded = round(mean)\n",
    "print(\"Mean:\", mean_rounded)\n",
    "\n",
    "median = sorted(l26) [len(l26) // 2]\n",
    "print(\"Median:\", median)\n",
    "\n",
    "mode = max(l26, key = l26.count)\n",
    "print(\"Mode:\", mode)"
   ]
  },
  {
   "cell_type": "code",
   "execution_count": 58,
   "id": "a59e5e2f-3206-416b-af3b-7f5c32203b6d",
   "metadata": {},
   "outputs": [
    {
     "name": "stdout",
     "output_type": "stream",
     "text": [
      "     1\n",
      "    1 1\n",
      "   1 2 1\n",
      "  1 3 3 1\n",
      " 1 4 6 4 1\n"
     ]
    }
   ],
   "source": [
    "'''35. Create a program that generates Pascal's triangle up to a specified number of rows using list\n",
    "comprehension.'''\n",
    "\n",
    "#optimized approach to print Pascal’s triangle, this approach is based on powers of 11\n",
    "n = 5\n",
    "for i in range(n):\n",
    "    print(' '*(n-i), end='')\n",
    "    print(' '.join(map(str, str(11**i))))"
   ]
  },
  {
   "cell_type": "code",
   "execution_count": 61,
   "id": "4da81ea0-a3fb-45ec-bbc4-b134958bf771",
   "metadata": {},
   "outputs": [
    {
     "name": "stdout",
     "output_type": "stream",
     "text": [
      "Sum of digit of factorial: 27\n",
      "Sum of digit of factorial: 117\n"
     ]
    }
   ],
   "source": [
    "'''36. Develop a program that calculates the sum of the digits of a factorial of numbers from 1 to 5 using list\n",
    "comprehension.'''\n",
    "\n",
    "def sum_of_digits_factorial(n):\n",
    "    fact = 1\n",
    "    for i in range(2, n+1):\n",
    "        fact *= i\n",
    "    sum_of_digits = 0\n",
    "    for digit in str(fact):\n",
    "        sum_of_digits += int(digit)\n",
    "    return sum_of_digits\n",
    "print(\"Sum of digit of factorial:\", sum_of_digits_factorial(10)) \n",
    "print(\"Sum of digit of factorial:\", sum_of_digits_factorial(30))"
   ]
  },
  {
   "cell_type": "code",
   "execution_count": 63,
   "id": "59070fce-bcc9-4a10-a877-c2f235e9323f",
   "metadata": {},
   "outputs": [
    {
     "name": "stdout",
     "output_type": "stream",
     "text": [
      "confident\n"
     ]
    }
   ],
   "source": [
    "'''37. Write a program that finds the longest word in a sentence using list comprehension.'''\n",
    "\n",
    "def largestWord(s):\n",
    "    s = sorted(s, key = len)\n",
    "    print(s[-1])\n",
    "if __name__ == \"__main__\":\n",
    "    s = \"be confident and be yourself\"\n",
    "    l = list(s.split(\" \"))\n",
    "    largestWord(l)"
   ]
  },
  {
   "cell_type": "code",
   "execution_count": 64,
   "id": "28ce3e26-b1e3-4abb-b519-26a4804ace36",
   "metadata": {},
   "outputs": [
    {
     "name": "stdout",
     "output_type": "stream",
     "text": [
      "['guava', 'pineapple', 'mandarin orange']\n"
     ]
    }
   ],
   "source": [
    "'''38. Create a program that filters a list of strings to include only those with more than three vowels using list\n",
    "comprehension.'''\n",
    "\n",
    "import re\n",
    "\n",
    "fruits = [\"mango\", \"kiwi\", \"strawberry\", \"guava\", \"pineapple\", \"mandarin orange\"]\n",
    "results = [i for i in fruits if len(re.sub(r\"[^aeiouAEIOU]\", \"\", i)) > 2]\n",
    "print(results)"
   ]
  },
  {
   "cell_type": "code",
   "execution_count": 67,
   "id": "608e00d4-ddf1-4a75-bf9e-7fd330f4ba9b",
   "metadata": {},
   "outputs": [
    {
     "name": "stdout",
     "output_type": "stream",
     "text": [
      "The original list is : [1, 2, 3, 4, 5, 6, 7, 8, 9, 10, 11, 12, 13, 14, 15, 16, 17, 18, 19, 20, 21, 22, 23, 24, 25, 26, 27, 28, 29, 30, 31, 32, 33, 34, 35, 36, 37, 38, 39, 40, 41, 42, 43, 44, 45, 46, 47, 48, 49, 50, 51, 52, 53, 54, 55, 56, 57, 58, 59, 60, 61, 62, 63, 64, 65, 66, 67, 68, 69, 70, 71, 72, 73, 74, 75, 76, 77, 78, 79, 80, 81, 82, 83, 84, 85, 86, 87, 88, 89, 90, 91, 92, 93, 94, 95, 96, 97, 98, 99, 100, 101, 102, 103, 104, 105, 106, 107, 108, 109, 110, 111, 112, 113, 114, 115, 116, 117, 118, 119, 120, 121, 122, 123, 124, 125, 126, 127, 128, 129, 130, 131, 132, 133, 134, 135, 136, 137, 138, 139, 140, 141, 142, 143, 144, 145, 146, 147, 148, 149, 150, 151, 152, 153, 154, 155, 156, 157, 158, 159, 160, 161, 162, 163, 164, 165, 166, 167, 168, 169, 170, 171, 172, 173, 174, 175, 176, 177, 178, 179, 180, 181, 182, 183, 184, 185, 186, 187, 188, 189, 190, 191, 192, 193, 194, 195, 196, 197, 198, 199, 200, 201, 202, 203, 204, 205, 206, 207, 208, 209, 210, 211, 212, 213, 214, 215, 216, 217, 218, 219, 220, 221, 222, 223, 224, 225, 226, 227, 228, 229, 230, 231, 232, 233, 234, 235, 236, 237, 238, 239, 240, 241, 242, 243, 244, 245, 246, 247, 248, 249, 250, 251, 252, 253, 254, 255, 256, 257, 258, 259, 260, 261, 262, 263, 264, 265, 266, 267, 268, 269, 270, 271, 272, 273, 274, 275, 276, 277, 278, 279, 280, 281, 282, 283, 284, 285, 286, 287, 288, 289, 290, 291, 292, 293, 294, 295, 296, 297, 298, 299, 300, 301, 302, 303, 304, 305, 306, 307, 308, 309, 310, 311, 312, 313, 314, 315, 316, 317, 318, 319, 320, 321, 322, 323, 324, 325, 326, 327, 328, 329, 330, 331, 332, 333, 334, 335, 336, 337, 338, 339, 340, 341, 342, 343, 344, 345, 346, 347, 348, 349, 350, 351, 352, 353, 354, 355, 356, 357, 358, 359, 360, 361, 362, 363, 364, 365, 366, 367, 368, 369, 370, 371, 372, 373, 374, 375, 376, 377, 378, 379, 380, 381, 382, 383, 384, 385, 386, 387, 388, 389, 390, 391, 392, 393, 394, 395, 396, 397, 398, 399, 400, 401, 402, 403, 404, 405, 406, 407, 408, 409, 410, 411, 412, 413, 414, 415, 416, 417, 418, 419, 420, 421, 422, 423, 424, 425, 426, 427, 428, 429, 430, 431, 432, 433, 434, 435, 436, 437, 438, 439, 440, 441, 442, 443, 444, 445, 446, 447, 448, 449, 450, 451, 452, 453, 454, 455, 456, 457, 458, 459, 460, 461, 462, 463, 464, 465, 466, 467, 468, 469, 470, 471, 472, 473, 474, 475, 476, 477, 478, 479, 480, 481, 482, 483, 484, 485, 486, 487, 488, 489, 490, 491, 492, 493, 494, 495, 496, 497, 498, 499, 500, 501, 502, 503, 504, 505, 506, 507, 508, 509, 510, 511, 512, 513, 514, 515, 516, 517, 518, 519, 520, 521, 522, 523, 524, 525, 526, 527, 528, 529, 530, 531, 532, 533, 534, 535, 536, 537, 538, 539, 540, 541, 542, 543, 544, 545, 546, 547, 548, 549, 550, 551, 552, 553, 554, 555, 556, 557, 558, 559, 560, 561, 562, 563, 564, 565, 566, 567, 568, 569, 570, 571, 572, 573, 574, 575, 576, 577, 578, 579, 580, 581, 582, 583, 584, 585, 586, 587, 588, 589, 590, 591, 592, 593, 594, 595, 596, 597, 598, 599, 600, 601, 602, 603, 604, 605, 606, 607, 608, 609, 610, 611, 612, 613, 614, 615, 616, 617, 618, 619, 620, 621, 622, 623, 624, 625, 626, 627, 628, 629, 630, 631, 632, 633, 634, 635, 636, 637, 638, 639, 640, 641, 642, 643, 644, 645, 646, 647, 648, 649, 650, 651, 652, 653, 654, 655, 656, 657, 658, 659, 660, 661, 662, 663, 664, 665, 666, 667, 668, 669, 670, 671, 672, 673, 674, 675, 676, 677, 678, 679, 680, 681, 682, 683, 684, 685, 686, 687, 688, 689, 690, 691, 692, 693, 694, 695, 696, 697, 698, 699, 700, 701, 702, 703, 704, 705, 706, 707, 708, 709, 710, 711, 712, 713, 714, 715, 716, 717, 718, 719, 720, 721, 722, 723, 724, 725, 726, 727, 728, 729, 730, 731, 732, 733, 734, 735, 736, 737, 738, 739, 740, 741, 742, 743, 744, 745, 746, 747, 748, 749, 750, 751, 752, 753, 754, 755, 756, 757, 758, 759, 760, 761, 762, 763, 764, 765, 766, 767, 768, 769, 770, 771, 772, 773, 774, 775, 776, 777, 778, 779, 780, 781, 782, 783, 784, 785, 786, 787, 788, 789, 790, 791, 792, 793, 794, 795, 796, 797, 798, 799, 800, 801, 802, 803, 804, 805, 806, 807, 808, 809, 810, 811, 812, 813, 814, 815, 816, 817, 818, 819, 820, 821, 822, 823, 824, 825, 826, 827, 828, 829, 830, 831, 832, 833, 834, 835, 836, 837, 838, 839, 840, 841, 842, 843, 844, 845, 846, 847, 848, 849, 850, 851, 852, 853, 854, 855, 856, 857, 858, 859, 860, 861, 862, 863, 864, 865, 866, 867, 868, 869, 870, 871, 872, 873, 874, 875, 876, 877, 878, 879, 880, 881, 882, 883, 884, 885, 886, 887, 888, 889, 890, 891, 892, 893, 894, 895, 896, 897, 898, 899, 900, 901, 902, 903, 904, 905, 906, 907, 908, 909, 910, 911, 912, 913, 914, 915, 916, 917, 918, 919, 920, 921, 922, 923, 924, 925, 926, 927, 928, 929, 930, 931, 932, 933, 934, 935, 936, 937, 938, 939, 940, 941, 942, 943, 944, 945, 946, 947, 948, 949, 950, 951, 952, 953, 954, 955, 956, 957, 958, 959, 960, 961, 962, 963, 964, 965, 966, 967, 968, 969, 970, 971, 972, 973, 974, 975, 976, 977, 978, 979, 980, 981, 982, 983, 984, 985, 986, 987, 988, 989, 990, 991, 992, 993, 994, 995, 996, 997, 998, 999, 1000]\n",
      "List Integer Summation : [1, 2, 3, 4, 5, 6, 7, 8, 9, 1, 2, 3, 4, 5, 6, 7, 8, 9, 10, 2, 3, 4, 5, 6, 7, 8, 9, 10, 11, 3, 4, 5, 6, 7, 8, 9, 10, 11, 12, 4, 5, 6, 7, 8, 9, 10, 11, 12, 13, 5, 6, 7, 8, 9, 10, 11, 12, 13, 14, 6, 7, 8, 9, 10, 11, 12, 13, 14, 15, 7, 8, 9, 10, 11, 12, 13, 14, 15, 16, 8, 9, 10, 11, 12, 13, 14, 15, 16, 17, 9, 10, 11, 12, 13, 14, 15, 16, 17, 18, 1, 2, 3, 4, 5, 6, 7, 8, 9, 10, 2, 3, 4, 5, 6, 7, 8, 9, 10, 11, 3, 4, 5, 6, 7, 8, 9, 10, 11, 12, 4, 5, 6, 7, 8, 9, 10, 11, 12, 13, 5, 6, 7, 8, 9, 10, 11, 12, 13, 14, 6, 7, 8, 9, 10, 11, 12, 13, 14, 15, 7, 8, 9, 10, 11, 12, 13, 14, 15, 16, 8, 9, 10, 11, 12, 13, 14, 15, 16, 17, 9, 10, 11, 12, 13, 14, 15, 16, 17, 18, 10, 11, 12, 13, 14, 15, 16, 17, 18, 19, 2, 3, 4, 5, 6, 7, 8, 9, 10, 11, 3, 4, 5, 6, 7, 8, 9, 10, 11, 12, 4, 5, 6, 7, 8, 9, 10, 11, 12, 13, 5, 6, 7, 8, 9, 10, 11, 12, 13, 14, 6, 7, 8, 9, 10, 11, 12, 13, 14, 15, 7, 8, 9, 10, 11, 12, 13, 14, 15, 16, 8, 9, 10, 11, 12, 13, 14, 15, 16, 17, 9, 10, 11, 12, 13, 14, 15, 16, 17, 18, 10, 11, 12, 13, 14, 15, 16, 17, 18, 19, 11, 12, 13, 14, 15, 16, 17, 18, 19, 20, 3, 4, 5, 6, 7, 8, 9, 10, 11, 12, 4, 5, 6, 7, 8, 9, 10, 11, 12, 13, 5, 6, 7, 8, 9, 10, 11, 12, 13, 14, 6, 7, 8, 9, 10, 11, 12, 13, 14, 15, 7, 8, 9, 10, 11, 12, 13, 14, 15, 16, 8, 9, 10, 11, 12, 13, 14, 15, 16, 17, 9, 10, 11, 12, 13, 14, 15, 16, 17, 18, 10, 11, 12, 13, 14, 15, 16, 17, 18, 19, 11, 12, 13, 14, 15, 16, 17, 18, 19, 20, 12, 13, 14, 15, 16, 17, 18, 19, 20, 21, 4, 5, 6, 7, 8, 9, 10, 11, 12, 13, 5, 6, 7, 8, 9, 10, 11, 12, 13, 14, 6, 7, 8, 9, 10, 11, 12, 13, 14, 15, 7, 8, 9, 10, 11, 12, 13, 14, 15, 16, 8, 9, 10, 11, 12, 13, 14, 15, 16, 17, 9, 10, 11, 12, 13, 14, 15, 16, 17, 18, 10, 11, 12, 13, 14, 15, 16, 17, 18, 19, 11, 12, 13, 14, 15, 16, 17, 18, 19, 20, 12, 13, 14, 15, 16, 17, 18, 19, 20, 21, 13, 14, 15, 16, 17, 18, 19, 20, 21, 22, 5, 6, 7, 8, 9, 10, 11, 12, 13, 14, 6, 7, 8, 9, 10, 11, 12, 13, 14, 15, 7, 8, 9, 10, 11, 12, 13, 14, 15, 16, 8, 9, 10, 11, 12, 13, 14, 15, 16, 17, 9, 10, 11, 12, 13, 14, 15, 16, 17, 18, 10, 11, 12, 13, 14, 15, 16, 17, 18, 19, 11, 12, 13, 14, 15, 16, 17, 18, 19, 20, 12, 13, 14, 15, 16, 17, 18, 19, 20, 21, 13, 14, 15, 16, 17, 18, 19, 20, 21, 22, 14, 15, 16, 17, 18, 19, 20, 21, 22, 23, 6, 7, 8, 9, 10, 11, 12, 13, 14, 15, 7, 8, 9, 10, 11, 12, 13, 14, 15, 16, 8, 9, 10, 11, 12, 13, 14, 15, 16, 17, 9, 10, 11, 12, 13, 14, 15, 16, 17, 18, 10, 11, 12, 13, 14, 15, 16, 17, 18, 19, 11, 12, 13, 14, 15, 16, 17, 18, 19, 20, 12, 13, 14, 15, 16, 17, 18, 19, 20, 21, 13, 14, 15, 16, 17, 18, 19, 20, 21, 22, 14, 15, 16, 17, 18, 19, 20, 21, 22, 23, 15, 16, 17, 18, 19, 20, 21, 22, 23, 24, 7, 8, 9, 10, 11, 12, 13, 14, 15, 16, 8, 9, 10, 11, 12, 13, 14, 15, 16, 17, 9, 10, 11, 12, 13, 14, 15, 16, 17, 18, 10, 11, 12, 13, 14, 15, 16, 17, 18, 19, 11, 12, 13, 14, 15, 16, 17, 18, 19, 20, 12, 13, 14, 15, 16, 17, 18, 19, 20, 21, 13, 14, 15, 16, 17, 18, 19, 20, 21, 22, 14, 15, 16, 17, 18, 19, 20, 21, 22, 23, 15, 16, 17, 18, 19, 20, 21, 22, 23, 24, 16, 17, 18, 19, 20, 21, 22, 23, 24, 25, 8, 9, 10, 11, 12, 13, 14, 15, 16, 17, 9, 10, 11, 12, 13, 14, 15, 16, 17, 18, 10, 11, 12, 13, 14, 15, 16, 17, 18, 19, 11, 12, 13, 14, 15, 16, 17, 18, 19, 20, 12, 13, 14, 15, 16, 17, 18, 19, 20, 21, 13, 14, 15, 16, 17, 18, 19, 20, 21, 22, 14, 15, 16, 17, 18, 19, 20, 21, 22, 23, 15, 16, 17, 18, 19, 20, 21, 22, 23, 24, 16, 17, 18, 19, 20, 21, 22, 23, 24, 25, 17, 18, 19, 20, 21, 22, 23, 24, 25, 26, 9, 10, 11, 12, 13, 14, 15, 16, 17, 18, 10, 11, 12, 13, 14, 15, 16, 17, 18, 19, 11, 12, 13, 14, 15, 16, 17, 18, 19, 20, 12, 13, 14, 15, 16, 17, 18, 19, 20, 21, 13, 14, 15, 16, 17, 18, 19, 20, 21, 22, 14, 15, 16, 17, 18, 19, 20, 21, 22, 23, 15, 16, 17, 18, 19, 20, 21, 22, 23, 24, 16, 17, 18, 19, 20, 21, 22, 23, 24, 25, 17, 18, 19, 20, 21, 22, 23, 24, 25, 26, 18, 19, 20, 21, 22, 23, 24, 25, 26, 27, 1]\n"
     ]
    }
   ],
   "source": [
    "'''39. Develop a program that calculates the sum of the digits of numbers from 1 to 1000 using list\n",
    "comprehension.'''\n",
    "\n",
    "test_list = list(range(1,1001,1))\n",
    " \n",
    "# printing original list\n",
    "print(\"The original list is : \" + str(test_list))\n",
    " \n",
    "# Sum of number digits in List\n",
    "# using sum() + list comprehension\n",
    "res = list(map(lambda ele: sum(int(sub) for sub in str(ele)), test_list))\n",
    "     \n",
    "# printing result \n",
    "print (\"List Integer Summation : \" + str(res))"
   ]
  },
  {
   "cell_type": "code",
   "execution_count": 69,
   "id": "32ccb5bd-dac2-4629-abf9-6acd451fa01e",
   "metadata": {},
   "outputs": [
    {
     "name": "stdout",
     "output_type": "stream",
     "text": [
      "Prime numbers: [7, 11, 13, 17, 19, 23, 29, 31, 37, 41, 43, 47, 49, 53, 59, 61, 67, 71, 73, 77, 79, 83, 89, 91, 97]\n",
      "Palindrome numbers: [2, 3, 4, 5, 6, 7, 8, 9, 11, 22, 33, 44, 55, 66, 77, 88, 99]\n"
     ]
    }
   ],
   "source": [
    "'''40. Write a program that generates a list of prime palindromic numbers using list comprehension.'''\n",
    "\n",
    "\n",
    "primes = []\n",
    "for num in range(2, 100):\n",
    "    if num % 2 == 0 or num % 3 == 0 or num % 5 == 0:\n",
    "        continue\n",
    "    primes.append(num)\n",
    "print(\"Prime numbers:\", primes)\n",
    "\n",
    "def is_palindrome(num):\n",
    "    return str(num) == str(num)[::-1]\n",
    " \n",
    "def palindrome_range(start, end):\n",
    "    nums = list(range(start, end+1))\n",
    "    palindromes = list(filter(lambda x: is_palindrome(x), nums))\n",
    "    return palindromes\n",
    " \n",
    "start=2\n",
    "end=100\n",
    "print(\"Palindrome numbers:\", palindrome_range(start, end))\n",
    "\n",
    "\n"
   ]
  },
  {
   "cell_type": "code",
   "execution_count": 75,
   "id": "56ebf1ff-d968-46e4-8eec-f19139312b67",
   "metadata": {},
   "outputs": [
    {
     "name": "stdout",
     "output_type": "stream",
     "text": [
      "Prime_palindrome_numbers: [11, 77, 7]\n"
     ]
    }
   ],
   "source": [
    "Prime_numbers = [7, 11, 13, 17, 19, 23, 29, 31, 37, 41, 43, 47, 49, 53, 59, 61, 67, 71, 73, 77, 79, 83, 89, 91, 97]\n",
    "Palindrome_numbers = [2, 3, 4, 5, 6, 7, 8, 9, 11, 22, 33, 44, 55, 66, 77, 88, 99]\n",
    "\n",
    "\n",
    "Prime_palindrome_numbers = list(set(Prime_numbers).intersection(Palindrome_numbers))\n",
    "print(\"Prime_palindrome_numbers:\", Prime_palindrome_numbers)"
   ]
  },
  {
   "cell_type": "code",
   "execution_count": null,
   "id": "d1bc49fb-f4f5-4812-adae-951f3b01d50e",
   "metadata": {},
   "outputs": [],
   "source": []
  }
 ],
 "metadata": {
  "kernelspec": {
   "display_name": "Python 3 (ipykernel)",
   "language": "python",
   "name": "python3"
  },
  "language_info": {
   "codemirror_mode": {
    "name": "ipython",
    "version": 3
   },
   "file_extension": ".py",
   "mimetype": "text/x-python",
   "name": "python",
   "nbconvert_exporter": "python",
   "pygments_lexer": "ipython3",
   "version": "3.10.8"
  }
 },
 "nbformat": 4,
 "nbformat_minor": 5
}
