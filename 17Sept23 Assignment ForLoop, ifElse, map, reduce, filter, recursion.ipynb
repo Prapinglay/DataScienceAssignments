{
 "cells": [
  {
   "cell_type": "code",
   "execution_count": null,
   "id": "03948d63-5719-4a40-8f7c-b523a7a096c7",
   "metadata": {},
   "outputs": [],
   "source": [
    "# For Loop"
   ]
  },
  {
   "cell_type": "code",
   "execution_count": null,
   "id": "ff0d8c66-7ed7-4dd5-a184-5122ae57a4f5",
   "metadata": {},
   "outputs": [],
   "source": [
    "# 1.Write a Python program to print numbers from 1 to 10 using a for loop"
   ]
  },
  {
   "cell_type": "code",
   "execution_count": 2,
   "id": "e5998a9f-5a9d-4e32-bc76-54c268083c72",
   "metadata": {},
   "outputs": [
    {
     "name": "stdout",
     "output_type": "stream",
     "text": [
      "0\n",
      "1\n",
      "2\n",
      "3\n",
      "4\n",
      "5\n",
      "6\n",
      "7\n",
      "8\n",
      "9\n",
      "10\n"
     ]
    }
   ],
   "source": [
    "for i in range(0,11):\n",
    "    print(i)"
   ]
  },
  {
   "cell_type": "markdown",
   "id": "900a263e-7b4d-4fdf-9201-b666b3f47368",
   "metadata": {},
   "source": [
    "# 2.Explain the difference between a for loop and a while loop in Python.\n",
    "\n",
    " Ans: A 'for loo'p is a control flow statement that executes code repeatedly for a particular number of iterations. The for loop is used \n",
    " when the number of iterations is already known.\n",
    " A 'while loop' that executes a single statement or a group of statements for the given true condition. A \"while\" loop is used when the number \n",
    " of iterations is unknown. The statement repeats itself till the boolean value becomes false."
   ]
  },
  {
   "cell_type": "code",
   "execution_count": null,
   "id": "46c0e60b-1e7a-4392-94e8-a9fdc3f99fd0",
   "metadata": {},
   "outputs": [],
   "source": [
    "# 3.Write a Python program to calculate the sum of all numbers from 1 to 100 using a for loop."
   ]
  },
  {
   "cell_type": "code",
   "execution_count": 1,
   "id": "5fba4058-d9c5-43ca-a02e-e263a26be53e",
   "metadata": {},
   "outputs": [
    {
     "name": "stdout",
     "output_type": "stream",
     "text": [
      "Sum of all the elements in the list is: 5050\n"
     ]
    }
   ],
   "source": [
    "List1 = list(range(101))\n",
    "sumOfElements = 0\n",
    "for element in List1:\n",
    "    sumOfElements = sumOfElements + element\n",
    "\n",
    "print(\"Sum of all the elements in the list is:\", sumOfElements)"
   ]
  },
  {
   "cell_type": "markdown",
   "id": "40935bcb-cdb5-457c-a024-8592b69ed48e",
   "metadata": {},
   "source": [
    "# 4.How do you iterate through a list using a for loop in Python?\n",
    "\n",
    "ANS: \n",
    "for item in list:\n",
    "In this syntax, the for loop statement assigns an individual element of the list to the item variable in each iteration.\n",
    "Inside the body of the loop, you can manipulate each list element individually.\n",
    "For example, the following defines a list of cities and uses a for loop to iterate over the list:"
   ]
  },
  {
   "cell_type": "code",
   "execution_count": 2,
   "id": "687c6173-0fb1-41b3-a24e-fc76b3c51795",
   "metadata": {},
   "outputs": [
    {
     "name": "stdout",
     "output_type": "stream",
     "text": [
      "New York\n",
      "Beijing\n",
      "Cairo\n",
      "Mumbai\n",
      "Mexico\n"
     ]
    }
   ],
   "source": [
    "cities = ['New York', 'Beijing', 'Cairo', 'Mumbai', 'Mexico']\n",
    "\n",
    "for city in cities:\n",
    "    print(city)"
   ]
  },
  {
   "cell_type": "code",
   "execution_count": null,
   "id": "de0d1d8f-ac3d-491e-94a6-8e8d48c8048f",
   "metadata": {},
   "outputs": [],
   "source": [
    "# 5. Write a Python program to find the product of all elements in a list using a for loop."
   ]
  },
  {
   "cell_type": "code",
   "execution_count": 23,
   "id": "69c9522e-668a-4e8d-ad45-9e4c256b9890",
   "metadata": {},
   "outputs": [
    {
     "name": "stdout",
     "output_type": "stream",
     "text": [
      "15120\n"
     ]
    }
   ],
   "source": [
    "l= [5,6,7,8,9]\n",
    "\n",
    "def prod_list(l):\n",
    "    product = 1\n",
    "    for i in l:\n",
    "        product = product * i\n",
    "    return product\n",
    "print(prod_list(l))"
   ]
  },
  {
   "cell_type": "code",
   "execution_count": null,
   "id": "09e584a0-a779-4f68-9957-3ea62d7da449",
   "metadata": {},
   "outputs": [],
   "source": [
    "# 6.Create a Python program that prints all even numbers from 1 to 20 using a for loop."
   ]
  },
  {
   "cell_type": "code",
   "execution_count": 26,
   "id": "59d1009c-cc40-488a-9cdf-39e5ddd7e459",
   "metadata": {},
   "outputs": [
    {
     "name": "stdout",
     "output_type": "stream",
     "text": [
      "2\n",
      "4\n",
      "6\n",
      "8\n",
      "10\n",
      "12\n",
      "14\n",
      "16\n",
      "18\n",
      "20\n"
     ]
    }
   ],
   "source": [
    "l1 = list(range(1, 21))\n",
    "for i in l1:\n",
    "    if i % 2 == 0:\n",
    "        print(i)"
   ]
  },
  {
   "cell_type": "code",
   "execution_count": null,
   "id": "ca5577d2-1717-4b49-85e0-cc0ad6797983",
   "metadata": {},
   "outputs": [],
   "source": [
    "# 7. Write a Python program that calculates the factorial of a number using a for loop."
   ]
  },
  {
   "cell_type": "code",
   "execution_count": 31,
   "id": "fba4c5e8-93f6-43db-8777-f4c661f14eec",
   "metadata": {},
   "outputs": [
    {
     "name": "stdin",
     "output_type": "stream",
     "text": [
      "Enter a number: 10\n"
     ]
    },
    {
     "name": "stdout",
     "output_type": "stream",
     "text": [
      "Factorial of 10 is 3628800\n"
     ]
    }
   ],
   "source": [
    "num = int(input(\"Enter a number:\"))\n",
    "factorial = 1\n",
    "for i in range(1, num+1):\n",
    "    factorial = factorial*i\n",
    "print(\"Factorial of\", num, \"is\", factorial) "
   ]
  },
  {
   "cell_type": "code",
   "execution_count": null,
   "id": "a39f4582-44ee-4be0-bdba-e3c466b58c00",
   "metadata": {},
   "outputs": [],
   "source": [
    "# 8.How can you iterate through the characters of a string using a for loop in Python?"
   ]
  },
  {
   "cell_type": "code",
   "execution_count": 36,
   "id": "999abf7e-9d7d-4b56-b60b-095d798c7e6b",
   "metadata": {},
   "outputs": [
    {
     "name": "stdout",
     "output_type": "stream",
     "text": [
      "p r a j a k t a "
     ]
    }
   ],
   "source": [
    "s = \"prajakta\"\n",
    "for element in s:\n",
    "    print(element, end=\" \")"
   ]
  },
  {
   "cell_type": "code",
   "execution_count": null,
   "id": "7f4f28f9-b082-46bf-9fd2-5f82af2d170a",
   "metadata": {},
   "outputs": [],
   "source": [
    "# 9. Write a Python program to find the largest number in a list using a for loop."
   ]
  },
  {
   "cell_type": "code",
   "execution_count": 39,
   "id": "a628ca0d-39ce-485a-9ba8-e8efcb41e941",
   "metadata": {},
   "outputs": [
    {
     "name": "stdout",
     "output_type": "stream",
     "text": [
      "2345\n"
     ]
    }
   ],
   "source": [
    "l2 = [45,78,94,2345,56,78,15,59,48,75,53]\n",
    "max = l2[0]\n",
    "for i in l2:\n",
    "    if max < i:\n",
    "        max = i\n",
    "print(max)"
   ]
  },
  {
   "cell_type": "code",
   "execution_count": null,
   "id": "1a7aebf8-a122-4db2-94cd-8034d5ca3b9f",
   "metadata": {},
   "outputs": [],
   "source": [
    "# 10. Create a Python program that prints the Fibonacci sequence up to a specified limit using a for loop."
   ]
  },
  {
   "cell_type": "code",
   "execution_count": 41,
   "id": "58c782d7-0a30-444d-8a23-8e9029f62980",
   "metadata": {},
   "outputs": [
    {
     "name": "stdin",
     "output_type": "stream",
     "text": [
      "Num of elements in FIbonacci series, N, (N>=2): 8\n"
     ]
    },
    {
     "name": "stdout",
     "output_type": "stream",
     "text": [
      "[0, 1, 1, 2, 3, 5, 8, 13]\n"
     ]
    }
   ],
   "source": [
    "n = int(input(\"Num of elements in FIbonacci series, N, (N>=2):\"))\n",
    "fibonacciSeries = [0,1]\n",
    "if n>2:\n",
    "    for i in range(2, n):\n",
    "        nextElement = fibonacciSeries[i-1] + fibonacciSeries[i-2]\n",
    "        fibonacciSeries.append(nextElement)\n",
    "print(fibonacciSeries)"
   ]
  },
  {
   "cell_type": "code",
   "execution_count": null,
   "id": "2ca0146c-7c99-4c6f-a2a8-989ba5a9417f",
   "metadata": {},
   "outputs": [],
   "source": [
    "# 11. Write a Python program to count the number of vowels in a given string using a for loop."
   ]
  },
  {
   "cell_type": "code",
   "execution_count": 45,
   "id": "617c308e-2a1f-4745-8288-a46474dc2e8b",
   "metadata": {},
   "outputs": [
    {
     "name": "stdout",
     "output_type": "stream",
     "text": [
      "9\n"
     ]
    }
   ],
   "source": [
    "string = \"Data science python assignment\"\n",
    "count = 0\n",
    "i = 0\n",
    "for i in string:\n",
    "    if(i=='a'or i=='e'or i=='i'or i=='o'or i=='u'or i=='A'or i=='E'or i=='I'or i=='O'or i=='U'):\n",
    "        count = count + 1\n",
    "print(count)"
   ]
  },
  {
   "cell_type": "code",
   "execution_count": null,
   "id": "3f6ae158-bd43-4530-9e24-06deaf4ab84a",
   "metadata": {},
   "outputs": [],
   "source": [
    "# 12. Create a Python program that generates a multiplication table for a given number using a for loop."
   ]
  },
  {
   "cell_type": "code",
   "execution_count": 46,
   "id": "f84a7b1f-7791-464c-a7f2-5a32b72ed8c6",
   "metadata": {},
   "outputs": [
    {
     "name": "stdin",
     "output_type": "stream",
     "text": [
      "Enter a number which we want to write table: 14\n"
     ]
    },
    {
     "name": "stdout",
     "output_type": "stream",
     "text": [
      "14 X 1 = 14\n",
      "14 X 2 = 28\n",
      "14 X 3 = 42\n",
      "14 X 4 = 56\n",
      "14 X 5 = 70\n",
      "14 X 6 = 84\n",
      "14 X 7 = 98\n",
      "14 X 8 = 112\n",
      "14 X 9 = 126\n",
      "14 X 10 = 140\n"
     ]
    }
   ],
   "source": [
    "number = int(input(\"Enter a number which we want to write table:\"))\n",
    "\n",
    "for i in range(1, 11):\n",
    "    print(number, \"X\", i, \"=\", number*i)"
   ]
  },
  {
   "cell_type": "code",
   "execution_count": null,
   "id": "1489cc04-da8f-4e60-9c20-21b7675f0383",
   "metadata": {},
   "outputs": [],
   "source": [
    "# 13.Write a Python program to reverse a list using a for loop."
   ]
  },
  {
   "cell_type": "code",
   "execution_count": 50,
   "id": "0c314e0d-4849-436d-bb43-4f662036855e",
   "metadata": {},
   "outputs": [
    {
     "name": "stdout",
     "output_type": "stream",
     "text": [
      "Reverse string:  yalgnip atkajarp\n"
     ]
    }
   ],
   "source": [
    "s2 = \"prajakta pinglay\"\n",
    "reverse = \" \"\n",
    "for i in range(len(s2), 0, -1):\n",
    "    reverse += s2[i-1]\n",
    "print(\"Reverse string:\", reverse)"
   ]
  },
  {
   "cell_type": "code",
   "execution_count": null,
   "id": "bba1e37d-6e26-4b5c-a01f-240970b47c97",
   "metadata": {},
   "outputs": [],
   "source": [
    "# 14. Write a Python program to find the common elements between two lists using a for loop."
   ]
  },
  {
   "cell_type": "code",
   "execution_count": 55,
   "id": "0986807d-a2bb-41bb-ba67-14805b94a5a4",
   "metadata": {},
   "outputs": [
    {
     "name": "stdout",
     "output_type": "stream",
     "text": [
      "[4, 5, 6, 7, 8]\n"
     ]
    }
   ],
   "source": [
    "a= [1,2,3,4,5,6,7,8]\n",
    "b= [9,8,7,6,5,4]\n",
    "common_element = []\n",
    "for i in a:\n",
    "    if i in b:\n",
    "        common_element.append(i)\n",
    "print(common_element)"
   ]
  },
  {
   "cell_type": "markdown",
   "id": "431b3f98-f420-4246-a632-3cac5d8f162c",
   "metadata": {},
   "source": [
    "# 15. Explain how to use a for loop to iterate through the keys and values of a dictionary in Python.\n",
    "\n",
    "ANS: In Python, to iterate through a dictionary (dict) with a for loop, use the keys(), values(), and items() methods. You can also get a list of all the keys and values in a dictionary using those methods and list().\n"
   ]
  },
  {
   "cell_type": "code",
   "execution_count": 56,
   "id": "1c6b583a-d0d3-4a53-9ddb-cb6ce59497d3",
   "metadata": {},
   "outputs": [
    {
     "name": "stdout",
     "output_type": "stream",
     "text": [
      "name\n",
      "age\n",
      "city\n"
     ]
    }
   ],
   "source": [
    "person = {\"name\": \"John\", \"age\": 30, \"city\": \"New York\"}\n",
    "for key in person.keys():\n",
    "    print(key)"
   ]
  },
  {
   "cell_type": "code",
   "execution_count": 57,
   "id": "c1e31e83-f044-49d6-b6cb-9a279564cde4",
   "metadata": {},
   "outputs": [
    {
     "name": "stdout",
     "output_type": "stream",
     "text": [
      "John\n",
      "30\n",
      "New York\n"
     ]
    }
   ],
   "source": [
    "person = {\"name\": \"John\", \"age\": 30, \"city\": \"New York\"}\n",
    "for value in person.values():\n",
    "    print(value)"
   ]
  },
  {
   "cell_type": "code",
   "execution_count": null,
   "id": "2369203b-2155-44bd-aa1e-8bc1ef9d0f95",
   "metadata": {},
   "outputs": [],
   "source": [
    "# 16. Write a Python program to find the GCD (Greatest Common Divisor) of two numbers using a for loop."
   ]
  },
  {
   "cell_type": "code",
   "execution_count": 60,
   "id": "93a40a96-1fea-4228-be14-6198799c4e33",
   "metadata": {},
   "outputs": [
    {
     "name": "stdin",
     "output_type": "stream",
     "text": [
      "Enter first number: 100\n",
      "Enter second number: 150\n"
     ]
    },
    {
     "name": "stdout",
     "output_type": "stream",
     "text": [
      "50\n"
     ]
    }
   ],
   "source": [
    "num1 = int(input(\"Enter first number:\"))\n",
    "num2 = int(input(\"Enter second number:\"))\n",
    "for i in range(1, min(num1, num2)+1):\n",
    "    if num1%i == 0 and num2%i == 0:\n",
    "        result = i\n",
    "print(result)"
   ]
  },
  {
   "cell_type": "code",
   "execution_count": null,
   "id": "d9047194-052f-4a6f-a2c0-f809ca83f02b",
   "metadata": {},
   "outputs": [],
   "source": [
    "# 17. Create a Python program that checks if a string is a palindrome using a for loop."
   ]
  },
  {
   "cell_type": "code",
   "execution_count": 4,
   "id": "45e301da-ba46-459a-b6e4-1841937885e5",
   "metadata": {
    "jp-MarkdownHeadingCollapsed": true,
    "tags": []
   },
   "outputs": [
    {
     "name": "stdout",
     "output_type": "stream",
     "text": [
      "Yes\n"
     ]
    }
   ],
   "source": [
    "def isPalindrome(str):\n",
    "    for i in range(0, int(len(str)/2)):\n",
    "        if str[i] != str[len(str)-i-1]:\n",
    "            return False\n",
    "    return True\n",
    "s = \"malayalam\"\n",
    "ans = isPalindrome(s)\n",
    " \n",
    "if (ans):\n",
    "    print(\"Yes\")\n",
    "else:\n",
    "    print(\"No\")"
   ]
  },
  {
   "cell_type": "code",
   "execution_count": null,
   "id": "5632a8c0-b874-4c68-bae9-150448cac477",
   "metadata": {},
   "outputs": [],
   "source": [
    "# 18. Write a Python program to remove duplicates from a list using a for loop."
   ]
  },
  {
   "cell_type": "code",
   "execution_count": 8,
   "id": "dba5114d-bd57-4595-af48-b538db719e49",
   "metadata": {},
   "outputs": [
    {
     "name": "stdout",
     "output_type": "stream",
     "text": [
      "[2, 4, 10, 20, 5]\n"
     ]
    }
   ],
   "source": [
    "duplicate = [2, 4, 10, 20, 5, 2, 20, 4]\n",
    "def Remove(duplicate):\n",
    "    final_list = []\n",
    "    for num in duplicate:\n",
    "        if num not in final_list:\n",
    "            final_list.append(num)\n",
    "    return final_list\n",
    "print(Remove(duplicate))"
   ]
  },
  {
   "cell_type": "code",
   "execution_count": null,
   "id": "8d232251-7242-4673-a697-cb7bb9475bf8",
   "metadata": {},
   "outputs": [],
   "source": [
    "# 19.Create a Python program that counts the number of words in a sentence using a for loop."
   ]
  },
  {
   "cell_type": "code",
   "execution_count": 13,
   "id": "1b3c5883-c94c-4f4e-bea9-6747325e7365",
   "metadata": {},
   "outputs": [
    {
     "name": "stdin",
     "output_type": "stream",
     "text": [
      "Enter the String:  this is prajakta pinglay student of data science class\n"
     ]
    },
    {
     "name": "stdout",
     "output_type": "stream",
     "text": [
      "\n",
      "Number of Word(s): \n",
      "9\n"
     ]
    }
   ],
   "source": [
    "text = input(\"Enter the String: \")\n",
    "chk = 0\n",
    "countWord = 0\n",
    "textLen = len(text)\n",
    "\n",
    "for i in range(textLen):\n",
    "    if text[i]==' ':\n",
    "        if chk!=0:\n",
    "            countWord = countWord+1\n",
    "        chk = 0\n",
    "    else:\n",
    "        chk = chk+1\n",
    "\n",
    "if chk!=0:\n",
    "    countWord = countWord+1\n",
    "\n",
    "print(\"\\nNumber of Word(s): \")\n",
    "print(countWord)"
   ]
  },
  {
   "cell_type": "code",
   "execution_count": null,
   "id": "27ec24f4-a2b8-4fc4-b831-285b7939588b",
   "metadata": {},
   "outputs": [],
   "source": [
    "# 20. Write a Python program to find the sum of all odd numbers from 1 to 50 using a for loop."
   ]
  },
  {
   "cell_type": "code",
   "execution_count": 14,
   "id": "655b0b94-3af6-4332-b651-56f9e6d34b8b",
   "metadata": {},
   "outputs": [
    {
     "name": "stdout",
     "output_type": "stream",
     "text": [
      "625\n"
     ]
    }
   ],
   "source": [
    "l2 = []\n",
    "for i in range(1, 51):\n",
    "    if i%2 == 1:\n",
    "        l2.append(i)\n",
    "print(sum(l2))"
   ]
  },
  {
   "cell_type": "code",
   "execution_count": null,
   "id": "3bd17180-2f60-44a2-9360-fd5a70f14b37",
   "metadata": {},
   "outputs": [],
   "source": [
    "# 21. Write a Python program that checks if a given year is a leap year using a for loop."
   ]
  },
  {
   "cell_type": "code",
   "execution_count": 35,
   "id": "e0f9d6fa-08e4-4268-939c-c63745785f50",
   "metadata": {},
   "outputs": [
    {
     "name": "stdin",
     "output_type": "stream",
     "text": [
      "Enter any year that is to be checked for leap year:  2024\n"
     ]
    },
    {
     "name": "stdout",
     "output_type": "stream",
     "text": [
      "2024 is a leap year\n"
     ]
    }
   ],
   "source": [
    "year = int (input (\"Enter any year that is to be checked for leap year: \"))\n",
    "if (year % 400 == 0) and (year % 100 == 0):\n",
    "    print(\"{0} is a leap year\".format(year))\n",
    "elif (year % 4 ==0) and (year % 100 != 0):\n",
    "    print(\"{0} is a leap year\".format(year))\n",
    "else:\n",
    "    print(\"{0} is not a leap year\".format(year))"
   ]
  },
  {
   "cell_type": "code",
   "execution_count": null,
   "id": "a6c096e0-52c0-4b42-949f-c7b0f5b002e4",
   "metadata": {},
   "outputs": [],
   "source": [
    "# 22. Create a Python program that calculates the square root of a number using a for loop."
   ]
  },
  {
   "cell_type": "code",
   "execution_count": 19,
   "id": "0c0a9c54-b59a-4eea-8954-478d7126eeb2",
   "metadata": {},
   "outputs": [
    {
     "name": "stdout",
     "output_type": "stream",
     "text": [
      "3\n"
     ]
    }
   ],
   "source": [
    "def countSquares(x):\n",
    "    sqrt = x**0.5\n",
    "    result = int(sqrt)\n",
    "    return result\n",
    "x = 9\n",
    "print(countSquares(x))"
   ]
  },
  {
   "cell_type": "code",
   "execution_count": null,
   "id": "7c25a063-a1e6-4551-afdb-896d3c45a72c",
   "metadata": {},
   "outputs": [],
   "source": [
    "# 23. Write a Python program to find the LCM (Least Common Multiple) of two numbers using a for loop."
   ]
  },
  {
   "cell_type": "code",
   "execution_count": 21,
   "id": "8ce516c6-6cc3-4c8b-a210-a0e877e7f39c",
   "metadata": {},
   "outputs": [
    {
     "name": "stdout",
     "output_type": "stream",
     "text": [
      "24\n"
     ]
    }
   ],
   "source": [
    "def lcm(number1, number2):\n",
    "    for i in range(1, number2 + 1):\n",
    "        a = number1 * i\n",
    "        for j in range(1, number1 + 1):\n",
    "            b = number2 * j\n",
    "            if b == a:\n",
    "                return a\n",
    "print(lcm(6, 8))  "
   ]
  },
  {
   "cell_type": "code",
   "execution_count": null,
   "id": "31cd8766-6401-4a80-a65b-e48509835356",
   "metadata": {},
   "outputs": [],
   "source": [
    "# If else :"
   ]
  },
  {
   "cell_type": "code",
   "execution_count": null,
   "id": "f09bc252-3ecc-474d-89d6-d7e7e1076ba5",
   "metadata": {},
   "outputs": [],
   "source": [
    "# 1.Write a Python program to check if a number is positive, negative, or zero using an if-else statement."
   ]
  },
  {
   "cell_type": "code",
   "execution_count": 22,
   "id": "96f1aaa0-0552-47d0-bb1b-cbd6fd26f964",
   "metadata": {},
   "outputs": [
    {
     "name": "stdin",
     "output_type": "stream",
     "text": [
      "Enter number: 8\n"
     ]
    },
    {
     "name": "stdout",
     "output_type": "stream",
     "text": [
      "Given number is positive\n"
     ]
    }
   ],
   "source": [
    "number = int(input(\"Enter number:\"))\n",
    "if number == 0:\n",
    "    print(\"Given number is zero\")\n",
    "elif number < 0:\n",
    "    print(\"Given number is negative\")\n",
    "else:\n",
    "    print(\"Given number is positive\")"
   ]
  },
  {
   "cell_type": "code",
   "execution_count": null,
   "id": "51faaf51-5abc-4959-b328-4ab3d58a3745",
   "metadata": {},
   "outputs": [],
   "source": [
    "# 2.Create a Python program that checks if a given number is even or odd using an if-else statement."
   ]
  },
  {
   "cell_type": "code",
   "execution_count": 24,
   "id": "041f68f6-d96b-4081-905f-2296ad420983",
   "metadata": {},
   "outputs": [
    {
     "name": "stdin",
     "output_type": "stream",
     "text": [
      "Enter number: 50\n"
     ]
    },
    {
     "name": "stdout",
     "output_type": "stream",
     "text": [
      "Given number is even\n"
     ]
    }
   ],
   "source": [
    "number = int(input(\"Enter number:\"))\n",
    "if number% 2 == 0:\n",
    "    print(\"Given number is even\")\n",
    "else:\n",
    "    print(\"Given number is odd\")"
   ]
  },
  {
   "cell_type": "markdown",
   "id": "a6439acc-26df-40f4-994a-f23fad801a05",
   "metadata": {},
   "source": [
    "3. How can you use nested if-else statements in Python, and provide an example?\n",
    "\n",
    "ANS:\n",
    "A nested if statement is an if clause placed inside an if or else code block. They make checking complex Python conditions and scenarios possible."
   ]
  },
  {
   "cell_type": "code",
   "execution_count": 36,
   "id": "25d98540-c5fc-4b80-b73f-4e20d35ca61f",
   "metadata": {},
   "outputs": [
    {
     "name": "stdout",
     "output_type": "stream",
     "text": [
      "Positive number\n"
     ]
    }
   ],
   "source": [
    "num = 15\n",
    "if num >= 0: \n",
    "    if num == 0: \n",
    "        print(\"Zero\") \n",
    "    else: \n",
    "        print(\"Positive number\") \n",
    "else: \n",
    "    print(\"Negative number\") "
   ]
  },
  {
   "cell_type": "code",
   "execution_count": null,
   "id": "4defa8ea-ded6-4536-9020-214a0caa4097",
   "metadata": {},
   "outputs": [],
   "source": [
    "# 4. Write a Python program to determine the largest of three numbers using if-else."
   ]
  },
  {
   "cell_type": "code",
   "execution_count": 37,
   "id": "edaa3171-1c36-474f-9921-0f8fe01f35a9",
   "metadata": {},
   "outputs": [
    {
     "name": "stdout",
     "output_type": "stream",
     "text": [
      "The largest number is 14\n"
     ]
    }
   ],
   "source": [
    "num1 = 10\n",
    "num2 = 14\n",
    "num3 = 12\n",
    "\n",
    "if (num1 >= num2) and (num1 >= num3):\n",
    "    largest = num1\n",
    "elif (num2 >= num1) and (num2 >= num3):\n",
    "    largest = num2\n",
    "else:\n",
    "    largest = num3\n",
    "\n",
    "print(\"The largest number is\", largest)"
   ]
  },
  {
   "cell_type": "code",
   "execution_count": null,
   "id": "083bc9f9-290b-46ac-9842-e1b158ea7baf",
   "metadata": {},
   "outputs": [],
   "source": [
    "# 5. Write a Python program that calculates the absolute value of a number using if-else."
   ]
  },
  {
   "cell_type": "code",
   "execution_count": 38,
   "id": "07b81d84-29c7-4480-a45c-1ff2f042702b",
   "metadata": {},
   "outputs": [
    {
     "name": "stdin",
     "output_type": "stream",
     "text": [
      "Enter a number:  -12\n"
     ]
    },
    {
     "name": "stdout",
     "output_type": "stream",
     "text": [
      "Absolute value: 12.0\n"
     ]
    }
   ],
   "source": [
    "number = float(input(\"Enter a number: \"))\n",
    "\n",
    "if number < 0:\n",
    "    absolute_value = -number\n",
    "else:\n",
    "    absolute_value = number\n",
    "\n",
    "print(\"Absolute value: \" + str(absolute_value))"
   ]
  },
  {
   "cell_type": "code",
   "execution_count": null,
   "id": "8c55a854-502b-4d4d-a080-b6e3c4cf7bf6",
   "metadata": {},
   "outputs": [],
   "source": [
    "# 6. Create a Python program that checks if a given character is a vowel or consonant using if-else."
   ]
  },
  {
   "cell_type": "code",
   "execution_count": 39,
   "id": "eec075a8-cfef-4f12-97b7-9da31264009b",
   "metadata": {},
   "outputs": [
    {
     "name": "stdin",
     "output_type": "stream",
     "text": [
      "Please Enter Your Own Character :  e\n"
     ]
    },
    {
     "name": "stdout",
     "output_type": "stream",
     "text": [
      "The Given Character  e is a Vowel\n"
     ]
    }
   ],
   "source": [
    "ch = input(\"Please Enter Your Own Character : \")\n",
    "\n",
    "if(ch == 'a' or ch == 'e' or ch == 'i' or ch == 'o' or ch == 'u' or ch == 'A'\n",
    "       or ch == 'E' or ch == 'I' or ch == 'O' or ch == 'U'):\n",
    "    print(\"The Given Character \", ch, \"is a Vowel\")\n",
    "else:\n",
    "    print(\"The Given Character \", ch, \"is a Consonant\")"
   ]
  },
  {
   "cell_type": "code",
   "execution_count": null,
   "id": "3f645a40-09f2-4db6-b68b-1dc3e99e7bb1",
   "metadata": {},
   "outputs": [],
   "source": [
    "# 7. Write a Python program to determine if a user is eligible to vote based on their age using if-else."
   ]
  },
  {
   "cell_type": "code",
   "execution_count": 40,
   "id": "57675ed6-2a1f-4df2-8e90-75493ba651cf",
   "metadata": {},
   "outputs": [
    {
     "name": "stdin",
     "output_type": "stream",
     "text": [
      "Enter you age:  20\n"
     ]
    },
    {
     "name": "stdout",
     "output_type": "stream",
     "text": [
      "You are eligible to vote\n"
     ]
    }
   ],
   "source": [
    "age = int(input(\"Enter you age: \"))\n",
    "\n",
    "if age >= 18:\n",
    "    print(\"You are eligible to vote\")\n",
    "else:\n",
    "    print(\"You are not eligible to vote\")"
   ]
  },
  {
   "cell_type": "code",
   "execution_count": null,
   "id": "11667833-03ab-440d-baa3-515d854c3ec4",
   "metadata": {},
   "outputs": [],
   "source": [
    "# 8. Create a Python program that calculates the discount amount based on the purchase amount using if-else."
   ]
  },
  {
   "cell_type": "code",
   "execution_count": 42,
   "id": "13c9aa30-98ce-4f78-ab5d-b0a535a67546",
   "metadata": {},
   "outputs": [
    {
     "name": "stdin",
     "output_type": "stream",
     "text": [
      "Enter Sale Amount:  7000\n"
     ]
    },
    {
     "name": "stdout",
     "output_type": "stream",
     "text": [
      "Discount :  840.0\n",
      "Net Pay  :  6160.0\n"
     ]
    }
   ],
   "source": [
    "amt = int(input(\"Enter Sale Amount: \"))\n",
    "if(amt>0):\n",
    "    if amt<=5000:\n",
    "        disc = amt*0.05\n",
    "    elif amt<=15000:\n",
    "        disc=amt*0.12\n",
    "    elif amt<=25000:\n",
    "        disc=0.2 * amt\n",
    "    else:\n",
    "         disc=0.3 * amt\n",
    "\n",
    "    print(\"Discount : \",disc)\n",
    "    print(\"Net Pay  : \",amt-disc)\n",
    "else:\n",
    "    print(\"Invalid Amount\")"
   ]
  },
  {
   "cell_type": "code",
   "execution_count": null,
   "id": "4fcc580c-09ce-441c-9b01-dced5e8ae72a",
   "metadata": {},
   "outputs": [],
   "source": [
    "# 9. Write a Python program to check if a number is within a specified range using if-else."
   ]
  },
  {
   "cell_type": "code",
   "execution_count": 43,
   "id": "0ec24504-4d5f-4622-9877-fb501da8935c",
   "metadata": {},
   "outputs": [
    {
     "name": "stdin",
     "output_type": "stream",
     "text": [
      "Enter a number between 1 and 10: 6\n"
     ]
    },
    {
     "name": "stdout",
     "output_type": "stream",
     "text": [
      "You entered a number in the range of 6 to 10\n"
     ]
    }
   ],
   "source": [
    "number = int(input(\"Enter a number between 1 and 10:\"))\n",
    "\n",
    "if number in range(1, 5):\n",
    "    print(\"You entered a number in the range of 1 to 5\")\n",
    "elif number in range(6, 10):\n",
    "    print(\"You entered a number in the range of 6 to 10\")\n",
    "else:\n",
    "    print(\"Your number wasn't in the correct range\")"
   ]
  },
  {
   "cell_type": "code",
   "execution_count": null,
   "id": "09a5ad7e-ee70-4e6a-823b-6a670a428997",
   "metadata": {},
   "outputs": [],
   "source": [
    "# 10. Create a Python program that determines the grade of a student based on their score using if-else."
   ]
  },
  {
   "cell_type": "code",
   "execution_count": 51,
   "id": "a03212de-670b-4c47-904e-b33c04c929f0",
   "metadata": {},
   "outputs": [
    {
     "name": "stdin",
     "output_type": "stream",
     "text": [
      "Enter Score Grade: 75\n"
     ]
    },
    {
     "name": "stdout",
     "output_type": "stream",
     "text": [
      "grade c\n"
     ]
    }
   ],
   "source": [
    "score = int(input(\"Enter Score Grade:\"))\n",
    "if score < 60:\n",
    "        print(\"Your grade is an F\")\n",
    "elif score < 70 and score >= 60:\n",
    "        print(\"grade d\")\n",
    "elif score < 80 and score >= 70:\n",
    "        print(\"grade c\")\n",
    "elif score < 90 and score >= 80:\n",
    "        print(\"grade b\")\n",
    "elif score >= 90:\n",
    "        print(\"grade a\")\n",
    "else:\n",
    "        print(\"wrong score\")"
   ]
  },
  {
   "cell_type": "code",
   "execution_count": null,
   "id": "4d9a6fe2-e467-43a9-9f9c-aff32cd43933",
   "metadata": {},
   "outputs": [],
   "source": [
    "# 11. Write a Python program to check if a string is empty or not using if-else."
   ]
  },
  {
   "cell_type": "code",
   "execution_count": 56,
   "id": "2d5fe688-53b4-4f2d-a0ce-758be290d7b6",
   "metadata": {},
   "outputs": [
    {
     "name": "stdout",
     "output_type": "stream",
     "text": [
      "String is empty\n"
     ]
    }
   ],
   "source": [
    "s = \"\"\n",
    "if s == \"\":\n",
    "    print(\"String is empty\")\n",
    "else:\n",
    "    print(\"String is not empty\")"
   ]
  },
  {
   "cell_type": "code",
   "execution_count": null,
   "id": "b6456306-073f-4674-a30b-e207b67d469a",
   "metadata": {},
   "outputs": [],
   "source": [
    "# 12. Create a Python program that identifies the type of a triangle \n",
    "# (e.g., equilateral, isosceles, or scalene) based on input values using if-else."
   ]
  },
  {
   "cell_type": "code",
   "execution_count": 2,
   "id": "8941de9a-5d38-4c6b-aa07-ddb94e93010b",
   "metadata": {},
   "outputs": [
    {
     "name": "stdin",
     "output_type": "stream",
     "text": [
      "Enter length of side a:  7\n",
      "Enter length of side b:  8\n",
      "Enter length of side c:  17\n"
     ]
    },
    {
     "name": "stdout",
     "output_type": "stream",
     "text": [
      "Tringle is not possible from given sides.\n"
     ]
    }
   ],
   "source": [
    "side_a = float(input('Enter length of side a: '))\n",
    "side_b = float(input('Enter length of side b: '))\n",
    "side_c = float(input('Enter length of side c: '))\n",
    "def is_valid_triangle(a,b,c):\n",
    "    if a+b>=c and b+c>=a and c+a>=b:\n",
    "        return True\n",
    "    else:\n",
    "        return False\n",
    "def type_of_triangle(a,b,c):\n",
    "    if a==b and b==c:\n",
    "        print('Triangle is Equilateral.')\n",
    "    elif a==b or b==c or a==c:\n",
    "        print('Triangle is Isosceles.')\n",
    "    else:\n",
    "        print('Triangle is Scalane')\n",
    "if is_valid_triangle(side_a, side_b, side_c):\n",
    "    type_of_triangle(side_a, side_b, side_c)\n",
    "else:\n",
    "    print('Tringle is not possible from given sides.')"
   ]
  },
  {
   "cell_type": "code",
   "execution_count": null,
   "id": "c02f782f-6bdd-4a27-916b-de3cd85930d4",
   "metadata": {},
   "outputs": [],
   "source": [
    "# 13. Write a Python program to determine the day of the week based on a user-provided number using if-else."
   ]
  },
  {
   "cell_type": "code",
   "execution_count": 3,
   "id": "0a4140db-e161-4ba1-8d08-580cfb2b6a95",
   "metadata": {},
   "outputs": [
    {
     "name": "stdin",
     "output_type": "stream",
     "text": [
      "Enter weekday day number (1-7) :  4\n"
     ]
    },
    {
     "name": "stdout",
     "output_type": "stream",
     "text": [
      "\n",
      "Thursday\n"
     ]
    }
   ],
   "source": [
    "weekday = int(input(\"Enter weekday day number (1-7) : \"))\n",
    "if weekday == 1 :\n",
    "    print(\"\\nMonday\");\n",
    "elif weekday == 2 :\n",
    "    print(\"\\nTuesday\")\n",
    "elif(weekday == 3) :\n",
    "    print(\"\\nWednesday\")\n",
    "elif(weekday == 4) :\n",
    "    print(\"\\nThursday\")\n",
    "elif(weekday == 5) :\n",
    "    print(\"\\nFriday\")\n",
    "elif(weekday == 6) :\n",
    "    print(\"\\nSaturday\")\n",
    "elif (weekday == 7) :\n",
    "    print(\"\\nSunday\")\n",
    "else :\n",
    "    print(\"\\nPlease enter weekday number between 1-7.\")"
   ]
  },
  {
   "cell_type": "code",
   "execution_count": null,
   "id": "5ac0ee22-bc2c-49f3-bb70-e667c0d15230",
   "metadata": {},
   "outputs": [],
   "source": [
    "# 14. Create a Python program that checks if a given year is a leap year using both if-else and a function"
   ]
  },
  {
   "cell_type": "code",
   "execution_count": 4,
   "id": "e7589ae2-019c-4dfa-9381-4a9fcb3e6879",
   "metadata": {},
   "outputs": [
    {
     "name": "stdin",
     "output_type": "stream",
     "text": [
      "Enter any year that is to be checked for leap year:  2021\n"
     ]
    },
    {
     "name": "stdout",
     "output_type": "stream",
     "text": [
      "2021 is not a leap year\n"
     ]
    }
   ],
   "source": [
    "year = int (input (\"Enter any year that is to be checked for leap year: \"))\n",
    "if (year % 400 == 0) and (year % 100 == 0):\n",
    "    print(\"{0} is a leap year\".format(year))\n",
    "elif (year % 4 ==0) and (year % 100 != 0):\n",
    "    print(\"{0} is a leap year\".format(year))\n",
    "else:\n",
    "    print(\"{0} is not a leap year\".format(year))"
   ]
  },
  {
   "cell_type": "markdown",
   "id": "6e68c7cd-bb5f-4bb6-bd34-e2797d245934",
   "metadata": {},
   "source": [
    " 15. How do you use the \"assert\" statement in Python to add debugging checks within if-else blocks?\n",
    " \n",
    " ANS: In Python, assertions are statements that you can use to set sanity checks during the development process. Assertions allow you to test the correctness of your code by checking if some specific conditions remain true, which can come in handy while you’re debugging code.\n",
    "The assertion condition should always be true unless you have a bug in your program. If the condition turns out to be false, then the assertion raises an exception and terminates the execution of your program"
   ]
  },
  {
   "cell_type": "code",
   "execution_count": 12,
   "id": "f97df9b4-93db-4675-8d51-1b39d6fa51a5",
   "metadata": {},
   "outputs": [
    {
     "ename": "AssertionError",
     "evalue": "",
     "output_type": "error",
     "traceback": [
      "\u001b[0;31m---------------------------------------------------------------------------\u001b[0m",
      "\u001b[0;31mAssertionError\u001b[0m                            Traceback (most recent call last)",
      "Cell \u001b[0;32mIn[12], line 6\u001b[0m\n\u001b[1;32m      3\u001b[0m     \u001b[38;5;28;01mreturn\u001b[39;00m \u001b[38;5;28msum\u001b[39m(marks)\u001b[38;5;241m/\u001b[39m\u001b[38;5;28mlen\u001b[39m(marks)\n\u001b[1;32m      5\u001b[0m marks \u001b[38;5;241m=\u001b[39m []\n\u001b[0;32m----> 6\u001b[0m \u001b[38;5;28mprint\u001b[39m(\u001b[38;5;124m\"\u001b[39m\u001b[38;5;124mAverage of mark1:\u001b[39m\u001b[38;5;124m\"\u001b[39m,\u001b[43mavg\u001b[49m\u001b[43m(\u001b[49m\u001b[43mmarks\u001b[49m\u001b[43m)\u001b[49m)\n",
      "Cell \u001b[0;32mIn[12], line 2\u001b[0m, in \u001b[0;36mavg\u001b[0;34m(marks)\u001b[0m\n\u001b[1;32m      1\u001b[0m \u001b[38;5;28;01mdef\u001b[39;00m \u001b[38;5;21mavg\u001b[39m(marks):\n\u001b[0;32m----> 2\u001b[0m     \u001b[38;5;28;01massert\u001b[39;00m \u001b[38;5;28mlen\u001b[39m(marks) \u001b[38;5;241m!=\u001b[39m \u001b[38;5;241m0\u001b[39m\n\u001b[1;32m      3\u001b[0m     \u001b[38;5;28;01mreturn\u001b[39;00m \u001b[38;5;28msum\u001b[39m(marks)\u001b[38;5;241m/\u001b[39m\u001b[38;5;28mlen\u001b[39m(marks)\n",
      "\u001b[0;31mAssertionError\u001b[0m: "
     ]
    }
   ],
   "source": [
    "def avg(marks):\n",
    "    assert len(marks) != 0\n",
    "    return sum(marks)/len(marks)\n",
    "\n",
    "marks = []\n",
    "print(\"Average of mark1:\",avg(marks))"
   ]
  },
  {
   "cell_type": "code",
   "execution_count": null,
   "id": "3847c3db-fc27-40f6-9c15-9a16c65bca1b",
   "metadata": {},
   "outputs": [],
   "source": [
    "# 16. Create a Python program that determines the eligibility of a person for a senior citizen discount based on age using if-else."
   ]
  },
  {
   "cell_type": "code",
   "execution_count": 13,
   "id": "c719c3b9-35de-46c8-a215-9e963da003e0",
   "metadata": {},
   "outputs": [
    {
     "name": "stdin",
     "output_type": "stream",
     "text": [
      "How old are you?:  71\n"
     ]
    },
    {
     "name": "stdout",
     "output_type": "stream",
     "text": [
      "You qualify for a discount!\n"
     ]
    }
   ],
   "source": [
    "age = int(input(\"How old are you?: \"))\n",
    "if age >= 70:\n",
    "    print(\"You qualify for a discount!\")\n",
    "else:\n",
    "    print(\"You do not qualify for a discount!\")"
   ]
  },
  {
   "cell_type": "code",
   "execution_count": null,
   "id": "1020ebe3-8744-4529-b634-c620cf4de1b8",
   "metadata": {},
   "outputs": [],
   "source": [
    "# 17. Write a Python program to categorize a given character as uppercase, lowercase, or neither using if-else."
   ]
  },
  {
   "cell_type": "code",
   "execution_count": 14,
   "id": "12fe9d94-333b-4ddd-9abf-d558c5154754",
   "metadata": {},
   "outputs": [
    {
     "name": "stdin",
     "output_type": "stream",
     "text": [
      "Please Enter Your Own Character :  k\n"
     ]
    },
    {
     "name": "stdout",
     "output_type": "stream",
     "text": [
      "The Given Character  k is a Lowercase Alphabet\n"
     ]
    }
   ],
   "source": [
    "ch = input(\"Please Enter Your Own Character : \")\n",
    "\n",
    "if(ch.isupper()):\n",
    "    print(\"The Given Character \", ch, \"is an Uppercase Alphabet\")\n",
    "elif(ch.islower()):\n",
    "    print(\"The Given Character \", ch, \"is a Lowercase Alphabet\")\n",
    "else:\n",
    "    print(\"The Given Character \", ch, \"is neither a Lower nor Uppercase Alphabet\")"
   ]
  },
  {
   "cell_type": "code",
   "execution_count": null,
   "id": "c2519890-a4c6-48ce-9e30-0f65923d098c",
   "metadata": {},
   "outputs": [],
   "source": [
    "# 18. Write a Python program to determine the roots of a quadratic equation using if-else."
   ]
  },
  {
   "cell_type": "code",
   "execution_count": 19,
   "id": "3c28ba04-3f66-4dd3-b63e-fbd52ec94a80",
   "metadata": {},
   "outputs": [
    {
     "name": "stdout",
     "output_type": "stream",
     "text": [
      "Equation: ax^2 + bx + c \n"
     ]
    },
    {
     "name": "stdin",
     "output_type": "stream",
     "text": [
      "Enter a:  1\n",
      "Enter b:  -5\n",
      "Enter c:  6\n"
     ]
    },
    {
     "name": "stdout",
     "output_type": "stream",
     "text": [
      "The first root:  3.0\n",
      "The second root:  2.0\n"
     ]
    }
   ],
   "source": [
    "print(\"Equation: ax^2 + bx + c \")\n",
    "a=int(input(\"Enter a: \"))\n",
    "b=int(input(\"Enter b: \"))\n",
    "c=int(input(\"Enter c: \"))\n",
    "d=b**2-4*a*c\n",
    "d1=d**0.5\n",
    "if(d<0):\n",
    "    print(\"The roots are imaginary. \")\n",
    "else:\n",
    "    r1=(-b+d1)/2*a\n",
    "    r2=(-b-d1)/2*a\n",
    "    print(\"The first root: \",round(r1,2))\n",
    "    print(\"The second root: \",round(r2,2))"
   ]
  },
  {
   "cell_type": "code",
   "execution_count": null,
   "id": "ed92f658-a462-4722-b3f3-d22600dd8ae2",
   "metadata": {},
   "outputs": [],
   "source": [
    "# 19. Create a Python program that checks if a given year is a century year or not using if-else"
   ]
  },
  {
   "cell_type": "code",
   "execution_count": 22,
   "id": "7d1e9d14-21c5-4a90-950e-cf1674037838",
   "metadata": {},
   "outputs": [
    {
     "name": "stdout",
     "output_type": "stream",
     "text": [
      "20 century\n"
     ]
    }
   ],
   "source": [
    "def find_century(year): \n",
    "if (year <= 0):\n",
    "    print(\"0 and negative is not allow for a year\") \n",
    "elif (year <= 100): \n",
    "    print(\"1st century\") \n",
    "elif (year % 100 == 0): \n",
    "    print(year // 100,\"century\") \n",
    "else: \n",
    "    print(year // 100 + 1,\"century\") \n",
    "year = 1991\n",
    "find_century(year) "
   ]
  },
  {
   "cell_type": "code",
   "execution_count": null,
   "id": "656a9d19-a9c8-4b8d-9438-78b55c8544a3",
   "metadata": {},
   "outputs": [],
   "source": [
    "# 20. Write a Python program to determine if a given number is a perfect square using if-else."
   ]
  },
  {
   "cell_type": "code",
   "execution_count": 24,
   "id": "3b126783-7bba-4e48-9b03-156ce8825585",
   "metadata": {},
   "outputs": [
    {
     "name": "stdin",
     "output_type": "stream",
     "text": [
      "Enter a Number:  20\n"
     ]
    },
    {
     "name": "stdout",
     "output_type": "stream",
     "text": [
      "20 is not a Perfect Square\n"
     ]
    }
   ],
   "source": [
    "num = int(input(\"Enter a Number: \"))\n",
    "flag = 0\n",
    "for i in range(1, num+1):\n",
    "    if i*i == num:\n",
    "        flag = 1\n",
    "        break\n",
    "if flag == 1:\n",
    "    print(f\"{num} is a Perfect Square\")\n",
    "else:\n",
    "    print(f\"{num} is not a Perfect Square\")"
   ]
  },
  {
   "cell_type": "markdown",
   "id": "5307c000-b657-4db9-9ced-4c6157410caa",
   "metadata": {},
   "source": [
    " 21. Explain the purpose of the \"continue\" and \"break\" statements within if-else loops.\n",
    "\n",
    "ANS: When the continue statement is encountered in a loop, all the statements after the continue statement are omitted and the loop continues with the next iteration. The continue statement is used in conjunction with a condition.\n",
    "The break statement terminates the loop and brings the program control out of the loop. The continue statement terminates only the current iteration and continues with the next iterations. The break can also be used in switch case. Continue can only be used in loops."
   ]
  },
  {
   "cell_type": "code",
   "execution_count": null,
   "id": "029c45db-7d50-437d-a1ff-b745c4d3fbac",
   "metadata": {},
   "outputs": [],
   "source": [
    "# 22. Create a Python program that calculates the BMI (Body Mass Index) of a person based on their weight and height using if-else."
   ]
  },
  {
   "cell_type": "code",
   "execution_count": 28,
   "id": "80f3b9a9-ca47-4268-8fee-87390d8f5af1",
   "metadata": {},
   "outputs": [
    {
     "name": "stdin",
     "output_type": "stream",
     "text": [
      "Enter the height in meter: 1.52\n",
      "Enter the weight in kg: 50\n"
     ]
    },
    {
     "name": "stdout",
     "output_type": "stream",
     "text": [
      "The BMI is 21.641274238227147 so Healthy\n"
     ]
    }
   ],
   "source": [
    "def BMI(height, weight): \n",
    "    bmi = weight/(height**2) \n",
    "    return bmi \n",
    "height = float(input(\"Enter the height in meter:\"))\n",
    "weight = int(input(\"Enter the weight in kg:\"))\n",
    "bmi = BMI(height, weight) \n",
    "print(\"The BMI is\", format(bmi), \"so \", end='') \n",
    "if (bmi < 18.5): \n",
    "    print(\"underweight\") \n",
    "elif ( bmi >= 18.5 and bmi < 24.9): \n",
    "    print(\"Healthy\") \n",
    "elif ( bmi >= 24.9 and bmi < 30): \n",
    "    print(\"overweight\") \n",
    "elif ( bmi >=30): \n",
    "    print(\"Suffering from Obesity\") "
   ]
  },
  {
   "cell_type": "code",
   "execution_count": null,
   "id": "673e2b1a-fee6-40a2-80db-420e1e4e055d",
   "metadata": {},
   "outputs": [],
   "source": [
    "# 23. How can you use the \"filter()\" function with if-else statements to filter elements from a list?"
   ]
  },
  {
   "cell_type": "code",
   "execution_count": 31,
   "id": "45aea06b-5219-4a1b-b0a4-6a15b0f7f157",
   "metadata": {},
   "outputs": [
    {
     "name": "stdout",
     "output_type": "stream",
     "text": [
      "The filtered letters are:\n",
      "e\n",
      "e\n"
     ]
    }
   ],
   "source": [
    "def fun(variable):\n",
    "    letters = ['a', 'e', 'i', 'o', 'u']\n",
    "    if (variable in letters):\n",
    "        return True\n",
    "    else:\n",
    "        return False\n",
    "sequence = ['g', 'e', 'e', 'j', 'k', 's', 'p', 'r']\n",
    "filtered = filter(fun, sequence)\n",
    "print('The filtered letters are:')\n",
    "for s in filtered:\n",
    "    print(s)"
   ]
  },
  {
   "cell_type": "code",
   "execution_count": null,
   "id": "0658122a-02ac-4c92-a606-283b24687604",
   "metadata": {},
   "outputs": [],
   "source": [
    "# 24. Write a Python program to determine if a given number is prime or not using if-else."
   ]
  },
  {
   "cell_type": "code",
   "execution_count": 32,
   "id": "28796328-3124-4b20-96b6-14238fd4322b",
   "metadata": {},
   "outputs": [
    {
     "name": "stdout",
     "output_type": "stream",
     "text": [
      "False\n",
      "True\n"
     ]
    }
   ],
   "source": [
    "def isprime(num):\n",
    "    if num> 1:  \n",
    "        for n in range(2,num):  \n",
    "            if (num % n) == 0:  \n",
    "                return False\n",
    "        return True\n",
    "    else:\n",
    "        return False\n",
    "print(isprime(64))\n",
    "print(isprime(5))"
   ]
  },
  {
   "cell_type": "code",
   "execution_count": null,
   "id": "bc8032e7-55cd-4dd2-a06e-6476b1df3fa8",
   "metadata": {},
   "outputs": [],
   "source": [
    "# MAP"
   ]
  },
  {
   "cell_type": "markdown",
   "id": "43a35125-5ba8-409f-9d02-18a645fcb97d",
   "metadata": {},
   "source": [
    "1. Explain the purpose of the `map()` function in Python and provide an example of how it can be used to apply \n",
    "a function to each element of an iterable.\n",
    "\n",
    "ANS: map() function returns a map object (which is an iterator) of the results after applying the given function to each item of a given iterable (list, tuple etc.) fun: It is a function to which map passes each element of given iterable(which is to be mapped). We can pass one or more iterable to the map() function."
   ]
  },
  {
   "cell_type": "code",
   "execution_count": 33,
   "id": "acf54f89-ceb9-43cb-a75d-4b40224fd58a",
   "metadata": {},
   "outputs": [
    {
     "name": "stdout",
     "output_type": "stream",
     "text": [
      "[2, 4, 6, 8]\n"
     ]
    }
   ],
   "source": [
    "def addition(n):\n",
    "    return n + n\n",
    "numbers = (1, 2, 3, 4)\n",
    "result = map(addition, numbers)\n",
    "print(list(result))"
   ]
  },
  {
   "cell_type": "code",
   "execution_count": null,
   "id": "58b9b961-9990-4744-a276-c4d57d03cb47",
   "metadata": {},
   "outputs": [],
   "source": [
    "# 2. Write a Python program that uses the `map()` function to square each element of a list of numbers."
   ]
  },
  {
   "cell_type": "code",
   "execution_count": 37,
   "id": "6ef540d8-8f38-4d98-85e7-bc9856f9b96c",
   "metadata": {},
   "outputs": [
    {
     "name": "stdout",
     "output_type": "stream",
     "text": [
      "[16, 25, 4, 81]\n"
     ]
    }
   ],
   "source": [
    "def square_num(n):\n",
    "    return n * n\n",
    "nums = [4, 5, 2, 9]\n",
    "result = map(square_num, nums)\n",
    "print(list(result))"
   ]
  },
  {
   "cell_type": "markdown",
   "id": "9c0d3c6a-ad4a-4b43-b244-c42f0711222c",
   "metadata": {},
   "source": [
    "3. How does the `map()` function differ from a list comprehension in Python, and \n",
    "when would you choose one over the other?\n",
    "\n",
    "ANS: List comprehension is more concise and easier to read as compared to map. List comprehension are used when a list of results is required as map only returns a map object and does not return any list. Map is faster in case of calling an already defined function (as no lambda is required)."
   ]
  },
  {
   "cell_type": "code",
   "execution_count": null,
   "id": "33f63acc-a1a0-4ecd-a1f0-6d081480495a",
   "metadata": {},
   "outputs": [],
   "source": [
    "# 4. Create a Python program that uses the `map()` function to convert a list of names to uppercase."
   ]
  },
  {
   "cell_type": "code",
   "execution_count": 1,
   "id": "611ef71b-fddd-4410-98f2-85f46777d506",
   "metadata": {},
   "outputs": [
    {
     "name": "stdout",
     "output_type": "stream",
     "text": [
      "['PRA', 'OJAS', 'VEDANSH', 'ANIKET']\n"
     ]
    }
   ],
   "source": [
    "string6 = [\"pra\", \"ojas\", \"vedansh\", \"aniket\"]\n",
    "\n",
    "def upper_case(string6):\n",
    "    return string6.upper()\n",
    "result = map(upper_case, string6)\n",
    "print(list(result))"
   ]
  },
  {
   "cell_type": "code",
   "execution_count": null,
   "id": "39da0943-5165-471e-a757-cb4c4ce00439",
   "metadata": {},
   "outputs": [],
   "source": [
    "# 5. Write a Python program that uses the `map()` function to calculate the length of each word in a list of strings."
   ]
  },
  {
   "cell_type": "code",
   "execution_count": 2,
   "id": "3ad1635d-3429-4c4a-834a-c7aee54e1112",
   "metadata": {},
   "outputs": [
    {
     "name": "stdout",
     "output_type": "stream",
     "text": [
      "[3, 4, 7, 6]\n"
     ]
    }
   ],
   "source": [
    "string6 = [\"pra\", \"ojas\", \"vedansh\", \"aniket\"]\n",
    "\n",
    "def length_string(string6):\n",
    "    return len(string6)\n",
    "result = map(length_string, string6)\n",
    "print(list(result))"
   ]
  },
  {
   "cell_type": "markdown",
   "id": "74dd6ad5-67b9-4cc1-bbde-c73a2123b6d4",
   "metadata": {},
   "source": [
    " 6. How can you use the `map()` function to apply a custom function to elements of multiple lists simultaneously in Python?\n",
    "\n",
    "ANS: You can specify multiple iterables in map() like map(function, iterable1, iterable2, ...) . If multiple iterables are specified, the first argument must be a function that receives that number of arguments. An error is raised if the number of iterables does not match the number of arguments that the function receives."
   ]
  },
  {
   "cell_type": "code",
   "execution_count": null,
   "id": "42c6138b-f88b-46c9-9aff-8f4c9d79aa19",
   "metadata": {},
   "outputs": [],
   "source": [
    "# 7. Create a Python program that uses `map()` to convert a list of temperatures from Celsius to Fahrenheit."
   ]
  },
  {
   "cell_type": "code",
   "execution_count": 3,
   "id": "bcbbf26a-c747-4237-849b-e718a7c86c19",
   "metadata": {},
   "outputs": [
    {
     "name": "stdout",
     "output_type": "stream",
     "text": [
      "[95.0, 98.6, 93.2, 100.4, 96.8, 95.0]\n"
     ]
    }
   ],
   "source": [
    "l6 = [35, 37, 34, 38, 36, 35]\n",
    "\n",
    "def temp_conversion(l6):\n",
    "    return l6*9/5 + 32\n",
    "result = map(temp_conversion, l6)\n",
    "print(list(result))"
   ]
  },
  {
   "cell_type": "code",
   "execution_count": null,
   "id": "f13d397b-7baf-4d63-adac-8c685921eb04",
   "metadata": {},
   "outputs": [],
   "source": [
    "# 8. Write a Python program that uses the `map()` function to round each element of a \n",
    "# list of floating-point numbers to the nearest integer."
   ]
  },
  {
   "cell_type": "code",
   "execution_count": 6,
   "id": "0d06e06a-558b-4fdc-8116-f5aa4d434980",
   "metadata": {},
   "outputs": [
    {
     "name": "stdout",
     "output_type": "stream",
     "text": [
      "[22, 45, 42, 12, 17, 77]\n"
     ]
    }
   ],
   "source": [
    "l7 = [22.4, 45.21, 41.89, 12.43, 17.32, 76.93]\n",
    "\n",
    "def interger_value(l7):\n",
    "    return round(l7)\n",
    "result = map(interger_value, l7)\n",
    "print(list(result))"
   ]
  },
  {
   "cell_type": "code",
   "execution_count": null,
   "id": "0eb3e7ec-5c42-44e3-822d-fddbf25c3063",
   "metadata": {},
   "outputs": [],
   "source": [
    "# Reduce :-"
   ]
  },
  {
   "cell_type": "markdown",
   "id": "6d93e11f-1215-4f4c-b0f8-176e581c86a5",
   "metadata": {},
   "source": [
    "1. What is the `reduce()` function in Python, and what module should you import to use it? Provide an example of its basic usage.\n",
    "\n",
    "ANS: The reduce() function does the operation on the iterable's first two elements before running the same operation on the result and the next element. This process is repeated until all of the iterable's elements have been processed. The operation's final output is returned as a single result.\n",
    "The functools module, which must be imported before calling the function in our program."
   ]
  },
  {
   "cell_type": "code",
   "execution_count": null,
   "id": "c33e0bcc-5b15-40fc-af60-50eacf369379",
   "metadata": {},
   "outputs": [],
   "source": [
    "# 2. Write a Python program that uses the `reduce()` function to find the product of all elements in a list."
   ]
  },
  {
   "cell_type": "code",
   "execution_count": 8,
   "id": "a6efd207-aa04-4b67-96ba-be3a3ffd170e",
   "metadata": {},
   "outputs": [
    {
     "name": "stdout",
     "output_type": "stream",
     "text": [
      "6\n",
      "24\n"
     ]
    }
   ],
   "source": [
    "from functools import reduce\n",
    "list1 = [1, 2, 3]\n",
    "list2 = [3, 2, 4]\n",
    " \n",
    "result1 = reduce((lambda x, y: x * y), list1)\n",
    "result2 = reduce((lambda x, y: x * y), list2)\n",
    "print(result1)\n",
    "print(result2)"
   ]
  },
  {
   "cell_type": "code",
   "execution_count": null,
   "id": "b45ac040-2244-4fe5-8b15-1995837cc952",
   "metadata": {},
   "outputs": [],
   "source": [
    "# 3. Create a Python program that uses `reduce()` to find the maximum element in a list of numbers."
   ]
  },
  {
   "cell_type": "code",
   "execution_count": 9,
   "id": "4981cea2-854a-4844-beeb-d393f4de0ba1",
   "metadata": {},
   "outputs": [
    {
     "name": "stdout",
     "output_type": "stream",
     "text": [
      "1000\n"
     ]
    }
   ],
   "source": [
    "from functools import reduce\n",
    "heights = [100, 2, 300, 10, 11, 1000]\n",
    "max_height = reduce(max, heights)\n",
    "print(max_height)"
   ]
  },
  {
   "cell_type": "code",
   "execution_count": null,
   "id": "c7ad93a9-1264-4f65-9415-5e210c946556",
   "metadata": {},
   "outputs": [],
   "source": [
    "# 4. How can you use the `reduce()` function to concatenate a list of strings into a single string?"
   ]
  },
  {
   "cell_type": "code",
   "execution_count": 11,
   "id": "bd512d54-6b89-470d-ba26-50136d977db7",
   "metadata": {},
   "outputs": [
    {
     "name": "stdout",
     "output_type": "stream",
     "text": [
      "apple banana orange grape\n"
     ]
    }
   ],
   "source": [
    "from functools import reduce\n",
    "fruits = ['apple', 'banana', 'orange', 'grape']\n",
    "\n",
    "def concatenate_strings(str1, str2):\n",
    "    return str1 + \" \" + str2\n",
    "\n",
    "result = reduce(concatenate_strings, fruits)\n",
    "\n",
    "print(result)"
   ]
  },
  {
   "cell_type": "code",
   "execution_count": null,
   "id": "5515e090-2a1c-436c-87c6-5811b524591b",
   "metadata": {},
   "outputs": [],
   "source": [
    "# 5. Write a Python program that calculates the factorial of a number using the `reduce()` function."
   ]
  },
  {
   "cell_type": "code",
   "execution_count": 16,
   "id": "ab16125e-847e-4de0-b81f-2b6f7ba52ba6",
   "metadata": {},
   "outputs": [
    {
     "name": "stdout",
     "output_type": "stream",
     "text": [
      "24\n"
     ]
    }
   ],
   "source": [
    "from functools import reduce\n",
    "\n",
    "f=lambda x,y:x*y\n",
    "\n",
    "def factorial(number):\n",
    "    if(number==1):\n",
    "        return 1\n",
    "    else:\n",
    "        return reduce(f,range(1,number+1))\n",
    "\n",
    "print(factorial(4)) "
   ]
  },
  {
   "cell_type": "code",
   "execution_count": null,
   "id": "7cfba951-b42d-4910-936f-6789dd09d44f",
   "metadata": {},
   "outputs": [],
   "source": [
    "# 6. Create a Python program that uses `reduce()` to find the GCD (Greatest Common Divisor) of a list of numbers."
   ]
  },
  {
   "cell_type": "code",
   "execution_count": 13,
   "id": "6ca66287-0c31-4991-91a2-9035559e6cf8",
   "metadata": {},
   "outputs": [
    {
     "name": "stdout",
     "output_type": "stream",
     "text": [
      "3\n"
     ]
    }
   ],
   "source": [
    "def gcd (a,b):\n",
    "    if (b == 0):\n",
    "        return a\n",
    "    else:\n",
    "         return gcd (b, a % b)\n",
    "A = [12, 24, 27, 30, 36]\n",
    "res = A[0]\n",
    "for c in A[1::]:\n",
    "    res = gcd(res , c)\n",
    "print(res)"
   ]
  },
  {
   "cell_type": "code",
   "execution_count": null,
   "id": "a21afad0-4123-4622-ad4c-3baba53b5529",
   "metadata": {},
   "outputs": [],
   "source": [
    "# 7. Write a Python program that uses the `reduce()` function to find the sum of the digits of a given number."
   ]
  },
  {
   "cell_type": "code",
   "execution_count": 14,
   "id": "c35883ec-0766-4348-8d95-e5da97e04d52",
   "metadata": {},
   "outputs": [
    {
     "name": "stdout",
     "output_type": "stream",
     "text": [
      "365\n"
     ]
    }
   ],
   "source": [
    "from functools import reduce\n",
    "\n",
    "scores = [75, 65, 80, 95, 50]\n",
    "\n",
    "total = reduce(lambda a, b: a + b, scores)\n",
    "\n",
    "print(total)"
   ]
  },
  {
   "cell_type": "code",
   "execution_count": null,
   "id": "794eabb8-af1d-405d-9222-34945c641bf9",
   "metadata": {},
   "outputs": [],
   "source": [
    "# Filter :-"
   ]
  },
  {
   "cell_type": "markdown",
   "id": "b833a806-f713-45b5-9fb9-19c71f038cf0",
   "metadata": {},
   "source": [
    "1. Explain the purpose of the `filter()` function in Python and provide an example of how it can be used to filter elements from an iterable.\n",
    "\n",
    "ANS: Sequence which needs to be filtered, it can be sets, lists, tuples, or containers of any iterators. Returns: an iterator that is already filtered.\n",
    "Filtering applies a predicate, or Boolean-valued, function to an iterable and generates a new iterable containing the items that satisfy the Boolean condition."
   ]
  },
  {
   "cell_type": "code",
   "execution_count": 2,
   "id": "4a44698e-07f8-4b61-acfc-bbf4ff80e364",
   "metadata": {},
   "outputs": [
    {
     "name": "stdout",
     "output_type": "stream",
     "text": [
      "[1, 3, 5, 13]\n"
     ]
    }
   ],
   "source": [
    "seq = [0, 1, 2, 3, 5, 8, 13]\n",
    "result = list(filter(lambda x: x % 2 != 0, seq))\n",
    "print(result)"
   ]
  },
  {
   "cell_type": "code",
   "execution_count": null,
   "id": "72e3e585-50c1-40ac-adfe-b67fb3bc4e7d",
   "metadata": {},
   "outputs": [],
   "source": [
    "# 2. Write a Python program that uses the `filter()` function to select even numbers from a list of integers."
   ]
  },
  {
   "cell_type": "code",
   "execution_count": 3,
   "id": "c4450d84-0df6-447c-8920-d16d14b07849",
   "metadata": {},
   "outputs": [
    {
     "name": "stdout",
     "output_type": "stream",
     "text": [
      "[0, 2, 8]\n"
     ]
    }
   ],
   "source": [
    "seq = [0, 1, 2, 3, 5, 8, 13]\n",
    "result = list(filter(lambda x: x % 2 == 0, seq))\n",
    "print(result)"
   ]
  },
  {
   "cell_type": "code",
   "execution_count": null,
   "id": "1fa07e45-7a85-483f-ac91-51617ba97ebf",
   "metadata": {},
   "outputs": [],
   "source": [
    "# 3. Create a Python program that uses the `filter()` function to select names that start with a specific letter from a list of strings."
   ]
  },
  {
   "cell_type": "code",
   "execution_count": 6,
   "id": "58f3cb52-9156-423e-b50b-979d355e01c6",
   "metadata": {},
   "outputs": [
    {
     "name": "stdout",
     "output_type": "stream",
     "text": [
      "\n",
      "Extract names starting with a v:\n",
      "['Vitold']\n"
     ]
    }
   ],
   "source": [
    "names = [\"Elita\", \"Vitold\", \"Audovacar\", \"Kerensa\", \"Ramana\", \"Iolanda\", \"Landyn\"]\n",
    "def starts_with_V(name):\n",
    "    return name[0].lower() in [\"v\"]\n",
    "v_names = list(filter(starts_with_V, names))\n",
    "print(\"\\nExtract names starting with a v:\")\n",
    "print(v_names)"
   ]
  },
  {
   "cell_type": "code",
   "execution_count": null,
   "id": "9bc43272-7a52-48d6-be4c-801112c6de44",
   "metadata": {},
   "outputs": [],
   "source": [
    "# 4. Write a Python program that uses the `filter()` function to select prime numbers from a list of integers."
   ]
  },
  {
   "cell_type": "code",
   "execution_count": 12,
   "id": "a209145b-4ec4-434c-bf67-c9f39dc1546c",
   "metadata": {},
   "outputs": [
    {
     "name": "stdout",
     "output_type": "stream",
     "text": [
      "[2, 3, 5, 7, 11, 13]\n"
     ]
    }
   ],
   "source": [
    "def prime(mylist):\n",
    "    nums = mylist\n",
    "    for i in range(2, 8): \n",
    "        nums = list(filter(lambda x: x == i or x % i, nums))\n",
    "    return nums\n",
    "print(prime([2,3,4,5,6,7,8,9,10,11,12,13,14,15]))"
   ]
  },
  {
   "cell_type": "code",
   "execution_count": null,
   "id": "780670cd-c3be-40d1-8061-7dc6880f098d",
   "metadata": {},
   "outputs": [],
   "source": [
    "# 5. How can you use the `filter()` function to remove None values from a list in Python?"
   ]
  },
  {
   "cell_type": "code",
   "execution_count": 13,
   "id": "71b97c03-b7d4-472f-a5b4-5dec073c5050",
   "metadata": {},
   "outputs": [
    {
     "name": "stdout",
     "output_type": "stream",
     "text": [
      "List after removal of None:[12, 45, 71, 64, 32]\n"
     ]
    }
   ],
   "source": [
    "l1 = [12, None, 45, None, 71, 64, None, 32, None]\n",
    "result = list(filter(lambda i: i is not None, l1))\n",
    "print(\"List after removal of None:\" + str(result))"
   ]
  },
  {
   "cell_type": "code",
   "execution_count": null,
   "id": "964f5312-0562-48bd-9b4d-15f05cbead7a",
   "metadata": {},
   "outputs": [],
   "source": [
    "# 6. Create a Python program that uses `filter()` to select words longer than a certain length from a list of strings."
   ]
  },
  {
   "cell_type": "code",
   "execution_count": 15,
   "id": "c430fe82-1568-46d9-8c65-82489555f1c7",
   "metadata": {},
   "outputs": [
    {
     "name": "stdout",
     "output_type": "stream",
     "text": [
      "['hello', 'communication']\n"
     ]
    }
   ],
   "source": [
    "data = ['hello', 'communication', 'be', 'dog', 'test']\n",
    "filtered_words = list(filter(lambda x : len(x) > 4, data))\n",
    "print(filtered_words)"
   ]
  },
  {
   "cell_type": "code",
   "execution_count": null,
   "id": "07bafcea-5cb2-45ae-8d7f-4145fa694894",
   "metadata": {},
   "outputs": [],
   "source": [
    "# 7. Write a Python program that uses the `filter()` function to select elements greater than a specified threshold from a list of values."
   ]
  },
  {
   "cell_type": "code",
   "execution_count": 16,
   "id": "139cf23a-b8a2-4e9c-b5f4-4c341b86243e",
   "metadata": {},
   "outputs": [
    {
     "name": "stdout",
     "output_type": "stream",
     "text": [
      "[9, 10, 6]\n"
     ]
    }
   ],
   "source": [
    "a = [1, 9, 2, 10, 3, 6]\n",
    "\n",
    "filtered = filter(lambda num: num > 5, a)\n",
    "print(list(filtered))"
   ]
  },
  {
   "cell_type": "code",
   "execution_count": null,
   "id": "21d2e5be-67f6-41ed-be4d-ebdacdba189f",
   "metadata": {},
   "outputs": [],
   "source": [
    "# Recursion:-"
   ]
  },
  {
   "cell_type": "markdown",
   "id": "e2248aef-fe7d-4c14-bb34-8a0528967988",
   "metadata": {},
   "source": [
    "1. Explain the concept of recursion in Python. How does it differ from iteration?\n",
    "\n",
    "ANS: Recursion has a large amount of Overhead as compared to Iteration. Recursion: Recursion has the overhead of repeated function calls, that is due to the repetitive calling of the same function, the time complexity of the code increases manyfold. Iteration: Iteration does not involve any such overhead."
   ]
  },
  {
   "cell_type": "code",
   "execution_count": null,
   "id": "fc1a38b8-be45-4724-8f70-09bbd252eabc",
   "metadata": {},
   "outputs": [],
   "source": [
    "# 2. Write a Python program to calculate the factorial of a number using recursion."
   ]
  },
  {
   "cell_type": "code",
   "execution_count": 18,
   "id": "06c3c256-463b-4da1-809b-4fe327342252",
   "metadata": {},
   "outputs": [
    {
     "name": "stdout",
     "output_type": "stream",
     "text": [
      "number :  8\n",
      "Factorial :  40320\n"
     ]
    }
   ],
   "source": [
    "def factorial(n): \n",
    "    if (n==1 or n==0):  \n",
    "        return 1\n",
    "    else: \n",
    "        return (n * factorial(n - 1)) \n",
    "num = 8 \n",
    "print(\"number : \",num)\n",
    "print(\"Factorial : \",factorial(num))"
   ]
  },
  {
   "cell_type": "code",
   "execution_count": null,
   "id": "e885ac3d-5d37-4a35-b87e-40c18ce070ef",
   "metadata": {},
   "outputs": [],
   "source": [
    "# 3. Create a recursive Python function to find the nth Fibonacci number."
   ]
  },
  {
   "cell_type": "code",
   "execution_count": 1,
   "id": "e6e9ca7a-2689-4d62-bb54-c875d395c0a6",
   "metadata": {},
   "outputs": [
    {
     "name": "stdin",
     "output_type": "stream",
     "text": [
      "Enter n :  10\n"
     ]
    },
    {
     "name": "stdout",
     "output_type": "stream",
     "text": [
      "10-Fibonacci Number : 34\n"
     ]
    }
   ],
   "source": [
    "def fibonacci(n) :\n",
    "    if n < 0:\n",
    "        print('Invalid n')\n",
    "        return\n",
    "    elif n == 1:\n",
    "        return 0\n",
    "    elif n == 2:\n",
    "        return 1\n",
    "    else:\n",
    "        return fibonacci(n-1) + fibonacci(n-2)\n",
    "\n",
    "n = int(input('Enter n : '))\n",
    "result = fibonacci(n)\n",
    "print(f'{n}-Fibonacci Number : {result}')"
   ]
  },
  {
   "cell_type": "code",
   "execution_count": null,
   "id": "3a98d57e-9121-472c-a902-50db6ca4d1b7",
   "metadata": {},
   "outputs": [],
   "source": [
    "# 4. Write a recursive Python function to calculate the sum of all elements in a list."
   ]
  },
  {
   "cell_type": "code",
   "execution_count": 2,
   "id": "70db5cb5-ecac-46e5-86f1-a64e0c208b4f",
   "metadata": {},
   "outputs": [
    {
     "name": "stdin",
     "output_type": "stream",
     "text": [
      "Enter the number of elements for list: 6\n",
      "Enter element: 12\n",
      "Enter element: 42\n",
      "Enter element: 31\n",
      "Enter element: 64\n",
      "Enter element: 18\n",
      "Enter element: 10\n"
     ]
    },
    {
     "name": "stdout",
     "output_type": "stream",
     "text": [
      "The list is:\n",
      "[12, 42, 31, 64, 18, 10]\n",
      "Sum of items in list:\n",
      "177\n"
     ]
    }
   ],
   "source": [
    "def sum_arr(arr,size):\n",
    "   if (size == 0):\n",
    "     return 0\n",
    "   else:\n",
    "     return arr[size-1] + sum_arr(arr,size-1)\n",
    "n=int(input(\"Enter the number of elements for list:\"))\n",
    "a=[]\n",
    "for i in range(0,n):\n",
    "    element=int(input(\"Enter element:\"))\n",
    "    a.append(element)\n",
    "print(\"The list is:\")\n",
    "print(a)\n",
    "print(\"Sum of items in list:\")\n",
    "b=sum_arr(a,n)\n",
    "print(b)"
   ]
  },
  {
   "cell_type": "markdown",
   "id": "9f5305c3-b0d8-48af-939a-566e05320a53",
   "metadata": {},
   "source": [
    " 5. How can you prevent a recursive function from running indefinitely, causing a stack overflow error?\n",
    " \n",
    " ANS: By using try and except blocks or exception handling, we can handle stack overflow error."
   ]
  },
  {
   "cell_type": "code",
   "execution_count": null,
   "id": "1bec5f56-2acc-42a9-ab6f-4e800c1140ec",
   "metadata": {},
   "outputs": [],
   "source": [
    "# 6. Create a recursive Python function to find the greatest common divisor (GCD) of two numbers using the Euclidean algorithm."
   ]
  },
  {
   "cell_type": "code",
   "execution_count": 1,
   "id": "1b2b3afb-2005-45ad-8a73-93bcd331be22",
   "metadata": {},
   "outputs": [
    {
     "name": "stdin",
     "output_type": "stream",
     "text": [
      "Enter first number: 40\n",
      "Enter second number: 20\n"
     ]
    },
    {
     "name": "stdout",
     "output_type": "stream",
     "text": [
      "GCD is: \n",
      "20\n"
     ]
    }
   ],
   "source": [
    "def gcd(a,b):\n",
    "    if(b==0):\n",
    "        return a\n",
    "    else:\n",
    "        return gcd(b,a%b)\n",
    "a=int(input(\"Enter first number:\"))\n",
    "b=int(input(\"Enter second number:\"))\n",
    "GCD=gcd(a,b)\n",
    "print(\"GCD is: \")\n",
    "print(GCD)"
   ]
  },
  {
   "cell_type": "code",
   "execution_count": null,
   "id": "bc804d17-acfe-48b4-9daa-f09ef37786c4",
   "metadata": {},
   "outputs": [],
   "source": [
    "# 7. Write a recursive Python function to reverse a string."
   ]
  },
  {
   "cell_type": "code",
   "execution_count": 2,
   "id": "0a31ac33-b5c1-4915-baf4-9d0899a98443",
   "metadata": {},
   "outputs": [
    {
     "name": "stdout",
     "output_type": "stream",
     "text": [
      "ssalc nohtyp ecneicS ataD\n"
     ]
    }
   ],
   "source": [
    "def rreverse(s):\n",
    "    if s == \"\":\n",
    "        return s\n",
    "    else:\n",
    "        return rreverse(s[1:]) + s[0]\n",
    "s = \"Data Science python class\"\n",
    "print(rreverse(s))"
   ]
  },
  {
   "cell_type": "code",
   "execution_count": null,
   "id": "b2469d5a-936b-40bc-ba8f-b79590b4ce65",
   "metadata": {},
   "outputs": [],
   "source": [
    "# 8. Create a recursive Python function to calculate the power of a number (x^n)."
   ]
  },
  {
   "cell_type": "code",
   "execution_count": 6,
   "id": "5a26029d-c2bf-4981-b959-558e515933b6",
   "metadata": {},
   "outputs": [
    {
     "name": "stdin",
     "output_type": "stream",
     "text": [
      "Enter base:  2\n",
      "Enter exponential value:  0\n"
     ]
    },
    {
     "name": "stdout",
     "output_type": "stream",
     "text": [
      "Result: 1\n"
     ]
    }
   ],
   "source": [
    "def power(base,exp):\n",
    "    if(exp==0):\n",
    "        return(1)\n",
    "    if(exp==1):\n",
    "        return(base)\n",
    "    if(exp!=1):\n",
    "        return(base*power(base,exp-1))\n",
    "base=int(input(\"Enter base: \"))\n",
    "exp=int(input(\"Enter exponential value: \"))\n",
    "print(\"Result:\",power(base,exp))"
   ]
  },
  {
   "cell_type": "code",
   "execution_count": null,
   "id": "d2057171-0f5b-4330-8303-6568013ecb82",
   "metadata": {},
   "outputs": [],
   "source": [
    "# 9. Write a recursive Python function to find all permutations of a given string."
   ]
  },
  {
   "cell_type": "code",
   "execution_count": 7,
   "id": "c83ca9f2-d996-41ee-aa92-d1b5f560dff1",
   "metadata": {},
   "outputs": [
    {
     "name": "stdout",
     "output_type": "stream",
     "text": [
      "['abc', 'acb', 'bac', 'bca', 'cab', 'cba']\n"
     ]
    }
   ],
   "source": [
    "def find_permutations(s):\n",
    "    if len(s) == 1:\n",
    "        return [s]\n",
    "    else:\n",
    "        perms = []\n",
    "        for i, c in enumerate(s):\n",
    "            for perm in find_permutations(s[:i] + s[i+1:]):\n",
    "                perms.append(c + perm)\n",
    "        return perms\n",
    "s = 'abc'\n",
    "print(find_permutations(s))"
   ]
  },
  {
   "cell_type": "code",
   "execution_count": null,
   "id": "502e4da5-1463-4b6d-a95f-3161cf87c071",
   "metadata": {},
   "outputs": [],
   "source": [
    "# 10. Write a recursive Python function to check if a string is a palindrome."
   ]
  },
  {
   "cell_type": "code",
   "execution_count": 10,
   "id": "7843841d-8167-4545-b5f2-35abd9fa222e",
   "metadata": {},
   "outputs": [
    {
     "name": "stdout",
     "output_type": "stream",
     "text": [
      "Yes\n"
     ]
    }
   ],
   "source": [
    "def isPalRec(st, s, e) :\n",
    "    if (s == e):\n",
    "        return True\n",
    "    if (st[s] != st[e]) :\n",
    "        return False\n",
    "    if (s < e + 1) :\n",
    "        return isPalRec(st, s + 1, e - 1);\n",
    " \n",
    "    return True\n",
    " \n",
    "def isPalindrome(st) :\n",
    "    n = len(st)\n",
    "    if (n == 0) :\n",
    "        return True\n",
    "     \n",
    "    return isPalRec(st, 0, n - 1);\n",
    "st = \"geeg\"\n",
    "if (isPalindrome(st)):\n",
    "    print(\"Yes\")\n",
    "else :\n",
    "    print(\"No\")"
   ]
  },
  {
   "cell_type": "code",
   "execution_count": null,
   "id": "fb466ef3-b9e2-4475-9ebe-27713fa4a62e",
   "metadata": {},
   "outputs": [],
   "source": [
    "# 11. Create a recursive Python function to generate all possible combinations of a list of elements."
   ]
  },
  {
   "cell_type": "code",
   "execution_count": 11,
   "id": "4faad3bb-b368-4eba-a688-aae57a5e26b2",
   "metadata": {},
   "outputs": [
    {
     "name": "stdout",
     "output_type": "stream",
     "text": [
      "[[], [1], [2], [1, 2], [3], [1, 3], [2, 3], [1, 2, 3]]\n"
     ]
    }
   ],
   "source": [
    "def combinations(l):\n",
    "    if l:\n",
    "        result = combinations(l[:-1])\n",
    "        return result + [c + [l[-1]] for c in result]\n",
    "    else:\n",
    "        return [[]]\n",
    "print(combinations([1,2,3]))"
   ]
  },
  {
   "cell_type": "code",
   "execution_count": null,
   "id": "907d785a-e1a0-4d23-8813-3d0ec917d266",
   "metadata": {},
   "outputs": [],
   "source": [
    "# Basics of Functions:"
   ]
  },
  {
   "cell_type": "markdown",
   "id": "9ba25546-72e1-4612-896d-ea12c0c27870",
   "metadata": {},
   "source": [
    "1. What is a function in Python, and why is it used?\n",
    "\n",
    "ANS: Python Functions is a block of statements that return the specific task. The idea is to put some commonly or repeatedly done tasks together and make a function so that instead of writing the same code again and again for different inputs, we can do the function calls to reuse code contained in it over and over again."
   ]
  },
  {
   "cell_type": "markdown",
   "id": "a037b194-1c0c-4624-97c9-6e26b8106830",
   "metadata": {},
   "source": [
    "2. How do you define a function in Python? Provide an example.\n",
    "\n",
    "ANS: def keyword to inform Python that a new function is being defined. Then, we give our function a meaningful name. Next, in parentheses, we list the arguments or parameters that the function needs to perform a task. You can include as many parameters as you want."
   ]
  },
  {
   "cell_type": "markdown",
   "id": "b293d71c-c0c6-408b-b40c-89f56d5d1d30",
   "metadata": {},
   "source": [
    "3. Explain the difference between a function definition and a function call.\n",
    "\n",
    "ANS:  Function defination begins with the keyword def. This tells Python that you are about to define a function. Next is the function name, and we don’t use these angle brackets. Following the function name are parameters. These are the identifiers that will hold onto argument values that the function is given. If the function doesn’t take any parameters, you would still use empty parentheses. And if you have multiple parameters, they would be separated by a comma (,). \n",
    "To call a function—to use a function, or invoke, are other terms that we use—you simply give the name of the function and then, followed in parentheses, argument values—if any—that are needed."
   ]
  },
  {
   "cell_type": "code",
   "execution_count": null,
   "id": "860396be-6c3d-41f6-aebc-6023121edf3b",
   "metadata": {},
   "outputs": [],
   "source": [
    "# 4. Write a Python program that defines a function to calculate the sum of two numbers and then calls the function."
   ]
  },
  {
   "cell_type": "code",
   "execution_count": 12,
   "id": "e0d54b09-1fa8-4d9a-9ee3-2b3e7b67c293",
   "metadata": {},
   "outputs": [],
   "source": [
    "def add_num(a,b):\n",
    "    return a + b"
   ]
  },
  {
   "cell_type": "code",
   "execution_count": 13,
   "id": "125a4cf1-053e-49d7-a44c-df9416c0348b",
   "metadata": {},
   "outputs": [
    {
     "data": {
      "text/plain": [
       "15"
      ]
     },
     "execution_count": 13,
     "metadata": {},
     "output_type": "execute_result"
    }
   ],
   "source": [
    "add_num(10,5)"
   ]
  },
  {
   "cell_type": "markdown",
   "id": "d466729d-a0d1-4194-86b1-e89370ab0a66",
   "metadata": {},
   "source": [
    "5. What is a function signature, and what information does it typically include?\n",
    "\n",
    "ANS: In Python, a function signature provides crucial information about the types of parameters that a function can accept and the type of data it returns. The signature () function from the inspect module is used to determine the function signature, helping developers to ensure they are passing the correct types of arguments to their functions."
   ]
  },
  {
   "cell_type": "code",
   "execution_count": null,
   "id": "08d453a2-e051-455d-b009-42c40cc05d83",
   "metadata": {},
   "outputs": [],
   "source": [
    "# 6. Create a Python function that takes two arguments and returns their product."
   ]
  },
  {
   "cell_type": "code",
   "execution_count": 14,
   "id": "3434f0cb-5cd3-4938-ae65-ce1a1caebf12",
   "metadata": {},
   "outputs": [],
   "source": [
    "def prod_num(a, b):\n",
    "    return a*b"
   ]
  },
  {
   "cell_type": "code",
   "execution_count": 15,
   "id": "54be2ffc-4c55-4e48-a8b1-ec454c4c4dcd",
   "metadata": {},
   "outputs": [
    {
     "data": {
      "text/plain": [
       "12"
      ]
     },
     "execution_count": 15,
     "metadata": {},
     "output_type": "execute_result"
    }
   ],
   "source": [
    "prod_num(3,4)"
   ]
  },
  {
   "cell_type": "code",
   "execution_count": null,
   "id": "b9daf796-f803-4da3-87ae-5e97ee5ff069",
   "metadata": {},
   "outputs": [],
   "source": [
    "# Function Parameters and Arguments:"
   ]
  },
  {
   "cell_type": "markdown",
   "id": "a25dafe4-c3ca-4a83-8f84-ce48eb15d3c3",
   "metadata": {},
   "source": [
    "1. Explain the concepts of formal parameters and actual arguments in Python functions.\n",
    "\n",
    "ANS: A formal parameter, i.e. a parameter, is in the function definition. An actual parameter, i.e. an argument, is in a function call."
   ]
  },
  {
   "cell_type": "code",
   "execution_count": null,
   "id": "a816b63c-7c1e-4c22-8dec-3471e286774e",
   "metadata": {},
   "outputs": [],
   "source": [
    "# 2. Write a Python program that defines a function with default argument values."
   ]
  },
  {
   "cell_type": "markdown",
   "id": "df234d64-7a36-456f-a666-8a1a086196d9",
   "metadata": {},
   "source": [
    "Default argument values allow us to assign predefined values to function parameters. This means that when a function is called without explicitly providing values for these parameters, the function will use the default values. This can be particularly useful when you want a function to behave in a certain way most of the time, but still allow for customization when needed."
   ]
  },
  {
   "cell_type": "code",
   "execution_count": 2,
   "id": "d1fc51c7-5870-4b0c-9dee-a1cfbc607523",
   "metadata": {},
   "outputs": [
    {
     "name": "stdout",
     "output_type": "stream",
     "text": [
      "90.0\n",
      "127.5\n",
      "170.0\n"
     ]
    }
   ],
   "source": [
    "def calculate_discounted_price(original_price, discount_percentage=10, additional_discount=0):\n",
    "    discount = (discount_percentage + additional_discount) / 100\n",
    "    discounted_price = original_price - (original_price * discount)\n",
    "    return discounted_price\n",
    "print(calculate_discounted_price(100))            \n",
    "print(calculate_discounted_price(150, 15))        \n",
    "print(calculate_discounted_price(200, 10, 5))  "
   ]
  },
  {
   "cell_type": "code",
   "execution_count": null,
   "id": "7a38b5e0-1132-4a6c-a835-6a3499047216",
   "metadata": {},
   "outputs": [],
   "source": [
    "# 3. How do you use keyword arguments in Python function calls? Provide an example."
   ]
  },
  {
   "cell_type": "markdown",
   "id": "53af009a-a8a7-4b7b-b924-30ad3f328080",
   "metadata": {},
   "source": [
    "In keyword arguments, parameter names are used to pass the argument during the function call. Order of parameter Names can be changed to \n",
    "pass the argument(or values). Keyword-only arguments mean whenever we pass the arguments(or value) by their parameter names at the time of calling the function in Python in which if you change the position of arguments then there will be no change in the output."
   ]
  },
  {
   "cell_type": "code",
   "execution_count": 3,
   "id": "e46ff016-80d4-41ea-bc4c-22480e6dcd9e",
   "metadata": {},
   "outputs": [
    {
     "name": "stdout",
     "output_type": "stream",
     "text": [
      "Hi, I am Prince\n",
      "My age is  20\n",
      "Hi, I am Prince\n",
      "My age is  20\n"
     ]
    }
   ],
   "source": [
    "def nameAge(name, age):\n",
    "    print(\"Hi, I am\", name)\n",
    "    print(\"My age is \", age)\n",
    "nameAge(name=\"Prince\", age=20)\n",
    "nameAge(age=20, name=\"Prince\")"
   ]
  },
  {
   "cell_type": "code",
   "execution_count": null,
   "id": "e4c26757-419c-45fb-b671-e94aca79fce6",
   "metadata": {},
   "outputs": [],
   "source": [
    "# 4. Create a Python function that accepts a variable number of arguments and calculates their sum."
   ]
  },
  {
   "cell_type": "code",
   "execution_count": 4,
   "id": "465336da-6718-4a6a-ae32-65438b347083",
   "metadata": {},
   "outputs": [
    {
     "data": {
      "text/plain": [
       "15"
      ]
     },
     "execution_count": 4,
     "metadata": {},
     "output_type": "execute_result"
    }
   ],
   "source": [
    "def sum(*args):\n",
    "    result = 0\n",
    "    for arg in args:\n",
    "        result += arg\n",
    "    return result\n",
    "\n",
    "sum(1, 2, 3, 4, 5)"
   ]
  },
  {
   "cell_type": "markdown",
   "id": "cf62dd01-3485-4d67-b8f6-d1900550e003",
   "metadata": {},
   "source": [
    "5. What is the purpose of the `*args` and `**kwargs` syntax in function parameter lists?\n",
    "\n",
    "ANS: There are two special symbols: We use *args for to pass a variable number of arguments as a tuple and **kwargs to pass a variable number of keyword arguments as a dictionary, as an argument when we are unsure about the number of arguments to pass in the functions. "
   ]
  },
  {
   "cell_type": "code",
   "execution_count": null,
   "id": "d2e033bd-7bad-401d-826c-683cb48fd4ea",
   "metadata": {},
   "outputs": [],
   "source": [
    "# Return Values and Scoping:"
   ]
  },
  {
   "cell_type": "markdown",
   "id": "c6d97f35-13bb-4241-8976-9e26cef60e96",
   "metadata": {},
   "source": [
    "1. Describe the role of the `return` statement in Python functions and provide examples.\n",
    "\n",
    "ANS: A return statement is used to end the execution of the function call and “returns” the result (value of the expression following the return keyword) to the caller. The statements after the return statements are not executed. If the return statement is without any expression, then the special value None is returned. A return statement is overall used to invoke a function so that the passed statements can be executed."
   ]
  },
  {
   "cell_type": "markdown",
   "id": "0bdb7645-471a-41da-834d-dd3e79935cd9",
   "metadata": {},
   "source": [
    "2. Explain the concept of variable scope in Python, including local and global variables.\n",
    "\n",
    "ANS: A variable scope specifies the region where we can access a variable. Local Scope: Variables that are defined inside a function have local scope. They can only be accessed within that specific function. Global Scope: Variables defined outside of any function or at the module level have global scope."
   ]
  },
  {
   "cell_type": "code",
   "execution_count": 5,
   "id": "84a6308d-1039-4a59-8725-cabfda1857b2",
   "metadata": {},
   "outputs": [
    {
     "name": "stdout",
     "output_type": "stream",
     "text": [
      "DATA SCIENCE\n"
     ]
    }
   ],
   "source": [
    "def f():\n",
    "    print(s)\n",
    "# Global scope\n",
    "s = \"DATA SCIENCE\"\n",
    "f()"
   ]
  },
  {
   "cell_type": "code",
   "execution_count": 7,
   "id": "27e7f1b9-9a86-4a69-9e53-67361db998ec",
   "metadata": {},
   "outputs": [
    {
     "name": "stdout",
     "output_type": "stream",
     "text": [
      "DATA SCIENCE\n"
     ]
    }
   ],
   "source": [
    "def f():  \n",
    "    # local variable\n",
    "    s = \"DATA SCIENCE\"\n",
    "    print(s)\n",
    "f()"
   ]
  },
  {
   "cell_type": "markdown",
   "id": "c1534ca0-53be-4e4a-9a03-0514e32ca426",
   "metadata": {},
   "source": [
    "3. Write a Python program that demonstrates the use of global variables within functions."
   ]
  },
  {
   "cell_type": "code",
   "execution_count": 8,
   "id": "55f7fe0c-9bc2-4437-964e-bab80e47348f",
   "metadata": {},
   "outputs": [
    {
     "name": "stdout",
     "output_type": "stream",
     "text": [
      "DATA SCIENCE\n"
     ]
    }
   ],
   "source": [
    "def f():\n",
    "    print(s)\n",
    "# Global scope\n",
    "s = \"DATA SCIENCE\"\n",
    "f()"
   ]
  },
  {
   "cell_type": "code",
   "execution_count": null,
   "id": "04ee3c0f-95a4-477e-bbb4-ce24fcb5541d",
   "metadata": {},
   "outputs": [],
   "source": [
    "# 4. Create a Python function that calculates the factorial of a number and returns it."
   ]
  },
  {
   "cell_type": "code",
   "execution_count": 2,
   "id": "2d097de6-374d-4d96-9866-c02bb7108edf",
   "metadata": {},
   "outputs": [
    {
     "data": {
      "text/plain": [
       "120"
      ]
     },
     "execution_count": 2,
     "metadata": {},
     "output_type": "execute_result"
    }
   ],
   "source": [
    "def fact_num(n):\n",
    "    fact = 1\n",
    "    for num in range(2, n+1):\n",
    "        fact = fact*num\n",
    "    return fact\n",
    "fact_num(5)"
   ]
  },
  {
   "cell_type": "markdown",
   "id": "c0c563ee-f7e9-492c-ab6b-ea54a73d10dd",
   "metadata": {},
   "source": [
    "5. How can you access variables defined outside a function from within the function?\n",
    "\n",
    "ANS: The variable x in the code below was declared outside a function: x = 10.\n",
    "Using the showX() function, we were still able to access x because it was declared in a global scope."
   ]
  },
  {
   "cell_type": "code",
   "execution_count": 3,
   "id": "dcd8d173-d828-498e-b016-71a0d83446dd",
   "metadata": {},
   "outputs": [
    {
     "name": "stdout",
     "output_type": "stream",
     "text": [
      "The value of x is 10\n"
     ]
    }
   ],
   "source": [
    "x = 10 \n",
    "\n",
    "def showX():\n",
    "    print(\"The value of x is\", x)\n",
    "    \n",
    "showX()"
   ]
  },
  {
   "cell_type": "code",
   "execution_count": null,
   "id": "32a1df15-a61d-465a-9030-0c83cad84ec5",
   "metadata": {},
   "outputs": [],
   "source": [
    "# Lambda Functions and Higher-Order Functions:"
   ]
  },
  {
   "cell_type": "markdown",
   "id": "db0c765f-65f6-420b-a682-4f950379da1c",
   "metadata": {},
   "source": [
    "# 1. What are lambda functions in Python, and when are they typically used?\n",
    "\n",
    "ANS: Lambda is a keyword in Python for defining the anonymous function. argument (s) is a placeholder, that is a variable that will be used to hold the value you want to pass into the function expression. A lambda function can have multiple variables depending on what you want to achieve.\n",
    "They are generally used when a function is needed temporarily for a short period of time, often to be used inside another function such as filter, map and reduce.\n",
    "Using lambda function, you can define a function and call it immediately at the end of definition. "
   ]
  },
  {
   "cell_type": "code",
   "execution_count": null,
   "id": "b0e591ca-44fc-44b5-9903-b75ab428c1d7",
   "metadata": {},
   "outputs": [],
   "source": [
    "# 2.Write a Python program that uses lambda functions to sort a list of tuples based on the second element."
   ]
  },
  {
   "cell_type": "code",
   "execution_count": 6,
   "id": "43781e71-0835-4c91-9b65-e73a62d26c49",
   "metadata": {},
   "outputs": [
    {
     "name": "stdout",
     "output_type": "stream",
     "text": [
      "[('Mercury', 1), ('Venus', 2), ('Earth', 3), ('Mars', 4), ('Jupiter', 5), ('Saturn', 6), ('Uranus', 7), ('Neptune', 8)]\n"
     ]
    }
   ],
   "source": [
    "planets = [(\"Earth\", 3),(\"Jupiter\",5),(\"Mercury\",1), (\"Mars\",4), (\"Neptune\",8), (\"Saturn\", 6), (\"Uranus\",7), (\"Venus\",2)]\n",
    "planets.sort(key = lambda x : x[1])\n",
    "print(planets)"
   ]
  },
  {
   "cell_type": "markdown",
   "id": "f0ff60e1-819d-4820-88c2-930c2203faa0",
   "metadata": {},
   "source": [
    "3. Explain the concept of higher-order functions in Python, and provide an example.\n",
    "\n",
    "ANS: A function is called Higher Order Function if it contains other functions as a parameter or returns a function as an output i.e, the functions that operate with another function are known as Higher order Functions."
   ]
  },
  {
   "cell_type": "code",
   "execution_count": 9,
   "id": "f2a1b805-fa96-4248-bcb4-397550e5e6a2",
   "metadata": {},
   "outputs": [
    {
     "name": "stdout",
     "output_type": "stream",
     "text": [
      "HI, I AM CREATED BY A FUNCTION PASSED AS AN ARGUMENT.\n",
      "hi, i am created by a function passed as an argument.\n"
     ]
    }
   ],
   "source": [
    "def shout(text):  \n",
    "    return text.upper()  \n",
    "    \n",
    "def whisper(text):  \n",
    "    return text.lower()  \n",
    "    \n",
    "def greet(func):  \n",
    "    # storing the function in a variable  \n",
    "    greeting = func(\"Hi, I am created by a function passed as an argument.\")  \n",
    "    print(greeting)   \n",
    "    \n",
    "greet(shout)  \n",
    "greet(whisper) "
   ]
  },
  {
   "cell_type": "code",
   "execution_count": null,
   "id": "e5c8e55d-6906-4d17-8926-3ba951f9bc82",
   "metadata": {},
   "outputs": [],
   "source": [
    "# 4. Create a Python function that takes a list of numbers and a function as arguments, applying the function to each element in the list."
   ]
  },
  {
   "cell_type": "code",
   "execution_count": 14,
   "id": "5d61dda8-6cab-48d3-8163-05f1451f1e0b",
   "metadata": {},
   "outputs": [
    {
     "data": {
      "text/plain": [
       "[1, 2, 3, 1, 2, 3]"
      ]
     },
     "execution_count": 14,
     "metadata": {},
     "output_type": "execute_result"
    }
   ],
   "source": [
    "def myfunc(*args):\n",
    "        for arg in args:\n",
    "            return arg * 2\n",
    "sample_list = [1, 2, 3]\n",
    "myfunc(sample_list)"
   ]
  },
  {
   "cell_type": "code",
   "execution_count": null,
   "id": "adc3ba02-d098-4cf0-9f9f-115dc9a846df",
   "metadata": {},
   "outputs": [],
   "source": [
    "# Built-in Functions:"
   ]
  },
  {
   "cell_type": "markdown",
   "id": "a6d79f33-3bec-48a7-9427-85fef6a21bbb",
   "metadata": {},
   "source": [
    "1. Describe the role of built-in functions like `len()`, `max()`, and `min()` in Python.\n",
    "\n",
    "ANS: Code Readability: Built-in functions provide intuitive and descriptive names, making your code easier to understand and maintain.\n",
    "Code Reusability: Instead of writing the same logic repeatedly, you can utilize built-in functions, promoting code reusability.\n",
    "Improved Efficiency: Built-in functions are optimized for performance and implemented in C, resulting in faster execution times.\n",
    "Shorter Code: By leveraging built-in functions, you can accomplish complex tasks with concise and elegant code.\n",
    "max(): Maximum Value\n",
    "The max() function returns the largest element from a collection of numbers or the largest of two or more arguments.\n",
    "min(): Minimum Value\n",
    "The min() function returns the smallest element from a collection of numbers or the smallest of two or more arguments.\n",
    "len(): Length of a String\n",
    "The len() function returns the length of a string, which is the number of characters in the string."
   ]
  },
  {
   "cell_type": "code",
   "execution_count": null,
   "id": "58ab1e4d-f656-43bb-baaa-9c7699f7eed1",
   "metadata": {},
   "outputs": [],
   "source": [
    "# 2. Write a Python program that uses the `map()` function to apply a function to each element of a list."
   ]
  },
  {
   "cell_type": "code",
   "execution_count": 15,
   "id": "8bac029f-aa8e-45f5-aca4-3456a54ff4ad",
   "metadata": {},
   "outputs": [
    {
     "name": "stdout",
     "output_type": "stream",
     "text": [
      "[5, 6, 10]\n"
     ]
    }
   ],
   "source": [
    "l_s = ['apple', 'orange', 'strawberry']\n",
    "print(list(map(len, l_s)))"
   ]
  },
  {
   "cell_type": "markdown",
   "id": "ec3d4864-6806-4e8b-9cd1-7c87371f62da",
   "metadata": {},
   "source": [
    "3. How does the `filter()` function work in Python, and when would you use it?\n",
    "\n",
    "ANS: filter() function can be used to create a new iterator from an existing iterable that will efficiently filter out elements using a function that we provide. "
   ]
  },
  {
   "cell_type": "code",
   "execution_count": 16,
   "id": "3a315927-679e-4280-9260-a70c6b93c841",
   "metadata": {},
   "outputs": [
    {
     "name": "stdout",
     "output_type": "stream",
     "text": [
      "[1, 3, 5, 13]\n"
     ]
    }
   ],
   "source": [
    "seq = [0, 1, 2, 3, 5, 8, 13]\n",
    "result = filter(lambda x: x % 2 != 0, seq)\n",
    "print(list(result))"
   ]
  },
  {
   "cell_type": "markdown",
   "id": "7d2c7a1b-f51b-47d8-822c-c7bc401346b3",
   "metadata": {},
   "source": [
    "4. Create a Python program that uses the `reduce()` function to find the product of all elements in a list."
   ]
  },
  {
   "cell_type": "code",
   "execution_count": 21,
   "id": "446a1623-b26b-4b60-87c1-5fa6001811b1",
   "metadata": {},
   "outputs": [
    {
     "name": "stdout",
     "output_type": "stream",
     "text": [
      "48\n"
     ]
    }
   ],
   "source": [
    "from functools import reduce\n",
    "lst = [2,4,6]\n",
    "product = reduce(lambda x, y: x*y, lst)\n",
    "print(product)"
   ]
  },
  {
   "cell_type": "code",
   "execution_count": null,
   "id": "3190bdcb-9f1e-473f-bc98-090930eda44b",
   "metadata": {},
   "outputs": [],
   "source": [
    "# Function Documentation and Best Practices:"
   ]
  },
  {
   "cell_type": "markdown",
   "id": "58eb329c-585c-437b-a883-9566f34e2077",
   "metadata": {},
   "source": [
    "1. Explain the purpose of docstrings in Python functions and how to write them.\n",
    "\n",
    "ANS: When it comes to writing clean, well-documented code, Python developers have a secret weapon at their disposal – docstrings. Docstrings, short for documentation strings, are vital in conveying the purpose and functionality of Python functions, modules, and classes.\n",
    "Declaring Docstrings: The docstrings are declared using ”’triple single quotes”’ or “”” triple double quotes “”” just below the class, method, or function declaration. All functions should have a docstring.\n",
    "Accessing Docstrings: The docstrings can be accessed using the __doc__ method of the object or using the help function. \n"
   ]
  },
  {
   "cell_type": "code",
   "execution_count": 22,
   "id": "308107b4-fd2b-4f54-a2ba-5e32a764953a",
   "metadata": {},
   "outputs": [
    {
     "name": "stdout",
     "output_type": "stream",
     "text": [
      "Using __doc__:\n",
      "Demonstrates triple double quotes\n",
      "    docstrings and does nothing really.\n",
      "Using help:\n",
      "Help on function my_function in module __main__:\n",
      "\n",
      "my_function()\n",
      "    Demonstrates triple double quotes\n",
      "    docstrings and does nothing really.\n",
      "\n"
     ]
    }
   ],
   "source": [
    "def my_function():\n",
    "    '''Demonstrates triple double quotes\n",
    "    docstrings and does nothing really.'''\n",
    "  \n",
    "    return None\n",
    " \n",
    "print(\"Using __doc__:\")\n",
    "print(my_function.__doc__)\n",
    " \n",
    "print(\"Using help:\")\n",
    "help(my_function)"
   ]
  },
  {
   "cell_type": "markdown",
   "id": "be7b72be-ac30-424c-8e76-df6e8cd9ef1a",
   "metadata": {},
   "source": [
    "2. Describe some best practices for naming functions and variables in Python, including naming conventions and guidelines.\n",
    "\n",
    "ANS: Function names in Python should be descriptive and concise. The function name should clearly indicate what the function does. Python's naming conventions for functions are similar to its conventions for variables.\n",
    "It's a good practice to use verbs in function names since a function typically performs an action.\n",
    "\n",
    "A variable name in Python should be descriptive and concise, making it easy for anyone reading your code to understand what the variable is used for. It should start with a lowercase letter, and it can include letters, numbers, and underscores. However, it cannot start with a number.\n",
    "Python is case sensitive, which means age, Age, and AGE are three different variables."
   ]
  }
 ],
 "metadata": {
  "kernelspec": {
   "display_name": "Python 3 (ipykernel)",
   "language": "python",
   "name": "python3"
  },
  "language_info": {
   "codemirror_mode": {
    "name": "ipython",
    "version": 3
   },
   "file_extension": ".py",
   "mimetype": "text/x-python",
   "name": "python",
   "nbconvert_exporter": "python",
   "pygments_lexer": "ipython3",
   "version": "3.10.8"
  }
 },
 "nbformat": 4,
 "nbformat_minor": 5
}
